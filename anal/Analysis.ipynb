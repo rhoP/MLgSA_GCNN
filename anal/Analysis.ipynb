{
 "cells": [
  {
   "cell_type": "code",
   "execution_count": 34,
   "metadata": {
    "collapsed": true,
    "pycharm": {
     "name": "#%%\n"
    }
   },
   "outputs": [],
   "source": [
    "import numpy as np\n",
    "import matplotlib.pyplot as plt\n",
    "import pandas as pd\n",
    "import meshio\n",
    "import pyvista as pv\n",
    "import torch"
   ]
  },
  {
   "cell_type": "code",
   "execution_count": 2,
   "outputs": [],
   "source": [
    "# df = pd.read_csv(\"../../data/MLgSA/stenosis_metadata.csv\", sep=';')"
   ],
   "metadata": {
    "collapsed": false,
    "pycharm": {
     "name": "#%%\n"
    }
   }
  },
  {
   "cell_type": "code",
   "execution_count": 40,
   "outputs": [],
   "source": [
    "from torch_geometric.data import Data"
   ],
   "metadata": {
    "collapsed": false,
    "pycharm": {
     "name": "#%%\n"
    }
   }
  },
  {
   "cell_type": "code",
   "execution_count": 2,
   "outputs": [],
   "source": [
    "file_name = \"../../data/MlgSA/../../data/MlgSA/data_patient_k_002_left_wss.vtu\"\n",
    "\n",
    "\n",
    "#reader = vtk.vtkXMLUnstructuredGridReader()\n",
    "#reader.SetFileName(file_name)\n",
    "#reader.Update()  # Needed because of GetScalarRange\n",
    "#output = reader.GetOutput()\n",
    "#wss = output.GetPointData().GetArray(\"longitudinal\")"
   ],
   "metadata": {
    "collapsed": false,
    "pycharm": {
     "name": "#%%\n"
    }
   }
  },
  {
   "cell_type": "code",
   "execution_count": 3,
   "outputs": [],
   "source": [
    "reader = pv.get_reader(file_name)\n",
    "mesh = reader.read()"
   ],
   "metadata": {
    "collapsed": false,
    "pycharm": {
     "name": "#%%\n"
    }
   }
  },
  {
   "cell_type": "code",
   "execution_count": 4,
   "outputs": [
    {
     "data": {
      "text/plain": "UnstructuredGrid (0x2f1fc1f32e0)\n  N Cells:    84036\n  N Points:   42225\n  X Bounds:   2.608e+01, 6.523e+01\n  Y Bounds:   -3.127e+01, -2.813e+00\n  Z Bounds:   -1.154e+02, -4.099e+01\n  N Arrays:   4",
      "text/html": "<table><tr><th>Header</th><th>Data Arrays</th></tr><tr><td>\n<table>\n<tr><th>UnstructuredGrid</th><th>Information</th></tr>\n<tr><td>N Cells</td><td>84036</td></tr>\n<tr><td>N Points</td><td>42225</td></tr>\n<tr><td>X Bounds</td><td>2.608e+01, 6.523e+01</td></tr>\n<tr><td>Y Bounds</td><td>-3.127e+01, -2.813e+00</td></tr>\n<tr><td>Z Bounds</td><td>-1.154e+02, -4.099e+01</td></tr>\n<tr><td>N Arrays</td><td>4</td></tr>\n</table>\n\n</td><td>\n<table>\n<tr><th>Name</th><th>Field</th><th>Type</th><th>N Comp</th><th>Min</th><th>Max</th></tr>\n<tr><td>longitudinal_WSS_@_t=1.1</td><td>Points</td><td>float64</td><td>1</td><td>-4.479e+01</td><td>4.461e+01</td></tr>\n<tr><td>non-directional_WSS_@_t=1.1</td><td>Points</td><td>float64</td><td>1</td><td>1.673e-02</td><td>5.467e+01</td></tr>\n<tr><td>longitudinal_WSS_@_t=1.55</td><td>Points</td><td>float64</td><td>1</td><td>-3.184e+01</td><td>2.505e+01</td></tr>\n<tr><td>non-directional_WSS_@_t=1.55</td><td>Points</td><td>float64</td><td>1</td><td>2.248e-03</td><td>3.228e+01</td></tr>\n</table>\n\n</td></tr> </table>"
     },
     "execution_count": 4,
     "metadata": {},
     "output_type": "execute_result"
    }
   ],
   "source": [
    "mesh"
   ],
   "metadata": {
    "collapsed": false,
    "pycharm": {
     "name": "#%%\n"
    }
   }
  },
  {
   "cell_type": "code",
   "execution_count": 12,
   "outputs": [
    {
     "data": {
      "text/plain": "array([5], dtype=uint8)"
     },
     "execution_count": 12,
     "metadata": {},
     "output_type": "execute_result"
    }
   ],
   "source": [
    "p = mesh.celltypes\n",
    "np.unique(p)"
   ],
   "metadata": {
    "collapsed": false,
    "pycharm": {
     "name": "#%%\n"
    }
   }
  },
  {
   "cell_type": "code",
   "execution_count": 14,
   "outputs": [
    {
     "data": {
      "text/plain": "42225"
     },
     "execution_count": 14,
     "metadata": {},
     "output_type": "execute_result"
    }
   ],
   "source": [
    "mesh.n_points"
   ],
   "metadata": {
    "collapsed": false,
    "pycharm": {
     "name": "#%%\n"
    }
   }
  },
  {
   "cell_type": "code",
   "execution_count": 26,
   "outputs": [],
   "source": [
    "def get_cells(mesh):\n",
    "    \"\"\"Returns a list of the cells from this mesh.\n",
    "    This properly unpacks the VTK cells array.\n",
    "    There are many ways to do this, but this is\n",
    "    safe when dealing with mixed cell types.\"\"\"\n",
    "    ctype = 3\n",
    "    shape = (mesh.n_cells, ctype+1)\n",
    "    return mesh.cells.reshape(shape)[:, 1:]\n",
    "\n",
    "\n",
    "def find_adjacent_cells(cells, index):\n",
    "    \"\"\"Given the cells array, find other cells that\n",
    "    share vertices with the cell at ``index``\"\"\"\n",
    "    cell = cells[index]\n",
    "    idxs = []\n",
    "    adjacent = []\n",
    "    for i, c in enumerate(cells):\n",
    "        if any([v in cell for v in c]):\n",
    "            idxs.append(i)\n",
    "            adjacent.append(c)\n",
    "    return idxs, adjacent"
   ],
   "metadata": {
    "collapsed": false,
    "pycharm": {
     "name": "#%%\n"
    }
   }
  },
  {
   "cell_type": "code",
   "execution_count": 8,
   "outputs": [],
   "source": [
    "nodes = mesh.points\n",
    "cells = mesh.cells.reshape(-1, 4)[:, 1:]"
   ],
   "metadata": {
    "collapsed": false,
    "pycharm": {
     "name": "#%%\n"
    }
   }
  },
  {
   "cell_type": "code",
   "execution_count": 10,
   "outputs": [],
   "source": [
    "num_nodes = nodes.shape[0]\n",
    "adj = np.zeros((num_nodes, num_nodes), dtype=int)\n",
    "for cell in cells:\n",
    "    adj[cell[0], cell[1]] = 1\n",
    "    adj[cell[1], cell[0]] = 1\n",
    "    adj[cell[1], cell[2]] = 1\n",
    "    adj[cell[2], cell[1]] = 1\n",
    "    adj[cell[2], cell[0]] = 1\n",
    "    adj[cell[0], cell[2]] = 1"
   ],
   "metadata": {
    "collapsed": false,
    "pycharm": {
     "name": "#%%\n"
    }
   }
  },
  {
   "cell_type": "code",
   "execution_count": 12,
   "outputs": [
    {
     "name": "stdout",
     "output_type": "stream",
     "text": [
      "CPU times: total: 20 s\n",
      "Wall time: 25.2 s\n"
     ]
    }
   ],
   "source": [
    "%%time\n",
    "adj = np.maximum(adj, adj.T)"
   ],
   "metadata": {
    "collapsed": false,
    "pycharm": {
     "name": "#%%\n"
    }
   }
  },
  {
   "cell_type": "code",
   "execution_count": 19,
   "outputs": [],
   "source": [
    "cols = mesh.array_names"
   ],
   "metadata": {
    "collapsed": false,
    "pycharm": {
     "name": "#%%\n"
    }
   }
  },
  {
   "cell_type": "code",
   "execution_count": 36,
   "outputs": [],
   "source": [
    "wss = np.asarray(mesh.point_data[cols[0]])"
   ],
   "metadata": {
    "collapsed": false,
    "pycharm": {
     "name": "#%%\n"
    }
   }
  },
  {
   "cell_type": "code",
   "execution_count": 35,
   "outputs": [],
   "source": [
    "adj = torch.tensor(adj,dtype=torch.float)"
   ],
   "metadata": {
    "collapsed": false,
    "pycharm": {
     "name": "#%%\n"
    }
   }
  },
  {
   "cell_type": "code",
   "execution_count": 37,
   "outputs": [],
   "source": [
    "node_features = torch.tensor(wss, dtype=torch.float)"
   ],
   "metadata": {
    "collapsed": false,
    "pycharm": {
     "name": "#%%\n"
    }
   }
  },
  {
   "cell_type": "code",
   "execution_count": 38,
   "outputs": [],
   "source": [
    "edge_indices = adj.nonzero().t()"
   ],
   "metadata": {
    "collapsed": false,
    "pycharm": {
     "name": "#%%\n"
    }
   }
  },
  {
   "cell_type": "code",
   "execution_count": 20,
   "outputs": [],
   "source": [
    "\n",
    "\n",
    "# Work flow\n",
    "\n",
    "## Load data\n",
    "## Assert cell type\n",
    "## Isolate cell to populate adjacency\n",
    "## Extract relevant data\n",
    "## Store to new dataset"
   ],
   "metadata": {
    "collapsed": false,
    "pycharm": {
     "name": "#%%\n"
    }
   }
  },
  {
   "cell_type": "code",
   "execution_count": 41,
   "outputs": [],
   "source": [
    "data = Data(x=node_features, edge_index=edge_indices)"
   ],
   "metadata": {
    "collapsed": false,
    "pycharm": {
     "name": "#%%\n"
    }
   }
  },
  {
   "cell_type": "code",
   "execution_count": 47,
   "outputs": [],
   "source": [
    "torch.save(data, '../export/data.pt')"
   ],
   "metadata": {
    "collapsed": false,
    "pycharm": {
     "name": "#%%\n"
    }
   }
  },
  {
   "cell_type": "code",
   "execution_count": 48,
   "outputs": [
    {
     "name": "stdout",
     "output_type": "stream",
     "text": [
      "Data(x=[42225], edge_index=[2, 252532])\n"
     ]
    }
   ],
   "source": [
    "print(data)"
   ],
   "metadata": {
    "collapsed": false,
    "pycharm": {
     "name": "#%%\n"
    }
   }
  },
  {
   "cell_type": "code",
   "execution_count": 1,
   "outputs": [
    {
     "ename": "NameError",
     "evalue": "name 'edge_indices' is not defined",
     "output_type": "error",
     "traceback": [
      "\u001B[1;31m---------------------------------------------------------------------------\u001B[0m",
      "\u001B[1;31mNameError\u001B[0m                                 Traceback (most recent call last)",
      "Cell \u001B[1;32mIn[1], line 1\u001B[0m\n\u001B[1;32m----> 1\u001B[0m \u001B[43medge_indices\u001B[49m\u001B[38;5;241m.\u001B[39mshape\n",
      "\u001B[1;31mNameError\u001B[0m: name 'edge_indices' is not defined"
     ]
    }
   ],
   "source": [
    "edge_indices.shape"
   ],
   "metadata": {
    "collapsed": false,
    "pycharm": {
     "name": "#%%\n"
    }
   }
  },
  {
   "cell_type": "code",
   "execution_count": null,
   "outputs": [],
   "source": [],
   "metadata": {
    "collapsed": false,
    "pycharm": {
     "name": "#%%\n"
    }
   }
  }
 ],
 "metadata": {
  "kernelspec": {
   "display_name": "Python 3",
   "language": "python",
   "name": "python3"
  },
  "language_info": {
   "codemirror_mode": {
    "name": "ipython",
    "version": 2
   },
   "file_extension": ".py",
   "mimetype": "text/x-python",
   "name": "python",
   "nbconvert_exporter": "python",
   "pygments_lexer": "ipython2",
   "version": "2.7.6"
  }
 },
 "nbformat": 4,
 "nbformat_minor": 0
}