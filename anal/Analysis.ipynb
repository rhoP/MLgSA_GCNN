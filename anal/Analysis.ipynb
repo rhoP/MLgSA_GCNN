{
 "cells": [
  {
   "cell_type": "code",
   "execution_count": 6,
   "outputs": [],
   "source": [
    "import numpy as np\n",
    "import matplotlib.pyplot as plt\n",
    "import pandas as pd\n",
    "import pyvista as pv\n",
    "import torch\n",
    "from os import listdir\n",
    "from os.path import isfile, join\n",
    "import multiprocessing\n",
    "from torch_geometric.data import Data\n",
    "from torch_geometric.loader import DataLoader\n",
    "from sklearn.preprocessing import StandardScaler\n",
    "from sklearn.model_selection import train_test_split"
   ],
   "metadata": {
    "collapsed": false,
    "pycharm": {
     "name": "#%%\n"
    }
   }
  },
  {
   "cell_type": "code",
   "execution_count": 7,
   "outputs": [
    {
     "name": "stdout",
     "output_type": "stream",
     "text": [
      "108\n"
     ]
    }
   ],
   "source": [
    "# Load wss files from the data directory\n",
    "mypath = '/home/rohit/Documents/Projects/ML/data/MLgSA/wss/'\n",
    "onlyfiles = np.asarray([f for f in listdir(mypath) if isfile(join(mypath, f))])\n",
    "onlyfiles.sort()\n",
    "print(len(onlyfiles))\n",
    "short_list = np.asarray([s[5:23] if s[19] == 'l' else s[5:24] for s in onlyfiles])\n",
    "#short_list.sort()\n",
    "#short_list"
   ],
   "metadata": {
    "collapsed": false,
    "pycharm": {
     "name": "#%%\n"
    }
   }
  },
  {
   "cell_type": "code",
   "execution_count": null,
   "outputs": [],
   "source": [
    "# Load the stenosis degree file\n",
    "df = pd.read_csv(\"../../data/MLgSA/stenosis_metadata.csv\", sep=';')"
   ],
   "metadata": {
    "collapsed": false,
    "pycharm": {
     "name": "#%%\n"
    }
   }
  },
  {
   "cell_type": "code",
   "execution_count": null,
   "outputs": [],
   "source": [
    "# Matching the stenosis degree to the datasets\n",
    "# missing datasets : index = [68, 87, 106]\n",
    "df.iloc[[68, 87, 106]]"
   ],
   "metadata": {
    "collapsed": false,
    "pycharm": {
     "name": "#%%\n"
    }
   }
  },
  {
   "cell_type": "code",
   "execution_count": null,
   "outputs": [],
   "source": [
    "# Drop missing targets\n",
    "df = df.drop(index=[68, 87, 106])\n",
    "degree_list = df['ID'].values\n",
    "#degree_list"
   ],
   "metadata": {
    "collapsed": false,
    "pycharm": {
     "name": "#%%\n"
    }
   }
  },
  {
   "cell_type": "code",
   "execution_count": null,
   "outputs": [],
   "source": [
    "# Check to see if the order of files is a match\n",
    "i = 0\n",
    "for t, (a,b) in enumerate(zip(degree_list, short_list)):\n",
    "    if a != b:\n",
    "        i = t\n",
    "        print(i)\n",
    "        print(degree_list[i], short_list[i])\n",
    "        print(degree_list[i] in short_list)\n",
    "        break"
   ],
   "metadata": {
    "collapsed": false,
    "pycharm": {
     "name": "#%%\n"
    }
   }
  },
  {
   "cell_type": "code",
   "execution_count": null,
   "outputs": [],
   "source": [
    "# Read the corresponding mesh files\n",
    "meshes = []\n",
    "\n",
    "for f in onlyfiles:\n",
    "    reader = pv.get_reader(mypath + f)\n",
    "    meshes.append(reader.read())"
   ],
   "metadata": {
    "collapsed": false,
    "pycharm": {
     "name": "#%%\n"
    }
   }
  },
  {
   "cell_type": "code",
   "execution_count": null,
   "outputs": [],
   "source": [
    "def get_data(mesh_name):\n",
    "    columns = ['longitudinal_WSS_@_t=1.1', 'non-directional_WSS_@_t=1.1', 'longitudinal_WSS_@_t=1.55', 'non-directional_WSS_@_t=1.55']\n",
    "    node_array = mesh_name.points\n",
    "    cell_array = mesh_name.cells.reshape(-1, 4)[:, 1:]\n",
    "    n = node_array.shape[0]\n",
    "    adjacency = np.zeros((n, n), dtype=int)\n",
    "    for c in cell_array:\n",
    "        adjacency[c[0], c[1]] = 1\n",
    "        adjacency[c[1], c[0]] = 1\n",
    "        adjacency[c[1], c[2]] = 1\n",
    "        adjacency[c[2], c[1]] = 1\n",
    "        adjacency[c[2], c[0]] = 1\n",
    "        adjacency[c[0], c[2]] = 1\n",
    "\n",
    "    features = np.asarray([mesh_name.point_data[columns[0]], mesh_name.point_data[columns[1]], mesh_name.point_data[columns[2]], mesh_name.point_data[columns[3]]]).T\n",
    "\n",
    "    return torch.tensor(np.maximum(adjacency, adjacency.T), dtype=torch.float).nonzero().t(), n, torch.tensor(features, dtype=torch.float)"
   ],
   "metadata": {
    "collapsed": false,
    "pycharm": {
     "name": "#%%\n"
    }
   }
  },
  {
   "cell_type": "code",
   "execution_count": null,
   "outputs": [],
   "source": [
    "edjl = []\n",
    "numl = []\n",
    "nf = []\n",
    "\n",
    "p = multiprocessing.Pool()\n",
    "\n",
    "for j, m in enumerate(meshes):\n",
    "    edj, num, fe = get_data(m)\n",
    "    edjl.append(edj)\n",
    "    numl.append(num)\n",
    "    nf.append(fe)\n",
    "    print(j)\n",
    "\n",
    "p.close()\n",
    "p.join()\n",
    "\n",
    "\n",
    "data_list = [Data(x = a, edge_index=b, y = y) for (a, b, y) in zip(nf, edjl, df['Stenosis Degree'])]\n",
    "\n",
    "torch.save(edjl, '../export/edge_indices.pt')\n",
    "torch.save(numl, '../export/nodes.pt')\n",
    "torch.save(nf, '../export/node_features.pt')\n",
    "torch.save(data_list, '../export/dataset.pt')"
   ],
   "metadata": {
    "collapsed": false,
    "pycharm": {
     "name": "#%%\n"
    }
   }
  },
  {
   "cell_type": "code",
   "execution_count": null,
   "outputs": [],
   "source": [
    "data_list = torch.load('../export/dataset.pt')\n",
    "del data_list[33]\n",
    "nf = torch.load('../export/node_features.pt')\n",
    "edjl = torch.load('../export/edge_indices.pt')\n",
    "numl = torch.load( '../export/nodes.pt')"
   ],
   "metadata": {
    "collapsed": false,
    "pycharm": {
     "name": "#%%\n"
    }
   }
  },
  {
   "cell_type": "code",
   "execution_count": null,
   "outputs": [],
   "source": [
    "del nf[33]\n",
    "del edjl[33]\n",
    "del numl[33]"
   ],
   "metadata": {
    "collapsed": false,
    "pycharm": {
     "name": "#%%\n"
    }
   }
  },
  {
   "cell_type": "code",
   "execution_count": null,
   "outputs": [],
   "source": [
    "# More checks\n",
    "for j, n in enumerate(numl):\n",
    "    if n != data_list[j].num_nodes:\n",
    "        print(j)\n",
    "    if data_list[j].is_directed():\n",
    "        print(j)"
   ],
   "metadata": {
    "collapsed": false,
    "pycharm": {
     "name": "#%%\n"
    }
   }
  },
  {
   "cell_type": "code",
   "execution_count": null,
   "outputs": [],
   "source": [
    "# Means and Stds\n",
    "\n",
    "ys = [pt.y for pt in data_list]"
   ],
   "metadata": {
    "collapsed": false,
    "pycharm": {
     "name": "#%%\n"
    }
   }
  },
  {
   "cell_type": "code",
   "execution_count": null,
   "outputs": [],
   "source": [
    "# Target Variability\n",
    "\n",
    "mean_y = np.mean([pt.y for pt in data_list])\n",
    "max_y = np.max([pt.y for pt in data_list])\n",
    "min_y = np.min([pt.y for pt in data_list])\n",
    "std_y = np.std([pt.y for pt in data_list])"
   ],
   "metadata": {
    "collapsed": false,
    "pycharm": {
     "name": "#%%\n"
    }
   }
  },
  {
   "cell_type": "code",
   "execution_count": null,
   "outputs": [],
   "source": [
    "print(mean_y, max_y, min_y, std_y)"
   ],
   "metadata": {
    "collapsed": false,
    "pycharm": {
     "name": "#%%\n"
    }
   }
  },
  {
   "cell_type": "code",
   "execution_count": null,
   "outputs": [],
   "source": [
    "counts, bins = np.histogram([pt.y for pt in data_list])\n",
    "plt.hist(ys)"
   ],
   "metadata": {
    "collapsed": false,
    "pycharm": {
     "name": "#%%\n"
    }
   }
  },
  {
   "cell_type": "code",
   "execution_count": null,
   "outputs": [],
   "source": [
    "print(counts, '\\n', bins)"
   ],
   "metadata": {
    "collapsed": false,
    "pycharm": {
     "name": "#%%\n"
    }
   }
  },
  {
   "cell_type": "code",
   "execution_count": null,
   "outputs": [],
   "source": [
    "plt.hist(ys, bins=[0, 5, 10, 15, 25, 40, 90])"
   ],
   "metadata": {
    "collapsed": false,
    "pycharm": {
     "name": "#%%\n"
    }
   }
  },
  {
   "cell_type": "code",
   "execution_count": null,
   "outputs": [],
   "source": [
    "def F(x):\n",
    "    return sum([y <= x for y in ys])/len(ys)"
   ],
   "metadata": {
    "collapsed": false,
    "pycharm": {
     "name": "#%%\n"
    }
   }
  },
  {
   "cell_type": "code",
   "execution_count": null,
   "outputs": [],
   "source": [
    "hat_y = [F(y) for y in ys]\n",
    "\n",
    "plt.hist(hat_y, bins= [0.0, 0.17, 0.34, 0.51 , 0.67, 0.84, 1.])"
   ],
   "metadata": {
    "collapsed": false,
    "pycharm": {
     "name": "#%%\n"
    }
   }
  },
  {
   "cell_type": "code",
   "execution_count": null,
   "outputs": [],
   "source": [
    "counts, bins =np.histogram(hat_y,bins=[0.0, 0.17, 0.34, 0.51 , 0.67, 0.84, 1.])\n",
    "\n",
    "plt.stairs(counts)"
   ],
   "metadata": {
    "collapsed": false,
    "pycharm": {
     "name": "#%%\n"
    }
   }
  },
  {
   "cell_type": "code",
   "execution_count": null,
   "outputs": [],
   "source": [
    "dy = np.digitize(hat_y, bins, right=True) - 1"
   ],
   "metadata": {
    "collapsed": false,
    "pycharm": {
     "name": "#%%\n"
    }
   }
  },
  {
   "cell_type": "code",
   "execution_count": null,
   "outputs": [],
   "source": [
    "print((dy, ys))"
   ],
   "metadata": {
    "collapsed": false,
    "pycharm": {
     "name": "#%%\n"
    }
   }
  },
  {
   "cell_type": "code",
   "execution_count": null,
   "outputs": [],
   "source": [],
   "metadata": {
    "collapsed": false,
    "pycharm": {
     "name": "#%%\n"
    }
   }
  },
  {
   "cell_type": "code",
   "execution_count": null,
   "outputs": [],
   "source": [],
   "metadata": {
    "collapsed": false,
    "pycharm": {
     "name": "#%%\n"
    }
   }
  },
  {
   "cell_type": "code",
   "execution_count": null,
   "outputs": [],
   "source": [],
   "metadata": {
    "collapsed": false,
    "pycharm": {
     "name": "#%%\n"
    }
   }
  },
  {
   "cell_type": "code",
   "execution_count": null,
   "outputs": [],
   "source": [
    "y_classes = np.zeros((len(ys), 6))"
   ],
   "metadata": {
    "collapsed": false,
    "pycharm": {
     "name": "#%%\n"
    }
   }
  },
  {
   "cell_type": "code",
   "execution_count": null,
   "outputs": [],
   "source": [
    "for k, c in zip(y_classes, dy):\n",
    "    k[c] = 1.0"
   ],
   "metadata": {
    "collapsed": false,
    "pycharm": {
     "name": "#%%\n"
    }
   }
  },
  {
   "cell_type": "code",
   "execution_count": null,
   "outputs": [],
   "source": [
    "y_classes[81]"
   ],
   "metadata": {
    "collapsed": false,
    "pycharm": {
     "name": "#%%\n"
    }
   }
  },
  {
   "cell_type": "code",
   "execution_count": null,
   "outputs": [],
   "source": [
    "means = []\n",
    "stds = []\n",
    "mins = []\n",
    "maxs = []"
   ],
   "metadata": {
    "collapsed": false,
    "pycharm": {
     "name": "#%%\n"
    }
   }
  },
  {
   "cell_type": "code",
   "execution_count": null,
   "outputs": [],
   "source": [
    "for t, pt in enumerate(nf):\n",
    "    means.append(torch.mean(pt, axis =0))\n",
    "    stds.append(torch.std(pt, axis =0))\n",
    "    mins.append(torch.amin(pt, axis =0))\n",
    "    maxs.append(torch.amax(pt, axis =0))"
   ],
   "metadata": {
    "collapsed": false,
    "pycharm": {
     "name": "#%%\n"
    }
   }
  },
  {
   "cell_type": "code",
   "execution_count": null,
   "outputs": [],
   "source": [
    "for m in stds:\n",
    "    if np.isnan(m).any():\n",
    "        print('yolo')"
   ],
   "metadata": {
    "collapsed": false,
    "pycharm": {
     "name": "#%%\n"
    }
   }
  },
  {
   "cell_type": "code",
   "execution_count": null,
   "outputs": [],
   "source": [
    "len(means)"
   ],
   "metadata": {
    "collapsed": false,
    "pycharm": {
     "name": "#%%\n"
    }
   }
  },
  {
   "cell_type": "code",
   "execution_count": null,
   "outputs": [],
   "source": [
    "\n",
    "for t, gp in enumerate(data_list):\n",
    "    s = StandardScaler()\n",
    "    s.fit(gp.x)\n",
    "    print(gp.x)\n",
    "    data_list[t].x = s.transform(gp.x)\n",
    "    print(t, data_list[t].x)"
   ],
   "metadata": {
    "collapsed": false,
    "pycharm": {
     "name": "#%%\n"
    }
   }
  },
  {
   "cell_type": "code",
   "execution_count": null,
   "outputs": [],
   "source": [
    "# Transform targets to classes\n",
    "\n",
    "for t in range(len(data_list)):\n",
    "    data_list[t].y = torch.tensor(y_classes[t], dtype=torch.float32)"
   ],
   "metadata": {
    "collapsed": false,
    "pycharm": {
     "name": "#%%\n"
    }
   }
  },
  {
   "cell_type": "code",
   "execution_count": null,
   "outputs": [],
   "source": [
    "for t in range(len(data_list)):\n",
    "    data_list[t].x = torch.tensor(data_list[t].x, dtype=torch.float32)"
   ],
   "metadata": {
    "collapsed": false,
    "pycharm": {
     "name": "#%%\n"
    }
   }
  },
  {
   "cell_type": "code",
   "execution_count": null,
   "outputs": [],
   "source": [
    "X_train, X_test, y_train, y_test = train_test_split(data_list, y_classes,\n",
    "                                                    stratify=y_classes,\n",
    "                                                    test_size=0.25)"
   ],
   "metadata": {
    "collapsed": false,
    "pycharm": {
     "name": "#%%\n"
    }
   }
  },
  {
   "cell_type": "code",
   "execution_count": null,
   "outputs": [],
   "source": [],
   "metadata": {
    "collapsed": false,
    "pycharm": {
     "name": "#%%\n"
    }
   }
  },
  {
   "cell_type": "code",
   "execution_count": null,
   "outputs": [],
   "source": [
    "train_loader = DataLoader(X_train, batch_size=1)\n",
    "test_loader = DataLoader(X_test, batch_size=1)"
   ],
   "metadata": {
    "collapsed": false,
    "pycharm": {
     "name": "#%%\n"
    }
   }
  },
  {
   "cell_type": "code",
   "execution_count": null,
   "outputs": [],
   "source": [
    "torch.save(train_loader, '../export/train_loader.pt')\n",
    "torch.save(test_loader, '../export/test_loader.pt')"
   ],
   "metadata": {
    "collapsed": false,
    "pycharm": {
     "name": "#%%\n"
    }
   }
  },
  {
   "cell_type": "code",
   "execution_count": null,
   "outputs": [],
   "source": [],
   "metadata": {
    "collapsed": false,
    "pycharm": {
     "name": "#%%\n"
    }
   }
  },
  {
   "cell_type": "code",
   "execution_count": null,
   "outputs": [],
   "source": [],
   "metadata": {
    "collapsed": false,
    "pycharm": {
     "name": "#%%\n"
    }
   }
  },
  {
   "cell_type": "code",
   "execution_count": null,
   "outputs": [],
   "source": [],
   "metadata": {
    "collapsed": false,
    "pycharm": {
     "name": "#%%\n"
    }
   }
  },
  {
   "cell_type": "code",
   "execution_count": null,
   "outputs": [],
   "source": [],
   "metadata": {
    "collapsed": false,
    "pycharm": {
     "name": "#%%\n"
    }
   }
  },
  {
   "cell_type": "code",
   "execution_count": null,
   "outputs": [],
   "source": [],
   "metadata": {
    "collapsed": false,
    "pycharm": {
     "name": "#%%\n"
    }
   }
  },
  {
   "cell_type": "code",
   "execution_count": null,
   "outputs": [],
   "source": [
    "df"
   ],
   "metadata": {
    "collapsed": false,
    "pycharm": {
     "name": "#%%\n"
    }
   }
  },
  {
   "cell_type": "code",
   "execution_count": null,
   "outputs": [],
   "source": [],
   "metadata": {
    "collapsed": false,
    "pycharm": {
     "name": "#%%\n"
    }
   }
  },
  {
   "cell_type": "code",
   "execution_count": 4,
   "outputs": [],
   "source": [],
   "metadata": {
    "collapsed": false,
    "pycharm": {
     "name": "#%%\n"
    }
   }
  },
  {
   "cell_type": "code",
   "execution_count": 8,
   "outputs": [],
   "source": [
    "reader = pv.get_reader(mypath + onlyfiles[3])\n",
    "mesh = reader.read()"
   ],
   "metadata": {
    "collapsed": false,
    "pycharm": {
     "name": "#%%\n"
    }
   }
  },
  {
   "cell_type": "code",
   "execution_count": 9,
   "outputs": [
    {
     "data": {
      "text/plain": "(19602, 3)"
     },
     "execution_count": 9,
     "metadata": {},
     "output_type": "execute_result"
    }
   ],
   "source": [
    "mesh.points.shape"
   ],
   "metadata": {
    "collapsed": false,
    "pycharm": {
     "name": "#%%\n"
    }
   }
  },
  {
   "cell_type": "code",
   "execution_count": 11,
   "outputs": [
    {
     "ename": "AttributeError",
     "evalue": "'UnstructuredGrid' object has no attribute 'point_normals'",
     "output_type": "error",
     "traceback": [
      "\u001B[0;31m---------------------------------------------------------------------------\u001B[0m",
      "\u001B[0;31mAttributeError\u001B[0m                            Traceback (most recent call last)",
      "Cell \u001B[0;32mIn[11], line 1\u001B[0m\n\u001B[0;32m----> 1\u001B[0m \u001B[43mmesh\u001B[49m\u001B[38;5;241;43m.\u001B[39;49m\u001B[43mpoint_normals\u001B[49m\n",
      "File \u001B[0;32m~/anaconda3/envs/ader/lib/python3.10/site-packages/pyvista/core/dataset.py:119\u001B[0m, in \u001B[0;36mDataSet.__getattr__\u001B[0;34m(self, item)\u001B[0m\n\u001B[1;32m    117\u001B[0m \u001B[38;5;28;01mdef\u001B[39;00m \u001B[38;5;21m__getattr__\u001B[39m(\u001B[38;5;28mself\u001B[39m, item) \u001B[38;5;241m-\u001B[39m\u001B[38;5;241m>\u001B[39m Any:\n\u001B[1;32m    118\u001B[0m     \u001B[38;5;124;03m\"\"\"Get attribute from base class if not found.\"\"\"\u001B[39;00m\n\u001B[0;32m--> 119\u001B[0m     \u001B[38;5;28;01mreturn\u001B[39;00m \u001B[38;5;28;43msuper\u001B[39;49m\u001B[43m(\u001B[49m\u001B[43m)\u001B[49m\u001B[38;5;241;43m.\u001B[39;49m\u001B[38;5;21;43m__getattribute__\u001B[39;49m\u001B[43m(\u001B[49m\u001B[43mitem\u001B[49m\u001B[43m)\u001B[49m\n",
      "\u001B[0;31mAttributeError\u001B[0m: 'UnstructuredGrid' object has no attribute 'point_normals'"
     ]
    }
   ],
   "source": [
    "mesh.point_normals"
   ],
   "metadata": {
    "collapsed": false,
    "pycharm": {
     "name": "#%%\n"
    }
   }
  },
  {
   "cell_type": "code",
   "execution_count": 13,
   "outputs": [],
   "source": [],
   "metadata": {
    "collapsed": false,
    "pycharm": {
     "name": "#%%\n"
    }
   }
  },
  {
   "cell_type": "code",
   "execution_count": 13,
   "outputs": [],
   "source": [
    "grid = mesh.extract_surface()"
   ],
   "metadata": {
    "collapsed": false,
    "pycharm": {
     "name": "#%%\n"
    }
   }
  },
  {
   "cell_type": "code",
   "execution_count": 15,
   "outputs": [
    {
     "data": {
      "text/plain": "PolyData (0x7f9c2b2ee920)\n  N Cells:\t38974\n  N Points:\t19602\n  N Strips:\t0\n  X Bounds:\t-3.539e+01, -2.374e+01\n  Y Bounds:\t-1.383e+00, 1.738e+01\n  Z Bounds:\t-1.010e+02, -3.445e+01\n  N Arrays:\t8",
      "text/html": "<table><tr><th>Header</th><th>Data Arrays</th></tr><tr><td>\n<table>\n<tr><th>PolyData</th><th>Information</th></tr>\n<tr><td>N Cells</td><td>38974</td></tr>\n<tr><td>N Points</td><td>19602</td></tr>\n<tr><td>N Strips</td><td>0</td></tr>\n<tr><td>X Bounds</td><td>-3.539e+01, -2.374e+01</td></tr>\n<tr><td>Y Bounds</td><td>-1.383e+00, 1.738e+01</td></tr>\n<tr><td>Z Bounds</td><td>-1.010e+02, -3.445e+01</td></tr>\n<tr><td>N Arrays</td><td>8</td></tr>\n</table>\n\n</td><td>\n<table>\n<tr><th>Name</th><th>Field</th><th>Type</th><th>N Comp</th><th>Min</th><th>Max</th></tr>\n<tr><td>longitudinal_WSS_@_t=1.1</td><td>Points</td><td>float64</td><td>1</td><td>-3.061e+00</td><td>3.092e+01</td></tr>\n<tr><td>non-directional_WSS_@_t=1.1</td><td>Points</td><td>float64</td><td>1</td><td>8.918e-03</td><td>3.093e+01</td></tr>\n<tr><td>longitudinal_WSS_@_t=1.55</td><td>Points</td><td>float64</td><td>1</td><td>-1.346e+00</td><td>8.855e+00</td></tr>\n<tr><td>non-directional_WSS_@_t=1.55</td><td>Points</td><td>float64</td><td>1</td><td>6.926e-04</td><td>8.861e+00</td></tr>\n<tr><td>vtkOriginalPointIds</td><td>Points</td><td>int64</td><td>1</td><td>0.000e+00</td><td>1.960e+04</td></tr>\n<tr><td>Normals</td><td>Points</td><td>float32</td><td>3</td><td>-1.000e+00</td><td>1.000e+00</td></tr>\n<tr><td>vtkOriginalCellIds</td><td>Cells</td><td>int64</td><td>1</td><td>0.000e+00</td><td>3.897e+04</td></tr>\n<tr><td>Normals</td><td>Cells</td><td>float32</td><td>3</td><td>-1.000e+00</td><td>1.000e+00</td></tr>\n</table>\n\n</td></tr> </table>"
     },
     "execution_count": 15,
     "metadata": {},
     "output_type": "execute_result"
    }
   ],
   "source": [
    "grid.compute_normals(inplace=True)"
   ],
   "metadata": {
    "collapsed": false,
    "pycharm": {
     "name": "#%%\n"
    }
   }
  },
  {
   "cell_type": "code",
   "execution_count": 18,
   "outputs": [
    {
     "name": "stderr",
     "output_type": "stream",
     "text": [
      "/home/rohit/anaconda3/envs/ader/lib/python3.10/site-packages/pyvista/jupyter/notebook.py:60: UserWarning: Failed to use notebook backend: \n",
      "\n",
      "Please install `ipyvtklink` to use this feature: https://github.com/Kitware/ipyvtklink\n",
      "\n",
      "Falling back to a static output.\n",
      "  warnings.warn(\n"
     ]
    },
    {
     "data": {
      "text/plain": "<PIL.Image.Image image mode=RGB size=1024x768>",
      "image/png": "[encoded data removed]"
     },
     "metadata": {},
     "output_type": "display_data"
    }
   ],
   "source": [
    "grid.plot(scalars='longitudinal_WSS_@_t=1.1')"
   ],
   "metadata": {
    "collapsed": false,
    "pycharm": {
     "name": "#%%\n"
    }
   }
  },
  {
   "cell_type": "code",
   "execution_count": null,
   "outputs": [],
   "source": [],
   "metadata": {
    "collapsed": false,
    "pycharm": {
     "name": "#%%\n"
    }
   }
  },
  {
   "cell_type": "code",
   "execution_count": null,
   "outputs": [],
   "source": [],
   "metadata": {
    "collapsed": false,
    "pycharm": {
     "name": "#%%\n"
    }
   }
  },
  {
   "cell_type": "code",
   "execution_count": 25,
   "outputs": [
    {
     "name": "stderr",
     "output_type": "stream",
     "text": [
      "/home/rohit/anaconda3/envs/ader/lib/python3.10/site-packages/pyvista/jupyter/notebook.py:60: UserWarning: Failed to use notebook backend: \n",
      "\n",
      "Please install `ipyvtklink` to use this feature: https://github.com/Kitware/ipyvtklink\n",
      "\n",
      "Falling back to a static output.\n",
      "  warnings.warn(\n"
     ]
    },
    {
     "data": {
      "text/plain": "<PIL.Image.Image image mode=RGB size=1024x768>",
      "image/png": "[encoded data removed]"
     },
     "metadata": {},
     "output_type": "display_data"
    }
   ],
   "source": [
    "pl = pv.Plotter()\n",
    "pl.add_mesh(mesh, scalars='longitudinal_WSS_@_t=1.1')\n",
    "pl.show()"
   ],
   "metadata": {
    "collapsed": false,
    "pycharm": {
     "name": "#%%\n"
    }
   }
  },
  {
   "cell_type": "code",
   "execution_count": null,
   "outputs": [],
   "source": [],
   "metadata": {
    "collapsed": false,
    "pycharm": {
     "name": "#%%\n"
    }
   }
  },
  {
   "cell_type": "code",
   "execution_count": null,
   "outputs": [],
   "source": [],
   "metadata": {
    "collapsed": false,
    "pycharm": {
     "name": "#%%\n"
    }
   }
  },
  {
   "cell_type": "code",
   "execution_count": null,
   "outputs": [],
   "source": [],
   "metadata": {
    "collapsed": false,
    "pycharm": {
     "name": "#%%\n"
    }
   }
  },
  {
   "cell_type": "code",
   "execution_count": null,
   "outputs": [],
   "source": [
    "mesh.remove_points(nw)"
   ],
   "metadata": {
    "collapsed": false,
    "pycharm": {
     "name": "#%%\n"
    }
   }
  },
  {
   "cell_type": "code",
   "execution_count": null,
   "outputs": [],
   "source": [
    "mesh.points"
   ],
   "metadata": {
    "collapsed": false,
    "pycharm": {
     "name": "#%%\n"
    }
   }
  },
  {
   "cell_type": "code",
   "execution_count": null,
   "outputs": [],
   "source": [
    "np.amax(mesh.points, axis=0)"
   ],
   "metadata": {
    "collapsed": false,
    "pycharm": {
     "name": "#%%\n"
    }
   }
  },
  {
   "cell_type": "code",
   "execution_count": null,
   "outputs": [],
   "source": [
    "mesh.points.shape"
   ],
   "metadata": {
    "collapsed": false,
    "pycharm": {
     "name": "#%%\n"
    }
   }
  },
  {
   "cell_type": "code",
   "execution_count": null,
   "outputs": [],
   "source": [
    "smesh =mesh.cast_to_explicit_structured_grid()"
   ],
   "metadata": {
    "collapsed": false,
    "pycharm": {
     "name": "#%%\n"
    }
   }
  },
  {
   "cell_type": "code",
   "execution_count": null,
   "outputs": [],
   "source": [
    "mesh.cell_data.keys()"
   ],
   "metadata": {
    "collapsed": false,
    "pycharm": {
     "name": "#%%\n"
    }
   }
  },
  {
   "cell_type": "code",
   "execution_count": null,
   "outputs": [],
   "source": [],
   "metadata": {
    "collapsed": false,
    "pycharm": {
     "name": "#%%\n"
    }
   }
  },
  {
   "cell_type": "code",
   "execution_count": null,
   "outputs": [],
   "source": [
    "keep_points = np.ones(mesh.points.shape, dtype=bool)\n",
    "keep_points[nw] = False"
   ],
   "metadata": {
    "collapsed": false,
    "pycharm": {
     "name": "#%%\n"
    }
   }
  },
  {
   "cell_type": "code",
   "execution_count": null,
   "outputs": [],
   "source": [
    "new_mesh = pv.UnstructuredGrid(points=mesh.points[keep_points], cells=mesh.cells)"
   ],
   "metadata": {
    "collapsed": false,
    "pycharm": {
     "name": "#%%\n"
    }
   }
  },
  {
   "cell_type": "code",
   "execution_count": null,
   "outputs": [],
   "source": [
    "new_mesh.points"
   ],
   "metadata": {
    "collapsed": false,
    "pycharm": {
     "name": "#%%\n"
    }
   }
  },
  {
   "cell_type": "code",
   "execution_count": null,
   "outputs": [],
   "source": [],
   "metadata": {
    "collapsed": false,
    "pycharm": {
     "name": "#%%\n"
    }
   }
  },
  {
   "cell_type": "code",
   "execution_count": null,
   "outputs": [],
   "source": [],
   "metadata": {
    "collapsed": false,
    "pycharm": {
     "name": "#%%\n"
    }
   }
  },
  {
   "cell_type": "code",
   "execution_count": null,
   "outputs": [],
   "source": [],
   "metadata": {
    "collapsed": false,
    "pycharm": {
     "name": "#%%\n"
    }
   }
  },
  {
   "cell_type": "code",
   "execution_count": null,
   "outputs": [],
   "source": [],
   "metadata": {
    "collapsed": false,
    "pycharm": {
     "name": "#%%\n"
    }
   }
  },
  {
   "cell_type": "code",
   "execution_count": null,
   "outputs": [],
   "source": [],
   "metadata": {
    "collapsed": false,
    "pycharm": {
     "name": "#%%\n"
    }
   }
  },
  {
   "cell_type": "code",
   "execution_count": null,
   "outputs": [],
   "source": [],
   "metadata": {
    "collapsed": false,
    "pycharm": {
     "name": "#%%\n"
    }
   }
  },
  {
   "cell_type": "code",
   "execution_count": null,
   "outputs": [],
   "source": [],
   "metadata": {
    "collapsed": false,
    "pycharm": {
     "name": "#%%\n"
    }
   }
  },
  {
   "cell_type": "code",
   "execution_count": null,
   "outputs": [],
   "source": [],
   "metadata": {
    "collapsed": false,
    "pycharm": {
     "name": "#%%\n"
    }
   }
  },
  {
   "cell_type": "code",
   "execution_count": null,
   "outputs": [],
   "source": [],
   "metadata": {
    "collapsed": false,
    "pycharm": {
     "name": "#%%\n"
    }
   }
  },
  {
   "cell_type": "code",
   "execution_count": null,
   "outputs": [],
   "source": [],
   "metadata": {
    "collapsed": false,
    "pycharm": {
     "name": "#%%\n"
    }
   }
  },
  {
   "cell_type": "code",
   "execution_count": null,
   "outputs": [],
   "source": [],
   "metadata": {
    "collapsed": false,
    "pycharm": {
     "name": "#%%\n"
    }
   }
  },
  {
   "cell_type": "code",
   "execution_count": null,
   "outputs": [],
   "source": [],
   "metadata": {
    "collapsed": false,
    "pycharm": {
     "name": "#%%\n"
    }
   }
  },
  {
   "cell_type": "code",
   "execution_count": null,
   "outputs": [],
   "source": [],
   "metadata": {
    "collapsed": false,
    "pycharm": {
     "name": "#%%\n"
    }
   }
  },
  {
   "cell_type": "code",
   "execution_count": null,
   "outputs": [],
   "source": [],
   "metadata": {
    "collapsed": false,
    "pycharm": {
     "name": "#%%\n"
    }
   }
  },
  {
   "cell_type": "code",
   "execution_count": 205,
   "outputs": [
    {
     "name": "stdout",
     "output_type": "stream",
     "text": [
      "(array([4, 5, 2, 0, 3, 4, 5, 1, 4, 4, 1, 3, 4, 5, 5, 0, 1, 1, 2, 3, 4, 0,\n",
      "       3, 3, 4, 0, 2, 0, 0, 2, 2, 4, 2, 5, 5, 2, 2, 3, 1, 1, 4, 5, 2, 1,\n",
      "       1, 1, 2, 4, 3, 3, 4, 5, 1, 3, 2, 1, 0, 3, 2, 5, 0, 5, 2, 3, 2, 0,\n",
      "       4, 3, 5, 5, 0, 0, 1, 1, 4, 4, 1, 4, 4, 5, 4, 5, 3, 0, 0, 2, 1, 2,\n",
      "       3, 3, 1, 2, 0, 5, 3, 5, 5, 3, 1, 2, 0, 0, 4, 0, 5, 0, 1],\n",
      "      dtype=int64), [26.126666520373508, 71.55461808841325, 14.989693821100936, 3.440384067120566, 21.13145726892333, 36.81742624699327, 75.67920912829408, 10.03391473333917, 25.105676903367453, 30.584103289543624, 5.548061468416428, 22.193821413445946, 36.48818124997736, 40.43076571427493, 63.51410691643756, 2.171972995840946, 5.024651076526039, 7.078013489518377, 11.867340411825444, 22.065576366226534, 31.659627305267858, 4.093569336460916, 18.472349849726157, 17.76002255504098, 33.358993870589075, 4.5258716407333655, 11.50381182366406, 3.2261573248520152, 2.850462890845114, 11.094062870783072, 10.812626527614096, 38.4997594950185, 11.68069369359129, 40.77934767372569, 46.64279341021098, 17.661510076979546, 16.391111720187464, 22.03643739833165, 6.32616871431531, 5.496064031113476, 26.839247727587534, 41.635847071873705, 11.031996066309596, 7.682398724509609, 5.777862896691579, 10.437863047676997, 13.932963330984675, 32.3310098799684, 21.058879475567124, 20.98166338076147, 32.923900539578675, 46.11103072236342, 6.27952123553326, 18.295929806932985, 11.72967152428438, 5.951520993459108, 0.5041916488547437, 23.0253141479104, 14.702179790972842, 66.80499504847958, 0.7954861148952614, 40.58199534885223, 10.530122666296965, 19.69132202489228, 17.106660062890917, 3.012419585383716, 25.254622860569363, 20.7992180916601, 52.02728806260243, 62.49475869623631, 1.6690352663758952, 3.161174612013661, 8.901032266295385, 7.104700791401997, 29.19120827046448, 36.09846916815764, 7.494558815842482, 34.66978860460097, 27.577803941929407, 61.36493607395841, 40.16316661641057, 76.36348114970801, 22.44126975932202, 2.976314406665349, 2.226806864942444, 11.634396980211466, 9.035131507118322, 15.06036091714284, 21.111025592516004, 24.45825734808377, 7.05700522432029, 12.369388488205049, 0.6658027223265107, 40.3988629085816, 25.03934109855414, 68.11963010449458, 55.85433738483181, 21.6300465707578, 5.730662938303858, 12.955202251882811, 3.0259752772903847, 3.32764634395176, 25.24122533213286, 4.632848126291952, 72.41912961461587, 2.757718172650592, 8.801848554469213])\n"
     ]
    }
   ],
   "source": [
    "print((dy, ys))"
   ],
   "metadata": {
    "collapsed": false,
    "pycharm": {
     "name": "#%%\n"
    }
   }
  },
  {
   "cell_type": "code",
   "execution_count": 203,
   "outputs": [],
   "source": [],
   "metadata": {
    "collapsed": false,
    "pycharm": {
     "name": "#%%\n"
    }
   }
  },
  {
   "cell_type": "code",
   "execution_count": null,
   "outputs": [],
   "source": [],
   "metadata": {
    "collapsed": false,
    "pycharm": {
     "name": "#%%\n"
    }
   }
  },
  {
   "cell_type": "code",
   "execution_count": null,
   "outputs": [],
   "source": [],
   "metadata": {
    "collapsed": false,
    "pycharm": {
     "name": "#%%\n"
    }
   }
  },
  {
   "cell_type": "code",
   "execution_count": 206,
   "outputs": [],
   "source": [
    "y_classes = np.zeros((len(ys), 6))"
   ],
   "metadata": {
    "collapsed": false,
    "pycharm": {
     "name": "#%%\n"
    }
   }
  },
  {
   "cell_type": "code",
   "execution_count": 207,
   "outputs": [],
   "source": [
    "for k, c in zip(y_classes, dy):\n",
    "    k[c] = 1.0"
   ],
   "metadata": {
    "collapsed": false,
    "pycharm": {
     "name": "#%%\n"
    }
   }
  },
  {
   "cell_type": "code",
   "execution_count": 208,
   "outputs": [
    {
     "data": {
      "text/plain": "array([0., 0., 0., 0., 0., 1.])"
     },
     "execution_count": 208,
     "metadata": {},
     "output_type": "execute_result"
    }
   ],
   "source": [
    "y_classes[81]"
   ],
   "metadata": {
    "collapsed": false,
    "pycharm": {
     "name": "#%%\n"
    }
   }
  },
  {
   "cell_type": "code",
   "execution_count": 141,
   "outputs": [],
   "source": [
    "means = []\n",
    "stds = []\n",
    "mins = []\n",
    "maxs = []"
   ],
   "metadata": {
    "collapsed": false,
    "pycharm": {
     "name": "#%%\n"
    }
   }
  },
  {
   "cell_type": "code",
   "execution_count": 142,
   "outputs": [],
   "source": [
    "for t, pt in enumerate(nf):\n",
    "    means.append(torch.mean(pt, axis =0))\n",
    "    stds.append(torch.std(pt, axis =0))\n",
    "    mins.append(torch.amin(pt, axis =0))\n",
    "    maxs.append(torch.amax(pt, axis =0))"
   ],
   "metadata": {
    "collapsed": false,
    "pycharm": {
     "name": "#%%\n"
    }
   }
  },
  {
   "cell_type": "code",
   "execution_count": 146,
   "outputs": [],
   "source": [
    "for m in stds:\n",
    "    if np.isnan(m).any():\n",
    "        print('yolo')"
   ],
   "metadata": {
    "collapsed": false,
    "pycharm": {
     "name": "#%%\n"
    }
   }
  },
  {
   "cell_type": "code",
   "execution_count": 147,
   "outputs": [
    {
     "data": {
      "text/plain": "107"
     },
     "execution_count": 147,
     "metadata": {},
     "output_type": "execute_result"
    }
   ],
   "source": [
    "len(means)"
   ],
   "metadata": {
    "collapsed": false,
    "pycharm": {
     "name": "#%%\n"
    }
   }
  },
  {
   "cell_type": "code",
   "execution_count": 155,
   "outputs": [
    {
     "name": "stdout",
     "output_type": "stream",
     "text": [
      "[[-0.60021586 -0.72791386 -0.59051759 -0.68328535]\n",
      " [-0.6157197  -0.74364276 -0.61596402 -0.70890331]\n",
      " [-0.62540497 -0.75366467 -0.62548184 -0.71858322]\n",
      " ...\n",
      " [-0.90276345 -1.0342306  -0.69310765 -0.78668268]\n",
      " [-0.88163841 -1.01309291 -0.63184979 -0.72501378]\n",
      " [-0.91047794 -1.04226072 -0.70761969 -0.8012693 ]]\n",
      "0 [[-0.60021586 -0.72791386 -0.59051759 -0.68328535]\n",
      " [-0.6157197  -0.74364276 -0.61596402 -0.70890331]\n",
      " [-0.62540497 -0.75366467 -0.62548184 -0.71858322]\n",
      " ...\n",
      " [-0.90276345 -1.0342306  -0.69310765 -0.78668268]\n",
      " [-0.88163841 -1.01309291 -0.63184979 -0.72501378]\n",
      " [-0.91047794 -1.04226072 -0.70761969 -0.8012693 ]]\n",
      "[[ 0.69500691  0.59528948  0.52322715  0.42730887]\n",
      " [ 0.89796587  0.79056877  0.67872066  0.58186653]\n",
      " [ 0.66963398  0.57686128  0.51917275  0.42385596]\n",
      " ...\n",
      " [ 0.08340089 -0.0425283   0.02852    -0.06757192]\n",
      " [ 0.19999584  0.06946833  0.03544232 -0.06810604]\n",
      " [ 0.01911682 -0.11190255 -0.08743244 -0.1922421 ]]\n",
      "1 [[ 0.69500691  0.59528948  0.52322715  0.42730887]\n",
      " [ 0.89796587  0.79056877  0.67872066  0.58186653]\n",
      " [ 0.66963398  0.57686128  0.51917275  0.42385596]\n",
      " ...\n",
      " [ 0.08340089 -0.0425283   0.02852    -0.06757192]\n",
      " [ 0.19999584  0.06946833  0.03544232 -0.06810604]\n",
      " [ 0.01911682 -0.11190255 -0.08743244 -0.1922421 ]]\n",
      "[[1.14917626 1.0788465  1.10066094 1.03393389]\n",
      " [1.52014391 1.46460073 1.42728381 1.36970002]\n",
      " [1.36922847 1.30887467 1.29929292 1.23696798]\n",
      " ...\n",
      " [1.94643562 1.90684768 2.79904194 2.79438854]\n",
      " [2.26577823 2.24492351 3.22314364 3.23702077]\n",
      " [2.12447753 2.09534205 3.03549005 3.04117826]]\n",
      "2 [[1.14917626 1.0788465  1.10066094 1.03393389]\n",
      " [1.52014391 1.46460073 1.42728381 1.36970002]\n",
      " [1.36922847 1.30887467 1.29929292 1.23696798]\n",
      " ...\n",
      " [1.94643562 1.90684768 2.79904194 2.79438854]\n",
      " [2.26577823 2.24492351 3.22314364 3.23702077]\n",
      " [2.12447753 2.09534205 3.03549005 3.04117826]]\n",
      "[[ 3.58366273  3.56758999  3.35398966  3.34631503]\n",
      " [ 3.47244934  3.44740851  3.49325504  3.48235534]\n",
      " [ 4.44327135  4.42776284  4.17682976  4.18164003]\n",
      " ...\n",
      " [-0.29211485 -0.32459414 -0.2690399  -0.31431558]\n",
      " [-0.28836667 -0.32209717 -0.26952121 -0.31564815]\n",
      " [-0.29966918 -0.33339456 -0.28345129 -0.32956375]]\n",
      "3 [[ 3.58366273  3.56758999  3.35398966  3.34631503]\n",
      " [ 3.47244934  3.44740851  3.49325504  3.48235534]\n",
      " [ 4.44327135  4.42776284  4.17682976  4.18164003]\n",
      " ...\n",
      " [-0.29211485 -0.32459414 -0.2690399  -0.31431558]\n",
      " [-0.28836667 -0.32209717 -0.26952121 -0.31564815]\n",
      " [-0.29966918 -0.33339456 -0.28345129 -0.32956375]]\n",
      "[[2.78099966 2.78121937 2.58687497 2.60175303]\n",
      " [2.76650962 2.76322539 2.53535315 2.54746348]\n",
      " [2.00837446 1.99203702 1.8599921  1.84075563]\n",
      " ...\n",
      " [0.24539272 0.18324133 0.28081243 0.18486639]\n",
      " [0.19360907 0.13043914 0.18073246 0.07990733]\n",
      " [0.23077986 0.16829496 0.2480383  0.15055385]]\n",
      "4 [[2.78099966 2.78121937 2.58687497 2.60175303]\n",
      " [2.76650962 2.76322539 2.53535315 2.54746348]\n",
      " [2.00837446 1.99203702 1.8599921  1.84075563]\n",
      " ...\n",
      " [0.24539272 0.18324133 0.28081243 0.18486639]\n",
      " [0.19360907 0.13043914 0.18073246 0.07990733]\n",
      " [0.23077986 0.16829496 0.2480383  0.15055385]]\n",
      "[[ 0.03419588 -0.07022902  0.17633488  0.0940684 ]\n",
      " [ 0.00093637 -0.10381411  0.12112115  0.03807936]\n",
      " [-0.1173228  -0.22387902 -0.01488733 -0.09990453]\n",
      " ...\n",
      " [-0.42912205 -0.54582319 -0.38795143 -0.47812987]\n",
      " [-0.46812865 -0.58554597 -0.40388018 -0.49380819]\n",
      " [-0.44302417 -0.5599299  -0.39213503 -0.48218653]]\n",
      "5 [[ 0.03419588 -0.07022902  0.17633488  0.0940684 ]\n",
      " [ 0.00093637 -0.10381411  0.12112115  0.03807936]\n",
      " [-0.1173228  -0.22387902 -0.01488733 -0.09990453]\n",
      " ...\n",
      " [-0.42912205 -0.54582319 -0.38795143 -0.47812987]\n",
      " [-0.46812865 -0.58554597 -0.40388018 -0.49380819]\n",
      " [-0.44302417 -0.5599299  -0.39213503 -0.48218653]]\n",
      "[[ 0.20958195  0.17482758  0.09466658  0.06945015]\n",
      " [ 0.23387475  0.20253076  0.12506188  0.10530932]\n",
      " [ 0.11999024  0.07832146  0.03708705  0.00802662]\n",
      " ...\n",
      " [-0.20556025 -0.24792223 -0.22619474 -0.25794026]\n",
      " [-0.1790416  -0.22211485 -0.2095737  -0.24175766]\n",
      " [-0.19141238 -0.23364453 -0.21769771 -0.24939686]]\n",
      "6 [[ 0.20958195  0.17482758  0.09466658  0.06945015]\n",
      " [ 0.23387475  0.20253076  0.12506188  0.10530932]\n",
      " [ 0.11999024  0.07832146  0.03708705  0.00802662]\n",
      " ...\n",
      " [-0.20556025 -0.24792223 -0.22619474 -0.25794026]\n",
      " [-0.1790416  -0.22211485 -0.2095737  -0.24175766]\n",
      " [-0.19141238 -0.23364453 -0.21769771 -0.24939686]]\n",
      "[[-0.59870699 -0.40685809 -0.49398409 -0.35364578]\n",
      " [-0.86097446 -0.63712477 -0.73442085 -0.56826403]\n",
      " [-0.41931156 -0.16227283 -0.35050942 -0.11519877]\n",
      " ...\n",
      " [-0.8883498  -0.98887761 -0.63606689 -0.72700933]\n",
      " [-0.19820881 -0.37483263  0.11322716 -0.0838419 ]\n",
      " [-0.78603087 -0.89509211 -0.53796032 -0.64656582]]\n",
      "7 [[-0.59870699 -0.40685809 -0.49398409 -0.35364578]\n",
      " [-0.86097446 -0.63712477 -0.73442085 -0.56826403]\n",
      " [-0.41931156 -0.16227283 -0.35050942 -0.11519877]\n",
      " ...\n",
      " [-0.8883498  -0.98887761 -0.63606689 -0.72700933]\n",
      " [-0.19820881 -0.37483263  0.11322716 -0.0838419 ]\n",
      " [-0.78603087 -0.89509211 -0.53796032 -0.64656582]]\n",
      "[[ 0.40824894  0.39943703  0.2122083   0.17977939]\n",
      " [ 0.11409837  0.12518568 -0.03178338 -0.04449401]\n",
      " [ 0.19964825  0.18003217  0.02796561 -0.00852593]\n",
      " ...\n",
      " [ 0.137575    0.02918098  0.22333888  0.13669265]\n",
      " [ 0.02952913 -0.07732307  0.12983078  0.04542085]\n",
      " [ 0.07521729 -0.03141413  0.18996499  0.10567636]]\n",
      "8 [[ 0.40824894  0.39943703  0.2122083   0.17977939]\n",
      " [ 0.11409837  0.12518568 -0.03178338 -0.04449401]\n",
      " [ 0.19964825  0.18003217  0.02796561 -0.00852593]\n",
      " ...\n",
      " [ 0.137575    0.02918098  0.22333888  0.13669265]\n",
      " [ 0.02952913 -0.07732307  0.12983078  0.04542085]\n",
      " [ 0.07521729 -0.03141413  0.18996499  0.10567636]]\n",
      "[[-0.01712955 -0.16543259 -0.0191598  -0.14274084]\n",
      " [ 0.08284234 -0.0660648   0.10041047 -0.02312637]\n",
      " [ 0.02232823 -0.12932182  0.03138702 -0.09386431]\n",
      " ...\n",
      " [ 0.71323616  0.55682653  1.28443757  1.16109133]\n",
      " [ 0.68320973  0.52487089  1.24097456  1.11478271]\n",
      " [ 0.71026732  0.55553667  1.28014028  1.15922204]]\n",
      "9 [[-0.01712955 -0.16543259 -0.0191598  -0.14274084]\n",
      " [ 0.08284234 -0.0660648   0.10041047 -0.02312637]\n",
      " [ 0.02232823 -0.12932182  0.03138702 -0.09386431]\n",
      " ...\n",
      " [ 0.71323616  0.55682653  1.28443757  1.16109133]\n",
      " [ 0.68320973  0.52487089  1.24097456  1.11478271]\n",
      " [ 0.71026732  0.55553667  1.28014028  1.15922204]]\n",
      "[[ 0.03651188 -0.03934558  0.07637603  0.01104191]\n",
      " [ 0.26056111  0.18812776  0.30786883  0.24547032]\n",
      " [ 0.17305913  0.10080724  0.19783263  0.13470583]\n",
      " ...\n",
      " [ 0.81175028  0.88133154  0.28532913  0.30205551]\n",
      " [ 1.08561616  1.07353108  0.76750119  0.75291497]\n",
      " [ 0.83037271  0.85161448  0.39389472  0.39180039]]\n",
      "10 [[ 0.03651188 -0.03934558  0.07637603  0.01104191]\n",
      " [ 0.26056111  0.18812776  0.30786883  0.24547032]\n",
      " [ 0.17305913  0.10080724  0.19783263  0.13470583]\n",
      " ...\n",
      " [ 0.81175028  0.88133154  0.28532913  0.30205551]\n",
      " [ 1.08561616  1.07353108  0.76750119  0.75291497]\n",
      " [ 0.83037271  0.85161448  0.39389472  0.39180039]]\n",
      "[[ 1.36170244  1.0821508   1.38146004  1.08460792]\n",
      " [ 1.12194142  0.87170899  1.13601227  0.87678288]\n",
      " [ 0.65957506  0.4670658   0.70307191  0.51154164]\n",
      " ...\n",
      " [-0.01531827 -0.12419991 -0.00962134 -0.09037516]\n",
      " [-0.06319645 -0.16468139 -0.02688391 -0.10497641]\n",
      " [-0.04921257 -0.15299759 -0.0218172  -0.10073935]]\n",
      "11 [[ 1.36170244  1.0821508   1.38146004  1.08460792]\n",
      " [ 1.12194142  0.87170899  1.13601227  0.87678288]\n",
      " [ 0.65957506  0.4670658   0.70307191  0.51154164]\n",
      " ...\n",
      " [-0.01531827 -0.12419991 -0.00962134 -0.09037516]\n",
      " [-0.06319645 -0.16468139 -0.02688391 -0.10497641]\n",
      " [-0.04921257 -0.15299759 -0.0218172  -0.10073935]]\n",
      "[[ 1.54472888  1.49977849  1.06590731  1.0047254 ]\n",
      " [ 0.24757045  0.16685187 -0.05957484 -0.14611861]\n",
      " [ 0.34230306  0.30633927  0.07912863  0.02227243]\n",
      " ...\n",
      " [ 1.38536549  1.28876204  2.04930641  1.97290724]\n",
      " [ 1.62301073  1.52817008  2.36032587  2.28778257]\n",
      " [ 1.51387789  1.41870649  2.21749769  2.1438133 ]]\n",
      "12 [[ 1.54472888  1.49977849  1.06590731  1.0047254 ]\n",
      " [ 0.24757045  0.16685187 -0.05957484 -0.14611861]\n",
      " [ 0.34230306  0.30633927  0.07912863  0.02227243]\n",
      " ...\n",
      " [ 1.38536549  1.28876204  2.04930641  1.97290724]\n",
      " [ 1.62301073  1.52817008  2.36032587  2.28778257]\n",
      " [ 1.51387789  1.41870649  2.21749769  2.1438133 ]]\n",
      "[[7.88978355 7.74251392 7.77703508 7.60214597]\n",
      " [6.00414915 5.87942543 5.69625664 5.56452848]\n",
      " [7.39614065 7.25296296 6.98294744 6.81740944]\n",
      " ...\n",
      " [0.70707284 0.63533484 0.55459267 0.4860936 ]\n",
      " [0.55163162 0.48652674 0.47281319 0.40605758]\n",
      " [0.66634805 0.59842804 0.55336722 0.48528195]]\n",
      "13 [[7.88978355 7.74251392 7.77703508 7.60214597]\n",
      " [6.00414915 5.87942543 5.69625664 5.56452848]\n",
      " [7.39614065 7.25296296 6.98294744 6.81740944]\n",
      " ...\n",
      " [0.70707284 0.63533484 0.55459267 0.4860936 ]\n",
      " [0.55163162 0.48652674 0.47281319 0.40605758]\n",
      " [0.66634805 0.59842804 0.55336722 0.48528195]]\n",
      "[[-0.63309423 -0.4741678  -0.65475275 -0.38236674]\n",
      " [-0.43899106 -0.6552925  -0.42692495 -0.5930674 ]\n",
      " [-0.70933366 -0.40417468 -0.73733743 -0.30747263]\n",
      " ...\n",
      " [ 0.69357958  0.43000967  0.28607463  0.00516645]\n",
      " [ 0.65668574  0.37478969  0.28709199 -0.00825996]\n",
      " [ 0.66685457  0.40207247  0.28064244 -0.00368592]]\n",
      "14 [[-0.63309423 -0.4741678  -0.65475275 -0.38236674]\n",
      " [-0.43899106 -0.6552925  -0.42692495 -0.5930674 ]\n",
      " [-0.70933366 -0.40417468 -0.73733743 -0.30747263]\n",
      " ...\n",
      " [ 0.69357958  0.43000967  0.28607463  0.00516645]\n",
      " [ 0.65668574  0.37478969  0.28709199 -0.00825996]\n",
      " [ 0.66685457  0.40207247  0.28064244 -0.00368592]]\n",
      "[[-0.54492504 -0.84583848 -0.28068696 -0.62533831]\n",
      " [-0.60425345 -0.91325185 -0.35555724 -0.71581426]\n",
      " [-0.57635059 -0.88175948 -0.31210935 -0.66349376]\n",
      " ...\n",
      " [ 0.98535689  0.89725226  0.80871455  0.69360847]\n",
      " [ 0.96372908  0.87126334  0.78769067  0.66628373]\n",
      " [ 0.98336232  0.89421245  0.8122962   0.69679719]]\n",
      "15 [[-0.54492504 -0.84583848 -0.28068696 -0.62533831]\n",
      " [-0.60425345 -0.91325185 -0.35555724 -0.71581426]\n",
      " [-0.57635059 -0.88175948 -0.31210935 -0.66349376]\n",
      " ...\n",
      " [ 0.98535689  0.89725226  0.80871455  0.69360847]\n",
      " [ 0.96372908  0.87126334  0.78769067  0.66628373]\n",
      " [ 0.98336232  0.89421245  0.8122962   0.69679719]]\n",
      "[[1.0557846  1.03835107 0.8312742  0.77966422]\n",
      " [0.82445575 0.79532965 0.61421096 0.55203833]\n",
      " [0.79753744 0.76595519 0.63464173 0.57263826]\n",
      " ...\n",
      " [4.69304203 4.82958679 6.14236549 6.34206099]\n",
      " [4.7995024  4.93694266 6.27448356 6.47584393]\n",
      " [4.80054367 4.94217478 6.27577514 6.4823634 ]]\n",
      "16 [[1.0557846  1.03835107 0.8312742  0.77966422]\n",
      " [0.82445575 0.79532965 0.61421096 0.55203833]\n",
      " [0.79753744 0.76595519 0.63464173 0.57263826]\n",
      " ...\n",
      " [4.69304203 4.82958679 6.14236549 6.34206099]\n",
      " [4.7995024  4.93694266 6.27448356 6.47584393]\n",
      " [4.80054367 4.94217478 6.27577514 6.4823634 ]]\n",
      "[[-0.33232046 -0.41507365 -0.08932115 -0.19280757]\n",
      " [-0.34906039 -0.4323507  -0.08094179 -0.18398185]\n",
      " [-0.29929836 -0.38105603 -0.01715571 -0.11709091]\n",
      " ...\n",
      " [ 1.20753166  1.19247193  0.81485452  0.76889862]\n",
      " [ 1.13855945  1.11454055  0.74984033  0.69690131]\n",
      " [ 1.2879587   1.27880134  0.86670726  0.82686132]]\n",
      "17 [[-0.33232046 -0.41507365 -0.08932115 -0.19280757]\n",
      " [-0.34906039 -0.4323507  -0.08094179 -0.18398185]\n",
      " [-0.29929836 -0.38105603 -0.01715571 -0.11709091]\n",
      " ...\n",
      " [ 1.20753166  1.19247193  0.81485452  0.76889862]\n",
      " [ 1.13855945  1.11454055  0.74984033  0.69690131]\n",
      " [ 1.2879587   1.27880134  0.86670726  0.82686132]]\n",
      "[[-0.1786168  -0.23109091 -0.06852054 -0.10845726]\n",
      " [-0.11380699 -0.16717016  0.00819771 -0.03309329]\n",
      " [-0.15907056 -0.21523621 -0.05059716 -0.09329509]\n",
      " ...\n",
      " [-0.40672316 -0.45485598 -0.38226915 -0.42109663]\n",
      " [-0.40476683 -0.45181162 -0.38022655 -0.41853494]\n",
      " [-0.41353433 -0.45988572 -0.38908549 -0.42647821]]\n",
      "18 [[-0.1786168  -0.23109091 -0.06852054 -0.10845726]\n",
      " [-0.11380699 -0.16717016  0.00819771 -0.03309329]\n",
      " [-0.15907056 -0.21523621 -0.05059716 -0.09329509]\n",
      " ...\n",
      " [-0.40672316 -0.45485598 -0.38226915 -0.42109663]\n",
      " [-0.40476683 -0.45181162 -0.38022655 -0.41853494]\n",
      " [-0.41353433 -0.45988572 -0.38908549 -0.42647821]]\n",
      "[[ 2.85429126  2.79910642  2.64026533  2.58248623]\n",
      " [ 3.8262314   3.80936744  3.47678185  3.43620116]\n",
      " [ 2.86152247  2.8064251   2.96545844  2.905824  ]\n",
      " ...\n",
      " [-0.60900239 -0.64530364 -0.35934453 -0.3799639 ]\n",
      " [-0.49446747 -0.53974879 -0.10242575 -0.14325063]\n",
      " [-0.66841    -0.71169727 -0.49078057 -0.52620518]]\n",
      "19 [[ 2.85429126  2.79910642  2.64026533  2.58248623]\n",
      " [ 3.8262314   3.80936744  3.47678185  3.43620116]\n",
      " [ 2.86152247  2.8064251   2.96545844  2.905824  ]\n",
      " ...\n",
      " [-0.60900239 -0.64530364 -0.35934453 -0.3799639 ]\n",
      " [-0.49446747 -0.53974879 -0.10242575 -0.14325063]\n",
      " [-0.66841    -0.71169727 -0.49078057 -0.52620518]]\n",
      "[[  1.09688245   1.05481601   1.12110463   1.08369655]\n",
      " [  1.10969256   1.07056647   1.18344659   1.17742399]\n",
      " [  1.36032376   1.31094519   1.41873745   1.36770568]\n",
      " ...\n",
      " [-19.71309346  18.47673484 -29.46625451  28.79628151]\n",
      " [-17.36305645  16.31764832 -20.95313531  20.30366674]\n",
      " [-22.67890046  21.53322193 -32.06506159  31.53446928]]\n",
      "20 [[  1.09688245   1.05481601   1.12110463   1.08369655]\n",
      " [  1.10969256   1.07056647   1.18344659   1.17742399]\n",
      " [  1.36032376   1.31094519   1.41873745   1.36770568]\n",
      " ...\n",
      " [-19.71309346  18.47673484 -29.46625451  28.79628151]\n",
      " [-17.36305645  16.31764832 -20.95313531  20.30366674]\n",
      " [-22.67890046  21.53322193 -32.06506159  31.53446928]]\n",
      "[[0.88763622 0.80975797 0.47269129 0.39592096]\n",
      " [1.4047245  1.3335551  0.86103016 0.7944623 ]\n",
      " [1.85270173 1.78915937 1.22795064 1.17066687]\n",
      " ...\n",
      " [3.71414319 3.7666422  3.05770692 3.16398169]\n",
      " [3.76562824 3.82177162 3.15437347 3.27513881]\n",
      " [3.55505637 3.60861532 2.97487209 3.08317782]]\n",
      "21 [[0.88763622 0.80975797 0.47269129 0.39592096]\n",
      " [1.4047245  1.3335551  0.86103016 0.7944623 ]\n",
      " [1.85270173 1.78915937 1.22795064 1.17066687]\n",
      " ...\n",
      " [3.71414319 3.7666422  3.05770692 3.16398169]\n",
      " [3.76562824 3.82177162 3.15437347 3.27513881]\n",
      " [3.55505637 3.60861532 2.97487209 3.08317782]]\n",
      "[[0.82742005 0.68868769 0.78950893 0.67560238]\n",
      " [0.99846489 0.86418007 0.93756647 0.82591896]\n",
      " [0.92474111 0.78836234 0.87301602 0.7600537 ]\n",
      " ...\n",
      " [0.98810165 0.85373508 0.74177543 0.62733796]\n",
      " [0.99395254 0.86079517 0.75333866 0.6400154 ]\n",
      " [0.83733224 0.70070935 0.62695017 0.51238697]]\n",
      "22 [[0.82742005 0.68868769 0.78950893 0.67560238]\n",
      " [0.99846489 0.86418007 0.93756647 0.82591896]\n",
      " [0.92474111 0.78836234 0.87301602 0.7600537 ]\n",
      " ...\n",
      " [0.98810165 0.85373508 0.74177543 0.62733796]\n",
      " [0.99395254 0.86079517 0.75333866 0.6400154 ]\n",
      " [0.83733224 0.70070935 0.62695017 0.51238697]]\n",
      "[[3.51292867 3.41913102 3.24654831 3.20201348]\n",
      " [4.6069054  4.51086617 4.29122322 4.27064832]\n",
      " [3.17820824 3.0697964  2.91551738 2.86599098]\n",
      " ...\n",
      " [1.49963653 1.3779488  1.74128455 1.66325214]\n",
      " [1.61394755 1.49369073 1.78858984 1.71175458]\n",
      " [1.61718332 1.49801082 1.83253927 1.75784922]]\n",
      "23 [[3.51292867 3.41913102 3.24654831 3.20201348]\n",
      " [4.6069054  4.51086617 4.29122322 4.27064832]\n",
      " [3.17820824 3.0697964  2.91551738 2.86599098]\n",
      " ...\n",
      " [1.49963653 1.3779488  1.74128455 1.66325214]\n",
      " [1.61394755 1.49369073 1.78858984 1.71175458]\n",
      " [1.61718332 1.49801082 1.83253927 1.75784922]]\n",
      "[[-0.35349329 -0.46449663 -0.35486003 -0.44479464]\n",
      " [-0.27318804 -0.38352011 -0.27307493 -0.36256497]\n",
      " [-0.32962626 -0.44060371 -0.33018094 -0.42010469]\n",
      " ...\n",
      " [-0.12156734 -0.09506922  0.1821016   0.18241967]\n",
      " [-0.33542007 -0.31321717 -0.00520188 -0.01495935]\n",
      " [-0.28140432 -0.25743118  0.02409046  0.01691435]]\n",
      "24 [[-0.35349329 -0.46449663 -0.35486003 -0.44479464]\n",
      " [-0.27318804 -0.38352011 -0.27307493 -0.36256497]\n",
      " [-0.32962626 -0.44060371 -0.33018094 -0.42010469]\n",
      " ...\n",
      " [-0.12156734 -0.09506922  0.1821016   0.18241967]\n",
      " [-0.33542007 -0.31321717 -0.00520188 -0.01495935]\n",
      " [-0.28140432 -0.25743118  0.02409046  0.01691435]]\n",
      "[[-0.28041737 -0.41629958 -0.21286749 -0.31169317]\n",
      " [-0.24494438 -0.38049276 -0.17183806 -0.27059479]\n",
      " [-0.32868567 -0.46703449 -0.27119627 -0.37031762]\n",
      " ...\n",
      " [-0.77001403 -0.86598172 -0.88469322 -0.74728827]\n",
      " [-0.15845173 -0.28943781  0.32321803  0.22690782]\n",
      " [-0.23951952 -0.37038279  0.3878843   0.29377485]]\n",
      "25 [[-0.28041737 -0.41629958 -0.21286749 -0.31169317]\n",
      " [-0.24494438 -0.38049276 -0.17183806 -0.27059479]\n",
      " [-0.32868567 -0.46703449 -0.27119627 -0.37031762]\n",
      " ...\n",
      " [-0.77001403 -0.86598172 -0.88469322 -0.74728827]\n",
      " [-0.15845173 -0.28943781  0.32321803  0.22690782]\n",
      " [-0.23951952 -0.37038279  0.3878843   0.29377485]]\n",
      "[[ 2.65715604  2.68126794  1.82337771  1.77824331]\n",
      " [ 1.40817441  1.36492867  0.92878157  0.84527229]\n",
      " [ 2.6207013   2.6424592   1.7284065   1.67909335]\n",
      " ...\n",
      " [10.08337731 10.56040754 12.96099793 13.42768201]\n",
      " [10.25356132 10.73451982 13.17463932 13.64317166]\n",
      " [ 7.64689204  7.97434972  9.90236352 10.22705379]]\n",
      "26 [[ 2.65715604  2.68126794  1.82337771  1.77824331]\n",
      " [ 1.40817441  1.36492867  0.92878157  0.84527229]\n",
      " [ 2.6207013   2.6424592   1.7284065   1.67909335]\n",
      " ...\n",
      " [10.08337731 10.56040754 12.96099793 13.42768201]\n",
      " [10.25356132 10.73451982 13.17463932 13.64317166]\n",
      " [ 7.64689204  7.97434972  9.90236352 10.22705379]]\n",
      "[[ 0.92352616  0.82803264  1.03315413  0.95948775]\n",
      " [-0.10851367 -0.20024303 -0.07174028 -0.14331662]\n",
      " [ 0.15465692  0.06396003  0.21368757  0.14382278]\n",
      " ...\n",
      " [-1.13199633 -1.19524112 -0.86011689 -0.93216129]\n",
      " [-1.12638459 -1.19552898 -0.83615866 -0.9085956 ]\n",
      " [-1.12877777 -1.19495865 -0.8469531  -0.91872604]]\n",
      "27 [[ 0.92352616  0.82803264  1.03315413  0.95948775]\n",
      " [-0.10851367 -0.20024303 -0.07174028 -0.14331662]\n",
      " [ 0.15465692  0.06396003  0.21368757  0.14382278]\n",
      " ...\n",
      " [-1.13199633 -1.19524112 -0.86011689 -0.93216129]\n",
      " [-1.12638459 -1.19552898 -0.83615866 -0.9085956 ]\n",
      " [-1.12877777 -1.19495865 -0.8469531  -0.91872604]]\n",
      "[[2.38775149 2.23300583 1.848047   1.70957197]\n",
      " [2.60340641 2.44681725 1.99417524 1.85268291]\n",
      " [2.51046773 2.35197898 1.90764975 1.76780551]\n",
      " ...\n",
      " [6.35411004 6.05238794 5.14016886 4.87528346]\n",
      " [6.7846669  6.47018777 5.51934146 5.24588766]\n",
      " [6.43282538 6.12853699 5.19383894 4.92923981]]\n",
      "28 [[2.38775149 2.23300583 1.848047   1.70957197]\n",
      " [2.60340641 2.44681725 1.99417524 1.85268291]\n",
      " [2.51046773 2.35197898 1.90764975 1.76780551]\n",
      " ...\n",
      " [6.35411004 6.05238794 5.14016886 4.87528346]\n",
      " [6.7846669  6.47018777 5.51934146 5.24588766]\n",
      " [6.43282538 6.12853699 5.19383894 4.92923981]]\n",
      "[[-0.67695972 -0.70535272 -0.55866829 -0.58963589]\n",
      " [-0.6182759  -0.65134388 -0.49264677 -0.52651663]\n",
      " [-0.62668548 -0.65762987 -0.50872818 -0.54146801]\n",
      " ...\n",
      " [ 1.34448387  1.28350878  1.10188511  1.05439785]\n",
      " [ 1.39826933  1.33732478  1.2320847   1.18366345]\n",
      " [ 1.39068316  1.32917375  1.17687435  1.12854409]]\n",
      "29 [[-0.67695972 -0.70535272 -0.55866829 -0.58963589]\n",
      " [-0.6182759  -0.65134388 -0.49264677 -0.52651663]\n",
      " [-0.62668548 -0.65762987 -0.50872818 -0.54146801]\n",
      " ...\n",
      " [ 1.34448387  1.28350878  1.10188511  1.05439785]\n",
      " [ 1.39826933  1.33732478  1.2320847   1.18366345]\n",
      " [ 1.39068316  1.32917375  1.17687435  1.12854409]]\n",
      "[[-0.19591239 -0.26396054 -0.09703366 -0.14821133]\n",
      " [-0.02351598 -0.09069909  0.09317959  0.04240834]\n",
      " [-0.00990717 -0.07672675  0.11339332  0.06311315]\n",
      " ...\n",
      " [-0.43322939 -0.50240434 -0.4628036  -0.51481518]\n",
      " [-0.42907652 -0.49797483 -0.45555402 -0.50717407]\n",
      " [-0.43335067 -0.50248299 -0.46203547 -0.5139216 ]]\n",
      "30 [[-0.19591239 -0.26396054 -0.09703366 -0.14821133]\n",
      " [-0.02351598 -0.09069909  0.09317959  0.04240834]\n",
      " [-0.00990717 -0.07672675  0.11339332  0.06311315]\n",
      " ...\n",
      " [-0.43322939 -0.50240434 -0.4628036  -0.51481518]\n",
      " [-0.42907652 -0.49797483 -0.45555402 -0.50717407]\n",
      " [-0.43335067 -0.50248299 -0.46203547 -0.5139216 ]]\n",
      "[[-0.40666564 -0.54715326 -0.32464638 -0.42548855]\n",
      " [-0.46036406 -0.60383027 -0.37971434 -0.48259422]\n",
      " [-0.44297818 -0.58506941 -0.36573309 -0.46797764]\n",
      " ...\n",
      " [ 0.82905173  0.75378849  0.64060925  0.57457399]\n",
      " [ 0.64588991  0.55977199  0.45810891  0.3851506 ]\n",
      " [ 0.81690457  0.73705657  0.61938331  0.5507347 ]]\n",
      "31 [[-0.40666564 -0.54715326 -0.32464638 -0.42548855]\n",
      " [-0.46036406 -0.60383027 -0.37971434 -0.48259422]\n",
      " [-0.44297818 -0.58506941 -0.36573309 -0.46797764]\n",
      " ...\n",
      " [ 0.82905173  0.75378849  0.64060925  0.57457399]\n",
      " [ 0.64588991  0.55977199  0.45810891  0.3851506 ]\n",
      " [ 0.81690457  0.73705657  0.61938331  0.5507347 ]]\n",
      "[[3.28937777 3.23184367 3.00163637 2.9560859 ]\n",
      " [2.52171246 2.46242302 2.32364747 2.27828402]\n",
      " [3.48202797 3.4256417  3.14211748 3.09791408]\n",
      " ...\n",
      " [1.43016989 1.37080971 1.70225199 1.6603985 ]\n",
      " [0.87179831 0.81136601 1.05151929 1.00914128]\n",
      " [1.10183248 1.04256225 1.31837646 1.27690723]]\n",
      "32 [[3.28937777 3.23184367 3.00163637 2.9560859 ]\n",
      " [2.52171246 2.46242302 2.32364747 2.27828402]\n",
      " [3.48202797 3.4256417  3.14211748 3.09791408]\n",
      " ...\n",
      " [1.43016989 1.37080971 1.70225199 1.6603985 ]\n",
      " [0.87179831 0.81136601 1.05151929 1.00914128]\n",
      " [1.10183248 1.04256225 1.31837646 1.27690723]]\n",
      "[[-0.8381564  -0.95225878 -0.76464765 -0.86180886]\n",
      " [-0.82757659 -0.94201636 -0.74388313 -0.84126763]\n",
      " [-0.83587337 -0.95029132 -0.75030594 -0.84769051]\n",
      " ...\n",
      " [-0.18044342 -0.29319465 -0.09334401 -0.19691511]\n",
      " [-0.11480496 -0.23123296 -0.04358674 -0.14869474]\n",
      " [-0.13426328 -0.24601023 -0.05350553 -0.15646876]]\n",
      "33 [[-0.8381564  -0.95225878 -0.76464765 -0.86180886]\n",
      " [-0.82757659 -0.94201636 -0.74388313 -0.84126763]\n",
      " [-0.83587337 -0.95029132 -0.75030594 -0.84769051]\n",
      " ...\n",
      " [-0.18044342 -0.29319465 -0.09334401 -0.19691511]\n",
      " [-0.11480496 -0.23123296 -0.04358674 -0.14869474]\n",
      " [-0.13426328 -0.24601023 -0.05350553 -0.15646876]]\n",
      "[[ 0.54882558  0.3707336   0.66358772  0.51555851]\n",
      " [ 0.32338821  0.13593654  0.39751844  0.25053199]\n",
      " [ 0.45366005  0.29752672  0.55839271  0.43049074]\n",
      " ...\n",
      " [-0.79169312 -0.92769898 -0.77659839 -0.87598215]\n",
      " [-0.79503118 -0.93712827 -0.81906374 -0.91833046]\n",
      " [-0.80401877 -0.94138205 -0.82920486 -0.92496746]]\n",
      "34 [[ 0.54882558  0.3707336   0.66358772  0.51555851]\n",
      " [ 0.32338821  0.13593654  0.39751844  0.25053199]\n",
      " [ 0.45366005  0.29752672  0.55839271  0.43049074]\n",
      " ...\n",
      " [-0.79169312 -0.92769898 -0.77659839 -0.87598215]\n",
      " [-0.79503118 -0.93712827 -0.81906374 -0.91833046]\n",
      " [-0.80401877 -0.94138205 -0.82920486 -0.92496746]]\n",
      "[[-0.38267324 -0.44924584 -0.30587814 -0.36801294]\n",
      " [-0.37937537 -0.44699095 -0.30355933 -0.36676411]\n",
      " [-0.38813066 -0.45485082 -0.31389478 -0.37615843]\n",
      " ...\n",
      " [ 0.2775315   0.37444918 -0.05393026 -0.0627483 ]\n",
      " [ 0.39747927  0.4783858   0.02538077  0.01769322]\n",
      " [ 0.34752753  0.4355056  -0.01558639 -0.02411362]]\n",
      "35 [[-0.38267324 -0.44924584 -0.30587814 -0.36801294]\n",
      " [-0.37937537 -0.44699095 -0.30355933 -0.36676411]\n",
      " [-0.38813066 -0.45485082 -0.31389478 -0.37615843]\n",
      " ...\n",
      " [ 0.2775315   0.37444918 -0.05393026 -0.0627483 ]\n",
      " [ 0.39747927  0.4783858   0.02538077  0.01769322]\n",
      " [ 0.34752753  0.4355056  -0.01558639 -0.02411362]]\n",
      "[[ 0.19201118  0.10622951  0.3344977   0.26147139]\n",
      " [-0.07986754 -0.14976772  0.02838067 -0.03188713]\n",
      " [ 0.05911031 -0.01893796  0.17020241  0.10413317]\n",
      " ...\n",
      " [ 3.30962875  3.04075034  3.88335423  3.66454414]\n",
      " [ 1.57738012  1.42888513  2.38483277  2.25356736]\n",
      " [ 2.97035191  2.71994394  3.55120996  3.34646079]]\n",
      "36 [[ 0.19201118  0.10622951  0.3344977   0.26147139]\n",
      " [-0.07986754 -0.14976772  0.02838067 -0.03188713]\n",
      " [ 0.05911031 -0.01893796  0.17020241  0.10413317]\n",
      " ...\n",
      " [ 3.30962875  3.04075034  3.88335423  3.66454414]\n",
      " [ 1.57738012  1.42888513  2.38483277  2.25356736]\n",
      " [ 2.97035191  2.71994394  3.55120996  3.34646079]]\n",
      "[[ 0.84990504  0.81068802  0.86710775  0.84088987]\n",
      " [ 0.8585851   0.81937601  0.87946697  0.85387661]\n",
      " [ 0.56482777  0.5237004   0.56421222  0.53189055]\n",
      " ...\n",
      " [-0.12267877 -0.19759319 -0.01534273 -0.07949701]\n",
      " [-0.17461533 -0.24989717 -0.08510055 -0.15149846]\n",
      " [-0.22064053 -0.29780734 -0.13317429 -0.2016133 ]]\n",
      "37 [[ 0.84990504  0.81068802  0.86710775  0.84088987]\n",
      " [ 0.8585851   0.81937601  0.87946697  0.85387661]\n",
      " [ 0.56482777  0.5237004   0.56421222  0.53189055]\n",
      " ...\n",
      " [-0.12267877 -0.19759319 -0.01534273 -0.07949701]\n",
      " [-0.17461533 -0.24989717 -0.08510055 -0.15149846]\n",
      " [-0.22064053 -0.29780734 -0.13317429 -0.2016133 ]]\n",
      "[[0.46504503 0.40611021 0.42075227 0.37174983]\n",
      " [0.43217919 0.37307618 0.4072309  0.3579949 ]\n",
      " [0.48860424 0.42981157 0.4578107  0.40931638]\n",
      " ...\n",
      " [2.03135574 1.9949552  1.52181559 1.50451204]\n",
      " [2.00884535 1.96664218 1.55473287 1.53264026]\n",
      " [2.05305936 2.01610452 1.56212663 1.54412594]]\n",
      "38 [[0.46504503 0.40611021 0.42075227 0.37174983]\n",
      " [0.43217919 0.37307618 0.4072309  0.3579949 ]\n",
      " [0.48860424 0.42981157 0.4578107  0.40931638]\n",
      " ...\n",
      " [2.03135574 1.9949552  1.52181559 1.50451204]\n",
      " [2.00884535 1.96664218 1.55473287 1.53264026]\n",
      " [2.05305936 2.01610452 1.56212663 1.54412594]]\n",
      "[[ 0.04373906 -0.01176193  0.04077495 -0.00112856]\n",
      " [ 0.21896299  0.16198907  0.19263358  0.14920717]\n",
      " [ 0.11828024  0.06218901  0.09816347  0.05569866]\n",
      " ...\n",
      " [-0.57914398 -0.62874451 -0.39828618 -0.43603733]\n",
      " [-0.57655585 -0.62606679 -0.4039172  -0.44147339]\n",
      " [-0.57679786 -0.62624187 -0.39971443 -0.43733912]]\n",
      "39 [[ 0.04373906 -0.01176193  0.04077495 -0.00112856]\n",
      " [ 0.21896299  0.16198907  0.19263358  0.14920717]\n",
      " [ 0.11828024  0.06218901  0.09816347  0.05569866]\n",
      " ...\n",
      " [-0.57914398 -0.62874451 -0.39828618 -0.43603733]\n",
      " [-0.57655585 -0.62606679 -0.4039172  -0.44147339]\n",
      " [-0.57679786 -0.62624187 -0.39971443 -0.43733912]]\n",
      "[[ 0.05224927 -0.0243601   0.02204817 -0.03806516]\n",
      " [ 0.15238722  0.07621306  0.10937443  0.04907011]\n",
      " [ 0.062944   -0.01522412  0.03263104 -0.02808938]\n",
      " ...\n",
      " [ 0.31383787  0.25680798  0.25782068  0.21065295]\n",
      " [ 0.53096749  0.47257055  0.47918138  0.42953452]\n",
      " [ 0.48646265  0.4222814   0.41248027  0.35907303]]\n",
      "40 [[ 0.05224927 -0.0243601   0.02204817 -0.03806516]\n",
      " [ 0.15238722  0.07621306  0.10937443  0.04907011]\n",
      " [ 0.062944   -0.01522412  0.03263104 -0.02808938]\n",
      " ...\n",
      " [ 0.31383787  0.25680798  0.25782068  0.21065295]\n",
      " [ 0.53096749  0.47257055  0.47918138  0.42953452]\n",
      " [ 0.48646265  0.4222814   0.41248027  0.35907303]]\n",
      "[[-0.02806447 -0.15806451 -0.2072994  -0.32262885]\n",
      " [-0.00771895 -0.13821423 -0.20005341 -0.31591959]\n",
      " [-0.00436152 -0.13791209 -0.18856265 -0.3062228 ]\n",
      " ...\n",
      " [-0.41918891 -0.52175395 -0.30242984 -0.41222518]\n",
      " [-0.42151265 -0.52436875 -0.31031015 -0.42026106]\n",
      " [-0.41566348 -0.51852661 -0.30144979 -0.41100788]]\n",
      "41 [[-0.02806447 -0.15806451 -0.2072994  -0.32262885]\n",
      " [-0.00771895 -0.13821423 -0.20005341 -0.31591959]\n",
      " [-0.00436152 -0.13791209 -0.18856265 -0.3062228 ]\n",
      " ...\n",
      " [-0.41918891 -0.52175395 -0.30242984 -0.41222518]\n",
      " [-0.42151265 -0.52436875 -0.31031015 -0.42026106]\n",
      " [-0.41566348 -0.51852661 -0.30144979 -0.41100788]]\n",
      "[[0.80284938 0.7074118  0.7506046  0.62649255]\n",
      " [0.42957405 0.34200925 0.39170243 0.2831764 ]\n",
      " [0.83582683 0.73552289 0.77465424 0.64747769]\n",
      " ...\n",
      " [0.79532898 0.69105938 0.93540548 0.80075586]\n",
      " [0.70207084 0.60593108 0.9268646  0.79342204]\n",
      " [0.77997763 0.67623259 0.9519002  0.81673252]]\n",
      "42 [[0.80284938 0.7074118  0.7506046  0.62649255]\n",
      " [0.42957405 0.34200925 0.39170243 0.2831764 ]\n",
      " [0.83582683 0.73552289 0.77465424 0.64747769]\n",
      " ...\n",
      " [0.79532898 0.69105938 0.93540548 0.80075586]\n",
      " [0.70207084 0.60593108 0.9268646  0.79342204]\n",
      " [0.77997763 0.67623259 0.9519002  0.81673252]]\n",
      "[[ 0.02798725 -0.060886   -0.03966729 -0.12156443]\n",
      " [-0.00758407 -0.09713409 -0.07838874 -0.16075924]\n",
      " [ 0.0602594  -0.02953486 -0.04292819 -0.12637509]\n",
      " ...\n",
      " [ 0.27270204  0.19481778  0.14030475  0.06286663]\n",
      " [ 0.45650121  0.38219809  0.18458024  0.10586384]\n",
      " [ 0.27929345  0.19944293  0.15041506  0.07237514]]\n",
      "43 [[ 0.02798725 -0.060886   -0.03966729 -0.12156443]\n",
      " [-0.00758407 -0.09713409 -0.07838874 -0.16075924]\n",
      " [ 0.0602594  -0.02953486 -0.04292819 -0.12637509]\n",
      " ...\n",
      " [ 0.27270204  0.19481778  0.14030475  0.06286663]\n",
      " [ 0.45650121  0.38219809  0.18458024  0.10586384]\n",
      " [ 0.27929345  0.19944293  0.15041506  0.07237514]]\n",
      "[[-0.61342287 -0.70631713 -0.51776792 -0.60130413]\n",
      " [-0.60874766 -0.70165545 -0.52431857 -0.60799262]\n",
      " [-0.67270847 -0.7663965  -0.60098158 -0.68511076]\n",
      " ...\n",
      " [ 2.23970302  2.14372839  2.16550878  2.08490257]\n",
      " [ 2.05368404  1.97283186  2.09028465  2.01630004]\n",
      " [ 2.27086918  2.1765109   2.2098823   2.13074355]]\n",
      "44 [[-0.61342287 -0.70631713 -0.51776792 -0.60130413]\n",
      " [-0.60874766 -0.70165545 -0.52431857 -0.60799262]\n",
      " [-0.67270847 -0.7663965  -0.60098158 -0.68511076]\n",
      " ...\n",
      " [ 2.23970302  2.14372839  2.16550878  2.08490257]\n",
      " [ 2.05368404  1.97283186  2.09028465  2.01630004]\n",
      " [ 2.27086918  2.1765109   2.2098823   2.13074355]]\n",
      "[[0.18507552 0.07383839 0.16488607 0.04510967]\n",
      " [0.40056333 0.29218969 0.35327634 0.23598453]\n",
      " [0.52467448 0.42096675 0.46879262 0.35539328]\n",
      " ...\n",
      " [3.33964174 3.29381243 3.10740855 3.04111007]\n",
      " [4.67603871 4.66490603 4.2017892  4.15909696]\n",
      " [3.91843974 3.88632812 3.62225474 3.56636703]]\n",
      "45 [[0.18507552 0.07383839 0.16488607 0.04510967]\n",
      " [0.40056333 0.29218969 0.35327634 0.23598453]\n",
      " [0.52467448 0.42096675 0.46879262 0.35539328]\n",
      " ...\n",
      " [3.33964174 3.29381243 3.10740855 3.04111007]\n",
      " [4.67603871 4.66490603 4.2017892  4.15909696]\n",
      " [3.91843974 3.88632812 3.62225474 3.56636703]]\n",
      "[[ 0.63105104  0.56562587  0.3428673   0.2844935 ]\n",
      " [ 0.30265932  0.23752245  0.0930845   0.03473933]\n",
      " [ 0.65198199  0.58681209  0.37546361  0.31805278]\n",
      " ...\n",
      " [-1.40143977 -0.167089   -1.43118157 -0.26021929]\n",
      " [-1.35377906 -0.21480041 -1.37915237 -0.31215309]\n",
      " [-1.34064486 -0.22802017 -1.37864435 -0.31300898]]\n",
      "46 [[ 0.63105104  0.56562587  0.3428673   0.2844935 ]\n",
      " [ 0.30265932  0.23752245  0.0930845   0.03473933]\n",
      " [ 0.65198199  0.58681209  0.37546361  0.31805278]\n",
      " ...\n",
      " [-1.40143977 -0.167089   -1.43118157 -0.26021929]\n",
      " [-1.35377906 -0.21480041 -1.37915237 -0.31215309]\n",
      " [-1.34064486 -0.22802017 -1.37864435 -0.31300898]]\n",
      "[[-0.05032915 -0.25992484  0.10286003 -0.04904309]\n",
      " [-0.10651975 -0.32012523  0.0220214  -0.13349532]\n",
      " [ 0.04187568 -0.16227032  0.23028431  0.08415288]\n",
      " ...\n",
      " [-0.28772242 -0.51614659  0.04679136 -0.10763799]\n",
      " [-0.30221147 -0.53169018  0.0401725  -0.11468445]\n",
      " [-0.37593206 -0.61161003 -0.07977333 -0.24078779]]\n",
      "47 [[-0.05032915 -0.25992484  0.10286003 -0.04904309]\n",
      " [-0.10651975 -0.32012523  0.0220214  -0.13349532]\n",
      " [ 0.04187568 -0.16227032  0.23028431  0.08415288]\n",
      " ...\n",
      " [-0.28772242 -0.51614659  0.04679136 -0.10763799]\n",
      " [-0.30221147 -0.53169018  0.0401725  -0.11468445]\n",
      " [-0.37593206 -0.61161003 -0.07977333 -0.24078779]]\n",
      "[[-0.03586544 -0.1514701  -0.03934192 -0.13388021]\n",
      " [-0.02964886 -0.14455624 -0.04415567 -0.13825114]\n",
      " [-0.05052357 -0.16511849 -0.04703764 -0.14121939]\n",
      " ...\n",
      " [ 2.70652933  2.55363825  2.29122188  2.19307063]\n",
      " [ 2.74018285  2.57840132  2.40208704  2.29945247]\n",
      " [ 2.72382146  2.56791738  2.32565759  2.22663252]]\n",
      "48 [[-0.03586544 -0.1514701  -0.03934192 -0.13388021]\n",
      " [-0.02964886 -0.14455624 -0.04415567 -0.13825114]\n",
      " [-0.05052357 -0.16511849 -0.04703764 -0.14121939]\n",
      " ...\n",
      " [ 2.70652933  2.55363825  2.29122188  2.19307063]\n",
      " [ 2.74018285  2.57840132  2.40208704  2.29945247]\n",
      " [ 2.72382146  2.56791738  2.32565759  2.22663252]]\n",
      "[[ 0.41765177  0.35533946  0.38693547  0.33630855]\n",
      " [ 0.42056358  0.35894251  0.42296514  0.37359853]\n",
      " [ 0.48403963  0.42213613  0.48263038  0.43379559]\n",
      " ...\n",
      " [ 0.42206804  0.36140548  0.49706361  0.44884446]\n",
      " [-0.0540686  -0.14124831  0.06454851 -0.0017232 ]\n",
      " [ 0.13484028  0.05983355  0.23877597  0.18066973]]\n",
      "49 [[ 0.41765177  0.35533946  0.38693547  0.33630855]\n",
      " [ 0.42056358  0.35894251  0.42296514  0.37359853]\n",
      " [ 0.48403963  0.42213613  0.48263038  0.43379559]\n",
      " ...\n",
      " [ 0.42206804  0.36140548  0.49706361  0.44884446]\n",
      " [-0.0540686  -0.14124831  0.06454851 -0.0017232 ]\n",
      " [ 0.13484028  0.05983355  0.23877597  0.18066973]]\n",
      "[[-0.20064009 -0.25066249 -0.12965258 -0.16562777]\n",
      " [-0.15898248 -0.20916479 -0.07706284 -0.11343257]\n",
      " [-0.19518651 -0.24499155 -0.12783999 -0.16365907]\n",
      " ...\n",
      " [-0.03275173 -0.07663478 -0.13836108 -0.17161351]\n",
      " [-0.03629586 -0.07863963 -0.13554232 -0.16860891]\n",
      " [-0.01722669 -0.0627483  -0.13045227 -0.16452925]]\n",
      "50 [[-0.20064009 -0.25066249 -0.12965258 -0.16562777]\n",
      " [-0.15898248 -0.20916479 -0.07706284 -0.11343257]\n",
      " [-0.19518651 -0.24499155 -0.12783999 -0.16365907]\n",
      " ...\n",
      " [-0.03275173 -0.07663478 -0.13836108 -0.17161351]\n",
      " [-0.03629586 -0.07863963 -0.13554232 -0.16860891]\n",
      " [-0.01722669 -0.0627483  -0.13045227 -0.16452925]]\n",
      "[[1.88990425e-01 7.27642618e-02 1.70214965e-01 7.59568691e-02]\n",
      " [1.64578716e-01 4.89056845e-02 1.45670470e-01 5.19001689e-02]\n",
      " [1.78266191e-01 6.22499956e-02 1.63128871e-01 6.90015788e-02]\n",
      " ...\n",
      " [4.32613557e-01 3.10990135e-01 1.18897216e-01 2.56550488e-02]\n",
      " [4.46785086e-01 3.25073214e-01 1.31125718e-01 3.76220280e-02]\n",
      " [3.97668343e-01 2.76342205e-01 9.26079251e-02 1.07396993e-05]]\n",
      "51 [[1.88990425e-01 7.27642618e-02 1.70214965e-01 7.59568691e-02]\n",
      " [1.64578716e-01 4.89056845e-02 1.45670470e-01 5.19001689e-02]\n",
      " [1.78266191e-01 6.22499956e-02 1.63128871e-01 6.90015788e-02]\n",
      " ...\n",
      " [4.32613557e-01 3.10990135e-01 1.18897216e-01 2.56550488e-02]\n",
      " [4.46785086e-01 3.25073214e-01 1.31125718e-01 3.76220280e-02]\n",
      " [3.97668343e-01 2.76342205e-01 9.26079251e-02 1.07396993e-05]]\n",
      "[[-0.22913625 -0.37132911 -0.12024292 -0.25868681]\n",
      " [-0.26392391 -0.41157495 -0.12266391 -0.26393333]\n",
      " [-0.16784135 -0.31050596 -0.03258227 -0.16955987]\n",
      " ...\n",
      " [-0.60418584 -0.76273132 -0.24120231 -0.38690857]\n",
      " [-0.51505367 -0.67280229 -0.08375981 -0.22444911]\n",
      " [-0.56668077 -0.72517245 -0.17728283 -0.32127166]]\n",
      "52 [[-0.22913625 -0.37132911 -0.12024292 -0.25868681]\n",
      " [-0.26392391 -0.41157495 -0.12266391 -0.26393333]\n",
      " [-0.16784135 -0.31050596 -0.03258227 -0.16955987]\n",
      " ...\n",
      " [-0.60418584 -0.76273132 -0.24120231 -0.38690857]\n",
      " [-0.51505367 -0.67280229 -0.08375981 -0.22444911]\n",
      " [-0.56668077 -0.72517245 -0.17728283 -0.32127166]]\n",
      "[[1.27338781 1.0021133  1.55798655 1.26624437]\n",
      " [1.76132794 1.4447503  2.15473877 1.80698892]\n",
      " [1.84650667 1.52095608 2.24077322 1.88716479]\n",
      " ...\n",
      " [2.81081624 2.40085758 4.54034543 3.96957856]\n",
      " [2.65823623 2.26095752 4.30972591 3.75941588]\n",
      " [1.85338778 1.52721942 3.0932233  2.65716949]]\n",
      "53 [[1.27338781 1.0021133  1.55798655 1.26624437]\n",
      " [1.76132794 1.4447503  2.15473877 1.80698892]\n",
      " [1.84650667 1.52095608 2.24077322 1.88716479]\n",
      " ...\n",
      " [2.81081624 2.40085758 4.54034543 3.96957856]\n",
      " [2.65823623 2.26095752 4.30972591 3.75941588]\n",
      " [1.85338778 1.52721942 3.0932233  2.65716949]]\n",
      "[[0.31412561 0.27675878 0.16129773 0.13382936]\n",
      " [0.75933207 0.71102513 0.5087828  0.47176455]\n",
      " [0.53101542 0.48775574 0.34632533 0.31308475]\n",
      " ...\n",
      " [0.68309899 0.63731913 0.52112799 0.48559147]\n",
      " [0.76546225 0.71973132 0.61843949 0.58264873]\n",
      " [0.67982645 0.63459743 0.51843209 0.48403616]]\n",
      "54 [[0.31412561 0.27675878 0.16129773 0.13382936]\n",
      " [0.75933207 0.71102513 0.5087828  0.47176455]\n",
      " [0.53101542 0.48775574 0.34632533 0.31308475]\n",
      " ...\n",
      " [0.68309899 0.63731913 0.52112799 0.48559147]\n",
      " [0.76546225 0.71973132 0.61843949 0.58264873]\n",
      " [0.67982645 0.63459743 0.51843209 0.48403616]]\n",
      "[[-0.17529937 -0.23888971 -0.10086097 -0.14607898]\n",
      " [-0.13958632 -0.20295263 -0.05169422 -0.09776805]\n",
      " [-0.1267966  -0.18998433 -0.04101121 -0.08730158]\n",
      " ...\n",
      " [ 6.71028668  6.74277122  8.97184367  8.75907853]\n",
      " [ 5.99089058  6.01374235  8.04309034  7.84801554]\n",
      " [ 6.28381756  6.31022944  8.42126454  8.21853314]]\n",
      "55 [[-0.17529937 -0.23888971 -0.10086097 -0.14607898]\n",
      " [-0.13958632 -0.20295263 -0.05169422 -0.09776805]\n",
      " [-0.1267966  -0.18998433 -0.04101121 -0.08730158]\n",
      " ...\n",
      " [ 6.71028668  6.74277122  8.97184367  8.75907853]\n",
      " [ 5.99089058  6.01374235  8.04309034  7.84801554]\n",
      " [ 6.28381756  6.31022944  8.42126454  8.21853314]]\n",
      "[[-0.46789033 -0.53499308 -0.44296543 -0.49471501]\n",
      " [-0.34271993 -0.41105106 -0.31802238 -0.37258219]\n",
      " [-0.27208545 -0.33947312 -0.24767906 -0.3028859 ]\n",
      " ...\n",
      " [ 9.12384087  8.96034836 11.85147018 11.52160917]\n",
      " [ 8.17579426  8.0217707  10.64855589 10.34588014]\n",
      " [ 8.74421978  8.58451899 11.36979429 11.05081749]]\n",
      "56 [[-0.46789033 -0.53499308 -0.44296543 -0.49471501]\n",
      " [-0.34271993 -0.41105106 -0.31802238 -0.37258219]\n",
      " [-0.27208545 -0.33947312 -0.24767906 -0.3028859 ]\n",
      " ...\n",
      " [ 9.12384087  8.96034836 11.85147018 11.52160917]\n",
      " [ 8.17579426  8.0217707  10.64855589 10.34588014]\n",
      " [ 8.74421978  8.58451899 11.36979429 11.05081749]]\n",
      "[[-0.11793995 -0.25099215 -0.22161697 -0.3529773 ]\n",
      " [-0.19626215 -0.33391382 -0.29466567 -0.4264642 ]\n",
      " [-0.27310127 -0.41176915 -0.30955178 -0.44149497]\n",
      " ...\n",
      " [ 5.03764226  4.92408928  7.0815834   6.93110627]\n",
      " [ 4.75154183  4.63575274  6.69860002  6.54909215]\n",
      " [ 4.96038058  4.84622809  6.97815909  6.82794914]]\n",
      "57 [[-0.11793995 -0.25099215 -0.22161697 -0.3529773 ]\n",
      " [-0.19626215 -0.33391382 -0.29466567 -0.4264642 ]\n",
      " [-0.27310127 -0.41176915 -0.30955178 -0.44149497]\n",
      " ...\n",
      " [ 5.03764226  4.92408928  7.0815834   6.93110627]\n",
      " [ 4.75154183  4.63575274  6.69860002  6.54909215]\n",
      " [ 4.96038058  4.84622809  6.97815909  6.82794914]]\n",
      "[[-0.0619593  -0.11630005  0.17866057  0.14300475]\n",
      " [-0.10638069 -0.16120722  0.13713547  0.1004491 ]\n",
      " [-0.10675475 -0.16096121  0.13860249  0.10315844]\n",
      " ...\n",
      " [14.50850085 14.66527156 16.52363866 16.70550596]\n",
      " [12.89721417 13.02789793 14.70475626 14.85715605]\n",
      " [13.6922822  13.83538218 15.60226026 15.76868655]]\n",
      "58 [[-0.0619593  -0.11630005  0.17866057  0.14300475]\n",
      " [-0.10638069 -0.16120722  0.13713547  0.1004491 ]\n",
      " [-0.10675475 -0.16096121  0.13860249  0.10315844]\n",
      " ...\n",
      " [14.50850085 14.66527156 16.52363866 16.70550596]\n",
      " [12.89721417 13.02789793 14.70475626 14.85715605]\n",
      " [13.6922822  13.83538218 15.60226026 15.76868655]]\n",
      "[[-0.02993525 -0.09136658 -0.04108346 -0.08625918]\n",
      " [ 0.0203595  -0.04147975  0.00455018 -0.04101794]\n",
      " [ 0.01457776 -0.04775415 -0.00021872 -0.04603452]\n",
      " ...\n",
      " [-0.13593734 -0.16589017 -0.13710559 -0.16133726]\n",
      " [-0.09803055 -0.12905326 -0.11077433 -0.13531727]\n",
      " [-0.11314563 -0.14205178 -0.1208455  -0.14422219]]\n",
      "59 [[-0.02993525 -0.09136658 -0.04108346 -0.08625918]\n",
      " [ 0.0203595  -0.04147975  0.00455018 -0.04101794]\n",
      " [ 0.01457776 -0.04775415 -0.00021872 -0.04603452]\n",
      " ...\n",
      " [-0.13593734 -0.16589017 -0.13710559 -0.16133726]\n",
      " [-0.09803055 -0.12905326 -0.11077433 -0.13531727]\n",
      " [-0.11314563 -0.14205178 -0.1208455  -0.14422219]]\n",
      "[[ 1.20590493  1.53873088  0.95456165  1.19203634]\n",
      " [ 2.05096891  2.36908374  1.56822874  1.77427323]\n",
      " [ 2.06807416  2.3020389   1.62066275  1.78609254]\n",
      " ...\n",
      " [-0.13810166 -0.23041815 -0.22652973 -0.32117037]\n",
      " [-0.17197934 -0.2847619  -0.13586715 -0.23131355]\n",
      " [-0.17312535 -0.27698577 -0.20008064 -0.29503701]]\n",
      "60 [[ 1.20590493  1.53873088  0.95456165  1.19203634]\n",
      " [ 2.05096891  2.36908374  1.56822874  1.77427323]\n",
      " [ 2.06807416  2.3020389   1.62066275  1.78609254]\n",
      " ...\n",
      " [-0.13810166 -0.23041815 -0.22652973 -0.32117037]\n",
      " [-0.17197934 -0.2847619  -0.13586715 -0.23131355]\n",
      " [-0.17312535 -0.27698577 -0.20008064 -0.29503701]]\n",
      "[[ 0.30225323  0.20109429  0.2548694   0.15524423]\n",
      " [ 0.4007098   0.29795396  0.35021715  0.2489486 ]\n",
      " [ 0.37471813  0.26489111  0.32253176  0.21723968]\n",
      " ...\n",
      " [-0.43496212 -0.54196203 -0.36447506 -0.46225817]\n",
      " [-0.42609096 -0.53255092 -0.35647666 -0.45392374]\n",
      " [-0.440779   -0.5474704  -0.37494718 -0.47240904]]\n",
      "61 [[ 0.30225323  0.20109429  0.2548694   0.15524423]\n",
      " [ 0.4007098   0.29795396  0.35021715  0.2489486 ]\n",
      " [ 0.37471813  0.26489111  0.32253176  0.21723968]\n",
      " ...\n",
      " [-0.43496212 -0.54196203 -0.36447506 -0.46225817]\n",
      " [-0.42609096 -0.53255092 -0.35647666 -0.45392374]\n",
      " [-0.440779   -0.5474704  -0.37494718 -0.47240904]]\n",
      "[[-0.50750851 -0.6390026  -0.52510477 -0.63624787]\n",
      " [-0.44219088 -0.57337333 -0.47784992 -0.58841707]\n",
      " [-0.48322402 -0.61620113 -0.5130416  -0.62464888]\n",
      " ...\n",
      " [ 0.40044609  0.28904719  0.51131654  0.42439071]\n",
      " [ 0.39844686  0.28687529  0.44741856  0.35882364]\n",
      " [ 0.4996029   0.39100393  0.57436497  0.48890593]]\n",
      "62 [[-0.50750851 -0.6390026  -0.52510477 -0.63624787]\n",
      " [-0.44219088 -0.57337333 -0.47784992 -0.58841707]\n",
      " [-0.48322402 -0.61620113 -0.5130416  -0.62464888]\n",
      " ...\n",
      " [ 0.40044609  0.28904719  0.51131654  0.42439071]\n",
      " [ 0.39844686  0.28687529  0.44741856  0.35882364]\n",
      " [ 0.4996029   0.39100393  0.57436497  0.48890593]]\n",
      "[[0.83828279 0.70576654 0.92643481 0.83766778]\n",
      " [1.27045978 1.17288566 1.38937749 1.33522253]\n",
      " [0.59281016 0.43839988 0.66364064 0.55424781]\n",
      " ...\n",
      " [1.51900087 1.48446699 1.25702666 1.24342306]\n",
      " [1.52784896 1.49668527 1.25160726 1.24115653]\n",
      " [1.5244734  1.49323114 1.25306823 1.2439041 ]]\n",
      "63 [[0.83828279 0.70576654 0.92643481 0.83766778]\n",
      " [1.27045978 1.17288566 1.38937749 1.33522253]\n",
      " [0.59281016 0.43839988 0.66364064 0.55424781]\n",
      " ...\n",
      " [1.51900087 1.48446699 1.25702666 1.24342306]\n",
      " [1.52784896 1.49668527 1.25160726 1.24115653]\n",
      " [1.5244734  1.49323114 1.25306823 1.2439041 ]]\n",
      "[[-0.32560512 -0.49619388 -0.1997663  -0.33696475]\n",
      " [-0.36642874 -0.53838004 -0.24858334 -0.38708935]\n",
      " [-0.38534982 -0.55811212 -0.27307908 -0.41245897]\n",
      " ...\n",
      " [ 0.95860295  0.84120895  1.33150742  1.24306592]\n",
      " [ 1.11756194  1.00355525  1.53327299  1.45050722]\n",
      " [ 1.25625399  1.14797831  1.66551846  1.58558169]]\n",
      "64 [[-0.32560512 -0.49619388 -0.1997663  -0.33696475]\n",
      " [-0.36642874 -0.53838004 -0.24858334 -0.38708935]\n",
      " [-0.38534982 -0.55811212 -0.27307908 -0.41245897]\n",
      " ...\n",
      " [ 0.95860295  0.84120895  1.33150742  1.24306592]\n",
      " [ 1.11756194  1.00355525  1.53327299  1.45050722]\n",
      " [ 1.25625399  1.14797831  1.66551846  1.58558169]]\n",
      "[[0.66252304 0.56715329 0.78494439 0.7127753 ]\n",
      " [0.73431445 0.6403314  0.88279622 0.81349877]\n",
      " [0.74136218 0.64737117 0.88109772 0.81117481]\n",
      " ...\n",
      " [1.58025522 1.50173206 1.22991147 1.16919182]\n",
      " [1.71532587 1.64032029 1.39587574 1.33984809]\n",
      " [1.62848955 1.55194977 1.28732109 1.22870237]]\n",
      "65 [[0.66252304 0.56715329 0.78494439 0.7127753 ]\n",
      " [0.73431445 0.6403314  0.88279622 0.81349877]\n",
      " [0.74136218 0.64737117 0.88109772 0.81117481]\n",
      " ...\n",
      " [1.58025522 1.50173206 1.22991147 1.16919182]\n",
      " [1.71532587 1.64032029 1.39587574 1.33984809]\n",
      " [1.62848955 1.55194977 1.28732109 1.22870237]]\n",
      "[[-0.85173052 -0.79899081 -0.84534323 -0.81299737]\n",
      " [-0.84608136 -0.80462027 -0.83890814 -0.819305  ]\n",
      " [-0.85496047 -0.79581488 -0.84953257 -0.80887567]\n",
      " ...\n",
      " [-0.43234092 -0.60561986 -0.39986849 -0.54062439]\n",
      " [-0.40391804 -0.58005535 -0.37848391 -0.52158057]\n",
      " [-0.44171899 -0.6163328  -0.40795035 -0.55019872]]\n",
      "66 [[-0.85173052 -0.79899081 -0.84534323 -0.81299737]\n",
      " [-0.84608136 -0.80462027 -0.83890814 -0.819305  ]\n",
      " [-0.85496047 -0.79581488 -0.84953257 -0.80887567]\n",
      " ...\n",
      " [-0.43234092 -0.60561986 -0.39986849 -0.54062439]\n",
      " [-0.40391804 -0.58005535 -0.37848391 -0.52158057]\n",
      " [-0.44171899 -0.6163328  -0.40795035 -0.55019872]]\n",
      "[[-0.97333897 -1.10194013 -0.84853437 -0.95784234]\n",
      " [-0.9918283  -1.11764509 -0.87330247 -0.98078289]\n",
      " [-0.99291677 -1.11965807 -0.87877974 -0.98716371]\n",
      " ...\n",
      " [-0.25587711 -0.40449859 -0.36095933 -0.48797724]\n",
      " [-0.22963206 -0.37854645 -0.34934079 -0.47737179]\n",
      " [-0.24604715 -0.39474854 -0.35598176 -0.48337979]]\n",
      "67 [[-0.97333897 -1.10194013 -0.84853437 -0.95784234]\n",
      " [-0.9918283  -1.11764509 -0.87330247 -0.98078289]\n",
      " [-0.99291677 -1.11965807 -0.87877974 -0.98716371]\n",
      " ...\n",
      " [-0.25587711 -0.40449859 -0.36095933 -0.48797724]\n",
      " [-0.22963206 -0.37854645 -0.34934079 -0.47737179]\n",
      " [-0.24604715 -0.39474854 -0.35598176 -0.48337979]]\n",
      "[[-0.14441847 -0.30472569  0.04010925 -0.0941266 ]\n",
      " [-0.32806643 -0.48094566 -0.1736145  -0.29727439]\n",
      " [-0.30347915 -0.45979644 -0.14789634 -0.27463795]\n",
      " ...\n",
      " [ 0.40634734  0.22454626  0.47523841  0.31441432]\n",
      " [ 0.49588916  0.31151137  0.55684975  0.39319989]\n",
      " [ 0.48572939  0.30146593  0.55485985  0.39119672]]\n",
      "68 [[-0.14441847 -0.30472569  0.04010925 -0.0941266 ]\n",
      " [-0.32806643 -0.48094566 -0.1736145  -0.29727439]\n",
      " [-0.30347915 -0.45979644 -0.14789634 -0.27463795]\n",
      " ...\n",
      " [ 0.40634734  0.22454626  0.47523841  0.31441432]\n",
      " [ 0.49588916  0.31151137  0.55684975  0.39319989]\n",
      " [ 0.48572939  0.30146593  0.55485985  0.39119672]]\n",
      "[[0.23666905 0.14236143 0.23887583 0.14677445]\n",
      " [0.32482867 0.22592347 0.32725661 0.23078341]\n",
      " [0.29841205 0.20100576 0.30649577 0.21119996]\n",
      " ...\n",
      " [1.74622393 1.57886511 2.58152684 2.38032736]\n",
      " [1.62666223 1.4649264  2.41712361 2.22351216]\n",
      " [1.72181028 1.55553814 2.54795678 2.34822202]]\n",
      "69 [[0.23666905 0.14236143 0.23887583 0.14677445]\n",
      " [0.32482867 0.22592347 0.32725661 0.23078341]\n",
      " [0.29841205 0.20100576 0.30649577 0.21119996]\n",
      " ...\n",
      " [1.74622393 1.57886511 2.58152684 2.38032736]\n",
      " [1.62666223 1.4649264  2.41712361 2.22351216]\n",
      " [1.72181028 1.55553814 2.54795678 2.34822202]]\n",
      "[[-0.30693632 -0.39608571 -0.14828821 -0.22338779]\n",
      " [-0.29369765 -0.3823502  -0.14095004 -0.21577989]\n",
      " [-0.26914469 -0.35691924 -0.09824651 -0.1719819 ]\n",
      " ...\n",
      " [ 1.25547562  1.24436641  0.97837354  0.94071994]\n",
      " [ 1.89646695  1.9074139   1.40269689  1.37570917]\n",
      " [ 1.50163965  1.49235586  1.17231855  1.13813286]]\n",
      "70 [[-0.30693632 -0.39608571 -0.14828821 -0.22338779]\n",
      " [-0.29369765 -0.3823502  -0.14095004 -0.21577989]\n",
      " [-0.26914469 -0.35691924 -0.09824651 -0.1719819 ]\n",
      " ...\n",
      " [ 1.25547562  1.24436641  0.97837354  0.94071994]\n",
      " [ 1.89646695  1.9074139   1.40269689  1.37570917]\n",
      " [ 1.50163965  1.49235586  1.17231855  1.13813286]]\n",
      "[[-0.36592131 -0.42663167 -0.31962752 -0.3721639 ]\n",
      " [-0.36273835 -0.4235062  -0.32317897 -0.37575302]\n",
      " [-0.35899214 -0.41976731 -0.32057943 -0.37324771]\n",
      " ...\n",
      " [ 0.56422484  0.49912648  0.36957899  0.29908252]\n",
      " [ 0.59331406  0.52775434  0.37388068  0.3028933 ]\n",
      " [ 0.62266272  0.55678885  0.40455222  0.33256654]]\n",
      "71 [[-0.36592131 -0.42663167 -0.31962752 -0.3721639 ]\n",
      " [-0.36273835 -0.4235062  -0.32317897 -0.37575302]\n",
      " [-0.35899214 -0.41976731 -0.32057943 -0.37324771]\n",
      " ...\n",
      " [ 0.56422484  0.49912648  0.36957899  0.29908252]\n",
      " [ 0.59331406  0.52775434  0.37388068  0.3028933 ]\n",
      " [ 0.62266272  0.55678885  0.40455222  0.33256654]]\n",
      "[[ 1.56253495  1.45210974  1.68439213  1.58541216]\n",
      " [ 1.68481016  1.56104483  1.77850643  1.66789467]\n",
      " [ 1.27598338  1.15663094  1.35358542  1.24536101]\n",
      " ...\n",
      " [-0.02292059 -0.10732536 -0.18525844 -0.26505687]\n",
      " [ 0.08297235 -0.0023708  -0.1385724  -0.21873214]\n",
      " [-0.00264145 -0.08652208 -0.17686468 -0.25646088]]\n",
      "72 [[ 1.56253495  1.45210974  1.68439213  1.58541216]\n",
      " [ 1.68481016  1.56104483  1.77850643  1.66789467]\n",
      " [ 1.27598338  1.15663094  1.35358542  1.24536101]\n",
      " ...\n",
      " [-0.02292059 -0.10732536 -0.18525844 -0.26505687]\n",
      " [ 0.08297235 -0.0023708  -0.1385724  -0.21873214]\n",
      " [-0.00264145 -0.08652208 -0.17686468 -0.25646088]]\n",
      "[[0.23210837 0.16661062 0.33557444 0.27447952]\n",
      " [0.21993195 0.15311254 0.30109548 0.24017965]\n",
      " [0.0743037  0.0077835  0.15865137 0.0973103 ]\n",
      " ...\n",
      " [0.43181244 0.38565497 0.37752562 0.32518693]\n",
      " [0.21277062 0.15755106 0.16425233 0.10682128]\n",
      " [0.22854348 0.17681593 0.17142798 0.11610828]]\n",
      "73 [[0.23210837 0.16661062 0.33557444 0.27447952]\n",
      " [0.21993195 0.15311254 0.30109548 0.24017965]\n",
      " [0.0743037  0.0077835  0.15865137 0.0973103 ]\n",
      " ...\n",
      " [0.43181244 0.38565497 0.37752562 0.32518693]\n",
      " [0.21277062 0.15755106 0.16425233 0.10682128]\n",
      " [0.22854348 0.17681593 0.17142798 0.11610828]]\n",
      "[[-0.26178776 -0.42281344  0.01447178 -0.09650174]\n",
      " [-0.20390332 -0.36402311  0.10664762 -0.0043184 ]\n",
      " [-0.22357249 -0.38200303  0.05494686 -0.05459093]\n",
      " ...\n",
      " [ 2.10457539  1.96709189  2.08237452  1.96098278]\n",
      " [ 2.04239409  1.90051242  2.02702485  1.90115438]\n",
      " [ 2.14451859  2.00402048  2.11759048  1.99124957]]\n",
      "74 [[-0.26178776 -0.42281344  0.01447178 -0.09650174]\n",
      " [-0.20390332 -0.36402311  0.10664762 -0.0043184 ]\n",
      " [-0.22357249 -0.38200303  0.05494686 -0.05459093]\n",
      " ...\n",
      " [ 2.10457539  1.96709189  2.08237452  1.96098278]\n",
      " [ 2.04239409  1.90051242  2.02702485  1.90115438]\n",
      " [ 2.14451859  2.00402048  2.11759048  1.99124957]]\n",
      "[[ 0.30063499  0.15096446  0.39112142  0.28035467]\n",
      " [ 0.34708215  0.19757299  0.42951344  0.31819845]\n",
      " [ 0.37095319  0.22309591  0.45928604  0.34915581]\n",
      " ...\n",
      " [ 0.06338638 -0.0696621   0.11499862  0.03436816]\n",
      " [ 0.06167178 -0.0799907   0.11085256  0.01909009]\n",
      " [ 0.06805143 -0.07235509  0.11449282  0.02493298]]\n",
      "75 [[ 0.30063499  0.15096446  0.39112142  0.28035467]\n",
      " [ 0.34708215  0.19757299  0.42951344  0.31819845]\n",
      " [ 0.37095319  0.22309591  0.45928604  0.34915581]\n",
      " ...\n",
      " [ 0.06338638 -0.0696621   0.11499862  0.03436816]\n",
      " [ 0.06167178 -0.0799907   0.11085256  0.01909009]\n",
      " [ 0.06805143 -0.07235509  0.11449282  0.02493298]]\n",
      "[[-0.59915544 -0.70733348 -0.63196116 -0.72246272]\n",
      " [-0.67772107 -0.7855727  -0.72644914 -0.81635154]\n",
      " [-0.62658641 -0.73423534 -0.65700908 -0.74721112]\n",
      " ...\n",
      " [ 8.85548871  8.76840188  8.65291337  8.54454647]\n",
      " [ 8.77535552  8.67808841  8.48380403  8.39095309]\n",
      " [ 8.68255463  8.59071106  8.42446121  8.3306608 ]]\n",
      "76 [[-0.59915544 -0.70733348 -0.63196116 -0.72246272]\n",
      " [-0.67772107 -0.7855727  -0.72644914 -0.81635154]\n",
      " [-0.62658641 -0.73423534 -0.65700908 -0.74721112]\n",
      " ...\n",
      " [ 8.85548871  8.76840188  8.65291337  8.54454647]\n",
      " [ 8.77535552  8.67808841  8.48380403  8.39095309]\n",
      " [ 8.68255463  8.59071106  8.42446121  8.3306608 ]]\n",
      "[[ 0.6620732   0.57007252  0.58927164  0.49881892]\n",
      " [ 0.52687517  0.42874209  0.45704317  0.3655554 ]\n",
      " [ 0.52532118  0.4375999   0.45712688  0.37314832]\n",
      " ...\n",
      " [-1.64400439 -0.33521619 -1.5941405  -0.35029009]\n",
      " [-1.60043538 -0.37881243 -1.53997099 -0.40201332]\n",
      " [-1.60974849 -0.3694709  -1.5577006  -0.38573032]]\n",
      "77 [[ 0.6620732   0.57007252  0.58927164  0.49881892]\n",
      " [ 0.52687517  0.42874209  0.45704317  0.3655554 ]\n",
      " [ 0.52532118  0.4375999   0.45712688  0.37314832]\n",
      " ...\n",
      " [-1.64400439 -0.33521619 -1.5941405  -0.35029009]\n",
      " [-1.60043538 -0.37881243 -1.53997099 -0.40201332]\n",
      " [-1.60974849 -0.3694709  -1.5577006  -0.38573032]]\n",
      "[[-0.0246061  -0.16876435  0.0867208  -0.02968126]\n",
      " [-0.04864244 -0.19371376  0.05889494 -0.05840855]\n",
      " [-0.07943515 -0.22471874  0.02204864 -0.09591076]\n",
      " ...\n",
      " [-0.15763064 -0.28223698 -0.0992428  -0.21903754]\n",
      " [-0.21027226 -0.34484074 -0.0996764  -0.22108352]\n",
      " [-0.18187518 -0.30978642 -0.09385109 -0.21404004]]\n",
      "78 [[-0.0246061  -0.16876435  0.0867208  -0.02968126]\n",
      " [-0.04864244 -0.19371376  0.05889494 -0.05840855]\n",
      " [-0.07943515 -0.22471874  0.02204864 -0.09591076]\n",
      " ...\n",
      " [-0.15763064 -0.28223698 -0.0992428  -0.21903754]\n",
      " [-0.21027226 -0.34484074 -0.0996764  -0.22108352]\n",
      " [-0.18187518 -0.30978642 -0.09385109 -0.21404004]]\n",
      "[[ 0.50185499  0.41307231  0.28764208  0.22189161]\n",
      " [ 0.52620162  0.43590722  0.33773382  0.27092069]\n",
      " [ 0.78470002  0.69670132  0.54446832  0.47849441]\n",
      " ...\n",
      " [-0.52761905 -0.61981099 -0.51778996 -0.58466766]\n",
      " [-0.54061066 -0.63245356 -0.53564931 -0.6024362 ]\n",
      " [-0.53779676 -0.62972944 -0.53163359 -0.59841641]]\n",
      "79 [[ 0.50185499  0.41307231  0.28764208  0.22189161]\n",
      " [ 0.52620162  0.43590722  0.33773382  0.27092069]\n",
      " [ 0.78470002  0.69670132  0.54446832  0.47849441]\n",
      " ...\n",
      " [-0.52761905 -0.61981099 -0.51778996 -0.58466766]\n",
      " [-0.54061066 -0.63245356 -0.53564931 -0.6024362 ]\n",
      " [-0.53779676 -0.62972944 -0.53163359 -0.59841641]]\n",
      "[[-0.60457536 -0.86410495 -0.51106501 -0.69276357]\n",
      " [-0.60766767 -0.86698002 -0.51260018 -0.69423372]\n",
      " [-0.59547637 -0.85474929 -0.49794355 -0.67951468]\n",
      " ...\n",
      " [ 0.73649207  0.50374648  0.66971817  0.49769754]\n",
      " [ 0.84191248  0.6117509   0.74832342  0.57717933]\n",
      " [ 0.79859054  0.56684924  0.71385939  0.5419146 ]]\n",
      "80 [[-0.60457536 -0.86410495 -0.51106501 -0.69276357]\n",
      " [-0.60766767 -0.86698002 -0.51260018 -0.69423372]\n",
      " [-0.59547637 -0.85474929 -0.49794355 -0.67951468]\n",
      " ...\n",
      " [ 0.73649207  0.50374648  0.66971817  0.49769754]\n",
      " [ 0.84191248  0.6117509   0.74832342  0.57717933]\n",
      " [ 0.79859054  0.56684924  0.71385939  0.5419146 ]]\n",
      "[[-0.00718399 -0.09543467 -0.00741555 -0.08424295]\n",
      " [ 0.02937729 -0.06032919  0.02865932 -0.04940461]\n",
      " [-0.07240903 -0.1579253  -0.07106753 -0.14569588]\n",
      " ...\n",
      " [-0.34220743 -0.41666551 -0.31441116 -0.38031171]\n",
      " [-0.34164463 -0.4157828  -0.31458626 -0.38043854]\n",
      " [-0.34369148 -0.41723632 -0.31610581 -0.38187991]]\n",
      "81 [[-0.00718399 -0.09543467 -0.00741555 -0.08424295]\n",
      " [ 0.02937729 -0.06032919  0.02865932 -0.04940461]\n",
      " [-0.07240903 -0.1579253  -0.07106753 -0.14569588]\n",
      " ...\n",
      " [-0.34220743 -0.41666551 -0.31441116 -0.38031171]\n",
      " [-0.34164463 -0.4157828  -0.31458626 -0.38043854]\n",
      " [-0.34369148 -0.41723632 -0.31610581 -0.38187991]]\n",
      "[[-0.40091834 -0.49560569 -0.28750187 -0.37935273]\n",
      " [-0.41611281 -0.511196   -0.30779979 -0.40017463]\n",
      " [-0.45847126 -0.55486773 -0.35104369 -0.44450507]\n",
      " ...\n",
      " [ 2.73387298  2.71862804  2.6176749   2.60243444]\n",
      " [ 2.54622382  2.52570839  2.46793171  2.44842373]\n",
      " [ 2.67886081  2.66195441  2.56594624  2.54913772]]\n",
      "82 [[-0.40091834 -0.49560569 -0.28750187 -0.37935273]\n",
      " [-0.41611281 -0.511196   -0.30779979 -0.40017463]\n",
      " [-0.45847126 -0.55486773 -0.35104369 -0.44450507]\n",
      " ...\n",
      " [ 2.73387298  2.71862804  2.6176749   2.60243444]\n",
      " [ 2.54622382  2.52570839  2.46793171  2.44842373]\n",
      " [ 2.67886081  2.66195441  2.56594624  2.54913772]]\n",
      "[[0.99453005 0.64521433 0.8680499  0.51182346]\n",
      " [0.78232783 0.49766984 0.65824792 0.37799135]\n",
      " [1.02437304 0.66544931 0.89323763 0.52730374]\n",
      " ...\n",
      " [1.28772121 0.85674903 1.1514677  0.69928437]\n",
      " [1.34892312 0.89145433 1.20867537 0.73009876]\n",
      " [1.05472309 0.68946349 0.98969827 0.59238941]]\n",
      "83 [[0.99453005 0.64521433 0.8680499  0.51182346]\n",
      " [0.78232783 0.49766984 0.65824792 0.37799135]\n",
      " [1.02437304 0.66544931 0.89323763 0.52730374]\n",
      " ...\n",
      " [1.28772121 0.85674903 1.1514677  0.69928437]\n",
      " [1.34892312 0.89145433 1.20867537 0.73009876]\n",
      " [1.05472309 0.68946349 0.98969827 0.59238941]]\n",
      "[[-0.22753308 -0.31110591 -0.17994023 -0.24428841]\n",
      " [-0.23227043 -0.31559387 -0.18834468 -0.25234002]\n",
      " [-0.22686999 -0.30998324 -0.17933766 -0.24326634]\n",
      " ...\n",
      " [ 1.92813357  1.82951912  1.89369036  1.81102048]\n",
      " [ 1.56535273  1.46917008  1.53895081  1.45930396]\n",
      " [ 1.6281795   1.53144652  1.60038492  1.52008861]]\n",
      "84 [[-0.22753308 -0.31110591 -0.17994023 -0.24428841]\n",
      " [-0.23227043 -0.31559387 -0.18834468 -0.25234002]\n",
      " [-0.22686999 -0.30998324 -0.17933766 -0.24326634]\n",
      " ...\n",
      " [ 1.92813357  1.82951912  1.89369036  1.81102048]\n",
      " [ 1.56535273  1.46917008  1.53895081  1.45930396]\n",
      " [ 1.6281795   1.53144652  1.60038492  1.52008861]]\n",
      "[[-0.55219467 -0.73865147 -0.06079537 -0.19935426]\n",
      " [-0.31560022 -0.48420717  0.19521286  0.07528571]\n",
      " [-0.6424647  -0.83645969 -0.17912474 -0.3316131 ]\n",
      " ...\n",
      " [ 2.3606795   2.40199703  2.53160293  2.58175907]\n",
      " [ 2.0937098   2.11146769  2.30680449  2.33770118]\n",
      " [ 2.16275888  2.18634835  2.35365218  2.38818132]]\n",
      "85 [[-0.55219467 -0.73865147 -0.06079537 -0.19935426]\n",
      " [-0.31560022 -0.48420717  0.19521286  0.07528571]\n",
      " [-0.6424647  -0.83645969 -0.17912474 -0.3316131 ]\n",
      " ...\n",
      " [ 2.3606795   2.40199703  2.53160293  2.58175907]\n",
      " [ 2.0937098   2.11146769  2.30680449  2.33770118]\n",
      " [ 2.16275888  2.18634835  2.35365218  2.38818132]]\n",
      "[[1.30753472 1.29780279 1.20694091 1.19054975]\n",
      " [1.64895376 1.64647685 1.4485351  1.43727602]\n",
      " [1.50760697 1.50762153 1.39717688 1.39010853]\n",
      " ...\n",
      " [1.15810006 1.10092393 1.3468678  1.29913234]\n",
      " [0.52695324 0.45052533 0.70039257 0.63160385]\n",
      " [0.59859971 0.52656664 0.76348915 0.69835021]]\n",
      "86 [[1.30753472 1.29780279 1.20694091 1.19054975]\n",
      " [1.64895376 1.64647685 1.4485351  1.43727602]\n",
      " [1.50760697 1.50762153 1.39717688 1.39010853]\n",
      " ...\n",
      " [1.15810006 1.10092393 1.3468678  1.29913234]\n",
      " [0.52695324 0.45052533 0.70039257 0.63160385]\n",
      " [0.59859971 0.52656664 0.76348915 0.69835021]]\n",
      "[[-0.57343047 -0.67616873 -0.46646824 -0.54469772]\n",
      " [-0.54978481 -0.65241284 -0.43251209 -0.51126861]\n",
      " [-0.54297946 -0.64576825 -0.42162371 -0.50042802]\n",
      " ...\n",
      " [ 0.54302357  0.44803782  0.33822749  0.25333276]\n",
      " [ 0.57432269  0.47656187  0.37048455  0.28423593]\n",
      " [ 0.54158951  0.44427964  0.33934305  0.25333348]]\n",
      "87 [[-0.57343047 -0.67616873 -0.46646824 -0.54469772]\n",
      " [-0.54978481 -0.65241284 -0.43251209 -0.51126861]\n",
      " [-0.54297946 -0.64576825 -0.42162371 -0.50042802]\n",
      " ...\n",
      " [ 0.54302357  0.44803782  0.33822749  0.25333276]\n",
      " [ 0.57432269  0.47656187  0.37048455  0.28423593]\n",
      " [ 0.54158951  0.44427964  0.33934305  0.25333348]]\n",
      "[[ 2.92698737  2.99772186  2.72809252  2.76529264]\n",
      " [ 2.38233533  2.4130146   2.28663447  2.29584194]\n",
      " [ 3.20308511  3.30231012  3.03250946  3.09225296]\n",
      " ...\n",
      " [ 0.10769532 -0.00801042  0.35073359  0.27143752]\n",
      " [ 0.01220652 -0.11206042  0.26235693  0.17686883]\n",
      " [ 0.08272779 -0.03334073  0.33425585  0.25558962]]\n",
      "88 [[ 2.92698737  2.99772186  2.72809252  2.76529264]\n",
      " [ 2.38233533  2.4130146   2.28663447  2.29584194]\n",
      " [ 3.20308511  3.30231012  3.03250946  3.09225296]\n",
      " ...\n",
      " [ 0.10769532 -0.00801042  0.35073359  0.27143752]\n",
      " [ 0.01220652 -0.11206042  0.26235693  0.17686883]\n",
      " [ 0.08272779 -0.03334073  0.33425585  0.25558962]]\n",
      "[[-0.16448036 -0.19786319 -0.03038541 -0.05436685]\n",
      " [-0.29028494 -0.32654666 -0.14193179 -0.16754297]\n",
      " [-0.26551454 -0.30082014 -0.12885687 -0.15341363]\n",
      " ...\n",
      " [-0.89819357 -0.85747023 -0.55304938 -0.58210418]\n",
      " [-0.90179553 -0.85240947 -0.5645624  -0.59357443]\n",
      " [-0.90338773 -0.85182901 -0.59242007 -0.62147193]]\n",
      "89 [[-0.16448036 -0.19786319 -0.03038541 -0.05436685]\n",
      " [-0.29028494 -0.32654666 -0.14193179 -0.16754297]\n",
      " [-0.26551454 -0.30082014 -0.12885687 -0.15341363]\n",
      " ...\n",
      " [-0.89819357 -0.85747023 -0.55304938 -0.58210418]\n",
      " [-0.90179553 -0.85240947 -0.5645624  -0.59357443]\n",
      " [-0.90338773 -0.85182901 -0.59242007 -0.62147193]]\n",
      "[[-0.83625057  0.08712434 -0.93198454  0.36266946]\n",
      " [-0.87023821  0.15886628 -0.97636996  0.46233228]\n",
      " [-0.79741199 -0.02340763 -0.88229552  0.21974104]\n",
      " ...\n",
      " [ 0.16151893 -0.20033438  0.56555688  0.31055687]\n",
      " [ 0.09957048 -0.24679016  0.45824488  0.22219821]\n",
      " [ 0.04371822 -0.34170141  0.37093642  0.07755316]]\n",
      "90 [[-0.83625057  0.08712434 -0.93198454  0.36266946]\n",
      " [-0.87023821  0.15886628 -0.97636996  0.46233228]\n",
      " [-0.79741199 -0.02340763 -0.88229552  0.21974104]\n",
      " ...\n",
      " [ 0.16151893 -0.20033438  0.56555688  0.31055687]\n",
      " [ 0.09957048 -0.24679016  0.45824488  0.22219821]\n",
      " [ 0.04371822 -0.34170141  0.37093642  0.07755316]]\n",
      "[[-0.54741278 -0.54887123 -0.5245001  -0.54108801]\n",
      " [-0.46014865 -0.47202738 -0.42878396 -0.45338929]\n",
      " [-0.51484912 -0.52417359 -0.49635124 -0.51664989]\n",
      " ...\n",
      " [ 0.25118649  0.21780694  0.39247593  0.34656076]\n",
      " [ 0.36649201  0.32816142  0.50950827  0.46079777]\n",
      " [ 0.25219092  0.22002002  0.38932394  0.34715504]]\n",
      "91 [[-0.54741278 -0.54887123 -0.5245001  -0.54108801]\n",
      " [-0.46014865 -0.47202738 -0.42878396 -0.45338929]\n",
      " [-0.51484912 -0.52417359 -0.49635124 -0.51664989]\n",
      " ...\n",
      " [ 0.25118649  0.21780694  0.39247593  0.34656076]\n",
      " [ 0.36649201  0.32816142  0.50950827  0.46079777]\n",
      " [ 0.25219092  0.22002002  0.38932394  0.34715504]]\n",
      "[[0.87957057 0.87292329 0.82586483 0.81117189]\n",
      " [0.79203998 0.77928204 0.72457052 0.70641962]\n",
      " [0.74750092 0.7414632  0.75370633 0.7372523 ]\n",
      " ...\n",
      " [2.03443616 1.93357639 1.65988132 1.59918323]\n",
      " [1.83719714 1.74065846 1.48451068 1.42458529]\n",
      " [2.04817772 1.94656665 1.63890065 1.57812754]]\n",
      "92 [[0.87957057 0.87292329 0.82586483 0.81117189]\n",
      " [0.79203998 0.77928204 0.72457052 0.70641962]\n",
      " [0.74750092 0.7414632  0.75370633 0.7372523 ]\n",
      " ...\n",
      " [2.03443616 1.93357639 1.65988132 1.59918323]\n",
      " [1.83719714 1.74065846 1.48451068 1.42458529]\n",
      " [2.04817772 1.94656665 1.63890065 1.57812754]]\n",
      "[[-0.13670966 -0.18720837  0.092407    0.0454773 ]\n",
      " [-0.22760822 -0.27423615 -0.03797939 -0.08034306]\n",
      " [-0.14769917 -0.19723028  0.08567233  0.03938603]\n",
      " ...\n",
      " [ 0.08978245  0.02966798  0.18152988  0.13153401]\n",
      " [ 0.06628759  0.00676494  0.16217571  0.1125397 ]\n",
      " [ 0.07732978  0.01755541  0.17172225  0.12191416]]\n",
      "93 [[-0.13670966 -0.18720837  0.092407    0.0454773 ]\n",
      " [-0.22760822 -0.27423615 -0.03797939 -0.08034306]\n",
      " [-0.14769917 -0.19723028  0.08567233  0.03938603]\n",
      " ...\n",
      " [ 0.08978245  0.02966798  0.18152988  0.13153401]\n",
      " [ 0.06628759  0.00676494  0.16217571  0.1125397 ]\n",
      " [ 0.07732978  0.01755541  0.17172225  0.12191416]]\n",
      "[[-0.08043752 -0.15685271  0.14638251  0.07274733]\n",
      " [-0.01733002 -0.09500362  0.23353619  0.15852325]\n",
      " [-0.0823534  -0.15869989  0.14048547  0.0670849 ]\n",
      " ...\n",
      " [ 1.56674028  1.48107953  1.40001982  1.33847784]\n",
      " [ 1.19970872  1.14817287  1.01244194  0.96879814]\n",
      " [ 1.30047205  1.23464825  1.10943713  1.05832318]]\n",
      "94 [[-0.08043752 -0.15685271  0.14638251  0.07274733]\n",
      " [-0.01733002 -0.09500362  0.23353619  0.15852325]\n",
      " [-0.0823534  -0.15869989  0.14048547  0.0670849 ]\n",
      " ...\n",
      " [ 1.56674028  1.48107953  1.40001982  1.33847784]\n",
      " [ 1.19970872  1.14817287  1.01244194  0.96879814]\n",
      " [ 1.30047205  1.23464825  1.10943713  1.05832318]]\n",
      "[[-0.38436521 -0.53833015 -0.32086823 -0.43206588]\n",
      " [-0.37157435 -0.52596987 -0.30935783 -0.42102926]\n",
      " [-0.35970577 -0.5142175  -0.29695928 -0.40880868]\n",
      " ...\n",
      " [ 1.4284932   1.24223966  1.24882549  1.10926758]\n",
      " [ 1.52861114  1.34432794  1.34379115  1.20413607]\n",
      " [ 1.32023627  1.13997611  1.13421683  1.0005316 ]]\n",
      "95 [[-0.38436521 -0.53833015 -0.32086823 -0.43206588]\n",
      " [-0.37157435 -0.52596987 -0.30935783 -0.42102926]\n",
      " [-0.35970577 -0.5142175  -0.29695928 -0.40880868]\n",
      " ...\n",
      " [ 1.4284932   1.24223966  1.24882549  1.10926758]\n",
      " [ 1.52861114  1.34432794  1.34379115  1.20413607]\n",
      " [ 1.32023627  1.13997611  1.13421683  1.0005316 ]]\n",
      "[[-0.06552888 -0.31076657 -0.09365447 -0.27623941]\n",
      " [-0.09227477 -0.3368928  -0.10996081 -0.29181109]\n",
      " [ 0.00620527 -0.23871918 -0.01648628 -0.19934779]\n",
      " ...\n",
      " [-0.40604845 -0.65301021 -0.40350911 -0.58448803]\n",
      " [-0.42923191 -0.6758005  -0.42949688 -0.60870964]\n",
      " [-0.41745396 -0.66447145 -0.41599359 -0.59636406]]\n",
      "96 [[-0.06552888 -0.31076657 -0.09365447 -0.27623941]\n",
      " [-0.09227477 -0.3368928  -0.10996081 -0.29181109]\n",
      " [ 0.00620527 -0.23871918 -0.01648628 -0.19934779]\n",
      " ...\n",
      " [-0.40604845 -0.65301021 -0.40350911 -0.58448803]\n",
      " [-0.42923191 -0.6758005  -0.42949688 -0.60870964]\n",
      " [-0.41745396 -0.66447145 -0.41599359 -0.59636406]]\n",
      "[[ 0.57162072  0.57901546  0.72260725  0.72296308]\n",
      " [ 0.4980211   0.48807469  0.64908141  0.63887612]\n",
      " [ 0.632397    0.65423768  0.77628562  0.7895698 ]\n",
      " ...\n",
      " [-0.41513226 -0.49463281 -0.17033436 -0.22585272]\n",
      " [-0.46803606 -0.54834054 -0.25189489 -0.30789242]\n",
      " [-0.4207576  -0.5006803  -0.17921571 -0.23510612]]\n",
      "97 [[ 0.57162072  0.57901546  0.72260725  0.72296308]\n",
      " [ 0.4980211   0.48807469  0.64908141  0.63887612]\n",
      " [ 0.632397    0.65423768  0.77628562  0.7895698 ]\n",
      " ...\n",
      " [-0.41513226 -0.49463281 -0.17033436 -0.22585272]\n",
      " [-0.46803606 -0.54834054 -0.25189489 -0.30789242]\n",
      " [-0.4207576  -0.5006803  -0.17921571 -0.23510612]]\n",
      "[[-0.89956938 -0.92323689 -0.61104229 -0.64157749]\n",
      " [-0.97433086 -0.95401366 -0.68181724 -0.70612125]\n",
      " [-0.98971679 -0.96385732 -0.7727053  -0.79321139]\n",
      " ...\n",
      " [ 2.47718218  2.29205817  2.43982884  2.27784613]\n",
      " [ 2.58563277  2.39482669  2.56836413  2.40047784]\n",
      " [ 2.54306416  2.3547942   2.52705845  2.36106583]]\n",
      "98 [[-0.89956938 -0.92323689 -0.61104229 -0.64157749]\n",
      " [-0.97433086 -0.95401366 -0.68181724 -0.70612125]\n",
      " [-0.98971679 -0.96385732 -0.7727053  -0.79321139]\n",
      " ...\n",
      " [ 2.47718218  2.29205817  2.43982884  2.27784613]\n",
      " [ 2.58563277  2.39482669  2.56836413  2.40047784]\n",
      " [ 2.54306416  2.3547942   2.52705845  2.36106583]]\n",
      "[[6.19603063 5.84042295 6.30917994 5.98987833]\n",
      " [4.57367323 4.28894853 4.56821029 4.31534633]\n",
      " [6.16206857 5.80957284 6.12664211 5.81521711]\n",
      " ...\n",
      " [0.1114144  0.02680511 0.21824119 0.13833578]\n",
      " [0.15982744 0.07367029 0.25845043 0.17748933]\n",
      " [0.13007123 0.04490821 0.23493298 0.15459631]]\n",
      "99 [[6.19603063 5.84042295 6.30917994 5.98987833]\n",
      " [4.57367323 4.28894853 4.56821029 4.31534633]\n",
      " [6.16206857 5.80957284 6.12664211 5.81521711]\n",
      " ...\n",
      " [0.1114144  0.02680511 0.21824119 0.13833578]\n",
      " [0.15982744 0.07367029 0.25845043 0.17748933]\n",
      " [0.13007123 0.04490821 0.23493298 0.15459631]]\n",
      "[[0.37114002 0.31292777 0.37984438 0.32146454]\n",
      " [0.39836741 0.34193962 0.40318693 0.34586506]\n",
      " [0.26567433 0.20829543 0.27190955 0.21338667]\n",
      " ...\n",
      " [0.9253889  0.8716512  0.65004149 0.60416061]\n",
      " [0.91281933 0.85690835 0.64304343 0.59613077]\n",
      " [0.9549158  0.90342567 0.67442267 0.63045645]]\n",
      "100 [[0.37114002 0.31292777 0.37984438 0.32146454]\n",
      " [0.39836741 0.34193962 0.40318693 0.34586506]\n",
      " [0.26567433 0.20829543 0.27190955 0.21338667]\n",
      " ...\n",
      " [0.9253889  0.8716512  0.65004149 0.60416061]\n",
      " [0.91281933 0.85690835 0.64304343 0.59613077]\n",
      " [0.9549158  0.90342567 0.67442267 0.63045645]]\n",
      "[[ 1.75826179  1.78135504  2.22616055  2.29252907]\n",
      " [ 1.97765389  2.01790271  2.36765096  2.44449049]\n",
      " [ 1.27549464  1.26828503  1.63766221  1.66499514]\n",
      " ...\n",
      " [-0.88299182 -1.02038526 -0.65127247 -0.76803397]\n",
      " [-0.81936362 -0.95302987 -0.59362898 -0.70693548]\n",
      " [-0.84472766 -0.97995478 -0.61268664 -0.72736755]]\n",
      "101 [[ 1.75826179  1.78135504  2.22616055  2.29252907]\n",
      " [ 1.97765389  2.01790271  2.36765096  2.44449049]\n",
      " [ 1.27549464  1.26828503  1.63766221  1.66499514]\n",
      " ...\n",
      " [-0.88299182 -1.02038526 -0.65127247 -0.76803397]\n",
      " [-0.81936362 -0.95302987 -0.59362898 -0.70693548]\n",
      " [-0.84472766 -0.97995478 -0.61268664 -0.72736755]]\n",
      "[[-0.43931205 -0.53533389 -0.29088544 -0.38336088]\n",
      " [-0.44248488 -0.53866786 -0.29727727 -0.39007245]\n",
      " [-0.43335349 -0.52903461 -0.28783928 -0.38005672]\n",
      " ...\n",
      " [-0.0043285  -0.0920925   0.42078308  0.3543416 ]\n",
      " [ 0.0475351  -0.03866648  0.49792771  0.43460564]\n",
      " [-0.03934207 -0.12809205  0.36925439  0.30126643]]\n",
      "102 [[-0.43931205 -0.53533389 -0.29088544 -0.38336088]\n",
      " [-0.44248488 -0.53866786 -0.29727727 -0.39007245]\n",
      " [-0.43335349 -0.52903461 -0.28783928 -0.38005672]\n",
      " ...\n",
      " [-0.0043285  -0.0920925   0.42078308  0.3543416 ]\n",
      " [ 0.0475351  -0.03866648  0.49792771  0.43460564]\n",
      " [-0.03934207 -0.12809205  0.36925439  0.30126643]]\n",
      "[[-0.711279   -0.7733245  -0.6008078  -0.64403605]\n",
      " [-0.7252533  -0.78646446 -0.61451636 -0.65819205]\n",
      " [-0.76403837 -0.82452697 -0.65102633 -0.69373127]\n",
      " ...\n",
      " [-0.04999165 -0.10903147  0.0087548  -0.03929838]\n",
      " [-0.05650543 -0.11766953 -0.01148442 -0.06051954]\n",
      " [-0.06014374 -0.11967409 -0.00998152 -0.05791985]]\n",
      "103 [[-0.711279   -0.7733245  -0.6008078  -0.64403605]\n",
      " [-0.7252533  -0.78646446 -0.61451636 -0.65819205]\n",
      " [-0.76403837 -0.82452697 -0.65102633 -0.69373127]\n",
      " ...\n",
      " [-0.04999165 -0.10903147  0.0087548  -0.03929838]\n",
      " [-0.05650543 -0.11766953 -0.01148442 -0.06051954]\n",
      " [-0.06014374 -0.11967409 -0.00998152 -0.05791985]]\n",
      "[[-0.09863087 -0.18055011 -0.02939537 -0.09703827]\n",
      " [-0.12554637 -0.20709496 -0.0658799  -0.13301113]\n",
      " [-0.07923705 -0.16104403 -0.00957691 -0.07716019]\n",
      " ...\n",
      " [-0.33587541 -0.41666506 -0.32708371 -0.39208514]\n",
      " [-0.33568416 -0.41655161 -0.32676035 -0.39181314]\n",
      " [-0.33551677 -0.41631452 -0.3264974  -0.39149901]]\n",
      "104 [[-0.09863087 -0.18055011 -0.02939537 -0.09703827]\n",
      " [-0.12554637 -0.20709496 -0.0658799  -0.13301113]\n",
      " [-0.07923705 -0.16104403 -0.00957691 -0.07716019]\n",
      " ...\n",
      " [-0.33587541 -0.41666506 -0.32708371 -0.39208514]\n",
      " [-0.33568416 -0.41655161 -0.32676035 -0.39181314]\n",
      " [-0.33551677 -0.41631452 -0.3264974  -0.39149901]]\n",
      "[[1.66510815 1.56409209 1.85305913 1.71049242]\n",
      " [1.58574651 1.48576114 1.78516516 1.64440492]\n",
      " [1.86764846 1.76103272 2.0887021  1.93388821]\n",
      " ...\n",
      " [0.11026293 0.04842056 0.15433712 0.08995424]\n",
      " [0.07796942 0.0178225  0.09535455 0.03423969]\n",
      " [0.15723742 0.09360402 0.18390919 0.11772032]]\n",
      "105 [[1.66510815 1.56409209 1.85305913 1.71049242]\n",
      " [1.58574651 1.48576114 1.78516516 1.64440492]\n",
      " [1.86764846 1.76103272 2.0887021  1.93388821]\n",
      " ...\n",
      " [0.11026293 0.04842056 0.15433712 0.08995424]\n",
      " [0.07796942 0.0178225  0.09535455 0.03423969]\n",
      " [0.15723742 0.09360402 0.18390919 0.11772032]]\n",
      "[[-0.25583021 -0.33325775  0.09446605  0.01839543]\n",
      " [-0.02332241 -0.10380382  0.3719174   0.28987519]\n",
      " [-0.05395018 -0.13410449  0.36165631  0.27964904]\n",
      " ...\n",
      " [ 0.2143999   0.14127679  0.342043    0.26961406]\n",
      " [ 0.06198116 -0.00394709  0.20463106  0.13891956]\n",
      " [ 0.14907229  0.07964793  0.28528442  0.21666796]]\n",
      "106 [[-0.25583021 -0.33325775  0.09446605  0.01839543]\n",
      " [-0.02332241 -0.10380382  0.3719174   0.28987519]\n",
      " [-0.05395018 -0.13410449  0.36165631  0.27964904]\n",
      " ...\n",
      " [ 0.2143999   0.14127679  0.342043    0.26961406]\n",
      " [ 0.06198116 -0.00394709  0.20463106  0.13891956]\n",
      " [ 0.14907229  0.07964793  0.28528442  0.21666796]]\n"
     ]
    }
   ],
   "source": [
    "\n",
    "for t, gp in enumerate(data_list):\n",
    "    s = StandardScaler()\n",
    "    s.fit(gp.x)\n",
    "    print(gp.x)\n",
    "    data_list[t].x = s.transform(gp.x)\n",
    "    print(t, data_list[t].x)"
   ],
   "metadata": {
    "collapsed": false,
    "pycharm": {
     "name": "#%%\n"
    }
   }
  },
  {
   "cell_type": "code",
   "execution_count": 228,
   "outputs": [],
   "source": [
    "# Transform targets to classes\n",
    "\n",
    "for t in range(len(data_list)):\n",
    "    data_list[t].y = torch.tensor(y_classes[t], dtype=torch.float32)"
   ],
   "metadata": {
    "collapsed": false,
    "pycharm": {
     "name": "#%%\n"
    }
   }
  },
  {
   "cell_type": "code",
   "execution_count": 229,
   "outputs": [
    {
     "name": "stderr",
     "output_type": "stream",
     "text": [
      "C:\\Users\\Rohit\\AppData\\Local\\Temp\\ipykernel_32688\\3771077959.py:2: UserWarning: To copy construct from a tensor, it is recommended to use sourceTensor.clone().detach() or sourceTensor.clone().detach().requires_grad_(True), rather than torch.tensor(sourceTensor).\n",
      "  data_list[t].x = torch.tensor(data_list[t].x, dtype=torch.float32)\n"
     ]
    }
   ],
   "source": [
    "for t in range(len(data_list)):\n",
    "    data_list[t].x = torch.tensor(data_list[t].x, dtype=torch.float32)"
   ],
   "metadata": {
    "collapsed": false,
    "pycharm": {
     "name": "#%%\n"
    }
   }
  },
  {
   "cell_type": "code",
   "execution_count": 225,
   "outputs": [],
   "source": [
    "X_train, X_test, y_train, y_test = train_test_split(data_list, y_classes,\n",
    "                                                    stratify=y_classes,\n",
    "                                                    test_size=0.25)"
   ],
   "metadata": {
    "collapsed": false,
    "pycharm": {
     "name": "#%%\n"
    }
   }
  },
  {
   "cell_type": "code",
   "execution_count": 225,
   "outputs": [],
   "source": [],
   "metadata": {
    "collapsed": false,
    "pycharm": {
     "name": "#%%\n"
    }
   }
  },
  {
   "cell_type": "code",
   "execution_count": 226,
   "outputs": [],
   "source": [
    "train_loader = DataLoader(X_train, batch_size=1)\n",
    "test_loader = DataLoader(X_test, batch_size=1)"
   ],
   "metadata": {
    "collapsed": false,
    "pycharm": {
     "name": "#%%\n"
    }
   }
  },
  {
   "cell_type": "code",
   "execution_count": 227,
   "outputs": [],
   "source": [
    "torch.save(train_loader, '../export/train_loader.pt')\n",
    "torch.save(test_loader, '../export/test_loader.pt')"
   ],
   "metadata": {
    "collapsed": false,
    "pycharm": {
     "name": "#%%\n"
    }
   }
  },
  {
   "cell_type": "code",
   "execution_count": 1,
   "outputs": [],
   "source": [],
   "metadata": {
    "collapsed": false,
    "pycharm": {
     "name": "#%%\n"
    }
   }
  },
  {
   "cell_type": "code",
   "execution_count": 1,
   "outputs": [],
   "source": [],
   "metadata": {
    "collapsed": false,
    "pycharm": {
     "name": "#%%\n"
    }
   }
  },
  {
   "cell_type": "code",
   "execution_count": 1,
   "outputs": [],
   "source": [],
   "metadata": {
    "collapsed": false,
    "pycharm": {
     "name": "#%%\n"
    }
   }
  },
  {
   "cell_type": "code",
   "execution_count": 1,
   "outputs": [],
   "source": [],
   "metadata": {
    "collapsed": false,
    "pycharm": {
     "name": "#%%\n"
    }
   }
  },
  {
   "cell_type": "code",
   "execution_count": 1,
   "outputs": [],
   "source": [],
   "metadata": {
    "collapsed": false,
    "pycharm": {
     "name": "#%%\n"
    }
   }
  },
  {
   "cell_type": "code",
   "execution_count": 223,
   "outputs": [
    {
     "data": {
      "text/plain": "                      ID  Stenosis Degree  \\\n0     patient_k_002_left        26.126667   \n1     patient_k_003_left        71.554618   \n2    patient_k_003_right        14.989694   \n3     patient_k_004_left         3.440384   \n4    patient_k_004_right        21.131457   \n..                   ...              ...   \n105  patient_w_050_right        25.241225   \n107  patient_w_051_right         4.632848   \n108   patient_w_052_left        72.419130   \n109   patient_w_053_left         2.757718   \n110  patient_w_053_right         8.801849   \n\n                                 Min Diameter Position  \\\n0    [39.892398834228516, -13.870604515075684, -66....   \n1    [26.116363525390625, 21.686115264892578, -45.4...   \n2    [4.305545806884766, 7.88148307800293, -27.8069...   \n3    [-30.61272621154785, 5.345273494720459, -73.70...   \n4    [36.20441436767578, 0.3623444736003876, -85.02...   \n..                                                 ...   \n105  [30.245187759399414, -13.944009780883789, -29....   \n107  [26.021587371826172, 22.30548667907715, -48.22...   \n108  [-34.688209533691406, 0.7742701768875122, 41.7...   \n109  [-33.1710090637207, -7.436668872833252, -49.85...   \n110  [27.965707778930664, -4.822772026062012, -46.7...   \n\n                                   Min Diameter Normal  \\\n0    [-0.3423857092857361, 0.17876523733139038, 0.9...   \n1    [0.9549748301506042, 0.24799606204032898, 0.16...   \n2    [-0.5527075529098511, -0.48724740743637085, 0....   \n3    [-0.12395122647285461, -0.3688310980796814, 0....   \n4    [0.02325478009879589, -0.28461888432502747, 0....   \n..                                                 ...   \n105  [-0.29351523518562317, 0.010705090127885342, 0...   \n107  [0.03491294011473656, 0.2581380605697632, 0.96...   \n108  [-0.1835705041885376, -0.09893859922885895, 0....   \n109  [0.2024630457162857, 0.33531683683395386, 0.92...   \n110  [-0.03953129053115845, 0.2086362987756729, 0.9...   \n\n                                 Ref Diameter Position  \\\n0    [33.187835693359375, -14.544608116149902, -56....   \n1    [36.01955795288086, 20.092430114746094, -36.90...   \n2    [-4.710724353790283, 3.768615245819092, -22.50...   \n3    [-31.052173614501953, 4.205606937408447, -69.2...   \n4    [36.174163818359375, -0.3618420958518982, -79....   \n..                                                 ...   \n105  [28.84402847290039, -13.325772285461426, -23.3...   \n107  [26.072324752807617, 23.233577728271484, -45.7...   \n108  [-35.026451110839844, 1.8538169860839844, 53.1...   \n109  [-32.573421478271484, -6.8624138832092285, -47...   \n110  [27.938554763793945, -3.555466651916504, -43.2...   \n\n                                   Ref Diameter Normal  Unnamed: 6  \n0    [-0.8399626016616821, -0.34622809290885925, 0....         NaN  \n1    [0.29553425312042236, -0.11527381092309952, 0....         NaN  \n2    [-0.8568196296691895, -0.35291939973831177, 0....         NaN  \n3    [-0.06483906507492065, -0.1270258128643036, 0....         NaN  \n4    [0.11890460550785065, -0.01905759610235691, 0....         NaN  \n..                                                 ...         ...  \n105  [-0.437561959028244, 0.15978144109249115, 0.88...         NaN  \n107  [0.03491294011473656, 0.2581380605697632, 0.96...         NaN  \n108  [0.28493279218673706, 0.31433069705963135, 0.9...         NaN  \n109  [0.34620749950408936, 0.2718786895275116, 0.89...         NaN  \n110  [0.016823824495077133, 0.506203830242157, 0.86...         NaN  \n\n[108 rows x 7 columns]",
      "text/html": "<div>\n<style scoped>\n    .dataframe tbody tr th:only-of-type {\n        vertical-align: middle;\n    }\n\n    .dataframe tbody tr th {\n        vertical-align: top;\n    }\n\n    .dataframe thead th {\n        text-align: right;\n    }\n</style>\n<table border=\"1\" class=\"dataframe\">\n  <thead>\n    <tr style=\"text-align: right;\">\n      <th></th>\n      <th>ID</th>\n      <th>Stenosis Degree</th>\n      <th>Min Diameter Position</th>\n      <th>Min Diameter Normal</th>\n      <th>Ref Diameter Position</th>\n      <th>Ref Diameter Normal</th>\n      <th>Unnamed: 6</th>\n    </tr>\n  </thead>\n  <tbody>\n    <tr>\n      <th>0</th>\n      <td>patient_k_002_left</td>\n      <td>26.126667</td>\n      <td>[39.892398834228516, -13.870604515075684, -66....</td>\n      <td>[-0.3423857092857361, 0.17876523733139038, 0.9...</td>\n      <td>[33.187835693359375, -14.544608116149902, -56....</td>\n      <td>[-0.8399626016616821, -0.34622809290885925, 0....</td>\n      <td>NaN</td>\n    </tr>\n    <tr>\n      <th>1</th>\n      <td>patient_k_003_left</td>\n      <td>71.554618</td>\n      <td>[26.116363525390625, 21.686115264892578, -45.4...</td>\n      <td>[0.9549748301506042, 0.24799606204032898, 0.16...</td>\n      <td>[36.01955795288086, 20.092430114746094, -36.90...</td>\n      <td>[0.29553425312042236, -0.11527381092309952, 0....</td>\n      <td>NaN</td>\n    </tr>\n    <tr>\n      <th>2</th>\n      <td>patient_k_003_right</td>\n      <td>14.989694</td>\n      <td>[4.305545806884766, 7.88148307800293, -27.8069...</td>\n      <td>[-0.5527075529098511, -0.48724740743637085, 0....</td>\n      <td>[-4.710724353790283, 3.768615245819092, -22.50...</td>\n      <td>[-0.8568196296691895, -0.35291939973831177, 0....</td>\n      <td>NaN</td>\n    </tr>\n    <tr>\n      <th>3</th>\n      <td>patient_k_004_left</td>\n      <td>3.440384</td>\n      <td>[-30.61272621154785, 5.345273494720459, -73.70...</td>\n      <td>[-0.12395122647285461, -0.3688310980796814, 0....</td>\n      <td>[-31.052173614501953, 4.205606937408447, -69.2...</td>\n      <td>[-0.06483906507492065, -0.1270258128643036, 0....</td>\n      <td>NaN</td>\n    </tr>\n    <tr>\n      <th>4</th>\n      <td>patient_k_004_right</td>\n      <td>21.131457</td>\n      <td>[36.20441436767578, 0.3623444736003876, -85.02...</td>\n      <td>[0.02325478009879589, -0.28461888432502747, 0....</td>\n      <td>[36.174163818359375, -0.3618420958518982, -79....</td>\n      <td>[0.11890460550785065, -0.01905759610235691, 0....</td>\n      <td>NaN</td>\n    </tr>\n    <tr>\n      <th>...</th>\n      <td>...</td>\n      <td>...</td>\n      <td>...</td>\n      <td>...</td>\n      <td>...</td>\n      <td>...</td>\n      <td>...</td>\n    </tr>\n    <tr>\n      <th>105</th>\n      <td>patient_w_050_right</td>\n      <td>25.241225</td>\n      <td>[30.245187759399414, -13.944009780883789, -29....</td>\n      <td>[-0.29351523518562317, 0.010705090127885342, 0...</td>\n      <td>[28.84402847290039, -13.325772285461426, -23.3...</td>\n      <td>[-0.437561959028244, 0.15978144109249115, 0.88...</td>\n      <td>NaN</td>\n    </tr>\n    <tr>\n      <th>107</th>\n      <td>patient_w_051_right</td>\n      <td>4.632848</td>\n      <td>[26.021587371826172, 22.30548667907715, -48.22...</td>\n      <td>[0.03491294011473656, 0.2581380605697632, 0.96...</td>\n      <td>[26.072324752807617, 23.233577728271484, -45.7...</td>\n      <td>[0.03491294011473656, 0.2581380605697632, 0.96...</td>\n      <td>NaN</td>\n    </tr>\n    <tr>\n      <th>108</th>\n      <td>patient_w_052_left</td>\n      <td>72.419130</td>\n      <td>[-34.688209533691406, 0.7742701768875122, 41.7...</td>\n      <td>[-0.1835705041885376, -0.09893859922885895, 0....</td>\n      <td>[-35.026451110839844, 1.8538169860839844, 53.1...</td>\n      <td>[0.28493279218673706, 0.31433069705963135, 0.9...</td>\n      <td>NaN</td>\n    </tr>\n    <tr>\n      <th>109</th>\n      <td>patient_w_053_left</td>\n      <td>2.757718</td>\n      <td>[-33.1710090637207, -7.436668872833252, -49.85...</td>\n      <td>[0.2024630457162857, 0.33531683683395386, 0.92...</td>\n      <td>[-32.573421478271484, -6.8624138832092285, -47...</td>\n      <td>[0.34620749950408936, 0.2718786895275116, 0.89...</td>\n      <td>NaN</td>\n    </tr>\n    <tr>\n      <th>110</th>\n      <td>patient_w_053_right</td>\n      <td>8.801849</td>\n      <td>[27.965707778930664, -4.822772026062012, -46.7...</td>\n      <td>[-0.03953129053115845, 0.2086362987756729, 0.9...</td>\n      <td>[27.938554763793945, -3.555466651916504, -43.2...</td>\n      <td>[0.016823824495077133, 0.506203830242157, 0.86...</td>\n      <td>NaN</td>\n    </tr>\n  </tbody>\n</table>\n<p>108 rows × 7 columns</p>\n</div>"
     },
     "execution_count": 223,
     "metadata": {},
     "output_type": "execute_result"
    }
   ],
   "source": [
    "df"
   ],
   "metadata": {
    "collapsed": false,
    "pycharm": {
     "name": "#%%\n"
    }
   }
  },
  {
   "cell_type": "code",
   "execution_count": 1,
   "outputs": [],
   "source": [],
   "metadata": {
    "collapsed": false,
    "pycharm": {
     "name": "#%%\n"
    }
   }
  },
  {
   "cell_type": "code",
   "execution_count": 222,
   "outputs": [
    {
     "data": {
      "text/plain": "'data_patient_w_008_right_wss.vtu'"
     },
     "execution_count": 222,
     "metadata": {},
     "output_type": "execute_result"
    }
   ],
   "source": [
    "onlyfiles[33]"
   ],
   "metadata": {
    "collapsed": false,
    "pycharm": {
     "name": "#%%\n"
    }
   }
  },
  {
   "cell_type": "code",
   "execution_count": 3,
   "outputs": [],
   "source": [
    "reader = pv.get_reader(mypath + onlyfiles[33])\n",
    "mesh = reader.read()"
   ],
   "metadata": {
    "collapsed": false,
    "pycharm": {
     "name": "#%%\n"
    }
   }
  },
  {
   "cell_type": "code",
   "execution_count": 6,
   "outputs": [
    {
     "data": {
      "text/plain": "(33660, 3)"
     },
     "execution_count": 6,
     "metadata": {},
     "output_type": "execute_result"
    }
   ],
   "source": [
    "mesh.points.shape"
   ],
   "metadata": {
    "collapsed": false,
    "pycharm": {
     "name": "#%%\n"
    }
   }
  },
  {
   "cell_type": "code",
   "execution_count": 10,
   "outputs": [],
   "source": [
    "nf = mesh.get_array('longitudinal_WSS_@_t=1.1')"
   ],
   "metadata": {
    "collapsed": false,
    "pycharm": {
     "name": "#%%\n"
    }
   }
  },
  {
   "cell_type": "code",
   "execution_count": 37,
   "outputs": [],
   "source": [
    "nw = list( zip(* map( list, np.where(np.isnan(nf) ) ) ) )\n",
    "\n",
    "pointsn = pv.PolyData(mesh.points[nw].reshape(-1, 3))"
   ],
   "metadata": {
    "collapsed": false,
    "pycharm": {
     "name": "#%%\n"
    }
   }
  },
  {
   "cell_type": "code",
   "execution_count": 4,
   "outputs": [
    {
     "ename": "NameError",
     "evalue": "name 'mesh' is not defined",
     "output_type": "error",
     "traceback": [
      "\u001B[0;31m---------------------------------------------------------------------------\u001B[0m",
      "\u001B[0;31mNameError\u001B[0m                                 Traceback (most recent call last)",
      "Cell \u001B[0;32mIn[4], line 2\u001B[0m\n\u001B[1;32m      1\u001B[0m pl \u001B[38;5;241m=\u001B[39m pv\u001B[38;5;241m.\u001B[39mPlotter()\n\u001B[0;32m----> 2\u001B[0m pl\u001B[38;5;241m.\u001B[39madd_mesh(\u001B[43mmesh\u001B[49m, scalars\u001B[38;5;241m=\u001B[39m\u001B[38;5;124m'\u001B[39m\u001B[38;5;124mlongitudinal_WSS_@_t=1.1\u001B[39m\u001B[38;5;124m'\u001B[39m)\n\u001B[1;32m      3\u001B[0m pl\u001B[38;5;241m.\u001B[39madd_points(pointsn, render_points_as_spheres\u001B[38;5;241m=\u001B[39m\u001B[38;5;28;01mTrue\u001B[39;00m, point_size\u001B[38;5;241m=\u001B[39m\u001B[38;5;241m1.\u001B[39m)\n\u001B[1;32m      4\u001B[0m pl\u001B[38;5;241m.\u001B[39mshow()\n",
      "\u001B[0;31mNameError\u001B[0m: name 'mesh' is not defined"
     ]
    }
   ],
   "source": [
    "pl = pv.Plotter()\n",
    "pl.add_mesh(mesh, scalars='longitudinal_WSS_@_t=1.1')\n",
    "pl.add_points(pointsn, render_points_as_spheres=True, point_size=1.)\n",
    "pl.show()"
   ],
   "metadata": {
    "collapsed": false,
    "pycharm": {
     "name": "#%%\n"
    }
   }
  },
  {
   "cell_type": "code",
   "execution_count": 45,
   "outputs": [
    {
     "ename": "AttributeError",
     "evalue": "'UnstructuredGrid' object has no attribute 'remove_points'",
     "output_type": "error",
     "traceback": [
      "\u001B[1;31m---------------------------------------------------------------------------\u001B[0m",
      "\u001B[1;31mAttributeError\u001B[0m                            Traceback (most recent call last)",
      "Cell \u001B[1;32mIn[45], line 1\u001B[0m\n\u001B[1;32m----> 1\u001B[0m \u001B[43mmesh\u001B[49m\u001B[38;5;241;43m.\u001B[39;49m\u001B[43mremove_points\u001B[49m(nw)\n",
      "File \u001B[1;32m~\\anaconda3\\envs\\ader\\lib\\site-packages\\pyvista\\core\\dataset.py:122\u001B[0m, in \u001B[0;36mDataSet.__getattr__\u001B[1;34m(self, item)\u001B[0m\n\u001B[0;32m    120\u001B[0m \u001B[38;5;28;01mdef\u001B[39;00m \u001B[38;5;21m__getattr__\u001B[39m(\u001B[38;5;28mself\u001B[39m, item) \u001B[38;5;241m-\u001B[39m\u001B[38;5;241m>\u001B[39m Any:\n\u001B[0;32m    121\u001B[0m     \u001B[38;5;124;03m\"\"\"Get attribute from base class if not found.\"\"\"\u001B[39;00m\n\u001B[1;32m--> 122\u001B[0m     \u001B[38;5;28;01mreturn\u001B[39;00m \u001B[38;5;28;43msuper\u001B[39;49m\u001B[43m(\u001B[49m\u001B[43m)\u001B[49m\u001B[38;5;241;43m.\u001B[39;49m\u001B[38;5;21;43m__getattribute__\u001B[39;49m\u001B[43m(\u001B[49m\u001B[43mitem\u001B[49m\u001B[43m)\u001B[49m\n",
      "\u001B[1;31mAttributeError\u001B[0m: 'UnstructuredGrid' object has no attribute 'remove_points'"
     ]
    }
   ],
   "source": [
    "mesh.remove_points(nw)"
   ],
   "metadata": {
    "collapsed": false,
    "pycharm": {
     "name": "#%%\n"
    }
   }
  },
  {
   "cell_type": "code",
   "execution_count": 29,
   "outputs": [
    {
     "data": {
      "text/plain": "pyvista_ndarray([[-37.93020468,  -9.87389993, -41.60447419],\n                 [-37.94564958,  -9.86791474, -41.55137475],\n                 [-37.97857554,  -9.8345473 , -41.60371369],\n                 ...,\n                 [-33.57247035, -13.35515718, -48.39478846],\n                 [-33.63565021, -13.37436255, -48.47498217],\n                 [-33.6030603 , -13.36583697, -48.43542976]])"
     },
     "execution_count": 29,
     "metadata": {},
     "output_type": "execute_result"
    }
   ],
   "source": [
    "mesh.points"
   ],
   "metadata": {
    "collapsed": false,
    "pycharm": {
     "name": "#%%\n"
    }
   }
  },
  {
   "cell_type": "code",
   "execution_count": 34,
   "outputs": [
    {
     "data": {
      "text/plain": "pyvista_ndarray([-11.93719735,  18.44834062, -41.16251321])"
     },
     "execution_count": 34,
     "metadata": {},
     "output_type": "execute_result"
    }
   ],
   "source": [
    "np.amax(mesh.points, axis=0)"
   ],
   "metadata": {
    "collapsed": false,
    "pycharm": {
     "name": "#%%\n"
    }
   }
  },
  {
   "cell_type": "code",
   "execution_count": 31,
   "outputs": [
    {
     "data": {
      "text/plain": "(33660, 3)"
     },
     "execution_count": 31,
     "metadata": {},
     "output_type": "execute_result"
    }
   ],
   "source": [
    "mesh.points.shape"
   ],
   "metadata": {
    "collapsed": false,
    "pycharm": {
     "name": "#%%\n"
    }
   }
  },
  {
   "cell_type": "code",
   "execution_count": 48,
   "outputs": [
    {
     "ename": "TypeError",
     "evalue": "'BLOCK_I', 'BLOCK_J' and 'BLOCK_K' cell arrays are required",
     "output_type": "error",
     "traceback": [
      "\u001B[1;31m---------------------------------------------------------------------------\u001B[0m",
      "\u001B[1;31mTypeError\u001B[0m                                 Traceback (most recent call last)",
      "Cell \u001B[1;32mIn[48], line 1\u001B[0m\n\u001B[1;32m----> 1\u001B[0m smesh \u001B[38;5;241m=\u001B[39m\u001B[43mmesh\u001B[49m\u001B[38;5;241;43m.\u001B[39;49m\u001B[43mcast_to_explicit_structured_grid\u001B[49m\u001B[43m(\u001B[49m\u001B[43m)\u001B[49m\n",
      "File \u001B[1;32m~\\anaconda3\\envs\\ader\\lib\\site-packages\\pyvista\\core\\pointset.py:1799\u001B[0m, in \u001B[0;36mUnstructuredGrid.cast_to_explicit_structured_grid\u001B[1;34m(self)\u001B[0m\n\u001B[0;32m   1797\u001B[0m s2 \u001B[38;5;241m=\u001B[39m \u001B[38;5;28mself\u001B[39m\u001B[38;5;241m.\u001B[39mcell_data\u001B[38;5;241m.\u001B[39mkeys()\n\u001B[0;32m   1798\u001B[0m \u001B[38;5;28;01mif\u001B[39;00m \u001B[38;5;129;01mnot\u001B[39;00m s1\u001B[38;5;241m.\u001B[39missubset(s2):\n\u001B[1;32m-> 1799\u001B[0m     \u001B[38;5;28;01mraise\u001B[39;00m \u001B[38;5;167;01mTypeError\u001B[39;00m(\u001B[38;5;124m\"\u001B[39m\u001B[38;5;124m'\u001B[39m\u001B[38;5;124mBLOCK_I\u001B[39m\u001B[38;5;124m'\u001B[39m\u001B[38;5;124m, \u001B[39m\u001B[38;5;124m'\u001B[39m\u001B[38;5;124mBLOCK_J\u001B[39m\u001B[38;5;124m'\u001B[39m\u001B[38;5;124m and \u001B[39m\u001B[38;5;124m'\u001B[39m\u001B[38;5;124mBLOCK_K\u001B[39m\u001B[38;5;124m'\u001B[39m\u001B[38;5;124m cell arrays are required\u001B[39m\u001B[38;5;124m\"\u001B[39m)\n\u001B[0;32m   1800\u001B[0m alg \u001B[38;5;241m=\u001B[39m _vtk\u001B[38;5;241m.\u001B[39mvtkUnstructuredGridToExplicitStructuredGrid()\n\u001B[0;32m   1801\u001B[0m alg\u001B[38;5;241m.\u001B[39mSetInputData(\u001B[38;5;28mself\u001B[39m)\n",
      "\u001B[1;31mTypeError\u001B[0m: 'BLOCK_I', 'BLOCK_J' and 'BLOCK_K' cell arrays are required"
     ]
    }
   ],
   "source": [
    "smesh =mesh.cast_to_explicit_structured_grid()"
   ],
   "metadata": {
    "collapsed": false,
    "pycharm": {
     "name": "#%%\n"
    }
   }
  },
  {
   "cell_type": "code",
   "execution_count": 49,
   "outputs": [
    {
     "data": {
      "text/plain": "[]"
     },
     "execution_count": 49,
     "metadata": {},
     "output_type": "execute_result"
    }
   ],
   "source": [
    "mesh.cell_data.keys()"
   ],
   "metadata": {
    "collapsed": false,
    "pycharm": {
     "name": "#%%\n"
    }
   }
  },
  {
   "cell_type": "code",
   "execution_count": 50,
   "outputs": [
    {
     "ename": "AttributeError",
     "evalue": "'UnstructuredGrid' object has no attribute 'remove_points'",
     "output_type": "error",
     "traceback": [
      "\u001B[1;31m---------------------------------------------------------------------------\u001B[0m",
      "\u001B[1;31mAttributeError\u001B[0m                            Traceback (most recent call last)",
      "Cell \u001B[1;32mIn[50], line 1\u001B[0m\n\u001B[1;32m----> 1\u001B[0m \u001B[43mmesh\u001B[49m\u001B[38;5;241;43m.\u001B[39;49m\u001B[43mremove_points\u001B[49m(nk)\n",
      "File \u001B[1;32m~\\anaconda3\\envs\\ader\\lib\\site-packages\\pyvista\\core\\dataset.py:122\u001B[0m, in \u001B[0;36mDataSet.__getattr__\u001B[1;34m(self, item)\u001B[0m\n\u001B[0;32m    120\u001B[0m \u001B[38;5;28;01mdef\u001B[39;00m \u001B[38;5;21m__getattr__\u001B[39m(\u001B[38;5;28mself\u001B[39m, item) \u001B[38;5;241m-\u001B[39m\u001B[38;5;241m>\u001B[39m Any:\n\u001B[0;32m    121\u001B[0m     \u001B[38;5;124;03m\"\"\"Get attribute from base class if not found.\"\"\"\u001B[39;00m\n\u001B[1;32m--> 122\u001B[0m     \u001B[38;5;28;01mreturn\u001B[39;00m \u001B[38;5;28;43msuper\u001B[39;49m\u001B[43m(\u001B[49m\u001B[43m)\u001B[49m\u001B[38;5;241;43m.\u001B[39;49m\u001B[38;5;21;43m__getattribute__\u001B[39;49m\u001B[43m(\u001B[49m\u001B[43mitem\u001B[49m\u001B[43m)\u001B[49m\n",
      "\u001B[1;31mAttributeError\u001B[0m: 'UnstructuredGrid' object has no attribute 'remove_points'"
     ]
    }
   ],
   "source": [],
   "metadata": {
    "collapsed": false,
    "pycharm": {
     "name": "#%%\n"
    }
   }
  },
  {
   "cell_type": "code",
   "execution_count": 55,
   "outputs": [],
   "source": [
    "keep_points = np.ones(mesh.points.shape, dtype=bool)\n",
    "keep_points[nw] = False"
   ],
   "metadata": {
    "collapsed": false,
    "pycharm": {
     "name": "#%%\n"
    }
   }
  },
  {
   "cell_type": "code",
   "execution_count": 56,
   "outputs": [],
   "source": [
    "new_mesh = pv.UnstructuredGrid(points=mesh.points[keep_points], cells=mesh.cells)"
   ],
   "metadata": {
    "collapsed": false,
    "pycharm": {
     "name": "#%%\n"
    }
   }
  },
  {
   "cell_type": "code",
   "execution_count": 58,
   "outputs": [
    {
     "data": {
      "text/plain": "pyvista_ndarray([], shape=(0, 3), dtype=float64)"
     },
     "execution_count": 58,
     "metadata": {},
     "output_type": "execute_result"
    }
   ],
   "source": [
    "new_mesh.points"
   ],
   "metadata": {
    "collapsed": false,
    "pycharm": {
     "name": "#%%\n"
    }
   }
  },
  {
   "cell_type": "code",
   "execution_count": 59,
   "outputs": [],
   "source": [],
   "metadata": {
    "collapsed": false,
    "pycharm": {
     "name": "#%%\n"
    }
   }
  },
  {
   "cell_type": "code",
   "execution_count": 13,
   "outputs": [],
   "source": [],
   "metadata": {
    "collapsed": false,
    "pycharm": {
     "name": "#%%\n"
    }
   }
  },
  {
   "cell_type": "code",
   "execution_count": 13,
   "outputs": [],
   "source": [],
   "metadata": {
    "collapsed": false,
    "pycharm": {
     "name": "#%%\n"
    }
   }
  },
  {
   "cell_type": "code",
   "execution_count": 13,
   "outputs": [],
   "source": [],
   "metadata": {
    "collapsed": false,
    "pycharm": {
     "name": "#%%\n"
    }
   }
  },
  {
   "cell_type": "code",
   "execution_count": 13,
   "outputs": [],
   "source": [],
   "metadata": {
    "collapsed": false,
    "pycharm": {
     "name": "#%%\n"
    }
   }
  },
  {
   "cell_type": "code",
   "execution_count": 13,
   "outputs": [],
   "source": [],
   "metadata": {
    "collapsed": false,
    "pycharm": {
     "name": "#%%\n"
    }
   }
  },
  {
   "cell_type": "code",
   "execution_count": 13,
   "outputs": [],
   "source": [],
   "metadata": {
    "collapsed": false,
    "pycharm": {
     "name": "#%%\n"
    }
   }
  },
  {
   "cell_type": "code",
   "execution_count": 13,
   "outputs": [],
   "source": [],
   "metadata": {
    "collapsed": false,
    "pycharm": {
     "name": "#%%\n"
    }
   }
  },
  {
   "cell_type": "code",
   "execution_count": 13,
   "outputs": [],
   "source": [],
   "metadata": {
    "collapsed": false,
    "pycharm": {
     "name": "#%%\n"
    }
   }
  },
  {
   "cell_type": "code",
   "execution_count": 13,
   "outputs": [],
   "source": [],
   "metadata": {
    "collapsed": false,
    "pycharm": {
     "name": "#%%\n"
    }
   }
  },
  {
   "cell_type": "code",
   "execution_count": 13,
   "outputs": [],
   "source": [],
   "metadata": {
    "collapsed": false,
    "pycharm": {
     "name": "#%%\n"
    }
   }
  },
  {
   "cell_type": "code",
   "execution_count": 13,
   "outputs": [],
   "source": [],
   "metadata": {
    "collapsed": false,
    "pycharm": {
     "name": "#%%\n"
    }
   }
  },
  {
   "cell_type": "code",
   "execution_count": null,
   "outputs": [],
   "source": [],
   "metadata": {
    "collapsed": false,
    "pycharm": {
     "name": "#%%\n"
    }
   }
  },
  {
   "cell_type": "code",
   "execution_count": null,
   "outputs": [],
   "source": [],
   "metadata": {
    "collapsed": false,
    "pycharm": {
     "name": "#%%\n"
    }
   }
  },
  {
   "cell_type": "code",
   "execution_count": null,
   "outputs": [],
   "source": [],
   "metadata": {
    "collapsed": false,
    "pycharm": {
     "name": "#%%\n"
    }
   }
  }
 ],
 "metadata": {
  "kernelspec": {
   "display_name": "Python 3",
   "language": "python",
   "name": "python3"
  },
  "language_info": {
   "codemirror_mode": {
    "name": "ipython",
    "version": 2
   },
   "file_extension": ".py",
   "mimetype": "text/x-python",
   "name": "python",
   "nbconvert_exporter": "python",
   "pygments_lexer": "ipython2",
   "version": "2.7.6"
  }
 },
 "nbformat": 4,
 "nbformat_minor": 0
}