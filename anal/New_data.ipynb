{
 "cells": [
  {
   "cell_type": "code",
   "execution_count": 1,
   "id": "initial_id",
   "metadata": {
    "collapsed": true,
    "ExecuteTime": {
     "end_time": "2024-05-27T10:43:43.295096515Z",
     "start_time": "2024-05-27T10:43:40.371666359Z"
    }
   },
   "outputs": [],
   "source": [
    "import numpy as np\n",
    "import matplotlib.pyplot as plt\n",
    "import pandas as pd\n",
    "import pyvista as pv\n",
    "import torch\n",
    "import seaborn as sns\n",
    "from os import listdir\n",
    "from os.path import isfile, join\n",
    "import multiprocessing\n",
    "from torch_geometric.data import Data\n",
    "from torch_geometric.loader import DataLoader\n",
    "from sklearn.preprocessing import StandardScaler\n",
    "from sklearn.model_selection import train_test_split\n",
    "import dataframe_image as dfi"
   ]
  },
  {
   "cell_type": "code",
   "outputs": [
    {
     "name": "stdout",
     "output_type": "stream",
     "text": [
      "30\n"
     ]
    }
   ],
   "source": [
    "mypath = '../../data/MLgSA/New_wss/'\n",
    "onlyfiles = np.asarray([f for f in listdir(mypath) if isfile(join(mypath, f))])\n",
    "onlyfiles.sort()\n",
    "print(len(onlyfiles))\n",
    "# short_list = np.asarray([s[5:23] if s[19] == 'l' else s[5:24] for s in onlyfiles])"
   ],
   "metadata": {
    "collapsed": false,
    "ExecuteTime": {
     "end_time": "2024-05-27T10:43:43.318854959Z",
     "start_time": "2024-05-27T10:43:43.306482774Z"
    }
   },
   "id": "9f40bb6f8af7295c",
   "execution_count": 2
  },
  {
   "cell_type": "code",
   "outputs": [],
   "source": [
    "meshes = []\n",
    "\n",
    "for f in onlyfiles:\n",
    "    reader = pv.get_reader(mypath + f)\n",
    "    meshes.append(reader.read())"
   ],
   "metadata": {
    "collapsed": false,
    "ExecuteTime": {
     "end_time": "2024-05-27T10:43:52.059283632Z",
     "start_time": "2024-05-27T10:43:48.854185503Z"
    }
   },
   "id": "cb8e17308b4b7e67",
   "execution_count": 4
  },
  {
   "cell_type": "code",
   "outputs": [],
   "source": [
    "l = meshes[0].array_names"
   ],
   "metadata": {
    "collapsed": false,
    "ExecuteTime": {
     "end_time": "2024-05-27T09:44:41.763452698Z",
     "start_time": "2024-05-27T09:44:41.735483646Z"
    }
   },
   "id": "93a9325f63de3df0",
   "execution_count": 22
  },
  {
   "cell_type": "code",
   "outputs": [],
   "source": [
    "def minmaxer(d, a=None, b=None):\n",
    "    if a is None and b is None:\n",
    "        a = np.min(d)\n",
    "        b = np.max(d)\n",
    "    return (d-a) * 2/(b-a) - 1"
   ],
   "metadata": {
    "collapsed": false,
    "ExecuteTime": {
     "end_time": "2024-05-22T11:22:09.029245672Z",
     "start_time": "2024-05-22T11:22:08.970990471Z"
    }
   },
   "id": "bca540277b5b89b4",
   "execution_count": 124
  },
  {
   "cell_type": "code",
   "outputs": [
    {
     "data": {
      "text/plain": "(4, 12956)"
     },
     "execution_count": 20,
     "metadata": {},
     "output_type": "execute_result"
    }
   ],
   "source": [
    "np.asarray(meshes[0].point_data.values()).shape"
   ],
   "metadata": {
    "collapsed": false,
    "ExecuteTime": {
     "end_time": "2024-05-27T10:55:35.337272457Z",
     "start_time": "2024-05-27T10:55:35.266090830Z"
    }
   },
   "id": "38941b025a74cd87",
   "execution_count": 20
  },
  {
   "cell_type": "code",
   "outputs": [],
   "source": [
    "dl = []"
   ],
   "metadata": {
    "collapsed": false,
    "ExecuteTime": {
     "end_time": "2024-05-27T10:57:39.342543375Z",
     "start_time": "2024-05-27T10:57:39.276581075Z"
    }
   },
   "id": "14cdc346cac6c304",
   "execution_count": 21
  },
  {
   "cell_type": "code",
   "outputs": [],
   "source": [
    "for mesh in meshes:\n",
    "    dl.append(np.asarray(mesh.point_data.values()))"
   ],
   "metadata": {
    "collapsed": false,
    "ExecuteTime": {
     "end_time": "2024-05-27T10:57:41.024150011Z",
     "start_time": "2024-05-27T10:57:40.969002494Z"
    }
   },
   "id": "ffee0d03247e68e6",
   "execution_count": 22
  },
  {
   "cell_type": "code",
   "outputs": [],
   "source": [
    "data = np.concatenate(dl, axis=1)"
   ],
   "metadata": {
    "collapsed": false,
    "ExecuteTime": {
     "end_time": "2024-05-27T10:59:02.256677528Z",
     "start_time": "2024-05-27T10:59:02.199846122Z"
    }
   },
   "id": "40c920df351d52ce",
   "execution_count": 23
  },
  {
   "cell_type": "code",
   "outputs": [
    {
     "data": {
      "text/plain": "(4, 752865)"
     },
     "execution_count": 24,
     "metadata": {},
     "output_type": "execute_result"
    }
   ],
   "source": [
    "data.shape"
   ],
   "metadata": {
    "collapsed": false,
    "ExecuteTime": {
     "end_time": "2024-05-27T10:59:05.944845829Z",
     "start_time": "2024-05-27T10:59:05.909123719Z"
    }
   },
   "id": "ddde08ec6ec1402a",
   "execution_count": 24
  },
  {
   "cell_type": "code",
   "outputs": [
    {
     "name": "stdout",
     "output_type": "stream",
     "text": [
      "[-6.96069077e+02  1.54482502e-06 -3.88252846e+02  1.17441243e-06]\n"
     ]
    }
   ],
   "source": [
    "mins = np.min(data, axis=1)\n",
    "print(mins)"
   ],
   "metadata": {
    "collapsed": false,
    "ExecuteTime": {
     "end_time": "2024-05-27T11:39:25.379364130Z",
     "start_time": "2024-05-27T11:39:25.350315002Z"
    }
   },
   "id": "872daa84833ba8a3",
   "execution_count": 80
  },
  {
   "cell_type": "code",
   "outputs": [
    {
     "name": "stdout",
     "output_type": "stream",
     "text": [
      "[1150.64635386 1179.59597519  366.13309255  388.31248965]\n"
     ]
    }
   ],
   "source": [
    "maxs = np.max(data, axis=1)\n",
    "print(maxs)"
   ],
   "metadata": {
    "collapsed": false,
    "ExecuteTime": {
     "end_time": "2024-05-27T11:39:26.826912811Z",
     "start_time": "2024-05-27T11:39:26.798611210Z"
    }
   },
   "id": "b0e0f4e90d6adf02",
   "execution_count": 81
  },
  {
   "cell_type": "code",
   "outputs": [],
   "source": [
    "mesh = np.asarray(meshes[0].point_data.values())"
   ],
   "metadata": {
    "collapsed": false,
    "ExecuteTime": {
     "end_time": "2024-05-27T11:07:44.201108939Z",
     "start_time": "2024-05-27T11:07:44.156656706Z"
    }
   },
   "id": "6afbfaeb107c0351",
   "execution_count": 33
  },
  {
   "cell_type": "code",
   "outputs": [
    {
     "data": {
      "text/plain": "[<matplotlib.lines.Line2D at 0x7fb423b5aa30>]"
     },
     "execution_count": 35,
     "metadata": {},
     "output_type": "execute_result"
    },
    {
     "data": {
      "text/plain": "<Figure size 640x480 with 1 Axes>",
      "image/png": "[encoded data removed]"
     },
     "metadata": {},
     "output_type": "display_data"
    }
   ],
   "source": [
    "plt.plot(mesh[0])"
   ],
   "metadata": {
    "collapsed": false,
    "ExecuteTime": {
     "end_time": "2024-05-27T11:08:04.694574255Z",
     "start_time": "2024-05-27T11:08:04.323315213Z"
    }
   },
   "id": "f9c895065eff448a",
   "execution_count": 35
  },
  {
   "cell_type": "code",
   "outputs": [
    {
     "data": {
      "text/plain": "[<matplotlib.lines.Line2D at 0x7fb423a8c6d0>]"
     },
     "execution_count": 36,
     "metadata": {},
     "output_type": "execute_result"
    },
    {
     "data": {
      "text/plain": "<Figure size 640x480 with 1 Axes>",
      "image/png": "[encoded data removed]"
     },
     "metadata": {},
     "output_type": "display_data"
    }
   ],
   "source": [
    "plt.plot(mesh[1])"
   ],
   "metadata": {
    "collapsed": false,
    "ExecuteTime": {
     "end_time": "2024-05-27T11:08:18.768934714Z",
     "start_time": "2024-05-27T11:08:18.456659445Z"
    }
   },
   "id": "1e86a4a00c530035",
   "execution_count": 36
  },
  {
   "cell_type": "code",
   "outputs": [
    {
     "name": "stdout",
     "output_type": "stream",
     "text": [
      "[94.21795903 94.41938233 21.16378766 21.3156083 ]\n",
      "[790.28703582  94.41938078 409.41663343  21.31560712]\n"
     ]
    }
   ],
   "source": [
    "scale = np.reciprocal(maxs - mins)\n",
    "mins = mins.reshape(-1,1)\n",
    "shifted = mesh - mins\n",
    "print(mesh[:,0])\n",
    "print(shifted[:, 0])"
   ],
   "metadata": {
    "collapsed": false,
    "ExecuteTime": {
     "end_time": "2024-05-27T11:39:32.196632808Z",
     "start_time": "2024-05-27T11:39:32.169464832Z"
    }
   },
   "id": "5645fff6d1ba922",
   "execution_count": 82
  },
  {
   "cell_type": "code",
   "outputs": [
    {
     "name": "stdout",
     "output_type": "stream",
     "text": [
      "[0.0005415  0.00084775 0.00132558 0.00257525]\n"
     ]
    }
   ],
   "source": [
    "print(scale)"
   ],
   "metadata": {
    "collapsed": false,
    "ExecuteTime": {
     "end_time": "2024-05-27T11:39:32.980510816Z",
     "start_time": "2024-05-27T11:39:32.962383132Z"
    }
   },
   "id": "af6ea12b32701b82",
   "execution_count": 83
  },
  {
   "cell_type": "code",
   "outputs": [],
   "source": [
    "scaledmesh=shifted*scale.reshape(-1,1)"
   ],
   "metadata": {
    "collapsed": false,
    "ExecuteTime": {
     "end_time": "2024-05-27T11:39:47.941048545Z",
     "start_time": "2024-05-27T11:39:47.893735978Z"
    }
   },
   "id": "b66344b71b711062",
   "execution_count": 85
  },
  {
   "cell_type": "code",
   "outputs": [
    {
     "data": {
      "text/plain": "[<matplotlib.lines.Line2D at 0x7fb421b5c8e0>]"
     },
     "execution_count": 86,
     "metadata": {},
     "output_type": "execute_result"
    },
    {
     "data": {
      "text/plain": "<Figure size 640x480 with 1 Axes>",
      "image/png": "[encoded data removed]"
     },
     "metadata": {},
     "output_type": "display_data"
    }
   ],
   "source": [
    "plt.plot(scaledmesh[0])"
   ],
   "metadata": {
    "collapsed": false,
    "ExecuteTime": {
     "end_time": "2024-05-27T11:40:03.449879902Z",
     "start_time": "2024-05-27T11:40:03.192147874Z"
    }
   },
   "id": "e623772209ba3f47",
   "execution_count": 86
  },
  {
   "cell_type": "code",
   "outputs": [],
   "source": [],
   "metadata": {
    "collapsed": false
   },
   "id": "9f4d36647f7c128d"
  },
  {
   "cell_type": "code",
   "outputs": [],
   "source": [],
   "metadata": {
    "collapsed": false
   },
   "id": "736dee2682b13463"
  },
  {
   "cell_type": "code",
   "outputs": [],
   "source": [],
   "metadata": {
    "collapsed": false
   },
   "id": "3e3287c95bf36dfb"
  },
  {
   "cell_type": "code",
   "outputs": [],
   "source": [],
   "metadata": {
    "collapsed": false
   },
   "id": "71d217a2d3229714"
  },
  {
   "cell_type": "code",
   "outputs": [],
   "source": [],
   "metadata": {
    "collapsed": false
   },
   "id": "f1b28c0a43852d4b"
  },
  {
   "cell_type": "code",
   "outputs": [],
   "source": [],
   "metadata": {
    "collapsed": false
   },
   "id": "e2d5b7259c5ce1a2"
  },
  {
   "cell_type": "code",
   "outputs": [],
   "source": [],
   "metadata": {
    "collapsed": false
   },
   "id": "5ec14ccba8366d6e"
  },
  {
   "cell_type": "code",
   "outputs": [],
   "source": [],
   "metadata": {
    "collapsed": false
   },
   "id": "f23b2278f3a11dd4"
  },
  {
   "cell_type": "code",
   "outputs": [],
   "source": [],
   "metadata": {
    "collapsed": false,
    "ExecuteTime": {
     "end_time": "2024-05-16T11:57:43.213179215Z",
     "start_time": "2024-05-16T11:57:43.202757970Z"
    }
   },
   "id": "638fd8b3b3d0ed32",
   "execution_count": 14
  },
  {
   "cell_type": "code",
   "outputs": [],
   "source": [],
   "metadata": {
    "collapsed": false
   },
   "id": "8a169de88dad4310"
  }
 ],
 "metadata": {
  "kernelspec": {
   "display_name": "Python 3",
   "language": "python",
   "name": "python3"
  },
  "language_info": {
   "codemirror_mode": {
    "name": "ipython",
    "version": 2
   },
   "file_extension": ".py",
   "mimetype": "text/x-python",
   "name": "python",
   "nbconvert_exporter": "python",
   "pygments_lexer": "ipython2",
   "version": "2.7.6"
  }
 },
 "nbformat": 4,
 "nbformat_minor": 5
}
