{
 "cells": [
  {
   "cell_type": "code",
   "execution_count": 22,
   "id": "initial_id",
   "metadata": {
    "collapsed": true,
    "ExecuteTime": {
     "end_time": "2024-05-27T13:36:52.555482396Z",
     "start_time": "2024-05-27T13:36:52.510123160Z"
    }
   },
   "outputs": [],
   "source": [
    "import numpy as np\n",
    "import matplotlib.pyplot as plt\n",
    "import pyvista as pv\n",
    "from os import listdir\n",
    "from os.path import isfile, join"
   ]
  },
  {
   "cell_type": "code",
   "outputs": [
    {
     "name": "stdout",
     "output_type": "stream",
     "text": [
      "108 30\n"
     ]
    }
   ],
   "source": [
    "mypath = '../../data/MLgSA/wss/'\n",
    "mypath1 = '../../data/MLgSA/New_wss/'\n",
    "\n",
    "onlyfiles = np.asarray([f for f in listdir(mypath) if isfile(join(mypath, f))])\n",
    "onlyfiles1 = np.asarray([f for f in listdir(mypath1) if isfile(join(mypath1, f))])\n",
    "\n",
    "onlyfiles.sort()\n",
    "onlyfiles1.sort()\n",
    "\n",
    "print(len(onlyfiles), len(onlyfiles1))\n",
    "\n",
    "short_list = np.asarray([s[5:23] if s[19] == 'l' else s[5:24] for s in onlyfiles])\n",
    "short_list1 = np.asarray([s[5:23] if s[19] == 'l' else s[5:24] for s in onlyfiles1])\n",
    "# short_list = np.asarray([s[5:23] if s[19] == 'l' else s[5:24] for s in onlyfiles])"
   ],
   "metadata": {
    "collapsed": false,
    "ExecuteTime": {
     "end_time": "2024-05-27T13:36:52.972207285Z",
     "start_time": "2024-05-27T13:36:52.950745721Z"
    }
   },
   "id": "9f40bb6f8af7295c",
   "execution_count": 23
  },
  {
   "cell_type": "code",
   "outputs": [],
   "source": [
    "meshes = []\n",
    "\n",
    "for f in onlyfiles:\n",
    "    reader = pv.get_reader(mypath + f)\n",
    "    meshes.append(reader.read())\n",
    "    \n",
    "for f in onlyfiles1:\n",
    "    reader = pv.get_reader(mypath1 + f)\n",
    "    meshes.append(reader.read())"
   ],
   "metadata": {
    "collapsed": false,
    "ExecuteTime": {
     "end_time": "2024-05-27T13:38:14.033835699Z",
     "start_time": "2024-05-27T13:37:37.788354550Z"
    }
   },
   "id": "cb8e17308b4b7e67",
   "execution_count": 24
  },
  {
   "cell_type": "code",
   "outputs": [
    {
     "data": {
      "text/plain": "138"
     },
     "execution_count": 25,
     "metadata": {},
     "output_type": "execute_result"
    }
   ],
   "source": [
    "len(meshes)"
   ],
   "metadata": {
    "collapsed": false,
    "ExecuteTime": {
     "end_time": "2024-05-27T13:38:14.079423338Z",
     "start_time": "2024-05-27T13:38:14.061768585Z"
    }
   },
   "id": "d3e18886edb5b3a9",
   "execution_count": 25
  },
  {
   "cell_type": "code",
   "outputs": [],
   "source": [
    "dl = []"
   ],
   "metadata": {
    "collapsed": false,
    "ExecuteTime": {
     "end_time": "2024-05-27T13:39:05.042026254Z",
     "start_time": "2024-05-27T13:39:05.000791872Z"
    }
   },
   "id": "14cdc346cac6c304",
   "execution_count": 26
  },
  {
   "cell_type": "code",
   "outputs": [],
   "source": [
    "for mesh in meshes:\n",
    "    dl.append(np.asarray(mesh.point_data.values()))"
   ],
   "metadata": {
    "collapsed": false,
    "ExecuteTime": {
     "end_time": "2024-05-27T13:39:10.379043619Z",
     "start_time": "2024-05-27T13:39:10.274181830Z"
    }
   },
   "id": "ffee0d03247e68e6",
   "execution_count": 27
  },
  {
   "cell_type": "code",
   "outputs": [],
   "source": [
    "data = np.concatenate(dl, axis=1)"
   ],
   "metadata": {
    "collapsed": false,
    "ExecuteTime": {
     "end_time": "2024-05-27T13:39:12.266459684Z",
     "start_time": "2024-05-27T13:39:12.223900278Z"
    }
   },
   "id": "40c920df351d52ce",
   "execution_count": 28
  },
  {
   "cell_type": "code",
   "outputs": [
    {
     "data": {
      "text/plain": "(4, 3957363)"
     },
     "execution_count": 29,
     "metadata": {},
     "output_type": "execute_result"
    }
   ],
   "source": [
    "data.shape"
   ],
   "metadata": {
    "collapsed": false,
    "ExecuteTime": {
     "end_time": "2024-05-27T13:39:14.527278052Z",
     "start_time": "2024-05-27T13:39:14.494085382Z"
    }
   },
   "id": "ddde08ec6ec1402a",
   "execution_count": 29
  },
  {
   "cell_type": "code",
   "outputs": [
    {
     "name": "stdout",
     "output_type": "stream",
     "text": [
      "[           nan 1.54482502e-06            nan 1.17441243e-06]\n"
     ]
    }
   ],
   "source": [
    "mins = np.min(data, axis=1)\n",
    "print(mins)"
   ],
   "metadata": {
    "collapsed": false,
    "ExecuteTime": {
     "end_time": "2024-05-27T13:39:19.628229487Z",
     "start_time": "2024-05-27T13:39:19.613411736Z"
    }
   },
   "id": "872daa84833ba8a3",
   "execution_count": 30
  },
  {
   "cell_type": "code",
   "outputs": [
    {
     "name": "stdout",
     "output_type": "stream",
     "text": [
      "[          nan 1674.87182814           nan  639.66460845]\n"
     ]
    }
   ],
   "source": [
    "maxs = np.max(data, axis=1)\n",
    "print(maxs)"
   ],
   "metadata": {
    "collapsed": false,
    "ExecuteTime": {
     "end_time": "2024-05-27T13:39:19.983705998Z",
     "start_time": "2024-05-27T13:39:19.951325317Z"
    }
   },
   "id": "b0e0f4e90d6adf02",
   "execution_count": 31
  },
  {
   "cell_type": "code",
   "outputs": [],
   "source": [
    "mesh = np.asarray(meshes[0].point_data.values())"
   ],
   "metadata": {
    "collapsed": false
   },
   "id": "6afbfaeb107c0351",
   "execution_count": null
  },
  {
   "cell_type": "code",
   "outputs": [],
   "source": [],
   "metadata": {
    "collapsed": false
   },
   "id": "81103f2233f43ad8"
  },
  {
   "cell_type": "code",
   "outputs": [],
   "source": [
    "# check if there are any nans\n",
    "\n",
    "np.argwhere(np.isnan(data))"
   ],
   "metadata": {
    "collapsed": false
   },
   "id": "8682f2781a13a8e2"
  },
  {
   "cell_type": "code",
   "outputs": [],
   "source": [],
   "metadata": {
    "collapsed": false
   },
   "id": "c1988859dabeafe1"
  },
  {
   "cell_type": "code",
   "outputs": [],
   "source": [
    "scale = np.reciprocal(maxs - mins)\n",
    "mins = mins.reshape(-1,1)\n",
    "shifted = mesh - mins\n",
    "print(mesh[:,0])\n",
    "print(shifted[:, 0])"
   ],
   "metadata": {
    "collapsed": false
   },
   "id": "5645fff6d1ba922",
   "execution_count": null
  },
  {
   "cell_type": "code",
   "outputs": [],
   "source": [
    "print(scale)"
   ],
   "metadata": {
    "collapsed": false
   },
   "id": "af6ea12b32701b82",
   "execution_count": null
  },
  {
   "cell_type": "code",
   "outputs": [],
   "source": [
    "scaledmesh=shifted*scale.reshape(-1,1)"
   ],
   "metadata": {
    "collapsed": false
   },
   "id": "b66344b71b711062",
   "execution_count": null
  },
  {
   "cell_type": "code",
   "outputs": [],
   "source": [
    "plt.plot(scaledmesh[0])"
   ],
   "metadata": {
    "collapsed": false
   },
   "id": "e623772209ba3f47",
   "execution_count": null
  },
  {
   "cell_type": "code",
   "outputs": [],
   "source": [
    "def get_scaled(mesh, mins=mins, maxs=maxs):\n",
    "    scale = np.reciprocal(maxs - mins)\n",
    "    mins = mins.reshape(-1,1)\n",
    "    shifted = mesh - mins\n",
    "    return shifted*scale.reshape(-1,1)"
   ],
   "metadata": {
    "collapsed": false
   },
   "id": "9f4d36647f7c128d",
   "execution_count": null
  },
  {
   "cell_type": "code",
   "outputs": [
    {
     "data": {
      "text/plain": "[<matplotlib.lines.Line2D at 0x7f7db730c370>]"
     },
     "execution_count": 76,
     "metadata": {},
     "output_type": "execute_result"
    },
    {
     "data": {
      "text/plain": "<Figure size 640x480 with 1 Axes>",
      "image/png": "[encoded data removed]"
     },
     "metadata": {},
     "output_type": "display_data"
    }
   ],
   "source": [
    "j = 58\n",
    "mesh = np.asarray(meshes[j].point_data.values())\n",
    "plt.plot(get_scaled(mesh)[0])"
   ],
   "metadata": {
    "collapsed": false,
    "ExecuteTime": {
     "end_time": "2024-05-28T08:23:03.998639917Z",
     "start_time": "2024-05-28T08:23:03.604397386Z"
    }
   },
   "id": "736dee2682b13463",
   "execution_count": 76
  },
  {
   "cell_type": "code",
   "outputs": [],
   "source": [
    "onlyfiles[1]"
   ],
   "metadata": {
    "collapsed": false
   },
   "id": "3e3287c95bf36dfb",
   "execution_count": null
  },
  {
   "cell_type": "code",
   "outputs": [],
   "source": [
    "cols = ['longitudinal_WSS_@_t=1.1', 'non-directional_WSS_@_t=1.1', 'longitudinal_WSS_@_t=1.55', 'non-directional_WSS_@_t=1.55']"
   ],
   "metadata": {
    "collapsed": false
   },
   "id": "71d217a2d3229714",
   "execution_count": null
  },
  {
   "cell_type": "code",
   "outputs": [
    {
     "data": {
      "text/plain": "Widget(value='<iframe src=\"http://localhost:37133/index.html?ui=P_0x7f7d9ebf9fd0_12&reconnect=auto\" class=\"pyv…",
      "application/vnd.jupyter.widget-view+json": {
       "version_major": 2,
       "version_minor": 0,
       "model_id": "2049fd0a800745ebbe773449e828386c"
      }
     },
     "metadata": {},
     "output_type": "display_data"
    }
   ],
   "source": [
    "plotter = pv.Plotter()\n",
    "plotter.add_mesh(meshes[58], scalars=cols[2])\n",
    "plotter.show()"
   ],
   "metadata": {
    "collapsed": false,
    "ExecuteTime": {
     "end_time": "2024-05-28T08:26:55.775049449Z",
     "start_time": "2024-05-28T08:26:55.556027892Z"
    }
   },
   "id": "f1b28c0a43852d4b",
   "execution_count": 78
  },
  {
   "cell_type": "code",
   "outputs": [],
   "source": [
    "node_data = np.asarray(meshes[33].point_data['longitudinal_WSS_@_t=1.1'])\n",
    "nan_indices = np.where(np.isnan(np.asarray(meshes[33].point_data['longitudinal_WSS_@_t=1.1'])))[0]"
   ],
   "metadata": {
    "collapsed": false,
    "ExecuteTime": {
     "end_time": "2024-05-28T12:29:42.029702654Z",
     "start_time": "2024-05-28T12:29:41.972701159Z"
    }
   },
   "id": "8a169de88dad4310",
   "execution_count": 205
  },
  {
   "cell_type": "code",
   "outputs": [
    {
     "data": {
      "text/plain": "array([6297, 6298, 6299, ..., 9341, 9344, 9345])"
     },
     "execution_count": 206,
     "metadata": {},
     "output_type": "execute_result"
    }
   ],
   "source": [
    "nan_indices"
   ],
   "metadata": {
    "collapsed": false,
    "ExecuteTime": {
     "end_time": "2024-05-28T12:29:48.026182186Z",
     "start_time": "2024-05-28T12:29:47.974360095Z"
    }
   },
   "id": "41c6389e0d5295cb",
   "execution_count": 206
  },
  {
   "cell_type": "code",
   "outputs": [
    {
     "data": {
      "text/plain": "array([          nan,   44.29682824,           nan,   16.43818216,\n       6297.        ])"
     },
     "execution_count": 215,
     "metadata": {},
     "output_type": "execute_result"
    }
   ],
   "source": [
    "np.asarray(meshes[33].point_data.values())[:, 6297]"
   ],
   "metadata": {
    "collapsed": false,
    "ExecuteTime": {
     "end_time": "2024-05-28T12:31:55.512449528Z",
     "start_time": "2024-05-28T12:31:55.448130577Z"
    }
   },
   "id": "6e6a0b9001825319",
   "execution_count": 215
  },
  {
   "cell_type": "code",
   "outputs": [],
   "source": [],
   "metadata": {
    "collapsed": false
   },
   "id": "64e1d13b3f4418ca"
  },
  {
   "cell_type": "code",
   "outputs": [],
   "source": [
    "valid_mask = ~np.isnan(node_data)\n",
    "valid_indices = np.where(valid_mask)[0]\n",
    "sub_mesh = meshes[33].extract_points(valid_indices)"
   ],
   "metadata": {
    "collapsed": false,
    "ExecuteTime": {
     "end_time": "2024-05-28T07:52:36.793129738Z",
     "start_time": "2024-05-28T07:52:36.732962036Z"
    }
   },
   "id": "e710a35d011c0b9f",
   "execution_count": 73
  },
  {
   "cell_type": "code",
   "outputs": [
    {
     "ename": "AttributeError",
     "evalue": "can't set attribute",
     "output_type": "error",
     "traceback": [
      "\u001B[0;31m---------------------------------------------------------------------------\u001B[0m",
      "\u001B[0;31mAttributeError\u001B[0m                            Traceback (most recent call last)",
      "Cell \u001B[0;32mIn[74], line 8\u001B[0m\n\u001B[1;32m      6\u001B[0m \u001B[38;5;66;03m# Add valid cells (connectivity)\u001B[39;00m\n\u001B[1;32m      7\u001B[0m new_mesh\u001B[38;5;241m.\u001B[39mcells \u001B[38;5;241m=\u001B[39m sub_mesh\u001B[38;5;241m.\u001B[39mcells\n\u001B[0;32m----> 8\u001B[0m new_mesh\u001B[38;5;241m.\u001B[39mcelltypes \u001B[38;5;241m=\u001B[39m sub_mesh\u001B[38;5;241m.\u001B[39mcelltypes\n\u001B[1;32m     10\u001B[0m \u001B[38;5;66;03m# If your mesh has cell data or point data, you can transfer it as well\u001B[39;00m\n\u001B[1;32m     11\u001B[0m new_mesh\u001B[38;5;241m.\u001B[39mpoint_data[\u001B[38;5;124m'\u001B[39m\u001B[38;5;124mlongitudinal_WSS_@_t=1.1\u001B[39m\u001B[38;5;124m'\u001B[39m] \u001B[38;5;241m=\u001B[39m sub_mesh\u001B[38;5;241m.\u001B[39mpoint_data[\u001B[38;5;124m'\u001B[39m\u001B[38;5;124mlongitudinal_WSS_@_t=1.1\u001B[39m\u001B[38;5;124m'\u001B[39m]\n",
      "\u001B[0;31mAttributeError\u001B[0m: can't set attribute"
     ]
    }
   ],
   "source": [
    "new_mesh = pv.UnstructuredGrid()\n",
    "\n",
    "# Add valid points\n",
    "new_mesh.points = sub_mesh.points\n",
    "\n",
    "# Add valid cells (connectivity)\n",
    "new_mesh.cells = sub_mesh.cells\n",
    "new_mesh.celltypes = sub_mesh.celltypes\n",
    "\n",
    "# If your mesh has cell data or point data, you can transfer it as well\n",
    "new_mesh.point_data['longitudinal_WSS_@_t=1.1'] = sub_mesh.point_data['longitudinal_WSS_@_t=1.1']"
   ],
   "metadata": {
    "collapsed": false,
    "ExecuteTime": {
     "end_time": "2024-05-28T07:53:39.471536438Z",
     "start_time": "2024-05-28T07:53:39.418517150Z"
    }
   },
   "id": "a1b9c8b6c9d9020c",
   "execution_count": 74
  },
  {
   "cell_type": "code",
   "outputs": [],
   "source": [
    "plotter = pv.Plotter()\n",
    "plotter.add_mesh(new_mesh, show_edges=True)\n",
    "plotter.show()"
   ],
   "metadata": {
    "collapsed": false
   },
   "id": "d0302cef1c9138b8"
  },
  {
   "cell_type": "code",
   "outputs": [],
   "source": [
    "def remove_nan_nodes(mesh, ind):\n",
    "    values = mesh.point_data.values()\n",
    "    if np.isnan(values).any():\n",
    "        print('yolo', ind)\n",
    "        nan_indices = np.where(np.isnan(values))[0]\n",
    "        keep_indices = np.setdiff1d(np.arange(mesh.number_of_points), nan_indices)\n",
    "\n",
    "        # Extract the new points and values without NaNs\n",
    "        new_points = mesh.points[keep_indices]\n",
    "        new_values = values[keep_indices]\n",
    "\n",
    "        # Update cell connectivity\n",
    "        new_cells = []\n",
    "        for i in range(mesh.n_cells):\n",
    "            cell = mesh.get_cell(i)\n",
    "            cell_points = cell.point_ids\n",
    "            new_cell_points = [point for point in cell_points if point not in nan_indices]\n",
    "            if len(new_cell_points) == len(cell_points):  # Keep cell if no point was removed\n",
    "                new_cells.append([len(new_cell_points)] + new_cell_points)\n",
    "\n",
    "        if not new_cells:\n",
    "            return None  # If no valid cells remain, return None\n",
    "\n",
    "        # Flatten the new cell connectivity list\n",
    "        new_cells_flat = [item for sublist in new_cells for item in sublist]\n",
    "\n",
    "        # Create a new unstructured grid with the cleaned data\n",
    "        new_grid = pv.UnstructuredGrid(new_cells_flat, mesh.celltypes, new_points)\n",
    "        new_grid.add_field_data(new_values)\n",
    "        return new_grid\n",
    "    return mesh"
   ],
   "metadata": {
    "collapsed": false,
    "ExecuteTime": {
     "end_time": "2024-05-27T13:47:26.866420548Z",
     "start_time": "2024-05-27T13:47:26.819036651Z"
    }
   },
   "id": "83d6a466b3035495",
   "execution_count": 40
  },
  {
   "cell_type": "code",
   "outputs": [
    {
     "name": "stdout",
     "output_type": "stream",
     "text": [
      "33\n"
     ]
    }
   ],
   "source": [
    "indices_with_nan = []\n",
    "cleaned_meshes = []\n",
    "for i, mesh in enumerate(meshes):\n",
    "    if np.isnan(mesh.point_data.values()).any():\n",
    "        print(i)\n",
    "        # indices_with_nan.append(i)\n",
    "        # cleaned_mesh = remove_nan_nodes(mesh, i)\n",
    "        # if cleaned_mesh is not None:\n",
    "        #     cleaned_meshes.append(cleaned_mesh)\n",
    "        # else:\n",
    "        #     cleaned_meshes.append(mesh)"
   ],
   "metadata": {
    "collapsed": false,
    "ExecuteTime": {
     "end_time": "2024-05-27T13:50:00.154697342Z",
     "start_time": "2024-05-27T13:50:00.078846200Z"
    }
   },
   "id": "53c76891357296e3",
   "execution_count": 50
  },
  {
   "cell_type": "code",
   "outputs": [],
   "source": [
    "mesh = meshes[33]"
   ],
   "metadata": {
    "collapsed": false,
    "ExecuteTime": {
     "end_time": "2024-05-28T12:28:54.543873697Z",
     "start_time": "2024-05-28T12:28:54.483748902Z"
    }
   },
   "id": "1746165213ff3a1e",
   "execution_count": 203
  },
  {
   "cell_type": "code",
   "outputs": [
    {
     "data": {
      "text/plain": "UnstructuredGrid (0x7f7de0757a60)\n  N Cells:    64245\n  N Points:   33660\n  X Bounds:   -3.926e+01, -1.194e+01\n  Y Bounds:   -1.643e+01, 1.845e+01\n  Z Bounds:   -1.145e+02, -4.116e+01\n  N Arrays:   6",
      "text/html": "<table style='width: 100%;'><tr><th>Header</th><th>Data Arrays</th></tr><tr><td>\n<table style='width: 100%;'>\n<tr><th>UnstructuredGrid</th><th>Information</th></tr>\n<tr><td>N Cells</td><td>64245</td></tr>\n<tr><td>N Points</td><td>33660</td></tr>\n<tr><td>X Bounds</td><td>-3.926e+01, -1.194e+01</td></tr>\n<tr><td>Y Bounds</td><td>-1.643e+01, 1.845e+01</td></tr>\n<tr><td>Z Bounds</td><td>-1.145e+02, -4.116e+01</td></tr>\n<tr><td>N Arrays</td><td>6</td></tr>\n</table>\n\n</td><td>\n<table style='width: 100%;'>\n<tr><th>Name</th><th>Field</th><th>Type</th><th>N Comp</th><th>Min</th><th>Max</th></tr>\n<tr><td>longitudinal_WSS_@_t=1.1</td><td>Points</td><td>float64</td><td>1</td><td>-1.978e+01</td><td>7.200e+01</td></tr>\n<tr><td>non-directional_WSS_@_t=1.1</td><td>Points</td><td>float64</td><td>1</td><td>1.481e-02</td><td>7.200e+01</td></tr>\n<tr><td><b>longitudinal_WSS_@_t=1.55</b></td><td>Points</td><td>float64</td><td>1</td><td>-3.313e+00</td><td>2.203e+01</td></tr>\n<tr><td>non-directional_WSS_@_t=1.55</td><td>Points</td><td>float64</td><td>1</td><td>2.303e-03</td><td>2.203e+01</td></tr>\n<tr><td>vtkOriginalPointIds</td><td>Points</td><td>int64</td><td>1</td><td>0.000e+00</td><td>3.366e+04</td></tr>\n<tr><td>vtkOriginalCellIds</td><td>Cells</td><td>int64</td><td>1</td><td>0.000e+00</td><td>6.424e+04</td></tr>\n</table>\n\n</td></tr> </table>"
     },
     "execution_count": 204,
     "metadata": {},
     "output_type": "execute_result"
    }
   ],
   "source": [
    "mesh"
   ],
   "metadata": {
    "collapsed": false,
    "ExecuteTime": {
     "end_time": "2024-05-28T12:28:54.847969933Z",
     "start_time": "2024-05-28T12:28:54.814829870Z"
    }
   },
   "id": "16c62b62161ba666",
   "execution_count": 204
  },
  {
   "cell_type": "code",
   "outputs": [],
   "source": [
    "polydata = mesh.extract_surface()\n",
    "edges = polydata.extract_feature_edges(boundary_edges=True,\n",
    "                                       feature_edges=False,\n",
    "                                       manifold_edges=False,\n",
    "                                       non_manifold_edges=False)"
   ],
   "metadata": {
    "collapsed": false,
    "ExecuteTime": {
     "end_time": "2024-05-28T11:30:33.036315353Z",
     "start_time": "2024-05-28T11:30:32.993318757Z"
    }
   },
   "id": "ea64dcbbee51cd2a",
   "execution_count": 191
  },
  {
   "cell_type": "code",
   "outputs": [],
   "source": [
    "boundary_point_ids = np.unique(edges.point_data['vtkOriginalPointIds'])\n",
    "is_boundary = np.zeros(polydata.number_of_points, dtype=bool)\n",
    "is_boundary[boundary_point_ids] = True"
   ],
   "metadata": {
    "collapsed": false,
    "ExecuteTime": {
     "end_time": "2024-05-28T11:30:33.811778223Z",
     "start_time": "2024-05-28T11:30:33.802083327Z"
    }
   },
   "id": "593ec02cb0e44361",
   "execution_count": 192
  },
  {
   "cell_type": "code",
   "outputs": [],
   "source": [
    "mesh_without_boundary = polydata.remove_points(boundary_point_ids)[0]"
   ],
   "metadata": {
    "collapsed": false,
    "ExecuteTime": {
     "end_time": "2024-05-28T11:30:34.243862303Z",
     "start_time": "2024-05-28T11:30:34.215057841Z"
    }
   },
   "id": "b19a61ad7ecea0b2",
   "execution_count": 193
  },
  {
   "cell_type": "code",
   "outputs": [
    {
     "data": {
      "text/plain": "PolyData (0x7f7d85736460)\n  N Cells:    31985\n  N Points:   16114\n  N Strips:   0\n  X Bounds:   9.237e+00, 3.033e+01\n  Y Bounds:   -5.315e+00, 1.931e+01\n  Z Bounds:   -1.075e+02, -4.519e+01\n  N Arrays:   6",
      "text/html": "<table style='width: 100%;'><tr><th>Header</th><th>Data Arrays</th></tr><tr><td>\n<table style='width: 100%;'>\n<tr><th>PolyData</th><th>Information</th></tr>\n<tr><td>N Cells</td><td>31985</td></tr>\n<tr><td>N Points</td><td>16114</td></tr>\n<tr><td>N Strips</td><td>0</td></tr>\n<tr><td>X Bounds</td><td>9.237e+00, 3.033e+01</td></tr>\n<tr><td>Y Bounds</td><td>-5.315e+00, 1.931e+01</td></tr>\n<tr><td>Z Bounds</td><td>-1.075e+02, -4.519e+01</td></tr>\n<tr><td>N Arrays</td><td>6</td></tr>\n</table>\n\n</td><td>\n<table style='width: 100%;'>\n<tr><th>Name</th><th>Field</th><th>Type</th><th>N Comp</th><th>Min</th><th>Max</th></tr>\n<tr><td><b>longitudinal_WSS_@_t=1.1</b></td><td>Points</td><td>float64</td><td>1</td><td>-1.928e+01</td><td>1.617e+02</td></tr>\n<tr><td>non-directional_WSS_@_t=1.1</td><td>Points</td><td>float64</td><td>1</td><td>5.119e-02</td><td>1.624e+02</td></tr>\n<tr><td>longitudinal_WSS_@_t=1.55</td><td>Points</td><td>float64</td><td>1</td><td>-6.189e+00</td><td>4.987e+01</td></tr>\n<tr><td>non-directional_WSS_@_t=1.55</td><td>Points</td><td>float64</td><td>1</td><td>3.137e-02</td><td>4.995e+01</td></tr>\n<tr><td>vtkOriginalPointIds</td><td>Points</td><td>int64</td><td>1</td><td>1.000e+00</td><td>1.634e+04</td></tr>\n<tr><td>vtkOriginalCellIds</td><td>Cells</td><td>int64</td><td>1</td><td>3.000e+00</td><td>3.246e+04</td></tr>\n</table>\n\n</td></tr> </table>"
     },
     "execution_count": 194,
     "metadata": {},
     "output_type": "execute_result"
    }
   ],
   "source": [
    "mesh_without_boundary"
   ],
   "metadata": {
    "collapsed": false,
    "ExecuteTime": {
     "end_time": "2024-05-28T11:30:34.577238497Z",
     "start_time": "2024-05-28T11:30:34.546933962Z"
    }
   },
   "id": "c46fe1de255f4745",
   "execution_count": 194
  },
  {
   "cell_type": "code",
   "outputs": [],
   "source": [
    "curv_values =  polydata.curvature(curv_type='mean')\n",
    "interior_curv_values = np.copy(curv_values)\n",
    "interior_curv_values[is_boundary] = np.nan  # Mask boundary nodes"
   ],
   "metadata": {
    "collapsed": false,
    "ExecuteTime": {
     "end_time": "2024-05-28T11:30:35.807212259Z",
     "start_time": "2024-05-28T11:30:35.761753707Z"
    }
   },
   "id": "ad20cc06cb2ce105",
   "execution_count": 195
  },
  {
   "cell_type": "code",
   "outputs": [],
   "source": [
    "max_curv_indices = np.argsort(interior_curv_values)[-500:]\n",
    "max_curv_nodes = mesh.points[max_curv_indices]"
   ],
   "metadata": {
    "collapsed": false,
    "ExecuteTime": {
     "end_time": "2024-05-28T11:30:36.479589510Z",
     "start_time": "2024-05-28T11:30:36.465400121Z"
    }
   },
   "id": "9926ab7ef2fd17d7",
   "execution_count": 196
  },
  {
   "cell_type": "code",
   "outputs": [
    {
     "data": {
      "text/plain": "Widget(value='<iframe src=\"http://localhost:37133/index.html?ui=P_0x7f7d857347c0_27&reconnect=auto\" class=\"pyv…",
      "application/vnd.jupyter.widget-view+json": {
       "version_major": 2,
       "version_minor": 0,
       "model_id": "8d176417ab9c4e05b062107007890302"
      }
     },
     "metadata": {},
     "output_type": "display_data"
    }
   ],
   "source": [
    "# Create a PyVista plotter object\n",
    "plotter = pv.Plotter()\n",
    "\n",
    "# Add the original mesh to the plotter\n",
    "plotter.add_mesh(polydata, show_edges=True, opacity=0.5)\n",
    "\n",
    "# Highlight the nodes with the largest curvature\n",
    "plotter.add_points(max_curv_nodes, color='red', point_size=10)\n",
    "\n",
    "# Display the plot\n",
    "plotter.show()\n"
   ],
   "metadata": {
    "collapsed": false,
    "ExecuteTime": {
     "end_time": "2024-05-28T11:30:37.201031585Z",
     "start_time": "2024-05-28T11:30:37.053385595Z"
    }
   },
   "id": "a1ced825dd8539f6",
   "execution_count": 197
  },
  {
   "cell_type": "code",
   "outputs": [],
   "source": [
    "# Getting points with the maximum wss\n",
    "data = mesh.point_data.values()[1]\n",
    "max_indices = np.argsort(data)[-500:]\n",
    "max_nodes = mesh.points[max_indices]"
   ],
   "metadata": {
    "collapsed": false,
    "ExecuteTime": {
     "end_time": "2024-05-28T11:30:37.770698975Z",
     "start_time": "2024-05-28T11:30:37.737671752Z"
    }
   },
   "id": "22972a99061dd6f7",
   "execution_count": 198
  },
  {
   "cell_type": "code",
   "outputs": [
    {
     "data": {
      "text/plain": "Widget(value='<iframe src=\"http://localhost:37133/index.html?ui=P_0x7f7d9e054730_28&reconnect=auto\" class=\"pyv…",
      "application/vnd.jupyter.widget-view+json": {
       "version_major": 2,
       "version_minor": 0,
       "model_id": "32169379af6445329e24ecd69d1895f4"
      }
     },
     "metadata": {},
     "output_type": "display_data"
    }
   ],
   "source": [
    "plotter = pv.Plotter()\n",
    "\n",
    "# Add the original mesh to the plotter\n",
    "plotter.add_mesh(polydata, show_edges=True, opacity=0.5)\n",
    "\n",
    "# Highlight the nodes with the largest curvature\n",
    "plotter.add_points(max_nodes, color='red', point_size=10)\n",
    "\n",
    "# Display the plot\n",
    "plotter.show()\n"
   ],
   "metadata": {
    "collapsed": false,
    "ExecuteTime": {
     "end_time": "2024-05-28T11:30:38.546022433Z",
     "start_time": "2024-05-28T11:30:38.375685484Z"
    }
   },
   "id": "23d0768ebc4285c",
   "execution_count": 199
  },
  {
   "cell_type": "code",
   "outputs": [
    {
     "name": "stdout",
     "output_type": "stream",
     "text": [
      "1000 992\n"
     ]
    }
   ],
   "source": [
    "# cross-sectional area\n",
    "from scipy.spatial import ConvexHull\n",
    "\n",
    "principal_axis = 'y'\n",
    "n_slices = 1000  # Number of slices along the principal axis\n",
    "\n",
    "\n",
    "bounds = polydata.bounds\n",
    "y_min, y_max = bounds[2], bounds[3]\n",
    "y_slices = np.linspace(y_min, y_max, n_slices)\n",
    "\n",
    "cross_sections = []\n",
    "areas = []\n",
    "\n",
    "for y in y_slices:\n",
    "    slice = mesh_without_boundary.slice(normal=[0, 1, 0], origin=[0, y, 0])\n",
    "    if slice.n_points >= 3:\n",
    "        hull = ConvexHull(slice.points[:, [0, 2]])  # Use x and z for the convex hull\n",
    "        cross_sections.append(slice)\n",
    "        areas.append(hull.volume)\n",
    "    else:\n",
    "        areas.append(np.inf)  # Assign a high value to ignore this slice\n",
    "\n",
    "areas = np.array(areas)\n",
    "\n",
    "print(len(areas), len(cross_sections))\n",
    "\n",
    "min_area_index = np.argmin(areas[:-3])\n",
    "bottleneck_slice = cross_sections[min_area_index]\n",
    "bottleneck_location = y_slices[min_area_index]"
   ],
   "metadata": {
    "collapsed": false,
    "ExecuteTime": {
     "end_time": "2024-05-28T11:30:45.650626605Z",
     "start_time": "2024-05-28T11:30:39.021006076Z"
    }
   },
   "id": "8fd5b499ce8f965f",
   "execution_count": 200
  },
  {
   "cell_type": "code",
   "outputs": [
    {
     "data": {
      "text/plain": "Widget(value='<iframe src=\"http://localhost:37133/index.html?ui=P_0x7f7d84c74610_29&reconnect=auto\" class=\"pyv…",
      "application/vnd.jupyter.widget-view+json": {
       "version_major": 2,
       "version_minor": 0,
       "model_id": "c157616fcf25432091aee293dbe13cba"
      }
     },
     "metadata": {},
     "output_type": "display_data"
    }
   ],
   "source": [
    "# Create a PyVista plotter object\n",
    "plotter = pv.Plotter()\n",
    "\n",
    "# Add the original mesh to the plotter\n",
    "plotter.add_mesh(polydata, show_edges=True, opacity=0.5)\n",
    "\n",
    "# Highlight the bottleneck slice\n",
    "plotter.add_mesh(bottleneck_slice, color='red', line_width=5)\n",
    "\n",
    "# Display the plot\n",
    "plotter.show()\n"
   ],
   "metadata": {
    "collapsed": false,
    "ExecuteTime": {
     "end_time": "2024-05-28T11:30:45.830724193Z",
     "start_time": "2024-05-28T11:30:45.653795723Z"
    }
   },
   "id": "2921b8272becd6a6",
   "execution_count": 201
  },
  {
   "cell_type": "code",
   "outputs": [],
   "source": [],
   "metadata": {
    "collapsed": false,
    "ExecuteTime": {
     "end_time": "2024-05-28T11:28:41.174001293Z",
     "start_time": "2024-05-28T11:28:41.157784537Z"
    }
   },
   "id": "a3240df34c71d898",
   "execution_count": 184
  },
  {
   "cell_type": "code",
   "outputs": [],
   "source": [],
   "metadata": {
    "collapsed": false,
    "ExecuteTime": {
     "end_time": "2024-05-28T12:00:56.153815531Z",
     "start_time": "2024-05-28T12:00:56.107541479Z"
    }
   },
   "id": "2345b4a45234addc",
   "execution_count": 202
  },
  {
   "cell_type": "code",
   "outputs": [],
   "source": [],
   "metadata": {
    "collapsed": false
   },
   "id": "f5eda89201ff1c8a"
  }
 ],
 "metadata": {
  "kernelspec": {
   "display_name": "Python 3",
   "language": "python",
   "name": "python3"
  },
  "language_info": {
   "codemirror_mode": {
    "name": "ipython",
    "version": 2
   },
   "file_extension": ".py",
   "mimetype": "text/x-python",
   "name": "python",
   "nbconvert_exporter": "python",
   "pygments_lexer": "ipython2",
   "version": "2.7.6"
  }
 },
 "nbformat": 4,
 "nbformat_minor": 5
}
