{
 "cells": [
  {
   "cell_type": "code",
   "execution_count": 14,
   "id": "initial_id",
   "metadata": {
    "collapsed": true,
    "ExecuteTime": {
     "end_time": "2024-05-28T12:26:35.360112911Z",
     "start_time": "2024-05-28T12:26:35.352444151Z"
    }
   },
   "outputs": [],
   "source": [
    "import numpy as np\n",
    "import pandas as pd\n",
    "import matplotlib.pyplot as plt\n",
    "import pyvista as pv\n",
    "from os import listdir\n",
    "from os.path import isfile, join\n",
    "import torch\n",
    "from torch_geometric.data import Data\n",
    "from torch_geometric.loader import DataLoader\n",
    "from sklearn.preprocessing import MinMaxScaler\n",
    "from sklearn.model_selection import train_test_split\n",
    "from scipy.sparse import coo_matrix\n",
    "import multiprocessing"
   ]
  },
  {
   "cell_type": "code",
   "outputs": [
    {
     "name": "stdout",
     "output_type": "stream",
     "text": [
      "108 30\n"
     ]
    }
   ],
   "source": [
    "mypath = '../../data/MLgSA/wss/'\n",
    "mypath1 = '../../data/MLgSA/New_wss/'\n",
    "\n",
    "onlyfiles = np.asarray([f for f in listdir(mypath) if isfile(join(mypath, f))])\n",
    "onlyfiles1 = np.asarray([f for f in listdir(mypath1) if isfile(join(mypath1, f))])\n",
    "\n",
    "onlyfiles.sort()\n",
    "onlyfiles1.sort()\n",
    "\n",
    "print(len(onlyfiles), len(onlyfiles1))\n",
    "\n",
    "short_list = np.asarray([s[5:23] if s[19] == 'l' else s[5:24] for s in onlyfiles])\n",
    "short_list1 = np.asarray([s[5:23] if s[19] == 'l' else s[5:24] for s in onlyfiles1])\n",
    "# short_list = np.asarray([s[5:23] if s[19] == 'l' else s[5:24] for s in onlyfiles])"
   ],
   "metadata": {
    "collapsed": false,
    "ExecuteTime": {
     "end_time": "2024-05-28T12:24:41.679797031Z",
     "start_time": "2024-05-28T12:24:41.658716951Z"
    }
   },
   "id": "cc426d998ab49789",
   "execution_count": 5
  },
  {
   "cell_type": "code",
   "outputs": [],
   "source": [
    "df = pd.read_csv(\"../../data/MLgSA/stenosis_metadata.csv\", sep=';')\n",
    "# Matching the stenosis degree to the datasets\n",
    "# missing datasets : index = [68, 87, 106]\n",
    "df = df.drop(index=[68, 87, 106])\n",
    "degree_list = df['ID'].values"
   ],
   "metadata": {
    "collapsed": false,
    "ExecuteTime": {
     "end_time": "2024-05-28T12:24:41.910597078Z",
     "start_time": "2024-05-28T12:24:41.876197089Z"
    }
   },
   "id": "ef8b7d695fa6623b",
   "execution_count": 6
  },
  {
   "cell_type": "code",
   "outputs": [],
   "source": [
    "meshes = []\n",
    "\n",
    "for f in onlyfiles:\n",
    "    reader = pv.get_reader(mypath + f)\n",
    "    meshes.append(reader.read())\n",
    "    \n",
    "for f in onlyfiles1:\n",
    "    reader = pv.get_reader(mypath1 + f)\n",
    "    meshes.append(reader.read())"
   ],
   "metadata": {
    "collapsed": false,
    "ExecuteTime": {
     "end_time": "2024-05-28T12:25:21.879179501Z",
     "start_time": "2024-05-28T12:24:43.491643886Z"
    }
   },
   "id": "66cf17168807222c",
   "execution_count": 7
  },
  {
   "cell_type": "code",
   "outputs": [
    {
     "name": "stdout",
     "output_type": "stream",
     "text": [
      "1.5448250238086984e-06 1674.871828135934 1674.871826591109\n"
     ]
    }
   ],
   "source": [
    "# data stats\n",
    "dl = []\n",
    "\n",
    "for mesh in meshes:\n",
    "    dl.append(np.asarray(mesh.point_data.values()[1]))\n",
    "\n",
    "data = np.concatenate(dl)\n",
    "mins = np.min(data)\n",
    "maxs = np.max(data)\n",
    "print(mins, maxs, maxs - mins)"
   ],
   "metadata": {
    "collapsed": false,
    "ExecuteTime": {
     "end_time": "2024-05-28T13:11:18.682714769Z",
     "start_time": "2024-05-28T13:11:18.627288849Z"
    }
   },
   "id": "4b45ed24962d9a0d",
   "execution_count": 29
  },
  {
   "cell_type": "code",
   "outputs": [],
   "source": [
    "def get_graph(mesh):\n",
    "    node_array = mesh.points\n",
    "    n = node_array.shape[0]\n",
    "    rows = []\n",
    "    cols = []\n",
    "    \n",
    "    features = (np.asarray(mesh.point_data['non-directional_WSS_@_t=1.1']).T - mins)/(maxs - mins)\n",
    "\n",
    "    for i in range(mesh.number_of_cells):\n",
    "        cell = mesh.get_cell(i)\n",
    "        cell_points = cell.point_ids\n",
    "        n_points = len(cell_points)\n",
    "        for j in range(n_points):\n",
    "            for k in range(j + 1, n_points):\n",
    "                p1 = cell_points[j]\n",
    "                p2 = cell_points[k]\n",
    "                rows.append(p1)\n",
    "                cols.append(p2)\n",
    "                rows.append(p2)\n",
    "                cols.append(p1)  \n",
    "\n",
    "\n",
    "    adj_matrix_coo = coo_matrix((np.ones(len(rows)), (rows, cols)), shape=(mesh.number_of_points, mesh.number_of_points))\n",
    "    edges = list(zip(adj_matrix_coo.row, adj_matrix_coo.col))\n",
    "    edge_index = torch.tensor(edges, dtype=torch.long).t().contiguous()\n",
    "    \n",
    "    \n",
    "    return edge_index, n, features"
   ],
   "metadata": {
    "collapsed": false,
    "ExecuteTime": {
     "end_time": "2024-05-28T13:13:31.431506946Z",
     "start_time": "2024-05-28T13:13:31.409964800Z"
    }
   },
   "id": "b0b70113962a620c",
   "execution_count": 35
  },
  {
   "cell_type": "code",
   "outputs": [],
   "source": [
    "edjl = []\n",
    "numl = []\n",
    "nf = []\n",
    "\n",
    "p = multiprocessing.Pool(8)\n",
    "\n",
    "for j, m in enumerate(meshes):\n",
    "    edj, num, fe = get_graph(m)\n",
    "    edjl.append(edj)\n",
    "    numl.append(num)\n",
    "    nf.append(fe)\n",
    "\n",
    "p.close()\n",
    "p.join()\n"
   ],
   "metadata": {
    "collapsed": false,
    "ExecuteTime": {
     "end_time": "2024-05-28T13:15:51.633889788Z",
     "start_time": "2024-05-28T13:13:32.646460813Z"
    }
   },
   "id": "c7e3bdab9019a158",
   "execution_count": 36
  },
  {
   "cell_type": "code",
   "outputs": [],
   "source": [
    "torch.save(edjl, '../../data/MLgSA/edge_indices.pt')\n",
    "torch.save(numl, '../../data/MLgSA/nodes.pt')\n",
    "torch.save(nf, '../../data/MLgSA/node_features.pt')"
   ],
   "metadata": {
    "collapsed": false,
    "ExecuteTime": {
     "end_time": "2024-05-28T13:21:59.151430487Z",
     "start_time": "2024-05-28T13:21:57.918242685Z"
    }
   },
   "id": "23bf3cdfcbe5f611",
   "execution_count": 39
  },
  {
   "cell_type": "code",
   "outputs": [],
   "source": [
    "data_list = torch.load('../../data/MLgSA/export/old/dataset.pt')\n",
    "ys = [pt.y for pt in data_list]"
   ],
   "metadata": {
    "collapsed": false,
    "ExecuteTime": {
     "end_time": "2024-05-28T13:46:40.713244553Z",
     "start_time": "2024-05-28T13:46:38.544594105Z"
    }
   },
   "id": "7762486e88c9ec96",
   "execution_count": 41
  },
  {
   "cell_type": "code",
   "outputs": [
    {
     "data": {
      "text/plain": "138"
     },
     "execution_count": 58,
     "metadata": {},
     "output_type": "execute_result"
    }
   ],
   "source": [
    "len(nf)"
   ],
   "metadata": {
    "collapsed": false,
    "ExecuteTime": {
     "end_time": "2024-05-28T13:55:18.017314190Z",
     "start_time": "2024-05-28T13:55:17.974128563Z"
    }
   },
   "id": "e39151090acefc71",
   "execution_count": 58
  },
  {
   "cell_type": "code",
   "outputs": [
    {
     "data": {
      "text/plain": "<matplotlib.collections.PathCollection at 0x7f10c1a6d940>"
     },
     "execution_count": 45,
     "metadata": {},
     "output_type": "execute_result"
    },
    {
     "data": {
      "text/plain": "<Figure size 640x480 with 1 Axes>",
      "image/png": "[encoded data removed]"
     },
     "metadata": {},
     "output_type": "display_data"
    }
   ],
   "source": [
    "plt.scatter(range(108), ys)"
   ],
   "metadata": {
    "collapsed": false,
    "ExecuteTime": {
     "end_time": "2024-05-28T13:47:14.807093703Z",
     "start_time": "2024-05-28T13:47:14.547948887Z"
    }
   },
   "id": "2cd6a723bb42c790",
   "execution_count": 45
  },
  {
   "cell_type": "code",
   "outputs": [
    {
     "data": {
      "text/plain": "11"
     },
     "execution_count": 56,
     "metadata": {},
     "output_type": "execute_result"
    }
   ],
   "source": [
    "sum(y > 50 for y in ys)"
   ],
   "metadata": {
    "collapsed": false,
    "ExecuteTime": {
     "end_time": "2024-05-28T13:54:13.067026501Z",
     "start_time": "2024-05-28T13:54:13.025049142Z"
    }
   },
   "id": "fb0ea2b6e4c622fb",
   "execution_count": 56
  },
  {
   "cell_type": "code",
   "outputs": [],
   "source": [
    "new_ys = []\n",
    "\n",
    "for i in range(138):\n",
    "    if i < 108:\n",
    "        new_ys.append(0) if ys[i] < 50 else new_ys.append(1)\n",
    "    else:\n",
    "        new_ys.append(1)"
   ],
   "metadata": {
    "collapsed": false,
    "ExecuteTime": {
     "end_time": "2024-05-28T13:57:59.181227120Z",
     "start_time": "2024-05-28T13:57:59.136171173Z"
    }
   },
   "id": "3a5b71251e15a779",
   "execution_count": 59
  },
  {
   "cell_type": "code",
   "outputs": [],
   "source": [
    "torch.save(new_ys, '../../data/MLgSA/classes.pt')"
   ],
   "metadata": {
    "collapsed": false,
    "ExecuteTime": {
     "end_time": "2024-05-28T13:58:55.171561760Z",
     "start_time": "2024-05-28T13:58:55.130483633Z"
    }
   },
   "id": "42ac3d04064204eb",
   "execution_count": 62
  },
  {
   "cell_type": "code",
   "outputs": [],
   "source": [],
   "metadata": {
    "collapsed": false
   },
   "id": "c4f5679eee18d814"
  }
 ],
 "metadata": {
  "kernelspec": {
   "display_name": "Python 3",
   "language": "python",
   "name": "python3"
  },
  "language_info": {
   "codemirror_mode": {
    "name": "ipython",
    "version": 2
   },
   "file_extension": ".py",
   "mimetype": "text/x-python",
   "name": "python",
   "nbconvert_exporter": "python",
   "pygments_lexer": "ipython2",
   "version": "2.7.6"
  }
 },
 "nbformat": 4,
 "nbformat_minor": 5
}
