{
 "cells": [
  {
   "cell_type": "code",
   "execution_count": 2,
   "id": "initial_id",
   "metadata": {
    "ExecuteTime": {
     "end_time": "2024-05-29T09:14:08.435620385Z",
     "start_time": "2024-05-29T09:14:04.108923048Z"
    },
    "collapsed": true
   },
   "outputs": [],
   "source": [
    "import numpy as np\n",
    "import pandas as pd\n",
    "import matplotlib.pyplot as plt\n",
    "import pyvista as pv\n",
    "from os import listdir\n",
    "from os.path import isfile, join\n",
    "import torch\n",
    "from torch_geometric.data import Data\n",
    "from torch_geometric.loader import DataLoader\n",
    "from sklearn.preprocessing import MinMaxScaler\n",
    "from sklearn.model_selection import train_test_split\n",
    "from scipy.sparse import coo_matrix\n",
    "import multiprocessing"
   ]
  },
  {
   "cell_type": "code",
   "execution_count": 2,
   "id": "cc426d998ab49789",
   "metadata": {
    "ExecuteTime": {
     "end_time": "2024-05-29T09:14:08.461405787Z",
     "start_time": "2024-05-29T09:14:08.441328704Z"
    },
    "collapsed": false
   },
   "outputs": [
    {
     "name": "stdout",
     "output_type": "stream",
     "text": [
      "108 30\n"
     ]
    }
   ],
   "source": [
    "mypath = '../../data/MLgSA/wss/'\n",
    "mypath1 = '../../data/MLgSA/New_wss/'\n",
    "\n",
    "onlyfiles = np.asarray([f for f in listdir(mypath) if isfile(join(mypath, f))])\n",
    "onlyfiles1 = np.asarray([f for f in listdir(mypath1) if isfile(join(mypath1, f))])\n",
    "\n",
    "onlyfiles.sort()\n",
    "onlyfiles1.sort()\n",
    "\n",
    "print(len(onlyfiles), len(onlyfiles1))\n",
    "\n",
    "short_list = np.asarray([s[5:23] if s[19] == 'l' else s[5:24] for s in onlyfiles])\n",
    "short_list1 = np.asarray([s[5:23] if s[19] == 'l' else s[5:24] for s in onlyfiles1])\n",
    "# short_list = np.asarray([s[5:23] if s[19] == 'l' else s[5:24] for s in onlyfiles])"
   ]
  },
  {
   "cell_type": "code",
   "execution_count": 3,
   "id": "ef8b7d695fa6623b",
   "metadata": {
    "ExecuteTime": {
     "end_time": "2024-05-29T09:14:08.494327245Z",
     "start_time": "2024-05-29T09:14:08.451910077Z"
    },
    "collapsed": false
   },
   "outputs": [],
   "source": [
    "df = pd.read_csv(\"../../data/MLgSA/stenosis_metadata.csv\", sep=';')\n",
    "# Matching the stenosis degree to the datasets\n",
    "# missing datasets : index = [68, 87, 106]\n",
    "df = df.drop(index=[68, 87, 106])\n",
    "degree_list = df['ID'].values"
   ]
  },
  {
   "cell_type": "code",
   "execution_count": 4,
   "id": "66cf17168807222c",
   "metadata": {
    "ExecuteTime": {
     "end_time": "2024-05-29T09:14:47.041473331Z",
     "start_time": "2024-05-29T09:14:08.466325861Z"
    },
    "collapsed": false
   },
   "outputs": [],
   "source": [
    "meshes = []\n",
    "\n",
    "for f in onlyfiles:\n",
    "    reader = pv.get_reader(mypath + f)\n",
    "    meshes.append(reader.read())\n",
    "    \n",
    "for f in onlyfiles1:\n",
    "    reader = pv.get_reader(mypath1 + f)\n",
    "    meshes.append(reader.read())"
   ]
  },
  {
   "cell_type": "code",
   "execution_count": 5,
   "id": "4b45ed24962d9a0d",
   "metadata": {
    "ExecuteTime": {
     "end_time": "2024-05-29T09:14:47.043516078Z",
     "start_time": "2024-05-29T09:14:47.019974832Z"
    },
    "collapsed": false
   },
   "outputs": [
    {
     "name": "stdout",
     "output_type": "stream",
     "text": [
      "1.5448250238086984e-06 1674.871828135934 1674.871826591109\n"
     ]
    }
   ],
   "source": [
    "# data stats\n",
    "dl = []\n",
    "\n",
    "for mesh in meshes:\n",
    "    dl.append(np.asarray(mesh.point_data.values()[1]))\n",
    "\n",
    "data = np.concatenate(dl)\n",
    "mins = np.min(data)\n",
    "maxs = np.max(data)\n",
    "print(mins, maxs, maxs - mins)"
   ]
  },
  {
   "cell_type": "code",
   "execution_count": 63,
   "id": "b0b70113962a620c",
   "metadata": {
    "ExecuteTime": {
     "end_time": "2024-05-28T14:01:14.837554132Z",
     "start_time": "2024-05-28T14:01:14.792489Z"
    },
    "collapsed": false
   },
   "outputs": [],
   "source": [
    "def get_graph(mesh):\n",
    "    node_array = mesh.points\n",
    "    n = node_array.shape[0]\n",
    "    rows = []\n",
    "    cols = []\n",
    "    \n",
    "    features = (np.asarray(mesh.point_data['non-directional_WSS_@_t=1.1']).T - mins)/(maxs - mins)\n",
    "\n",
    "    for i in range(mesh.number_of_cells):\n",
    "        cell = mesh.get_cell(i)\n",
    "        cell_points = cell.point_ids\n",
    "        n_points = len(cell_points)\n",
    "        for j in range(n_points):\n",
    "            for k in range(j + 1, n_points):\n",
    "                p1 = cell_points[j]\n",
    "                p2 = cell_points[k]\n",
    "                rows.append(p1)\n",
    "                cols.append(p2)\n",
    "                rows.append(p2)\n",
    "                cols.append(p1)  \n",
    "\n",
    "\n",
    "    adj_matrix_coo = coo_matrix((np.ones(len(rows)), (rows, cols)), shape=(mesh.number_of_points, mesh.number_of_points))\n",
    "    edges = list(zip(adj_matrix_coo.row, adj_matrix_coo.col))\n",
    "    edge_index = torch.tensor(edges, dtype=torch.long).t().contiguous()\n",
    "    \n",
    "    \n",
    "    return edge_index, n, torch.tensor(features, dtype=torch.float32)"
   ]
  },
  {
   "cell_type": "code",
   "execution_count": 36,
   "id": "b11ade42fdb92c38",
   "metadata": {
    "ExecuteTime": {
     "end_time": "2024-05-29T09:35:16.833757702Z",
     "start_time": "2024-05-29T09:35:16.767406411Z"
    },
    "collapsed": false
   },
   "outputs": [],
   "source": [
    "pos = []\n",
    "\n",
    "for mesh in meshes:\n",
    "    pos.append(torch.tensor(mesh.points, dtype=torch.float32))"
   ]
  },
  {
   "cell_type": "code",
   "execution_count": 64,
   "id": "c7e3bdab9019a158",
   "metadata": {
    "ExecuteTime": {
     "end_time": "2024-05-28T14:03:37.614779726Z",
     "start_time": "2024-05-28T14:01:15.798371611Z"
    },
    "collapsed": false
   },
   "outputs": [],
   "source": [
    "edjl = []\n",
    "numl = []\n",
    "nf = []\n",
    "\n",
    "p = multiprocessing.Pool(8)\n",
    "\n",
    "for j, m in enumerate(meshes):\n",
    "    edj, num, fe = get_graph(m)\n",
    "    edjl.append(edj)\n",
    "    numl.append(num)\n",
    "    nf.append(fe)\n",
    "\n",
    "p.close()\n",
    "p.join()\n"
   ]
  },
  {
   "cell_type": "code",
   "execution_count": 67,
   "id": "23bf3cdfcbe5f611",
   "metadata": {
    "ExecuteTime": {
     "end_time": "2024-05-28T14:04:34.473633602Z",
     "start_time": "2024-05-28T14:04:33.003739876Z"
    },
    "collapsed": false
   },
   "outputs": [],
   "source": [
    "torch.save(edjl, '../../data/MLgSA/edge_indices.pt')\n",
    "torch.save(numl, '../../data/MLgSA/nodes.pt')\n",
    "torch.save(nf, '../../data/MLgSA/node_features.pt')"
   ]
  },
  {
   "cell_type": "code",
   "execution_count": 6,
   "id": "7762486e88c9ec96",
   "metadata": {
    "ExecuteTime": {
     "end_time": "2024-05-29T09:23:54.435010430Z",
     "start_time": "2024-05-29T09:23:53.338548113Z"
    },
    "collapsed": false
   },
   "outputs": [],
   "source": [
    "data_list = torch.load('../../data/MLgSA/export/old/dataset.pt')\n",
    "ys = [pt.y for pt in data_list]"
   ]
  },
  {
   "cell_type": "code",
   "execution_count": 30,
   "id": "2cd6a723bb42c790",
   "metadata": {
    "ExecuteTime": {
     "end_time": "2024-05-29T09:24:02.171388234Z",
     "start_time": "2024-05-29T09:24:01.909769665Z"
    },
    "collapsed": false
   },
   "outputs": [
    {
     "data": {
      "text/plain": [
       "<matplotlib.collections.PathCollection at 0x7f003d7265b0>"
      ]
     },
     "execution_count": 30,
     "metadata": {},
     "output_type": "execute_result"
    },
    {
     "data": {
      "image/png": "[encoded data removed]",
      "text/plain": [
       "<Figure size 640x480 with 1 Axes>"
      ]
     },
     "metadata": {},
     "output_type": "display_data"
    }
   ],
   "source": [
    "plt.scatter(range(108), ys)"
   ]
  },
  {
   "cell_type": "code",
   "execution_count": 8,
   "id": "fb0ea2b6e4c622fb",
   "metadata": {
    "ExecuteTime": {
     "end_time": "2024-05-28T13:54:13.067026501Z",
     "start_time": "2024-05-28T13:54:13.025049142Z"
    },
    "collapsed": false
   },
   "outputs": [
    {
     "data": {
      "text/plain": [
       "[26.126666520373508,\n",
       " 71.55461808841325,\n",
       " 14.989693821100936,\n",
       " 3.440384067120566,\n",
       " 21.13145726892333]"
      ]
     },
     "execution_count": 8,
     "metadata": {},
     "output_type": "execute_result"
    }
   ],
   "source": [
    "ys[:5]"
   ]
  },
  {
   "cell_type": "code",
   "execution_count": 31,
   "id": "3a5b71251e15a779",
   "metadata": {
    "ExecuteTime": {
     "end_time": "2024-05-29T09:24:06.769694425Z",
     "start_time": "2024-05-29T09:24:06.717591391Z"
    },
    "collapsed": false
   },
   "outputs": [],
   "source": [
    "new_ys = []\n",
    "\n",
    "for i in range(138):\n",
    "    if i < 108:\n",
    "        new_ys.append(0) if ys[i] < 50 else new_ys.append(1)\n",
    "    else:\n",
    "        new_ys.append(1)"
   ]
  },
  {
   "cell_type": "code",
   "execution_count": 65,
   "id": "e3fe550d53fe4e02",
   "metadata": {
    "ExecuteTime": {
     "end_time": "2024-05-28T14:04:16.682390892Z",
     "start_time": "2024-05-28T14:04:16.641337394Z"
    },
    "collapsed": false
   },
   "outputs": [],
   "source": [
    "new_ys = torch.tensor(new_ys, dtype=torch.long)"
   ]
  },
  {
   "cell_type": "code",
   "execution_count": 66,
   "id": "42ac3d04064204eb",
   "metadata": {
    "ExecuteTime": {
     "end_time": "2024-05-28T14:04:20.109148185Z",
     "start_time": "2024-05-28T14:04:20.084366653Z"
    },
    "collapsed": false
   },
   "outputs": [],
   "source": [
    "torch.save(new_ys, '../../data/MLgSA/classes.pt')"
   ]
  },
  {
   "cell_type": "code",
   "execution_count": 69,
   "id": "c4f5679eee18d814",
   "metadata": {
    "ExecuteTime": {
     "end_time": "2024-05-28T14:05:38.171919476Z",
     "start_time": "2024-05-28T14:05:37.118756976Z"
    },
    "collapsed": false
   },
   "outputs": [],
   "source": [
    "data_list = [Data(x = a, edge_index=b, y = y) for (a, b, y) in zip(nf, edjl, new_ys)]\n"
   ]
  },
  {
   "cell_type": "markdown",
   "id": "17f959301d44518d",
   "metadata": {
    "collapsed": false
   },
   "source": [
    "# Updating the datalist with positions"
   ]
  },
  {
   "cell_type": "code",
   "execution_count": 13,
   "id": "3c41e757b3fb55e7",
   "metadata": {
    "ExecuteTime": {
     "end_time": "2024-05-29T09:19:24.045055365Z",
     "start_time": "2024-05-29T09:19:23.318091645Z"
    },
    "collapsed": false
   },
   "outputs": [],
   "source": [
    "dataset = torch.load('../../data/MLgSA/dataset.pt')"
   ]
  },
  {
   "cell_type": "code",
   "execution_count": 37,
   "id": "ef648c5e9c4601d6",
   "metadata": {
    "ExecuteTime": {
     "end_time": "2024-05-29T09:35:30.105005848Z",
     "start_time": "2024-05-29T09:35:30.077420367Z"
    },
    "collapsed": false
   },
   "outputs": [],
   "source": [
    "for i, data in enumerate(dataset):\n",
    "    if pos[i].shape[0] == data.x.shape[0]:\n",
    "        data.pos = pos[i]\n",
    "    else:\n",
    "        print(i)"
   ]
  },
  {
   "cell_type": "code",
   "execution_count": 39,
   "id": "afab8190b69b679d",
   "metadata": {
    "ExecuteTime": {
     "end_time": "2024-05-29T09:40:03.861009237Z",
     "start_time": "2024-05-29T09:40:03.810757176Z"
    },
    "collapsed": false
   },
   "outputs": [],
   "source": [
    "for t in range(len(dataset)):\n",
    "    dataset[t].x = torch.empty_like(dataset[t].x, dtype=torch.float32).copy_(dataset[t].x)"
   ]
  },
  {
   "cell_type": "code",
   "execution_count": 40,
   "id": "14c55734eccbeb19",
   "metadata": {
    "ExecuteTime": {
     "end_time": "2024-05-29T09:40:09.350160474Z",
     "start_time": "2024-05-29T09:40:07.637050054Z"
    },
    "collapsed": false
   },
   "outputs": [],
   "source": [
    "torch.save(dataset, '../../data/MLgSA/dataset.pt')"
   ]
  },
  {
   "cell_type": "code",
   "execution_count": 41,
   "id": "66649fb584ec13ea",
   "metadata": {
    "ExecuteTime": {
     "end_time": "2024-05-29T09:40:10.153404728Z",
     "start_time": "2024-05-29T09:40:10.124893192Z"
    },
    "collapsed": false
   },
   "outputs": [],
   "source": [
    "X_train, X_test, y_train, y_test = train_test_split(dataset, new_ys,\n",
    "                                                    stratify=new_ys,\n",
    "                                                    test_size=0.25)"
   ]
  },
  {
   "cell_type": "code",
   "execution_count": 42,
   "id": "bc908f5c6d45d8dc",
   "metadata": {
    "ExecuteTime": {
     "end_time": "2024-05-29T09:40:12.560867115Z",
     "start_time": "2024-05-29T09:40:10.619284858Z"
    },
    "collapsed": false
   },
   "outputs": [],
   "source": [
    "torch.save(X_train, '../../data/MLgSA/train_split.pt')\n",
    "torch.save(X_test, '../../data/MLgSA/test_split.pt')"
   ]
  },
  {
   "cell_type": "code",
   "execution_count": 43,
   "id": "a3a8373ab3d8a955",
   "metadata": {
    "ExecuteTime": {
     "end_time": "2024-05-29T09:40:14.626027881Z",
     "start_time": "2024-05-29T09:40:12.729461376Z"
    },
    "collapsed": false
   },
   "outputs": [],
   "source": [
    "train_loader = DataLoader(X_train, batch_size=1, shuffle=True)\n",
    "test_loader = DataLoader(X_test, batch_size=1)\n",
    "\n",
    "torch.save(train_loader, '../../data/MLgSA/train_loader.pt')\n",
    "torch.save(test_loader, '../../data/MLgSA/test_loader.pt')"
   ]
  },
  {
   "cell_type": "code",
   "execution_count": 25,
   "id": "701e886ba016f68e",
   "metadata": {
    "ExecuteTime": {
     "end_time": "2024-05-29T09:23:23.246417255Z",
     "start_time": "2024-05-29T09:23:23.200421783Z"
    },
    "collapsed": false
   },
   "outputs": [],
   "source": []
  },
  {
   "cell_type": "code",
   "execution_count": 22,
   "id": "796c839572d555bc",
   "metadata": {
    "ExecuteTime": {
     "end_time": "2024-05-29T09:21:41.639030439Z",
     "start_time": "2024-05-29T09:21:41.623701240Z"
    },
    "collapsed": false
   },
   "outputs": [],
   "source": []
  },
  {
   "cell_type": "code",
   "execution_count": 22,
   "id": "a563e4c696b143a9",
   "metadata": {
    "ExecuteTime": {
     "end_time": "2024-05-29T09:21:43.610886258Z",
     "start_time": "2024-05-29T09:21:43.596463907Z"
    },
    "collapsed": false
   },
   "outputs": [],
   "source": []
  },
  {
   "cell_type": "code",
   "execution_count": null,
   "id": "6143bf24135d2119",
   "metadata": {
    "collapsed": false
   },
   "outputs": [],
   "source": []
  }
 ],
 "metadata": {
  "kernelspec": {
   "display_name": "Python 3",
   "language": "python",
   "name": "python3"
  },
  "language_info": {
   "codemirror_mode": {
    "name": "ipython",
    "version": 3
   },
   "file_extension": ".py",
   "mimetype": "text/x-python",
   "name": "python",
   "nbconvert_exporter": "python",
   "pygments_lexer": "ipython3",
   "version": "3.10.14"
  }
 },
 "nbformat": 4,
 "nbformat_minor": 5
}
