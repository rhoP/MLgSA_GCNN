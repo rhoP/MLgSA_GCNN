{
 "cells": [
  {
   "cell_type": "code",
   "execution_count": 1,
   "id": "initial_id",
   "metadata": {
    "collapsed": true,
    "ExecuteTime": {
     "end_time": "2024-05-31T10:54:39.325589057Z",
     "start_time": "2024-05-31T10:54:36.822313103Z"
    }
   },
   "outputs": [],
   "source": [
    "import numpy as np\n",
    "import pandas as pd\n",
    "import matplotlib.pyplot as plt\n",
    "import pyvista as pv\n",
    "from os import listdir\n",
    "from os.path import isfile, join\n",
    "import torch\n",
    "from torch_geometric.data import Data\n",
    "from torch_geometric.loader import DataLoader\n",
    "from sklearn.preprocessing import MinMaxScaler\n",
    "from sklearn.model_selection import train_test_split\n",
    "from scipy.sparse import coo_matrix\n",
    "import multiprocessing"
   ]
  },
  {
   "cell_type": "code",
   "execution_count": 2,
   "id": "cc426d998ab49789",
   "metadata": {
    "collapsed": false,
    "ExecuteTime": {
     "end_time": "2024-05-31T10:54:40.155772014Z",
     "start_time": "2024-05-31T10:54:40.123400152Z"
    }
   },
   "outputs": [
    {
     "name": "stdout",
     "output_type": "stream",
     "text": [
      "109 50\n"
     ]
    }
   ],
   "source": [
    "mypath = '../../data/MLgSA/wss/'\n",
    "mypath1 = '../../data/MLgSA/New_wss/'\n",
    "\n",
    "onlyfiles = np.asarray([f for f in listdir(mypath) if isfile(join(mypath, f))])\n",
    "onlyfiles1 = np.asarray([f for f in listdir(mypath1) if isfile(join(mypath1, f))])\n",
    "\n",
    "onlyfiles.sort()\n",
    "onlyfiles1.sort()\n",
    "\n",
    "print(len(onlyfiles), len(onlyfiles1))\n",
    "\n",
    "short_list = np.asarray([s[5:23] if s[19] == 'l' else s[5:24] for s in onlyfiles])\n",
    "short_list1 = np.asarray([s[5:23] if s[19] == 'l' else s[5:24] for s in onlyfiles1])\n",
    "# short_list = np.asarray([s[5:23] if s[19] == 'l' else s[5:24] for s in onlyfiles])"
   ]
  },
  {
   "cell_type": "code",
   "execution_count": 3,
   "id": "ef8b7d695fa6623b",
   "metadata": {
    "collapsed": false,
    "ExecuteTime": {
     "end_time": "2024-05-31T10:54:44.328359933Z",
     "start_time": "2024-05-31T10:54:44.296812212Z"
    }
   },
   "outputs": [],
   "source": [
    "df = pd.read_csv(\"../../data/MLgSA/stenosis_metadata.csv\", sep=';')\n",
    "# Matching the stenosis degree to the datasets\n",
    "# missing datasets : index = [68, 87]\n",
    "df = df.drop(index=[68, 87])\n",
    "degree_list = df['ID'].values"
   ]
  },
  {
   "cell_type": "code",
   "execution_count": 4,
   "id": "66cf17168807222c",
   "metadata": {
    "collapsed": false,
    "ExecuteTime": {
     "end_time": "2024-05-31T10:56:20.606588862Z",
     "start_time": "2024-05-31T10:55:34.953745379Z"
    }
   },
   "outputs": [],
   "source": [
    "meshes = []\n",
    "\n",
    "for f in onlyfiles:\n",
    "    reader = pv.get_reader(mypath + f)\n",
    "    meshes.append(reader.read())\n",
    "    \n",
    "for f in onlyfiles1:\n",
    "    reader = pv.get_reader(mypath1 + f)\n",
    "    meshes.append(reader.read())"
   ]
  },
  {
   "cell_type": "code",
   "outputs": [],
   "source": [
    "i = 0\n",
    "for t, (a,b) in enumerate(zip(degree_list, short_list)):\n",
    "    if a != b:\n",
    "        i = t\n",
    "        print(i)\n",
    "        print(degree_list[i], short_list[i])\n",
    "        print(degree_list[i] in short_list)\n",
    "        break"
   ],
   "metadata": {
    "collapsed": false,
    "ExecuteTime": {
     "end_time": "2024-05-31T10:58:11.486946164Z",
     "start_time": "2024-05-31T10:58:11.443972785Z"
    }
   },
   "id": "84e8ff6da154da2a",
   "execution_count": 5
  },
  {
   "cell_type": "code",
   "execution_count": 6,
   "id": "4b45ed24962d9a0d",
   "metadata": {
    "collapsed": false,
    "ExecuteTime": {
     "end_time": "2024-05-31T10:58:27.875149771Z",
     "start_time": "2024-05-31T10:58:27.849211529Z"
    }
   },
   "outputs": [
    {
     "name": "stdout",
     "output_type": "stream",
     "text": [
      "1.5448250238086984e-06 1674.871828135934 1674.871826591109\n"
     ]
    }
   ],
   "source": [
    "# data stats\n",
    "dl = []\n",
    "\n",
    "for mesh in meshes:\n",
    "    dl.append(np.asarray(mesh.point_data.values()[1]))\n",
    "\n",
    "data = np.concatenate(dl)\n",
    "mins = np.min(data)\n",
    "maxs = np.max(data)\n",
    "print(mins, maxs, maxs - mins)"
   ]
  },
  {
   "cell_type": "code",
   "execution_count": 8,
   "id": "b0b70113962a620c",
   "metadata": {
    "collapsed": false,
    "ExecuteTime": {
     "end_time": "2024-05-31T11:00:47.280590958Z",
     "start_time": "2024-05-31T11:00:47.237302542Z"
    }
   },
   "outputs": [],
   "source": [
    "def get_graph(mesh):\n",
    "    node_array = mesh.points\n",
    "    n = node_array.shape[0]\n",
    "    rows = []\n",
    "    cols = []\n",
    "    \n",
    "    features = (np.asarray(mesh.point_data['non-directional_WSS_@_t=1.1']).T - mins)/(maxs - mins)\n",
    "\n",
    "    for i in range(mesh.number_of_cells):\n",
    "        cell = mesh.get_cell(i)\n",
    "        cell_points = cell.point_ids\n",
    "        n_points = len(cell_points)\n",
    "        for j in range(n_points):\n",
    "            for k in range(j + 1, n_points):\n",
    "                p1 = cell_points[j]\n",
    "                p2 = cell_points[k]\n",
    "                rows.append(p1)\n",
    "                cols.append(p2)\n",
    "                rows.append(p2)\n",
    "                cols.append(p1)  \n",
    "\n",
    "\n",
    "    adj_matrix_coo = coo_matrix((np.ones(len(rows)), (rows, cols)), shape=(mesh.number_of_points, mesh.number_of_points))\n",
    "    edges = list(zip(adj_matrix_coo.row, adj_matrix_coo.col))\n",
    "    edge_index = torch.tensor(edges, dtype=torch.long).t().contiguous()\n",
    "    \n",
    "    \n",
    "    return edge_index, n, torch.tensor(features, dtype=torch.float32).view((-1,1)), torch.tensor(mesh.points, dtype=torch.float32)"
   ]
  },
  {
   "cell_type": "code",
   "execution_count": 10,
   "id": "c7e3bdab9019a158",
   "metadata": {
    "collapsed": false,
    "ExecuteTime": {
     "end_time": "2024-05-31T11:07:00.392076667Z",
     "start_time": "2024-05-31T11:04:17.009968373Z"
    }
   },
   "outputs": [],
   "source": [
    "edjl = []\n",
    "numl = []\n",
    "nf = []\n",
    "pos = []\n",
    "\n",
    "p = multiprocessing.Pool(8)\n",
    "\n",
    "for j, m in enumerate(meshes):\n",
    "    edj, num, fe, po = get_graph(m)\n",
    "    edjl.append(edj)\n",
    "    numl.append(num)\n",
    "    nf.append(fe)\n",
    "    pos.append(po)\n",
    "\n",
    "p.close()\n",
    "p.join()\n"
   ]
  },
  {
   "cell_type": "code",
   "execution_count": 11,
   "id": "23bf3cdfcbe5f611",
   "metadata": {
    "collapsed": false,
    "ExecuteTime": {
     "end_time": "2024-05-31T11:19:33.434992345Z",
     "start_time": "2024-05-31T11:19:31.417596916Z"
    }
   },
   "outputs": [],
   "source": [
    "torch.save(edjl, '../../data/MLgSA/edge_indices.pt')\n",
    "torch.save(numl, '../../data/MLgSA/nodes.pt')\n",
    "torch.save(nf, '../../data/MLgSA/node_features.pt')\n",
    "torch.save(pos, '../../data/MLgSA/pos.pt')"
   ]
  },
  {
   "cell_type": "code",
   "outputs": [],
   "source": [
    "sten = df['Stenosis Degree'].values\n",
    "ys = [0 if i<50. else 1 for i in sten]"
   ],
   "metadata": {
    "collapsed": false,
    "ExecuteTime": {
     "end_time": "2024-05-31T11:27:11.861948986Z",
     "start_time": "2024-05-31T11:27:11.815333691Z"
    }
   },
   "id": "f4217557015d3239",
   "execution_count": 21
  },
  {
   "cell_type": "code",
   "outputs": [
    {
     "data": {
      "text/plain": "<matplotlib.collections.PathCollection at 0x7fe653340040>"
     },
     "execution_count": 20,
     "metadata": {},
     "output_type": "execute_result"
    },
    {
     "data": {
      "text/plain": "<Figure size 640x480 with 1 Axes>",
      "image/png": "[encoded data removed]"
     },
     "metadata": {},
     "output_type": "display_data"
    }
   ],
   "source": [
    "plt.scatter(range(109), sten)"
   ],
   "metadata": {
    "collapsed": false,
    "ExecuteTime": {
     "end_time": "2024-05-31T11:26:57.357456860Z",
     "start_time": "2024-05-31T11:26:57.044648831Z"
    }
   },
   "id": "fd475a75bdc8ba4c",
   "execution_count": 20
  },
  {
   "cell_type": "code",
   "execution_count": 25,
   "id": "7762486e88c9ec96",
   "metadata": {
    "collapsed": false,
    "ExecuteTime": {
     "end_time": "2024-05-31T11:28:22.226722718Z",
     "start_time": "2024-05-31T11:28:22.177704783Z"
    }
   },
   "outputs": [
    {
     "data": {
      "text/plain": "11"
     },
     "execution_count": 25,
     "metadata": {},
     "output_type": "execute_result"
    }
   ],
   "source": [
    "np.count_nonzero(ys)"
   ]
  },
  {
   "cell_type": "code",
   "outputs": [
    {
     "name": "stdout",
     "output_type": "stream",
     "text": [
      "True\n"
     ]
    }
   ],
   "source": [
    "new_ys = ys + [1]*50\n",
    "\n",
    "print(len(new_ys) == len(meshes))"
   ],
   "metadata": {
    "collapsed": false,
    "ExecuteTime": {
     "end_time": "2024-05-31T11:29:19.955102410Z",
     "start_time": "2024-05-31T11:29:19.919660065Z"
    }
   },
   "id": "3a5b71251e15a779",
   "execution_count": 27
  },
  {
   "cell_type": "code",
   "execution_count": 28,
   "id": "e3fe550d53fe4e02",
   "metadata": {
    "collapsed": false,
    "ExecuteTime": {
     "end_time": "2024-05-31T11:29:25.438139858Z",
     "start_time": "2024-05-31T11:29:25.424990638Z"
    }
   },
   "outputs": [],
   "source": [
    "new_ys = torch.tensor(new_ys, dtype=torch.long)"
   ]
  },
  {
   "cell_type": "code",
   "execution_count": 29,
   "id": "42ac3d04064204eb",
   "metadata": {
    "collapsed": false,
    "ExecuteTime": {
     "end_time": "2024-05-31T11:29:28.315164734Z",
     "start_time": "2024-05-31T11:29:28.287786119Z"
    }
   },
   "outputs": [],
   "source": [
    "torch.save(new_ys, '../../data/MLgSA/classes.pt')"
   ]
  },
  {
   "cell_type": "code",
   "execution_count": 31,
   "id": "c4f5679eee18d814",
   "metadata": {
    "collapsed": false,
    "ExecuteTime": {
     "end_time": "2024-05-31T11:40:47.738563953Z",
     "start_time": "2024-05-31T11:40:47.686553818Z"
    }
   },
   "outputs": [],
   "source": [
    "dataset = [Data(x = a, edge_index=b, y = y, pos=posns) for (a, b, y, posns) in zip(nf, edjl, new_ys, pos)]\n"
   ]
  },
  {
   "cell_type": "code",
   "execution_count": 32,
   "id": "14c55734eccbeb19",
   "metadata": {
    "collapsed": false,
    "ExecuteTime": {
     "end_time": "2024-05-31T11:40:51.708310580Z",
     "start_time": "2024-05-31T11:40:49.716265030Z"
    }
   },
   "outputs": [],
   "source": [
    "torch.save(dataset, '../../data/MLgSA/dataset.pt')"
   ]
  },
  {
   "cell_type": "code",
   "execution_count": 33,
   "id": "66649fb584ec13ea",
   "metadata": {
    "collapsed": false,
    "ExecuteTime": {
     "end_time": "2024-05-31T11:40:54.824875172Z",
     "start_time": "2024-05-31T11:40:54.787731162Z"
    }
   },
   "outputs": [],
   "source": [
    "X_train, X_test, y_train, y_test = train_test_split(dataset, new_ys,\n",
    "                                                    stratify=new_ys,\n",
    "                                                    test_size=0.25)"
   ]
  },
  {
   "cell_type": "code",
   "execution_count": 34,
   "id": "bc908f5c6d45d8dc",
   "metadata": {
    "collapsed": false,
    "ExecuteTime": {
     "end_time": "2024-05-31T11:40:57.608305229Z",
     "start_time": "2024-05-31T11:40:55.653525207Z"
    }
   },
   "outputs": [],
   "source": [
    "torch.save(X_train, '../../data/MLgSA/train_split.pt')\n",
    "torch.save(X_test, '../../data/MLgSA/test_split.pt')"
   ]
  },
  {
   "cell_type": "code",
   "execution_count": 35,
   "id": "a3a8373ab3d8a955",
   "metadata": {
    "collapsed": false,
    "ExecuteTime": {
     "end_time": "2024-05-31T11:41:00.467797155Z",
     "start_time": "2024-05-31T11:40:58.400785329Z"
    }
   },
   "outputs": [],
   "source": [
    "train_loader = DataLoader(X_train, batch_size=1, shuffle=True)\n",
    "test_loader = DataLoader(X_test, batch_size=1)\n",
    "\n",
    "torch.save(train_loader, '../../data/MLgSA/train_loader.pt')\n",
    "torch.save(test_loader, '../../data/MLgSA/test_loader.pt')"
   ]
  },
  {
   "cell_type": "code",
   "execution_count": 25,
   "id": "701e886ba016f68e",
   "metadata": {
    "ExecuteTime": {
     "end_time": "2024-05-29T09:23:23.246417255Z",
     "start_time": "2024-05-29T09:23:23.200421783Z"
    },
    "collapsed": false
   },
   "outputs": [],
   "source": []
  },
  {
   "cell_type": "code",
   "execution_count": 22,
   "id": "796c839572d555bc",
   "metadata": {
    "ExecuteTime": {
     "end_time": "2024-05-29T09:21:41.639030439Z",
     "start_time": "2024-05-29T09:21:41.623701240Z"
    },
    "collapsed": false
   },
   "outputs": [],
   "source": []
  },
  {
   "cell_type": "code",
   "execution_count": 22,
   "id": "a563e4c696b143a9",
   "metadata": {
    "ExecuteTime": {
     "end_time": "2024-05-29T09:21:43.610886258Z",
     "start_time": "2024-05-29T09:21:43.596463907Z"
    },
    "collapsed": false
   },
   "outputs": [],
   "source": []
  },
  {
   "cell_type": "code",
   "execution_count": 30,
   "id": "6143bf24135d2119",
   "metadata": {
    "collapsed": false,
    "ExecuteTime": {
     "end_time": "2024-05-31T11:38:36.408822613Z",
     "start_time": "2024-05-31T11:38:36.367006592Z"
    }
   },
   "outputs": [],
   "source": []
  },
  {
   "cell_type": "code",
   "outputs": [],
   "source": [],
   "metadata": {
    "collapsed": false
   },
   "id": "fb12d4a03091a13f"
  }
 ],
 "metadata": {
  "kernelspec": {
   "display_name": "Python 3",
   "language": "python",
   "name": "python3"
  },
  "language_info": {
   "codemirror_mode": {
    "name": "ipython",
    "version": 3
   },
   "file_extension": ".py",
   "mimetype": "text/x-python",
   "name": "python",
   "nbconvert_exporter": "python",
   "pygments_lexer": "ipython3",
   "version": "3.10.14"
  }
 },
 "nbformat": 4,
 "nbformat_minor": 5
}
