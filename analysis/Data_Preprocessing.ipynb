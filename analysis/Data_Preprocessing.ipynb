{
 "cells": [
  {
   "cell_type": "code",
   "execution_count": 5,
   "id": "initial_id",
   "metadata": {
    "ExecuteTime": {
     "end_time": "2024-05-31T10:54:39.325589057Z",
     "start_time": "2024-05-31T10:54:36.822313103Z"
    },
    "collapsed": true
   },
   "outputs": [],
   "source": [
    "import numpy as np\n",
    "import pandas as pd\n",
    "import matplotlib.pyplot as plt\n",
    "import pyvista as pv\n",
    "from os import listdir\n",
    "from os.path import isfile, join\n",
    "import torch\n",
    "from torch_geometric.data import Data\n",
    "from torch_geometric.loader import DataLoader\n",
    "from sklearn.preprocessing import MinMaxScaler\n",
    "from sklearn.model_selection import train_test_split\n",
    "from scipy.sparse import coo_matrix\n",
    "import multiprocessing\n",
    "from collections import defaultdict"
   ]
  },
  {
   "cell_type": "code",
   "execution_count": 6,
   "id": "cc426d998ab49789",
   "metadata": {
    "ExecuteTime": {
     "end_time": "2024-05-31T10:54:40.155772014Z",
     "start_time": "2024-05-31T10:54:40.123400152Z"
    },
    "collapsed": false
   },
   "outputs": [
    {
     "name": "stdout",
     "output_type": "stream",
     "text": [
      "109 50\n"
     ]
    }
   ],
   "source": [
    "mypath = '../../data/MLgSA/wss/'\n",
    "mypath1 = '../../data/MLgSA/New_wss/'\n",
    "\n",
    "onlyfiles = np.asarray([f for f in listdir(mypath) if isfile(join(mypath, f))])\n",
    "onlyfiles1 = np.asarray([f for f in listdir(mypath1) if isfile(join(mypath1, f))])\n",
    "\n",
    "onlyfiles.sort()\n",
    "onlyfiles1.sort()\n",
    "\n",
    "print(len(onlyfiles), len(onlyfiles1))\n",
    "\n",
    "short_list = np.asarray([s[5:23] if s[19] == 'l' else s[5:24] for s in onlyfiles])\n",
    "short_list1 = np.asarray([s[5:23] if s[19] == 'l' else s[5:24] for s in onlyfiles1])\n",
    "# short_list = np.asarray([s[5:23] if s[19] == 'l' else s[5:24] for s in onlyfiles])"
   ]
  },
  {
   "cell_type": "code",
   "execution_count": 3,
   "id": "ef8b7d695fa6623b",
   "metadata": {
    "ExecuteTime": {
     "end_time": "2024-05-31T10:54:44.328359933Z",
     "start_time": "2024-05-31T10:54:44.296812212Z"
    },
    "collapsed": false
   },
   "outputs": [],
   "source": [
    "df = pd.read_csv(\"../../data/MLgSA/stenosis_metadata.csv\", sep=';')\n",
    "# Matching the stenosis degree to the datasets\n",
    "# missing datasets : index = [68, 87]\n",
    "df = df.drop(index=[68, 87])\n",
    "degree_list = df['ID'].values"
   ]
  },
  {
   "cell_type": "code",
   "execution_count": 11,
   "id": "66cf17168807222c",
   "metadata": {
    "ExecuteTime": {
     "end_time": "2024-05-31T10:56:20.606588862Z",
     "start_time": "2024-05-31T10:55:34.953745379Z"
    },
    "collapsed": false
   },
   "outputs": [],
   "source": [
    "meshes = []\n",
    "\n",
    "for f in onlyfiles:\n",
    "    reader = pv.get_reader(mypath + f)\n",
    "    meshes.append(reader.read())\n",
    "    \n",
    "for f in onlyfiles1:\n",
    "    reader = pv.get_reader(mypath1 + f)\n",
    "    meshes.append(reader.read())"
   ]
  },
  {
   "cell_type": "code",
   "execution_count": null,
   "id": "84e8ff6da154da2a",
   "metadata": {
    "ExecuteTime": {
     "end_time": "2024-05-31T10:58:11.486946164Z",
     "start_time": "2024-05-31T10:58:11.443972785Z"
    },
    "collapsed": false
   },
   "outputs": [],
   "source": [
    "i = 0\n",
    "for t, (a,b) in enumerate(zip(degree_list, short_list)):\n",
    "    if a != b:\n",
    "        i = t\n",
    "        print(i)\n",
    "        print(degree_list[i], short_list[i])\n",
    "        print(degree_list[i] in short_list)\n",
    "        break"
   ]
  },
  {
   "cell_type": "code",
   "execution_count": 7,
   "id": "9fe419bf",
   "metadata": {},
   "outputs": [],
   "source": [
    "def vari(mesh):\n",
    "    # Initialize a dictionary to store neighbors for each point\n",
    "    neighbors = defaultdict(set)\n",
    "    signal = mesh['non-directional_WSS_@_t=1.1']\n",
    "\n",
    "    # Loop over each cell and populate the neighbors dictionary\n",
    "    for i in range(mesh.n_cells):\n",
    "        cell = mesh.get_cell(i)\n",
    "        cell_points = cell.point_ids\n",
    "        for i in range(len(cell_points)):\n",
    "            for j in range(i + 1, len(cell_points)):\n",
    "                neighbors[cell_points[i]].add(cell_points[j])\n",
    "                neighbors[cell_points[j]].add(cell_points[i])\n",
    "\n",
    "\n",
    "    # Visualize Total Variation by highlighting edges with largest differences\n",
    "    # Initialize an array to store the total variation values\n",
    "    total_variation = np.zeros(mesh.number_of_points)\n",
    "\n",
    "    # Compute the total variation for each vertex\n",
    "    for point_id in range(mesh.number_of_points):\n",
    "        # Get the signal values at the point and its neighbors\n",
    "        point_signal = signal[point_id]\n",
    "        neighbor_signals = [signal[neighbor] for neighbor in neighbors[point_id]]\n",
    "        # Calculate the total variation\n",
    "        total_variation[point_id] = np.sum(np.abs(point_signal - np.array(neighbor_signals)))\n",
    "\n",
    "    # Assign the total variation values to the mesh\n",
    "    mesh.point_data['total_variation'] = total_variation\n",
    "\n",
    "    max_var_indices = np.argsort(total_variation)[-30:]\n",
    "    return mesh.extract_points(max_var_indices, include_cells=True)"
   ]
  },
  {
   "cell_type": "code",
   "execution_count": 11,
   "id": "f1c651e1",
   "metadata": {},
   "outputs": [],
   "source": [
    "for i in range(159):\n",
    "    meshes[i] = vari(meshes[i])"
   ]
  },
  {
   "cell_type": "code",
   "execution_count": null,
   "id": "510b669b",
   "metadata": {},
   "outputs": [],
   "source": []
  },
  {
   "cell_type": "code",
   "execution_count": 12,
   "id": "4b45ed24962d9a0d",
   "metadata": {
    "ExecuteTime": {
     "end_time": "2024-05-31T10:58:27.875149771Z",
     "start_time": "2024-05-31T10:58:27.849211529Z"
    },
    "collapsed": false
   },
   "outputs": [
    {
     "name": "stdout",
     "output_type": "stream",
     "text": [
      "0.10447378903196933 1674.871828135934 1674.767354346902\n"
     ]
    }
   ],
   "source": [
    "# data stats\n",
    "dl = []\n",
    "\n",
    "for mesh in meshes:\n",
    "    dl.append(np.asarray(mesh.point_data.values()[1]))\n",
    "\n",
    "data = np.concatenate(dl)\n",
    "mins = np.min(data)\n",
    "maxs = np.max(data)\n",
    "print(mins, maxs, maxs - mins)"
   ]
  },
  {
   "cell_type": "code",
   "execution_count": 14,
   "id": "b0b70113962a620c",
   "metadata": {
    "ExecuteTime": {
     "end_time": "2024-05-31T11:00:47.280590958Z",
     "start_time": "2024-05-31T11:00:47.237302542Z"
    },
    "collapsed": false
   },
   "outputs": [],
   "source": [
    "def get_graph(mesh):\n",
    "    node_array = mesh.points\n",
    "    n = node_array.shape[0]\n",
    "    rows = []\n",
    "    cols = []\n",
    "    \n",
    "    features = (np.asarray(mesh.point_data['non-directional_WSS_@_t=1.1']).T - mins)/(maxs - mins)\n",
    "\n",
    "    for i in range(mesh.number_of_cells):\n",
    "        cell = mesh.get_cell(i)\n",
    "        cell_points = cell.point_ids\n",
    "        n_points = len(cell_points)\n",
    "        for j in range(n_points):\n",
    "            for k in range(j + 1, n_points):\n",
    "                p1 = cell_points[j]\n",
    "                p2 = cell_points[k]\n",
    "                rows.append(p1)\n",
    "                cols.append(p2)\n",
    "                rows.append(p2)\n",
    "                cols.append(p1)  \n",
    "\n",
    "\n",
    "    adj_matrix_coo = coo_matrix((np.ones(len(rows)), (rows, cols)), shape=(mesh.number_of_points, mesh.number_of_points))\n",
    "    edges = list(zip(adj_matrix_coo.row, adj_matrix_coo.col))\n",
    "    edge_index = torch.tensor(edges, dtype=torch.long).t().contiguous()\n",
    "    \n",
    "    \n",
    "    return edge_index, n, torch.tensor(features, dtype=torch.float32).view((-1,1)), torch.tensor(mesh.points, dtype=torch.float32)"
   ]
  },
  {
   "cell_type": "code",
   "execution_count": 15,
   "id": "c7e3bdab9019a158",
   "metadata": {
    "ExecuteTime": {
     "end_time": "2024-05-31T11:07:00.392076667Z",
     "start_time": "2024-05-31T11:04:17.009968373Z"
    },
    "collapsed": false
   },
   "outputs": [],
   "source": [
    "edjl = []\n",
    "numl = []\n",
    "nf = []\n",
    "pos = []\n",
    "\n",
    "p = multiprocessing.Pool(8)\n",
    "\n",
    "for j, m in enumerate(meshes):\n",
    "    edj, num, fe, po = get_graph(m)\n",
    "    edjl.append(edj)\n",
    "    numl.append(num)\n",
    "    nf.append(fe)\n",
    "    pos.append(po)\n",
    "\n",
    "p.close()\n",
    "p.join()\n"
   ]
  },
  {
   "cell_type": "code",
   "execution_count": 16,
   "id": "23bf3cdfcbe5f611",
   "metadata": {
    "ExecuteTime": {
     "end_time": "2024-05-31T11:19:33.434992345Z",
     "start_time": "2024-05-31T11:19:31.417596916Z"
    },
    "collapsed": false
   },
   "outputs": [],
   "source": [
    "torch.save(edjl, '../../data/MLgSA/edge_indices.pt')\n",
    "torch.save(numl, '../../data/MLgSA/nodes.pt')\n",
    "torch.save(nf, '../../data/MLgSA/node_features.pt')\n",
    "torch.save(pos, '../../data/MLgSA/pos.pt')"
   ]
  },
  {
   "cell_type": "code",
   "execution_count": 17,
   "id": "f4217557015d3239",
   "metadata": {
    "ExecuteTime": {
     "end_time": "2024-05-31T11:27:11.861948986Z",
     "start_time": "2024-05-31T11:27:11.815333691Z"
    },
    "collapsed": false
   },
   "outputs": [],
   "source": [
    "sten = df['Stenosis Degree'].values\n",
    "ys = [0 if i<50. else 1 for i in sten]"
   ]
  },
  {
   "cell_type": "code",
   "execution_count": 18,
   "id": "fd475a75bdc8ba4c",
   "metadata": {
    "ExecuteTime": {
     "end_time": "2024-05-31T11:26:57.357456860Z",
     "start_time": "2024-05-31T11:26:57.044648831Z"
    },
    "collapsed": false
   },
   "outputs": [
    {
     "data": {
      "text/plain": [
       "<matplotlib.collections.PathCollection at 0x1bc6810e710>"
      ]
     },
     "execution_count": 18,
     "metadata": {},
     "output_type": "execute_result"
    },
    {
     "data": {
      "image/png": "[encoded data removed]",
      "text/plain": [
       "<Figure size 640x480 with 1 Axes>"
      ]
     },
     "metadata": {},
     "output_type": "display_data"
    }
   ],
   "source": [
    "plt.scatter(range(109), sten)"
   ]
  },
  {
   "cell_type": "code",
   "execution_count": 19,
   "id": "7762486e88c9ec96",
   "metadata": {
    "ExecuteTime": {
     "end_time": "2024-05-31T11:28:22.226722718Z",
     "start_time": "2024-05-31T11:28:22.177704783Z"
    },
    "collapsed": false
   },
   "outputs": [
    {
     "data": {
      "text/plain": [
       "11"
      ]
     },
     "execution_count": 19,
     "metadata": {},
     "output_type": "execute_result"
    }
   ],
   "source": [
    "np.count_nonzero(ys)"
   ]
  },
  {
   "cell_type": "code",
   "execution_count": 20,
   "id": "3a5b71251e15a779",
   "metadata": {
    "ExecuteTime": {
     "end_time": "2024-05-31T11:29:19.955102410Z",
     "start_time": "2024-05-31T11:29:19.919660065Z"
    },
    "collapsed": false
   },
   "outputs": [
    {
     "name": "stdout",
     "output_type": "stream",
     "text": [
      "True\n"
     ]
    }
   ],
   "source": [
    "new_ys = ys + [1]*50\n",
    "\n",
    "print(len(new_ys) == len(meshes))"
   ]
  },
  {
   "cell_type": "code",
   "execution_count": 21,
   "id": "e3fe550d53fe4e02",
   "metadata": {
    "ExecuteTime": {
     "end_time": "2024-05-31T11:29:25.438139858Z",
     "start_time": "2024-05-31T11:29:25.424990638Z"
    },
    "collapsed": false
   },
   "outputs": [],
   "source": [
    "new_ys = torch.tensor(new_ys, dtype=torch.long)"
   ]
  },
  {
   "cell_type": "code",
   "execution_count": 22,
   "id": "42ac3d04064204eb",
   "metadata": {
    "ExecuteTime": {
     "end_time": "2024-05-31T11:29:28.315164734Z",
     "start_time": "2024-05-31T11:29:28.287786119Z"
    },
    "collapsed": false
   },
   "outputs": [],
   "source": [
    "torch.save(new_ys, '../../data/MLgSA/classes.pt')"
   ]
  },
  {
   "cell_type": "code",
   "execution_count": 23,
   "id": "c4f5679eee18d814",
   "metadata": {
    "ExecuteTime": {
     "end_time": "2024-05-31T11:40:47.738563953Z",
     "start_time": "2024-05-31T11:40:47.686553818Z"
    },
    "collapsed": false
   },
   "outputs": [],
   "source": [
    "dataset = [Data(x = a, edge_index=b, y = y, pos=posns) for (a, b, y, posns) in zip(nf, edjl, new_ys, pos)]\n"
   ]
  },
  {
   "cell_type": "code",
   "execution_count": 24,
   "id": "14c55734eccbeb19",
   "metadata": {
    "ExecuteTime": {
     "end_time": "2024-05-31T11:40:51.708310580Z",
     "start_time": "2024-05-31T11:40:49.716265030Z"
    },
    "collapsed": false
   },
   "outputs": [],
   "source": [
    "torch.save(dataset, '../../data/MLgSA/dataset.pt')"
   ]
  },
  {
   "cell_type": "code",
   "execution_count": 25,
   "id": "66649fb584ec13ea",
   "metadata": {
    "ExecuteTime": {
     "end_time": "2024-05-31T11:40:54.824875172Z",
     "start_time": "2024-05-31T11:40:54.787731162Z"
    },
    "collapsed": false
   },
   "outputs": [],
   "source": [
    "X_train, X_test, y_train, y_test = train_test_split(dataset, new_ys,\n",
    "                                                    stratify=new_ys,\n",
    "                                                    test_size=0.25)"
   ]
  },
  {
   "cell_type": "code",
   "execution_count": 26,
   "id": "bc908f5c6d45d8dc",
   "metadata": {
    "ExecuteTime": {
     "end_time": "2024-05-31T11:40:57.608305229Z",
     "start_time": "2024-05-31T11:40:55.653525207Z"
    },
    "collapsed": false
   },
   "outputs": [],
   "source": [
    "torch.save(X_train, '../../data/MLgSA/train_split.pt')\n",
    "torch.save(X_test, '../../data/MLgSA/test_split.pt')"
   ]
  },
  {
   "cell_type": "code",
   "execution_count": 35,
   "id": "a3a8373ab3d8a955",
   "metadata": {
    "ExecuteTime": {
     "end_time": "2024-05-31T11:41:00.467797155Z",
     "start_time": "2024-05-31T11:40:58.400785329Z"
    },
    "collapsed": false
   },
   "outputs": [
    {
     "ename": "NameError",
     "evalue": "name 'X_train' is not defined",
     "output_type": "error",
     "traceback": [
      "\u001b[1;31m---------------------------------------------------------------------------\u001b[0m",
      "\u001b[1;31mNameError\u001b[0m                                 Traceback (most recent call last)",
      "Cell \u001b[1;32mIn[35], line 1\u001b[0m\n\u001b[1;32m----> 1\u001b[0m train_loader \u001b[38;5;241m=\u001b[39m DataLoader(\u001b[43mX_train\u001b[49m, batch_size\u001b[38;5;241m=\u001b[39m\u001b[38;5;241m1\u001b[39m, shuffle\u001b[38;5;241m=\u001b[39m\u001b[38;5;28;01mTrue\u001b[39;00m)\n\u001b[0;32m      2\u001b[0m test_loader \u001b[38;5;241m=\u001b[39m DataLoader(X_test, batch_size\u001b[38;5;241m=\u001b[39m\u001b[38;5;241m1\u001b[39m, shuffle\u001b[38;5;241m=\u001b[39m\u001b[38;5;28;01mTrue\u001b[39;00m)\n\u001b[0;32m      4\u001b[0m torch\u001b[38;5;241m.\u001b[39msave(train_loader, \u001b[38;5;124m'\u001b[39m\u001b[38;5;124m../../data/MLgSA/train_loader.pt\u001b[39m\u001b[38;5;124m'\u001b[39m)\n",
      "\u001b[1;31mNameError\u001b[0m: name 'X_train' is not defined"
     ]
    }
   ],
   "source": [
    "train_loader = DataLoader(X_train, batch_size=1, shuffle=True)\n",
    "\n",
    "\n",
    "torch.save(train_loader, '../../data/MLgSA/train_loader.pt')\n"
   ]
  },
  {
   "cell_type": "code",
   "execution_count": 36,
   "id": "701e886ba016f68e",
   "metadata": {
    "ExecuteTime": {
     "end_time": "2024-05-29T09:23:23.246417255Z",
     "start_time": "2024-05-29T09:23:23.200421783Z"
    },
    "collapsed": false
   },
   "outputs": [],
   "source": [
    "test_loader = DataLoader(X_test, batch_size=1, shuffle=True)\n",
    "torch.save(test_loader, '../../data/MLgSA/test_loader.pt')"
   ]
  },
  {
   "cell_type": "code",
   "execution_count": 12,
   "id": "796c839572d555bc",
   "metadata": {
    "ExecuteTime": {
     "end_time": "2024-05-29T09:21:41.639030439Z",
     "start_time": "2024-05-29T09:21:41.623701240Z"
    },
    "collapsed": false
   },
   "outputs": [
    {
     "data": {
      "text/plain": [
       "159"
      ]
     },
     "execution_count": 12,
     "metadata": {},
     "output_type": "execute_result"
    }
   ],
   "source": [
    "dataset = torch.load('../../data/MLgSA/dataset.pt')\n",
    "numl = torch.load ('../../data/MLgSA/nodes.pt')\n",
    "len(numl)"
   ]
  },
  {
   "cell_type": "code",
   "execution_count": 19,
   "id": "a563e4c696b143a9",
   "metadata": {
    "ExecuteTime": {
     "end_time": "2024-05-29T09:21:43.610886258Z",
     "start_time": "2024-05-29T09:21:43.596463907Z"
    },
    "collapsed": false
   },
   "outputs": [],
   "source": [
    "crosslist = [[o.x.shape[0],n.n_points] for (o,n) in zip(dataset, meshes)]"
   ]
  },
  {
   "cell_type": "code",
   "execution_count": 30,
   "id": "6143bf24135d2119",
   "metadata": {
    "ExecuteTime": {
     "end_time": "2024-05-31T11:38:36.408822613Z",
     "start_time": "2024-05-31T11:38:36.367006592Z"
    },
    "collapsed": false
   },
   "outputs": [],
   "source": [
    "import csv\n",
    "\n",
    "\n",
    "with open('test.csv', 'w') as test_file:\n",
    "  file_writer = csv.writer(test_file)\n",
    "  for row in crosslist:\n",
    "    file_writer.writerow(row)"
   ]
  },
  {
   "cell_type": "code",
   "execution_count": 34,
   "id": "fb12d4a03091a13f",
   "metadata": {
    "collapsed": false
   },
   "outputs": [
    {
     "name": "stdout",
     "output_type": "stream",
     "text": [
      "37 torch.Size([2, 762])\n",
      "70 torch.Size([2, 768])\n",
      "72 torch.Size([2, 786])\n",
      "156 torch.Size([2, 792])\n"
     ]
    }
   ],
   "source": [
    "for i, d in enumerate(dataset):\n",
    "    if d.x.shape[0] == 110:\n",
    "        print(i, d.edge_index.shape)"
   ]
  },
  {
   "cell_type": "code",
   "execution_count": 31,
   "id": "4018a708",
   "metadata": {},
   "outputs": [],
   "source": [
    "X_test = torch.load('../../data/MLgSA/test_split.pt')"
   ]
  },
  {
   "cell_type": "code",
   "execution_count": 32,
   "id": "893255ed",
   "metadata": {},
   "outputs": [
    {
     "data": {
      "text/plain": [
       "[Data(x=[79, 1], edge_index=[2, 642], y=0, pos=[79, 3]),\n",
       " Data(x=[148, 1], edge_index=[2, 930], y=0, pos=[148, 3]),\n",
       " Data(x=[104, 1], edge_index=[2, 768], y=1, pos=[104, 3]),\n",
       " Data(x=[110, 1], edge_index=[2, 768], y=1, pos=[110, 3]),\n",
       " Data(x=[121, 1], edge_index=[2, 858], y=0, pos=[121, 3]),\n",
       " Data(x=[129, 1], edge_index=[2, 858], y=0, pos=[129, 3]),\n",
       " Data(x=[90, 1], edge_index=[2, 690], y=0, pos=[90, 3]),\n",
       " Data(x=[119, 1], edge_index=[2, 804], y=1, pos=[119, 3]),\n",
       " Data(x=[87, 1], edge_index=[2, 666], y=0, pos=[87, 3]),\n",
       " Data(x=[116, 1], edge_index=[2, 816], y=1, pos=[116, 3]),\n",
       " Data(x=[120, 1], edge_index=[2, 858], y=0, pos=[120, 3]),\n",
       " Data(x=[107, 1], edge_index=[2, 744], y=0, pos=[107, 3]),\n",
       " Data(x=[136, 1], edge_index=[2, 924], y=1, pos=[136, 3]),\n",
       " Data(x=[94, 1], edge_index=[2, 720], y=1, pos=[94, 3]),\n",
       " Data(x=[52, 1], edge_index=[2, 480], y=0, pos=[52, 3]),\n",
       " Data(x=[115, 1], edge_index=[2, 786], y=1, pos=[115, 3]),\n",
       " Data(x=[140, 1], edge_index=[2, 900], y=0, pos=[140, 3]),\n",
       " Data(x=[99, 1], edge_index=[2, 714], y=0, pos=[99, 3]),\n",
       " Data(x=[93, 1], edge_index=[2, 636], y=0, pos=[93, 3]),\n",
       " Data(x=[99, 1], edge_index=[2, 726], y=0, pos=[99, 3]),\n",
       " Data(x=[137, 1], edge_index=[2, 930], y=0, pos=[137, 3]),\n",
       " Data(x=[123, 1], edge_index=[2, 822], y=0, pos=[123, 3]),\n",
       " Data(x=[176, 1], edge_index=[2, 1068], y=1, pos=[176, 3]),\n",
       " Data(x=[75, 1], edge_index=[2, 618], y=1, pos=[75, 3]),\n",
       " Data(x=[112, 1], edge_index=[2, 810], y=1, pos=[112, 3]),\n",
       " Data(x=[87, 1], edge_index=[2, 702], y=0, pos=[87, 3]),\n",
       " Data(x=[138, 1], edge_index=[2, 888], y=0, pos=[138, 3]),\n",
       " Data(x=[84, 1], edge_index=[2, 660], y=1, pos=[84, 3]),\n",
       " Data(x=[117, 1], edge_index=[2, 834], y=0, pos=[117, 3]),\n",
       " Data(x=[94, 1], edge_index=[2, 714], y=1, pos=[94, 3]),\n",
       " Data(x=[78, 1], edge_index=[2, 642], y=1, pos=[78, 3]),\n",
       " Data(x=[84, 1], edge_index=[2, 600], y=0, pos=[84, 3]),\n",
       " Data(x=[98, 1], edge_index=[2, 738], y=0, pos=[98, 3]),\n",
       " Data(x=[126, 1], edge_index=[2, 858], y=1, pos=[126, 3]),\n",
       " Data(x=[71, 1], edge_index=[2, 588], y=0, pos=[71, 3]),\n",
       " Data(x=[132, 1], edge_index=[2, 864], y=0, pos=[132, 3]),\n",
       " Data(x=[113, 1], edge_index=[2, 804], y=1, pos=[113, 3]),\n",
       " Data(x=[97, 1], edge_index=[2, 738], y=0, pos=[97, 3]),\n",
       " Data(x=[96, 1], edge_index=[2, 714], y=0, pos=[96, 3]),\n",
       " Data(x=[104, 1], edge_index=[2, 768], y=0, pos=[104, 3])]"
      ]
     },
     "execution_count": 32,
     "metadata": {},
     "output_type": "execute_result"
    }
   ],
   "source": [
    "X_test"
   ]
  },
  {
   "cell_type": "code",
   "execution_count": null,
   "id": "76253309",
   "metadata": {},
   "outputs": [],
   "source": []
  },
  {
   "cell_type": "code",
   "execution_count": null,
   "id": "bf07a181",
   "metadata": {},
   "outputs": [],
   "source": []
  }
 ],
 "metadata": {
  "kernelspec": {
   "display_name": "Python 3",
   "language": "python",
   "name": "python3"
  },
  "language_info": {
   "codemirror_mode": {
    "name": "ipython",
    "version": 3
   },
   "file_extension": ".py",
   "mimetype": "text/x-python",
   "name": "python",
   "nbconvert_exporter": "python",
   "pygments_lexer": "ipython3",
   "version": "3.10.14"
  }
 },
 "nbformat": 4,
 "nbformat_minor": 5
}
