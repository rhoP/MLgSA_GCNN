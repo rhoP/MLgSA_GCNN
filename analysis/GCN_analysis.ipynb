{
 "cells": [
  {
   "cell_type": "code",
   "execution_count": 6,
   "metadata": {},
   "outputs": [],
   "source": [
    "import numpy as np\n",
    "import torch\n",
    "import torch.nn as nn\n",
    "import torch.nn.functional as F\n",
    "from torch_geometric.nn import MessagePassing, dense_diff_pool, GCNConv, DenseSAGEConv\n",
    "from torch_geometric.utils import to_dense_adj, remove_self_loops, subgraph, k_hop_subgraph\n",
    "from torch_geometric.loader import DataLoader"
   ]
  },
  {
   "cell_type": "code",
   "execution_count": 5,
   "metadata": {},
   "outputs": [],
   "source": [
    "X_train = torch.load('../../data/train_split.pt')\n",
    "X_test = torch.load('../../data/test_split.pt')"
   ]
  },
  {
   "cell_type": "code",
   "execution_count": 7,
   "metadata": {},
   "outputs": [],
   "source": [
    "train_loader = DataLoader(X_train, batch_size=1, shuffle=True)"
   ]
  },
  {
   "cell_type": "code",
   "execution_count": 20,
   "metadata": {},
   "outputs": [
    {
     "name": "stdout",
     "output_type": "stream",
     "text": [
      "Data(x=[15357, 1], edge_index=[2, 182982], y=[1], pos=[15357, 3])\n"
     ]
    }
   ],
   "source": [
    "data = next(iter(train_loader))[0]\n",
    "print(data)"
   ]
  },
  {
   "cell_type": "code",
   "execution_count": 22,
   "metadata": {},
   "outputs": [],
   "source": [
    "class BasicMessagePassing(nn.Module):\n",
    "    def __init__(self, in_channels, out_channels):\n",
    "        super(BasicMessagePassing, self).__init__()\n",
    "        self.conv = GCNConv(in_channels, out_channels)\n",
    "\n",
    "    def forward(self, x, edge_index):\n",
    "        return F.relu(self.conv(x, edge_index))\n",
    "\n",
    "\n",
    "class RankNodesByTotalVariation(nn.Module):\n",
    "    def __init__(self, in_channels):\n",
    "        super(RankNodesByTotalVariation, self).__init__()\n",
    "        self.in_channels = in_channels\n",
    "\n",
    "    def forward(self, x, edge_index):\n",
    "        num_nodes = x.size(0)\n",
    "        adj = torch.sparse_coo_tensor(edge_index, torch.ones(edge_index.size(1)), (num_nodes, num_nodes)).to_dense()\n",
    "\n",
    "        sum_inputs = torch.matmul(adj, x)\n",
    "        count_inputs = adj.sum(dim=1, keepdim=True).clamp(min=1)\n",
    "        mean_inputs = sum_inputs / count_inputs\n",
    "\n",
    "        total_variation = torch.norm(x - mean_inputs, dim=-1)\n",
    "        return total_variation"
   ]
  },
  {
   "cell_type": "code",
   "execution_count": 12,
   "metadata": {},
   "outputs": [],
   "source": [
    "rank_nodes = RankNodesByTotalVariation(1)"
   ]
  },
  {
   "cell_type": "code",
   "execution_count": 18,
   "metadata": {},
   "outputs": [],
   "source": [
    "var = rank_nodes(data[0].x, data[0].edge_index)"
   ]
  },
  {
   "cell_type": "code",
   "execution_count": 19,
   "metadata": {},
   "outputs": [],
   "source": [
    "class GNNWithDenseDiffPool(nn.Module):\n",
    "    def __init__(self, in_channels, hidden_channels, out_channels, num_clusters):\n",
    "        super(GNNWithDenseDiffPool, self).__init__()\n",
    "        self.conv1 = BasicMessagePassing(in_channels, hidden_channels)\n",
    "        self.rank_nodes = RankNodesByTotalVariation(hidden_channels)\n",
    "        self.conv2 = GCNConv(hidden_channels, hidden_channels)\n",
    "        self.conv3 = GCNConv(hidden_channels, num_clusters)\n",
    "        self.conv4 = GCNConv(num_clusters, out_channels)\n",
    "        self.lin1 = nn.Linear(hidden_channels, hidden_channels)\n",
    "        self.lin2 = nn.Linear(hidden_channels, num_clusters)\n",
    "        \n",
    "    def forward(self, data):\n",
    "        x, edge_index, batch, pos = data.x, data.edge_index, data.batch, data.pos\n",
    "        x = self.conv1(x, edge_index)\n",
    "\n",
    "        # Rank nodes by total variation\n",
    "        with torch.no_grad():\n",
    "            total_variation = self.rank_nodes(x, edge_index)\n",
    "\n",
    "        # Select top 50 to 100 nodes with highest total variation values\n",
    "        num_top_nodes = min(100, x.size(0))\n",
    "        top_k_nodes = torch.argsort(total_variation, descending=True)[:num_top_nodes]\n",
    "\n",
    "        # Find k-hop subgraphs for top nodes\n",
    "        k = 2  # Define k for k-hop neighborhood\n",
    "        sub_nodes, sub_edge_index, mapping, _ = k_hop_subgraph(top_k_nodes, k, edge_index, relabel_nodes=True)\n",
    "        sub_x = x[sub_nodes]\n",
    "        sub_pos = pos[sub_nodes]\n",
    "\n",
    "        # Apply linear transformation if needed\n",
    "        if sub_x.size(0) != x.size(0):\n",
    "            sub_x = F.relu(self.lin1(sub_x))\n",
    "\n",
    "        # Convert edge_index to dense adjacency matrix\n",
    "        adj = to_dense_adj(sub_edge_index, max_num_nodes=sub_x.size(0))\n",
    "\n",
    "        # Apply DiffPool\n",
    "        s = F.relu(self.conv2(sub_x, sub_edge_index))\n",
    "        s = self.conv3(s, sub_edge_index)\n",
    "        sub_x = F.relu(self.conv2(sub_x, sub_edge_index))\n",
    "        sub_x, adj, _, _ = dense_diff_pool(sub_x, adj, s)\n",
    "\n",
    "        # Further graph convolution after pooling\n",
    "        # Convert dense adjacency matrix back to edge_index format\n",
    "        pooled_edge_index, _ = to_dense_adj(sub_x).nonzero(as_tuple=False).t()\n",
    "        x = self.conv4(sub_x, pooled_edge_index)\n",
    "\n",
    "        # Cleanup memory\n",
    "        del sub_nodes, sub_edge_index, sub_x, adj, s\n",
    "        torch.cuda.empty_cache()\n",
    "\n",
    "        return F.log_softmax(x, dim=1)"
   ]
  },
  {
   "cell_type": "code",
   "execution_count": null,
   "metadata": {},
   "outputs": [],
   "source": []
  },
  {
   "cell_type": "code",
   "execution_count": 23,
   "metadata": {},
   "outputs": [
    {
     "name": "stdout",
     "output_type": "stream",
     "text": [
      "training\n"
     ]
    },
    {
     "ename": "RuntimeError",
     "evalue": "scatter(): Expected dtype int64 for index",
     "output_type": "error",
     "traceback": [
      "\u001b[1;31m---------------------------------------------------------------------------\u001b[0m",
      "\u001b[1;31mRuntimeError\u001b[0m                              Traceback (most recent call last)",
      "Cell \u001b[1;32mIn[23], line 18\u001b[0m\n\u001b[0;32m     16\u001b[0m \u001b[38;5;28mprint\u001b[39m(\u001b[38;5;124m'\u001b[39m\u001b[38;5;124mtraining\u001b[39m\u001b[38;5;124m'\u001b[39m)\n\u001b[0;32m     17\u001b[0m optimizer\u001b[38;5;241m.\u001b[39mzero_grad()\n\u001b[1;32m---> 18\u001b[0m out \u001b[38;5;241m=\u001b[39m \u001b[43mmodel\u001b[49m\u001b[43m(\u001b[49m\u001b[43mdata\u001b[49m\u001b[43m)\u001b[49m\n\u001b[0;32m     19\u001b[0m \u001b[38;5;28mprint\u001b[39m(out\u001b[38;5;241m.\u001b[39mclone()\u001b[38;5;241m.\u001b[39mdetach())\n\u001b[0;32m     20\u001b[0m loss \u001b[38;5;241m=\u001b[39m loss_fn(out, data\u001b[38;5;241m.\u001b[39my)\n",
      "File \u001b[1;32mc:\\Users\\Rohit\\anaconda3\\envs\\pyg\\lib\\site-packages\\torch\\nn\\modules\\module.py:1130\u001b[0m, in \u001b[0;36mModule._call_impl\u001b[1;34m(self, *input, **kwargs)\u001b[0m\n\u001b[0;32m   1126\u001b[0m \u001b[38;5;66;03m# If we don't have any hooks, we want to skip the rest of the logic in\u001b[39;00m\n\u001b[0;32m   1127\u001b[0m \u001b[38;5;66;03m# this function, and just call forward.\u001b[39;00m\n\u001b[0;32m   1128\u001b[0m \u001b[38;5;28;01mif\u001b[39;00m \u001b[38;5;129;01mnot\u001b[39;00m (\u001b[38;5;28mself\u001b[39m\u001b[38;5;241m.\u001b[39m_backward_hooks \u001b[38;5;129;01mor\u001b[39;00m \u001b[38;5;28mself\u001b[39m\u001b[38;5;241m.\u001b[39m_forward_hooks \u001b[38;5;129;01mor\u001b[39;00m \u001b[38;5;28mself\u001b[39m\u001b[38;5;241m.\u001b[39m_forward_pre_hooks \u001b[38;5;129;01mor\u001b[39;00m _global_backward_hooks\n\u001b[0;32m   1129\u001b[0m         \u001b[38;5;129;01mor\u001b[39;00m _global_forward_hooks \u001b[38;5;129;01mor\u001b[39;00m _global_forward_pre_hooks):\n\u001b[1;32m-> 1130\u001b[0m     \u001b[38;5;28;01mreturn\u001b[39;00m forward_call(\u001b[38;5;241m*\u001b[39m\u001b[38;5;28minput\u001b[39m, \u001b[38;5;241m*\u001b[39m\u001b[38;5;241m*\u001b[39mkwargs)\n\u001b[0;32m   1131\u001b[0m \u001b[38;5;66;03m# Do not call functions when jit is used\u001b[39;00m\n\u001b[0;32m   1132\u001b[0m full_backward_hooks, non_full_backward_hooks \u001b[38;5;241m=\u001b[39m [], []\n",
      "Cell \u001b[1;32mIn[19], line 45\u001b[0m, in \u001b[0;36mGNNWithDenseDiffPool.forward\u001b[1;34m(self, data)\u001b[0m\n\u001b[0;32m     41\u001b[0m sub_x, adj, _, _ \u001b[38;5;241m=\u001b[39m dense_diff_pool(sub_x, adj, s)\n\u001b[0;32m     43\u001b[0m \u001b[38;5;66;03m# Further graph convolution after pooling\u001b[39;00m\n\u001b[0;32m     44\u001b[0m \u001b[38;5;66;03m# Convert dense adjacency matrix back to edge_index format\u001b[39;00m\n\u001b[1;32m---> 45\u001b[0m pooled_edge_index, _ \u001b[38;5;241m=\u001b[39m \u001b[43mto_dense_adj\u001b[49m\u001b[43m(\u001b[49m\u001b[43msub_x\u001b[49m\u001b[43m)\u001b[49m\u001b[38;5;241m.\u001b[39mnonzero(as_tuple\u001b[38;5;241m=\u001b[39m\u001b[38;5;28;01mFalse\u001b[39;00m)\u001b[38;5;241m.\u001b[39mt()\n\u001b[0;32m     46\u001b[0m x \u001b[38;5;241m=\u001b[39m \u001b[38;5;28mself\u001b[39m\u001b[38;5;241m.\u001b[39mconv4(sub_x, pooled_edge_index)\n\u001b[0;32m     48\u001b[0m \u001b[38;5;66;03m# Cleanup memory\u001b[39;00m\n",
      "File \u001b[1;32mc:\\Users\\Rohit\\anaconda3\\envs\\pyg\\lib\\site-packages\\torch_geometric\\utils\\_to_dense_adj.py:71\u001b[0m, in \u001b[0;36mto_dense_adj\u001b[1;34m(edge_index, batch, edge_attr, max_num_nodes, batch_size)\u001b[0m\n\u001b[0;32m     68\u001b[0m     batch_size \u001b[38;5;241m=\u001b[39m \u001b[38;5;28mint\u001b[39m(batch\u001b[38;5;241m.\u001b[39mmax()) \u001b[38;5;241m+\u001b[39m \u001b[38;5;241m1\u001b[39m \u001b[38;5;28;01mif\u001b[39;00m batch\u001b[38;5;241m.\u001b[39mnumel() \u001b[38;5;241m>\u001b[39m \u001b[38;5;241m0\u001b[39m \u001b[38;5;28;01melse\u001b[39;00m \u001b[38;5;241m1\u001b[39m\n\u001b[0;32m     70\u001b[0m one \u001b[38;5;241m=\u001b[39m batch\u001b[38;5;241m.\u001b[39mnew_ones(batch\u001b[38;5;241m.\u001b[39msize(\u001b[38;5;241m0\u001b[39m))\n\u001b[1;32m---> 71\u001b[0m num_nodes \u001b[38;5;241m=\u001b[39m \u001b[43mscatter\u001b[49m\u001b[43m(\u001b[49m\u001b[43mone\u001b[49m\u001b[43m,\u001b[49m\u001b[43m \u001b[49m\u001b[43mbatch\u001b[49m\u001b[43m,\u001b[49m\u001b[43m \u001b[49m\u001b[43mdim\u001b[49m\u001b[38;5;241;43m=\u001b[39;49m\u001b[38;5;241;43m0\u001b[39;49m\u001b[43m,\u001b[49m\u001b[43m \u001b[49m\u001b[43mdim_size\u001b[49m\u001b[38;5;241;43m=\u001b[39;49m\u001b[43mbatch_size\u001b[49m\u001b[43m,\u001b[49m\u001b[43m \u001b[49m\u001b[43mreduce\u001b[49m\u001b[38;5;241;43m=\u001b[39;49m\u001b[38;5;124;43m'\u001b[39;49m\u001b[38;5;124;43msum\u001b[39;49m\u001b[38;5;124;43m'\u001b[39;49m\u001b[43m)\u001b[49m\n\u001b[0;32m     72\u001b[0m cum_nodes \u001b[38;5;241m=\u001b[39m cumsum(num_nodes)\n\u001b[0;32m     74\u001b[0m idx0 \u001b[38;5;241m=\u001b[39m batch[edge_index[\u001b[38;5;241m0\u001b[39m]]\n",
      "File \u001b[1;32mc:\\Users\\Rohit\\anaconda3\\envs\\pyg\\lib\\site-packages\\torch_geometric\\utils\\_scatter.py:75\u001b[0m, in \u001b[0;36mscatter\u001b[1;34m(src, index, dim, dim_size, reduce)\u001b[0m\n\u001b[0;32m     73\u001b[0m \u001b[38;5;28;01mif\u001b[39;00m reduce \u001b[38;5;241m==\u001b[39m \u001b[38;5;124m'\u001b[39m\u001b[38;5;124msum\u001b[39m\u001b[38;5;124m'\u001b[39m \u001b[38;5;129;01mor\u001b[39;00m reduce \u001b[38;5;241m==\u001b[39m \u001b[38;5;124m'\u001b[39m\u001b[38;5;124madd\u001b[39m\u001b[38;5;124m'\u001b[39m:\n\u001b[0;32m     74\u001b[0m     index \u001b[38;5;241m=\u001b[39m broadcast(index, src, dim)\n\u001b[1;32m---> 75\u001b[0m     \u001b[38;5;28;01mreturn\u001b[39;00m \u001b[43msrc\u001b[49m\u001b[38;5;241;43m.\u001b[39;49m\u001b[43mnew_zeros\u001b[49m\u001b[43m(\u001b[49m\u001b[43msize\u001b[49m\u001b[43m)\u001b[49m\u001b[38;5;241;43m.\u001b[39;49m\u001b[43mscatter_add_\u001b[49m\u001b[43m(\u001b[49m\u001b[43mdim\u001b[49m\u001b[43m,\u001b[49m\u001b[43m \u001b[49m\u001b[43mindex\u001b[49m\u001b[43m,\u001b[49m\u001b[43m \u001b[49m\u001b[43msrc\u001b[49m\u001b[43m)\u001b[49m\n\u001b[0;32m     77\u001b[0m \u001b[38;5;28;01mif\u001b[39;00m reduce \u001b[38;5;241m==\u001b[39m \u001b[38;5;124m'\u001b[39m\u001b[38;5;124mmean\u001b[39m\u001b[38;5;124m'\u001b[39m:\n\u001b[0;32m     78\u001b[0m     count \u001b[38;5;241m=\u001b[39m src\u001b[38;5;241m.\u001b[39mnew_zeros(dim_size)\n",
      "\u001b[1;31mRuntimeError\u001b[0m: scatter(): Expected dtype int64 for index"
     ]
    }
   ],
   "source": [
    "# Define model parameters\n",
    "in_channels = 1\n",
    "hidden_channels = 4\n",
    "out_channels = 2\n",
    "num_clusters = 3  # Number of clusters for DiffPool\n",
    "\n",
    "model = GNNWithDenseDiffPool(in_channels, hidden_channels, out_channels, num_clusters)\n",
    "loss_fn = nn.CrossEntropyLoss()\n",
    "# Training the model\n",
    "device = torch.device('cuda' if torch.cuda.is_available() else 'cpu')\n",
    "model = model.to(device)\n",
    "data = data.to(device)\n",
    "optimizer = torch.optim.Adam(model.parameters(), lr=0.01, weight_decay=5e-4)\n",
    "\n",
    "model.train()\n",
    "print('training')\n",
    "optimizer.zero_grad()\n",
    "out = model(data)\n",
    "print(out.clone().detach())\n",
    "loss = loss_fn(out, data.y)\n",
    "loss.backward()\n",
    "optimizer.step()\n",
    "print(loss.detach())\n",
    "\n",
    "model.eval()\n",
    "_, pred = model(data).max(dim=1)\n",
    "correct = pred[data.test_mask].eq(data.y[data.test_mask]).sum().item()\n",
    "accuracy = correct / data.test_mask.sum().item()\n",
    "print('Test Accuracy: {:.4f}'.format(accuracy))"
   ]
  },
  {
   "cell_type": "code",
   "execution_count": null,
   "metadata": {},
   "outputs": [],
   "source": []
  }
 ],
 "metadata": {
  "kernelspec": {
   "display_name": "pyg",
   "language": "python",
   "name": "python3"
  },
  "language_info": {
   "codemirror_mode": {
    "name": "ipython",
    "version": 3
   },
   "file_extension": ".py",
   "mimetype": "text/x-python",
   "name": "python",
   "nbconvert_exporter": "python",
   "pygments_lexer": "ipython3",
   "version": "3.10.14"
  }
 },
 "nbformat": 4,
 "nbformat_minor": 2
}
