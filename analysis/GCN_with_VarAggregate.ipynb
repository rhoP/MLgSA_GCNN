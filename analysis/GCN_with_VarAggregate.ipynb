{
 "cells": [
  {
   "cell_type": "code",
   "execution_count": 1,
   "id": "initial_id",
   "metadata": {
    "collapsed": true,
    "ExecuteTime": {
     "end_time": "2024-05-29T14:47:18.379798842Z",
     "start_time": "2024-05-29T14:47:15.773978806Z"
    }
   },
   "outputs": [],
   "source": [
    "import numpy as np\n",
    "import torch\n",
    "import torch.nn as nn\n",
    "import torch.nn.functional as F\n",
    "from torch.utils.data import DataLoader\n",
    "from torch_geometric.nn import MessagePassing, dense_diff_pool, GCNConv\n",
    "from torch_geometric.utils import to_dense_adj, remove_self_loops\n",
    "from torch_geometric.datasets import Planetoid"
   ]
  },
  {
   "cell_type": "code",
   "outputs": [],
   "source": [
    "class BasicMessagePassing(MessagePassing):\n",
    "    def __init__(self, in_channels, out_channels):\n",
    "        super(BasicMessagePassing, self).__init__(aggr='add')  # Use sum aggregation\n",
    "        self.lin = nn.Linear(in_channels, out_channels)\n",
    "        self.update_mlp = nn.Sequential(\n",
    "            nn.Linear(out_channels, out_channels),\n",
    "            nn.ReLU(),\n",
    "            nn.Linear(out_channels, out_channels)\n",
    "        )\n",
    "\n",
    "    def forward(self, x, edge_index):\n",
    "        # x: Node feature matrix of shape [num_nodes, in_channels]\n",
    "        # edge_index: Graph connectivity matrix of shape [2, num_edges]\n",
    "        x = self.lin(x)\n",
    "        return self.propagate(edge_index, x=x)\n",
    "    \n",
    "    def message(self, x_j, x_i):\n",
    "        return x_j - x_i\n",
    "    \n",
    "    def update(self, aggr_out, x):\n",
    "        return self.update_mlp(aggr_out) + x"
   ],
   "metadata": {
    "collapsed": false,
    "ExecuteTime": {
     "end_time": "2024-05-29T14:47:18.403765388Z",
     "start_time": "2024-05-29T14:47:18.388219281Z"
    }
   },
   "id": "f26aaa1b04022555",
   "execution_count": 2
  },
  {
   "cell_type": "code",
   "outputs": [],
   "source": [
    "class RankNodesByVarianceAndProximity(nn.Module):\n",
    "    def __init__(self, in_channels):\n",
    "        super(RankNodesByVarianceAndProximity, self).__init__()\n",
    "        self.in_channels = in_channels\n",
    "\n",
    "    def forward(self, x, edge_index, pos):\n",
    "        num_nodes = x.size(0)\n",
    "        adj = torch.sparse_coo_tensor(edge_index, torch.ones(edge_index.size(1)), (num_nodes, num_nodes)).to_dense()\n",
    "\n",
    "        # Compute the sum and count of the messages for each target node\n",
    "        sum_inputs = torch.matmul(adj, x)\n",
    "        count_inputs = adj.sum(dim=1, keepdim=True).clamp(min=1)\n",
    "\n",
    "        # Compute the mean of the messages for each target node\n",
    "        mean_inputs = torch.zeros_like(x)\n",
    "        variances = torch.zeros(num_nodes, device=x.device)\n",
    "        batch_size = 1000  # Adjust batch size based on memory constraints\n",
    "        for i in range(0, num_nodes, batch_size):\n",
    "            x_batch = x[i:i+batch_size]\n",
    "            sum_inputs_batch = sum_inputs[i:i+batch_size]\n",
    "            count_inputs_batch = count_inputs[i:i+batch_size]\n",
    "\n",
    "            # Compute mean inputs\n",
    "            mean_inputs[i:i+batch_size] = sum_inputs_batch / count_inputs_batch\n",
    "\n",
    "            # Compute variance inputs\n",
    "            sum_sq_diff_batch = torch.norm(x_batch - mean_inputs[i:i+batch_size].unsqueeze(1), dim=-1)**2\n",
    "            adj_batch = adj[i:i+batch_size, i:i+batch_size]\n",
    "            mean_sq_diff_batch = (adj_batch.unsqueeze(-1) * sum_sq_diff_batch).sum(dim=1) / count_inputs[i:i+batch_size]\n",
    "            variances[i:i+batch_size] = mean_sq_diff_batch.sum(dim=1)\n",
    "\n",
    "\n",
    "        # Enhance ranking with proximity to high-variance nodes\n",
    "        adjacency_scores = torch.matmul(adj, variances.unsqueeze(1)).squeeze()\n",
    "\n",
    "        # Compute geometric distances\n",
    "        pos_diff = pos.unsqueeze(1) - pos.unsqueeze(0)\n",
    "        dist = torch.norm(pos_diff, dim=-1)\n",
    "\n",
    "        # Select top-ranked nodes\n",
    "        top_k = int(len(variances) * 0.5)\n",
    "        top_k_indices = torch.argsort(variances, descending=True)[:top_k]\n",
    "\n",
    "        # Enhance ranking based on proximity\n",
    "        for i in top_k_indices:\n",
    "            proximity_scores = torch.exp(-dist[i])\n",
    "            adjacency_scores += proximity_scores * variances[i]\n",
    "\n",
    "        combined_scores = variances + adjacency_scores\n",
    "        ranks = torch.argsort(combined_scores, descending=True)\n",
    "        \n",
    "        return ranks, combined_scores"
   ],
   "metadata": {
    "collapsed": false,
    "ExecuteTime": {
     "end_time": "2024-05-29T14:47:18.446178186Z",
     "start_time": "2024-05-29T14:47:18.405776297Z"
    }
   },
   "id": "b0a683e2fb2a1c20",
   "execution_count": 3
  },
  {
   "cell_type": "code",
   "outputs": [],
   "source": [
    "class GNNWithDenseDiffPool(nn.Module):\n",
    "    def __init__(self, in_channels, hidden_channels, out_channels, num_clusters):\n",
    "        super(GNNWithDenseDiffPool, self).__init__()\n",
    "        self.conv1 = BasicMessagePassing(in_channels, hidden_channels)\n",
    "        self.rank_nodes = RankNodesByVarianceAndProximity(hidden_channels)\n",
    "        self.conv2 = GCNConv(hidden_channels, hidden_channels)\n",
    "        self.conv3 = GCNConv(hidden_channels, num_clusters)\n",
    "        self.conv4 = GCNConv(hidden_channels, out_channels)\n",
    "        self.lin1 = nn.Linear(hidden_channels, hidden_channels)\n",
    "        self.lin2 = nn.Linear(hidden_channels, num_clusters)\n",
    "        self._act = nn.ReLU()\n",
    "        \n",
    "    def forward(self, data):\n",
    "        x, edge_index, batch, pos = data.x.view((-1,1)), data.edge_index, data.batch, data.pos\n",
    "        x = self.conv1(x, edge_index)\n",
    "        print(x.shape)\n",
    "\n",
    "        # Rank nodes by variance and proximity\n",
    "        with torch.no_grad():  # No gradients needed for ranking\n",
    "            ranks, combined_scores = self.rank_nodes(x, edge_index, pos)\n",
    "\n",
    "        # Select top-ranked nodes\n",
    "        top_k_nodes = ranks[:min(int(len(ranks) * 0.1), x.size(0))] \n",
    "        print(top_k_nodes.shape)\n",
    "        \n",
    "        # Create subgraph mask\n",
    "        subgraph_mask = torch.zeros(x.size(0), dtype=torch.bool, device=x.device)\n",
    "        # print(subgraph_mask.shape)\n",
    "        subgraph_mask[top_k_nodes] = True\n",
    "        # print(subgraph_mask[edge_index[0]].shape, subgraph_mask[edge_index[1]].shape, edge_index[0][subgraph_mask].shape)\n",
    "        \n",
    "        # mask = subgraph_mask[edge_index[0]]  subgraph_mask[edge_index[1]]\n",
    "        # print(mask.shape)\n",
    "        subgraph_edge_index = edge_index[:, subgraph_mask]\n",
    "        print(subgraph_edge_index.shape)\n",
    "        subgraph_x = x[subgraph_mask]\n",
    "\n",
    "        # Apply linear transformation if needed\n",
    "        # if subgraph_x.size(0) != x.size(0):\n",
    "        #    subgraph_x =self._act(self.lin1(subgraph_x))\n",
    "\n",
    "        # Convert edge_index to dense adjacency matrix\n",
    "        adj = to_dense_adj(subgraph_edge_index, max_num_nodes=subgraph_x.size(0))\n",
    "\n",
    "        # Apply DiffPool\n",
    "        print(subgraph_x.shape)\n",
    "        s = self._act(self.conv2(subgraph_x, subgraph_edge_index))\n",
    "        s = self.conv3(s, subgraph_edge_index)\n",
    "        x = self._act(self.conv2(subgraph_x, subgraph_edge_index))\n",
    "        x, adj, _, _ = dense_diff_pool(x, adj, s)\n",
    "\n",
    "        # Further graph convolution after pooling\n",
    "        x = self.conv4(x, subgraph_edge_index)\n",
    "\n",
    "        # Cleanup memory\n",
    "        del subgraph_mask, subgraph_edge_index, subgraph_x, adj, s\n",
    "        torch.cuda.empty_cache()\n",
    "\n",
    "        return F.log_softmax(x, dim=1)"
   ],
   "metadata": {
    "collapsed": false,
    "ExecuteTime": {
     "end_time": "2024-05-29T14:47:18.447199180Z",
     "start_time": "2024-05-29T14:47:18.421550183Z"
    }
   },
   "id": "4e8798c496ca47f7",
   "execution_count": 4
  },
  {
   "cell_type": "code",
   "outputs": [],
   "source": [
    "dataset = torch.load('../../data/MLgSA/train_loader.pt')\n",
    "data = next(iter(dataset))"
   ],
   "metadata": {
    "collapsed": false,
    "ExecuteTime": {
     "end_time": "2024-05-29T14:47:18.915086023Z",
     "start_time": "2024-05-29T14:47:18.428215054Z"
    }
   },
   "id": "eb9ddc027242cc41",
   "execution_count": 5
  },
  {
   "cell_type": "code",
   "outputs": [
    {
     "data": {
      "text/plain": "DataBatch(x=[28811], edge_index=[2, 343986], y=[1], pos=[28811, 3], batch=[28811], ptr=[2])"
     },
     "execution_count": 6,
     "metadata": {},
     "output_type": "execute_result"
    }
   ],
   "source": [
    "data"
   ],
   "metadata": {
    "collapsed": false,
    "ExecuteTime": {
     "end_time": "2024-05-29T14:47:18.922105401Z",
     "start_time": "2024-05-29T14:47:18.916768724Z"
    }
   },
   "id": "fffb54f10cdca69c",
   "execution_count": 6
  },
  {
   "cell_type": "code",
   "outputs": [
    {
     "name": "stdout",
     "output_type": "stream",
     "text": [
      "training\n",
      "torch.Size([28811, 4])\n",
      "torch.Size([2881])\n"
     ]
    },
    {
     "ename": "IndexError",
     "evalue": "The shape of the mask [28811] at index 0 does not match the shape of the indexed tensor [2, 343986] at index 1",
     "output_type": "error",
     "traceback": [
      "\u001B[0;31m---------------------------------------------------------------------------\u001B[0m",
      "\u001B[0;31mIndexError\u001B[0m                                Traceback (most recent call last)",
      "Cell \u001B[0;32mIn[7], line 18\u001B[0m\n\u001B[1;32m     16\u001B[0m \u001B[38;5;28mprint\u001B[39m(\u001B[38;5;124m'\u001B[39m\u001B[38;5;124mtraining\u001B[39m\u001B[38;5;124m'\u001B[39m)\n\u001B[1;32m     17\u001B[0m optimizer\u001B[38;5;241m.\u001B[39mzero_grad()\n\u001B[0;32m---> 18\u001B[0m out \u001B[38;5;241m=\u001B[39m \u001B[43mmodel\u001B[49m\u001B[43m(\u001B[49m\u001B[43mdata\u001B[49m\u001B[43m)\u001B[49m\n\u001B[1;32m     19\u001B[0m \u001B[38;5;28mprint\u001B[39m(out\u001B[38;5;241m.\u001B[39mclone()\u001B[38;5;241m.\u001B[39mdetach())\n\u001B[1;32m     20\u001B[0m loss \u001B[38;5;241m=\u001B[39m loss_fn(out, data\u001B[38;5;241m.\u001B[39my)\n",
      "File \u001B[0;32m~/anaconda3/envs/pyg/lib/python3.8/site-packages/torch/nn/modules/module.py:1518\u001B[0m, in \u001B[0;36mModule._wrapped_call_impl\u001B[0;34m(self, *args, **kwargs)\u001B[0m\n\u001B[1;32m   1516\u001B[0m     \u001B[38;5;28;01mreturn\u001B[39;00m \u001B[38;5;28mself\u001B[39m\u001B[38;5;241m.\u001B[39m_compiled_call_impl(\u001B[38;5;241m*\u001B[39margs, \u001B[38;5;241m*\u001B[39m\u001B[38;5;241m*\u001B[39mkwargs)  \u001B[38;5;66;03m# type: ignore[misc]\u001B[39;00m\n\u001B[1;32m   1517\u001B[0m \u001B[38;5;28;01melse\u001B[39;00m:\n\u001B[0;32m-> 1518\u001B[0m     \u001B[38;5;28;01mreturn\u001B[39;00m \u001B[38;5;28;43mself\u001B[39;49m\u001B[38;5;241;43m.\u001B[39;49m\u001B[43m_call_impl\u001B[49m\u001B[43m(\u001B[49m\u001B[38;5;241;43m*\u001B[39;49m\u001B[43margs\u001B[49m\u001B[43m,\u001B[49m\u001B[43m \u001B[49m\u001B[38;5;241;43m*\u001B[39;49m\u001B[38;5;241;43m*\u001B[39;49m\u001B[43mkwargs\u001B[49m\u001B[43m)\u001B[49m\n",
      "File \u001B[0;32m~/anaconda3/envs/pyg/lib/python3.8/site-packages/torch/nn/modules/module.py:1527\u001B[0m, in \u001B[0;36mModule._call_impl\u001B[0;34m(self, *args, **kwargs)\u001B[0m\n\u001B[1;32m   1522\u001B[0m \u001B[38;5;66;03m# If we don't have any hooks, we want to skip the rest of the logic in\u001B[39;00m\n\u001B[1;32m   1523\u001B[0m \u001B[38;5;66;03m# this function, and just call forward.\u001B[39;00m\n\u001B[1;32m   1524\u001B[0m \u001B[38;5;28;01mif\u001B[39;00m \u001B[38;5;129;01mnot\u001B[39;00m (\u001B[38;5;28mself\u001B[39m\u001B[38;5;241m.\u001B[39m_backward_hooks \u001B[38;5;129;01mor\u001B[39;00m \u001B[38;5;28mself\u001B[39m\u001B[38;5;241m.\u001B[39m_backward_pre_hooks \u001B[38;5;129;01mor\u001B[39;00m \u001B[38;5;28mself\u001B[39m\u001B[38;5;241m.\u001B[39m_forward_hooks \u001B[38;5;129;01mor\u001B[39;00m \u001B[38;5;28mself\u001B[39m\u001B[38;5;241m.\u001B[39m_forward_pre_hooks\n\u001B[1;32m   1525\u001B[0m         \u001B[38;5;129;01mor\u001B[39;00m _global_backward_pre_hooks \u001B[38;5;129;01mor\u001B[39;00m _global_backward_hooks\n\u001B[1;32m   1526\u001B[0m         \u001B[38;5;129;01mor\u001B[39;00m _global_forward_hooks \u001B[38;5;129;01mor\u001B[39;00m _global_forward_pre_hooks):\n\u001B[0;32m-> 1527\u001B[0m     \u001B[38;5;28;01mreturn\u001B[39;00m \u001B[43mforward_call\u001B[49m\u001B[43m(\u001B[49m\u001B[38;5;241;43m*\u001B[39;49m\u001B[43margs\u001B[49m\u001B[43m,\u001B[49m\u001B[43m \u001B[49m\u001B[38;5;241;43m*\u001B[39;49m\u001B[38;5;241;43m*\u001B[39;49m\u001B[43mkwargs\u001B[49m\u001B[43m)\u001B[49m\n\u001B[1;32m   1529\u001B[0m \u001B[38;5;28;01mtry\u001B[39;00m:\n\u001B[1;32m   1530\u001B[0m     result \u001B[38;5;241m=\u001B[39m \u001B[38;5;28;01mNone\u001B[39;00m\n",
      "Cell \u001B[0;32mIn[4], line 34\u001B[0m, in \u001B[0;36mGNNWithDenseDiffPool.forward\u001B[0;34m(self, data)\u001B[0m\n\u001B[1;32m     29\u001B[0m subgraph_mask[top_k_nodes] \u001B[38;5;241m=\u001B[39m \u001B[38;5;28;01mTrue\u001B[39;00m\n\u001B[1;32m     30\u001B[0m \u001B[38;5;66;03m# print(subgraph_mask[edge_index[0]].shape, subgraph_mask[edge_index[1]].shape, edge_index[0][subgraph_mask].shape)\u001B[39;00m\n\u001B[1;32m     31\u001B[0m \n\u001B[1;32m     32\u001B[0m \u001B[38;5;66;03m# mask = subgraph_mask[edge_index[0]]  subgraph_mask[edge_index[1]]\u001B[39;00m\n\u001B[1;32m     33\u001B[0m \u001B[38;5;66;03m# print(mask.shape)\u001B[39;00m\n\u001B[0;32m---> 34\u001B[0m subgraph_edge_index \u001B[38;5;241m=\u001B[39m \u001B[43medge_index\u001B[49m\u001B[43m[\u001B[49m\u001B[43m:\u001B[49m\u001B[43m,\u001B[49m\u001B[43m \u001B[49m\u001B[43msubgraph_mask\u001B[49m\u001B[43m]\u001B[49m\n\u001B[1;32m     35\u001B[0m \u001B[38;5;28mprint\u001B[39m(subgraph_edge_index\u001B[38;5;241m.\u001B[39mshape)\n\u001B[1;32m     36\u001B[0m subgraph_x \u001B[38;5;241m=\u001B[39m x[subgraph_mask]\n",
      "\u001B[0;31mIndexError\u001B[0m: The shape of the mask [28811] at index 0 does not match the shape of the indexed tensor [2, 343986] at index 1"
     ]
    }
   ],
   "source": [
    "# Define model parameters\n",
    "in_channels = 1\n",
    "hidden_channels = 4\n",
    "out_channels = 2\n",
    "num_clusters = 10  # Number of clusters for DiffPool\n",
    "\n",
    "model = GNNWithDenseDiffPool(in_channels, hidden_channels, out_channels, num_clusters)\n",
    "loss_fn = nn.CrossEntropyLoss()\n",
    "# Training the model\n",
    "device = torch.device('cuda' if torch.cuda.is_available() else 'cpu')\n",
    "model = model.to(device)\n",
    "data = data.to(device)\n",
    "optimizer = torch.optim.Adam(model.parameters(), lr=0.01, weight_decay=5e-4)\n",
    "\n",
    "model.train()\n",
    "print('training')\n",
    "optimizer.zero_grad()\n",
    "out = model(data)\n",
    "print(out.clone().detach())\n",
    "loss = loss_fn(out, data.y)\n",
    "loss.backward()\n",
    "optimizer.step()\n",
    "print(loss.detach())\n",
    "\n",
    "model.eval()\n",
    "_, pred = model(data).max(dim=1)\n",
    "correct = pred[data.test_mask].eq(data.y[data.test_mask]).sum().item()\n",
    "accuracy = correct / data.test_mask.sum().item()\n",
    "print('Test Accuracy: {:.4f}'.format(accuracy))"
   ],
   "metadata": {
    "collapsed": false,
    "ExecuteTime": {
     "end_time": "2024-05-29T14:48:05.401781622Z",
     "start_time": "2024-05-29T14:47:18.927185204Z"
    }
   },
   "id": "5af4ef8f03adc566",
   "execution_count": 7
  },
  {
   "cell_type": "code",
   "outputs": [
    {
     "data": {
      "text/plain": "2551"
     },
     "execution_count": 8,
     "metadata": {},
     "output_type": "execute_result"
    }
   ],
   "source": [
    "32671-30120"
   ],
   "metadata": {
    "collapsed": false,
    "ExecuteTime": {
     "end_time": "2024-05-29T14:41:32.929618875Z",
     "start_time": "2024-05-29T14:41:32.882093057Z"
    }
   },
   "id": "424cba6c6ca739dc",
   "execution_count": 8
  },
  {
   "cell_type": "code",
   "outputs": [],
   "source": [],
   "metadata": {
    "collapsed": false
   },
   "id": "5de6f66a41d91343"
  },
  {
   "cell_type": "code",
   "outputs": [],
   "source": [],
   "metadata": {
    "collapsed": false
   },
   "id": "971c96609103a676"
  },
  {
   "cell_type": "code",
   "outputs": [],
   "source": [],
   "metadata": {
    "collapsed": false
   },
   "id": "e402ff068f33e3b1"
  },
  {
   "cell_type": "code",
   "outputs": [],
   "source": [
    "nodes = torch.tensor(range(30))\n",
    "top_k = [1, 3, 5, 7]\n",
    "nodes_mask = torch.zeros(nodes.size(0), dtype=torch.bool)"
   ],
   "metadata": {
    "collapsed": false,
    "ExecuteTime": {
     "end_time": "2024-05-29T12:13:49.607246906Z",
     "start_time": "2024-05-29T12:13:49.583509672Z"
    }
   },
   "id": "af383ee57afd4607",
   "execution_count": 14
  },
  {
   "cell_type": "code",
   "outputs": [],
   "source": [
    "nodes_mask[top_k] = True"
   ],
   "metadata": {
    "collapsed": false,
    "ExecuteTime": {
     "end_time": "2024-05-29T12:14:07.180598860Z",
     "start_time": "2024-05-29T12:14:07.149322293Z"
    }
   },
   "id": "9e65a5fa3503a2f3",
   "execution_count": 15
  },
  {
   "cell_type": "code",
   "outputs": [],
   "source": [
    "new_ind = edges[nodes_mask.any(dim=0)]"
   ],
   "metadata": {
    "collapsed": false,
    "ExecuteTime": {
     "end_time": "2024-05-29T12:20:32.956234095Z",
     "start_time": "2024-05-29T12:20:32.930320902Z"
    }
   },
   "id": "ebef9f7d777dad23",
   "execution_count": 27
  },
  {
   "cell_type": "code",
   "outputs": [
    {
     "data": {
      "text/plain": "tensor([[[ 0,  1,  0,  2,  1,  2,  0,  2,  0,  3,  2,  3,  4,  3,  4,  5,  3,\n           5,  2,  5,  2,  3,  5,  3,  0,  6,  0,  1,  6,  1,  7,  1,  7,  6,\n           1,  6,  5,  8,  5,  4,  8,  4,  9,  8,  9, 10,  8, 10,  9,  4,  9,\n           8,  4,  8, 11, 10, 11,  8, 10,  8,  9, 10,  9, 12, 10, 12,  0,  3,\n           0, 13,  3, 13,  0, 13,  0,  6, 13,  6, 14, 15, 14,  7, 15,  7,  6,\n          14,  6,  7, 14,  7, 16, 14, 16,  6, 14,  6,  4, 17,  4,  3],\n         [ 1,  0,  2,  0,  2,  1,  2,  0,  3,  0,  3,  2,  3,  4,  5,  4,  5,\n           3,  5,  2,  3,  2,  3,  5,  6,  0,  1,  0,  1,  6,  1,  7,  6,  7,\n           6,  1,  8,  5,  4,  5,  4,  8,  8,  9, 10,  9, 10,  8,  4,  9,  8,\n           9,  8,  4, 10, 11,  8, 11,  8, 10, 10,  9, 12,  9, 12, 10,  3,  0,\n          13,  0, 13,  3, 13,  0,  6,  0,  6, 13, 15, 14,  7, 14,  7, 15, 14,\n           6,  7,  6,  7, 14, 14, 16,  6, 16,  6, 14, 17,  4,  3,  4]]])"
     },
     "execution_count": 28,
     "metadata": {},
     "output_type": "execute_result"
    }
   ],
   "source": [
    "new_ind"
   ],
   "metadata": {
    "collapsed": false,
    "ExecuteTime": {
     "end_time": "2024-05-29T12:20:33.486227915Z",
     "start_time": "2024-05-29T12:20:33.479462786Z"
    }
   },
   "id": "6a3ae9bdc78012e9",
   "execution_count": 28
  },
  {
   "cell_type": "code",
   "outputs": [],
   "source": [],
   "metadata": {
    "collapsed": false
   },
   "id": "3dc022abe5194d62"
  }
 ],
 "metadata": {
  "kernelspec": {
   "display_name": "Python 3",
   "language": "python",
   "name": "python3"
  },
  "language_info": {
   "codemirror_mode": {
    "name": "ipython",
    "version": 2
   },
   "file_extension": ".py",
   "mimetype": "text/x-python",
   "name": "python",
   "nbconvert_exporter": "python",
   "pygments_lexer": "ipython2",
   "version": "2.7.6"
  }
 },
 "nbformat": 4,
 "nbformat_minor": 5
}
