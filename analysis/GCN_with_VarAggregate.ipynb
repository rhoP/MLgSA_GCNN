{
 "cells": [
  {
   "cell_type": "code",
   "execution_count": 1,
   "id": "initial_id",
   "metadata": {
    "collapsed": true,
    "ExecuteTime": {
     "end_time": "2024-05-31T09:00:05.945837227Z",
     "start_time": "2024-05-31T09:00:03.629799736Z"
    }
   },
   "outputs": [],
   "source": [
    "import numpy as np\n",
    "import torch\n",
    "import torch.nn as nn\n",
    "import torch.nn.functional as F\n",
    "from torch_geometric.nn import MessagePassing, dense_diff_pool, GCNConv, DenseSAGEConv\n",
    "from torch_geometric.utils import to_dense_adj, remove_self_loops, subgraph, k_hop_subgraph\n",
    "import torch_geometric.transforms as T\n",
    "from torch_geometric.data import Data\n",
    "from torch_geometric.datasets import Planetoid"
   ]
  },
  {
   "cell_type": "code",
   "outputs": [],
   "source": [
    "class BasicMessagePassing(nn.Module):\n",
    "    def __init__(self, in_channels, out_channels):\n",
    "        super(BasicMessagePassing, self).__init__()\n",
    "        self.conv = GCNConv(in_channels, out_channels)\n",
    "\n",
    "    def forward(self, x, edge_index):\n",
    "        return F.relu(self.conv(x, edge_index))\n",
    "\n",
    "class RankNodesByTotalVariation(nn.Module):\n",
    "    def __init__(self, in_channels):\n",
    "        super(RankNodesByTotalVariation, self).__init__()\n",
    "        self.in_channels = in_channels\n",
    "\n",
    "    def forward(self, x, edge_index):\n",
    "        num_nodes = x.size(0)\n",
    "        adj = torch.sparse_coo_tensor(edge_index, torch.ones(edge_index.size(1)), (num_nodes, num_nodes)).to_dense()\n",
    "\n",
    "        sum_inputs = torch.matmul(adj, x)\n",
    "        count_inputs = adj.sum(dim=1, keepdim=True).clamp(min=1)\n",
    "        mean_inputs = sum_inputs / count_inputs\n",
    "\n",
    "        total_variation = torch.norm(x - mean_inputs, dim=-1)\n",
    "        return total_variation"
   ],
   "metadata": {
    "collapsed": false,
    "ExecuteTime": {
     "end_time": "2024-05-31T09:00:05.961929368Z",
     "start_time": "2024-05-31T09:00:05.956072774Z"
    }
   },
   "id": "f26aaa1b04022555",
   "execution_count": 2
  },
  {
   "cell_type": "code",
   "outputs": [],
   "source": [
    "class RankNodesByVarianceAndProximity(nn.Module):\n",
    "    def __init__(self, in_channels):\n",
    "        super(RankNodesByVarianceAndProximity, self).__init__()\n",
    "        self.in_channels = in_channels\n",
    "\n",
    "    def forward(self, x, edge_index, pos):\n",
    "        num_nodes = x.size(0)\n",
    "        adj = torch.sparse_coo_tensor(edge_index, torch.ones(edge_index.size(1)), (num_nodes, num_nodes)).to_dense()\n",
    "\n",
    "        # Compute the sum and count of the messages for each target node\n",
    "        sum_inputs = torch.matmul(adj, x)\n",
    "        count_inputs = adj.sum(dim=1, keepdim=True).clamp(min=1)\n",
    "\n",
    "        # Compute the mean of the messages for each target node\n",
    "        mean_inputs = torch.zeros_like(x)\n",
    "        variances = torch.zeros(num_nodes, device=x.device)\n",
    "        batch_size = 1000  # Adjust batch size based on memory constraints\n",
    "        for i in range(0, num_nodes, batch_size):\n",
    "            x_batch = x[i:i+batch_size]\n",
    "            sum_inputs_batch = sum_inputs[i:i+batch_size]\n",
    "            count_inputs_batch = count_inputs[i:i+batch_size]\n",
    "\n",
    "            # Compute mean inputs\n",
    "            mean_inputs[i:i+batch_size] = sum_inputs_batch / count_inputs_batch\n",
    "\n",
    "            # Compute variance inputs\n",
    "            sum_sq_diff_batch = torch.norm(x_batch - mean_inputs[i:i+batch_size].unsqueeze(1), dim=-1)**2\n",
    "            adj_batch = adj[i:i+batch_size, i:i+batch_size]\n",
    "            mean_sq_diff_batch = (adj_batch.unsqueeze(-1) * sum_sq_diff_batch).sum(dim=1) / count_inputs[i:i+batch_size]\n",
    "            variances[i:i+batch_size] = mean_sq_diff_batch.sum(dim=1)\n",
    "\n",
    "\n",
    "        # Enhance ranking with proximity to high-variance nodes\n",
    "        adjacency_scores = torch.matmul(adj, variances.unsqueeze(1)).squeeze()\n",
    "\n",
    "        # Compute geometric distances\n",
    "        pos_diff = pos.unsqueeze(1) - pos.unsqueeze(0)\n",
    "        dist = torch.norm(pos_diff, dim=-1)\n",
    "\n",
    "        # Select top-ranked nodes\n",
    "        top_k = int(len(variances) * 0.05)\n",
    "        top_k_indices = torch.argsort(variances, descending=True)[:top_k]\n",
    "\n",
    "        # Enhance ranking based on proximity\n",
    "        for i in top_k_indices:\n",
    "            proximity_scores = torch.exp(-dist[i])\n",
    "            adjacency_scores += proximity_scores * variances[i]\n",
    "\n",
    "        combined_scores = variances + adjacency_scores\n",
    "        ranks = torch.argsort(combined_scores, descending=True)\n",
    "        \n",
    "        return ranks, combined_scores"
   ],
   "metadata": {
    "collapsed": false,
    "ExecuteTime": {
     "end_time": "2024-05-31T09:00:05.986558579Z",
     "start_time": "2024-05-31T09:00:05.967666117Z"
    }
   },
   "id": "b0a683e2fb2a1c20",
   "execution_count": 3
  },
  {
   "cell_type": "code",
   "outputs": [],
   "source": [
    "class GNNWithDenseDiffPool(nn.Module):\n",
    "    def __init__(self, in_channels, hidden_channels, out_channels, num_clusters):\n",
    "        super(GNNWithDenseDiffPool, self).__init__()\n",
    "        self.conv1 = BasicMessagePassing(in_channels, hidden_channels)\n",
    "        self.rank_nodes = RankNodesByTotalVariation(hidden_channels)\n",
    "        self.conv2 = GCNConv(hidden_channels, hidden_channels)\n",
    "        self.conv3 = GCNConv(hidden_channels, num_clusters)\n",
    "        self.conv4 = GCNConv(hidden_channels, out_channels)\n",
    "        self.lin1 = nn.Linear(hidden_channels, hidden_channels)\n",
    "        self.lin2 = nn.Linear(hidden_channels, num_clusters)\n",
    "        \n",
    "    def forward(self, data):\n",
    "        x, edge_index, batch, pos = data.x.view((-1, 1)), data.edge_index, data.batch, data.pos\n",
    "        x = self.conv1(x, edge_index)\n",
    "\n",
    "        # Rank nodes by total variation\n",
    "        with torch.no_grad():\n",
    "            total_variation = self.rank_nodes(x, edge_index)\n",
    "\n",
    "        # Select top 50 to 100 nodes with highest total variation values\n",
    "        num_top_nodes = min(100, x.size(0))\n",
    "        top_k_nodes = torch.argsort(total_variation, descending=True)[:num_top_nodes]\n",
    "\n",
    "        # Find k-hop subgraphs for top nodes\n",
    "        k = 20  # Define k for k-hop neighborhood\n",
    "        sub_nodes, sub_edge_index, mapping, _ = k_hop_subgraph(top_k_nodes, k, edge_index, relabel_nodes=True)\n",
    "        sub_x = x[sub_nodes]\n",
    "        sub_pos = pos[sub_nodes]\n",
    "\n",
    "        # Apply linear transformation if needed\n",
    "        if sub_x.size(0) != x.size(0):\n",
    "            sub_x = F.relu(self.lin1(sub_x))\n",
    "\n",
    "        # Convert edge_index to dense adjacency matrix\n",
    "        adj = to_dense_adj(sub_edge_index, max_num_nodes=sub_x.size(0))\n",
    "\n",
    "        # Apply DiffPool\n",
    "        s = F.relu(self.conv2(sub_x, sub_edge_index))\n",
    "        s = self.conv3(s, sub_edge_index)\n",
    "        sub_x = F.relu(self.conv2(sub_x, sub_edge_index))\n",
    "        x, adj, _, _ = dense_diff_pool(sub_x, adj, s)\n",
    "        \n",
    "        # Further graph convolution after pooling\n",
    "        # Convert dense adjacency matrix back to edge_index format\n",
    "        print(sub_x.shape, sub_edge_index.shape)\n",
    "        pooled_edge_index, _ = to_dense_adj(sub_x).nonzero(as_tuple=False).t()\n",
    "        \n",
    "        x = self.conv4(sub_x, pooled_edge_index)\n",
    "\n",
    "        # Cleanup memory\n",
    "        del sub_nodes, sub_edge_index, sub_x, adj, s\n",
    "        torch.cuda.empty_cache()\n",
    "\n",
    "        return F.log_softmax(x, dim=1)"
   ],
   "metadata": {
    "collapsed": false,
    "ExecuteTime": {
     "end_time": "2024-05-31T09:05:58.731082025Z",
     "start_time": "2024-05-31T09:05:58.689888138Z"
    }
   },
   "id": "4e8798c496ca47f7",
   "execution_count": 9
  },
  {
   "cell_type": "code",
   "outputs": [],
   "source": [
    "dataset = torch.load('../../data/MLgSA/train_loader.pt')\n",
    "data = next(iter(dataset))"
   ],
   "metadata": {
    "collapsed": false,
    "ExecuteTime": {
     "end_time": "2024-05-31T09:05:59.950810237Z",
     "start_time": "2024-05-31T09:05:59.286245892Z"
    }
   },
   "id": "eb9ddc027242cc41",
   "execution_count": 10
  },
  {
   "cell_type": "code",
   "outputs": [
    {
     "data": {
      "text/plain": "DataBatch(x=[41143], edge_index=[2, 491088], y=[1], pos=[41143, 3], batch=[41143], ptr=[2])"
     },
     "execution_count": 11,
     "metadata": {},
     "output_type": "execute_result"
    }
   ],
   "source": [
    "data"
   ],
   "metadata": {
    "collapsed": false,
    "ExecuteTime": {
     "end_time": "2024-05-31T09:06:00.452746259Z",
     "start_time": "2024-05-31T09:06:00.442325147Z"
    }
   },
   "id": "fffb54f10cdca69c",
   "execution_count": 11
  },
  {
   "cell_type": "code",
   "outputs": [
    {
     "name": "stdout",
     "output_type": "stream",
     "text": [
      "training\n"
     ]
    },
    {
     "ename": "RuntimeError",
     "evalue": "scatter(): Expected dtype int64 for index",
     "output_type": "error",
     "traceback": [
      "\u001B[0;31m---------------------------------------------------------------------------\u001B[0m",
      "\u001B[0;31mRuntimeError\u001B[0m                              Traceback (most recent call last)",
      "Cell \u001B[0;32mIn[12], line 18\u001B[0m\n\u001B[1;32m     16\u001B[0m \u001B[38;5;28mprint\u001B[39m(\u001B[38;5;124m'\u001B[39m\u001B[38;5;124mtraining\u001B[39m\u001B[38;5;124m'\u001B[39m)\n\u001B[1;32m     17\u001B[0m optimizer\u001B[38;5;241m.\u001B[39mzero_grad()\n\u001B[0;32m---> 18\u001B[0m out \u001B[38;5;241m=\u001B[39m \u001B[43mmodel\u001B[49m\u001B[43m(\u001B[49m\u001B[43mdata\u001B[49m\u001B[43m)\u001B[49m\n\u001B[1;32m     19\u001B[0m \u001B[38;5;28mprint\u001B[39m(out\u001B[38;5;241m.\u001B[39mclone()\u001B[38;5;241m.\u001B[39mdetach())\n\u001B[1;32m     20\u001B[0m loss \u001B[38;5;241m=\u001B[39m loss_fn(out, data\u001B[38;5;241m.\u001B[39my)\n",
      "File \u001B[0;32m~/anaconda3/envs/pyg/lib/python3.8/site-packages/torch/nn/modules/module.py:1518\u001B[0m, in \u001B[0;36mModule._wrapped_call_impl\u001B[0;34m(self, *args, **kwargs)\u001B[0m\n\u001B[1;32m   1516\u001B[0m     \u001B[38;5;28;01mreturn\u001B[39;00m \u001B[38;5;28mself\u001B[39m\u001B[38;5;241m.\u001B[39m_compiled_call_impl(\u001B[38;5;241m*\u001B[39margs, \u001B[38;5;241m*\u001B[39m\u001B[38;5;241m*\u001B[39mkwargs)  \u001B[38;5;66;03m# type: ignore[misc]\u001B[39;00m\n\u001B[1;32m   1517\u001B[0m \u001B[38;5;28;01melse\u001B[39;00m:\n\u001B[0;32m-> 1518\u001B[0m     \u001B[38;5;28;01mreturn\u001B[39;00m \u001B[38;5;28;43mself\u001B[39;49m\u001B[38;5;241;43m.\u001B[39;49m\u001B[43m_call_impl\u001B[49m\u001B[43m(\u001B[49m\u001B[38;5;241;43m*\u001B[39;49m\u001B[43margs\u001B[49m\u001B[43m,\u001B[49m\u001B[43m \u001B[49m\u001B[38;5;241;43m*\u001B[39;49m\u001B[38;5;241;43m*\u001B[39;49m\u001B[43mkwargs\u001B[49m\u001B[43m)\u001B[49m\n",
      "File \u001B[0;32m~/anaconda3/envs/pyg/lib/python3.8/site-packages/torch/nn/modules/module.py:1527\u001B[0m, in \u001B[0;36mModule._call_impl\u001B[0;34m(self, *args, **kwargs)\u001B[0m\n\u001B[1;32m   1522\u001B[0m \u001B[38;5;66;03m# If we don't have any hooks, we want to skip the rest of the logic in\u001B[39;00m\n\u001B[1;32m   1523\u001B[0m \u001B[38;5;66;03m# this function, and just call forward.\u001B[39;00m\n\u001B[1;32m   1524\u001B[0m \u001B[38;5;28;01mif\u001B[39;00m \u001B[38;5;129;01mnot\u001B[39;00m (\u001B[38;5;28mself\u001B[39m\u001B[38;5;241m.\u001B[39m_backward_hooks \u001B[38;5;129;01mor\u001B[39;00m \u001B[38;5;28mself\u001B[39m\u001B[38;5;241m.\u001B[39m_backward_pre_hooks \u001B[38;5;129;01mor\u001B[39;00m \u001B[38;5;28mself\u001B[39m\u001B[38;5;241m.\u001B[39m_forward_hooks \u001B[38;5;129;01mor\u001B[39;00m \u001B[38;5;28mself\u001B[39m\u001B[38;5;241m.\u001B[39m_forward_pre_hooks\n\u001B[1;32m   1525\u001B[0m         \u001B[38;5;129;01mor\u001B[39;00m _global_backward_pre_hooks \u001B[38;5;129;01mor\u001B[39;00m _global_backward_hooks\n\u001B[1;32m   1526\u001B[0m         \u001B[38;5;129;01mor\u001B[39;00m _global_forward_hooks \u001B[38;5;129;01mor\u001B[39;00m _global_forward_pre_hooks):\n\u001B[0;32m-> 1527\u001B[0m     \u001B[38;5;28;01mreturn\u001B[39;00m \u001B[43mforward_call\u001B[49m\u001B[43m(\u001B[49m\u001B[38;5;241;43m*\u001B[39;49m\u001B[43margs\u001B[49m\u001B[43m,\u001B[49m\u001B[43m \u001B[49m\u001B[38;5;241;43m*\u001B[39;49m\u001B[38;5;241;43m*\u001B[39;49m\u001B[43mkwargs\u001B[49m\u001B[43m)\u001B[49m\n\u001B[1;32m   1529\u001B[0m \u001B[38;5;28;01mtry\u001B[39;00m:\n\u001B[1;32m   1530\u001B[0m     result \u001B[38;5;241m=\u001B[39m \u001B[38;5;28;01mNone\u001B[39;00m\n",
      "Cell \u001B[0;32mIn[9], line 45\u001B[0m, in \u001B[0;36mGNNWithDenseDiffPool.forward\u001B[0;34m(self, data)\u001B[0m\n\u001B[1;32m     41\u001B[0m x, adj, _, _ \u001B[38;5;241m=\u001B[39m dense_diff_pool(sub_x, adj, s)\n\u001B[1;32m     43\u001B[0m \u001B[38;5;66;03m# Further graph convolution after pooling\u001B[39;00m\n\u001B[1;32m     44\u001B[0m \u001B[38;5;66;03m# Convert dense adjacency matrix back to edge_index format\u001B[39;00m\n\u001B[0;32m---> 45\u001B[0m pooled_edge_index, _ \u001B[38;5;241m=\u001B[39m \u001B[43mto_dense_adj\u001B[49m\u001B[43m(\u001B[49m\u001B[43msub_x\u001B[49m\u001B[43m)\u001B[49m\u001B[38;5;241m.\u001B[39mnonzero(as_tuple\u001B[38;5;241m=\u001B[39m\u001B[38;5;28;01mFalse\u001B[39;00m)\u001B[38;5;241m.\u001B[39mt()\n\u001B[1;32m     46\u001B[0m \u001B[38;5;28mprint\u001B[39m(x\u001B[38;5;241m.\u001B[39mshape, sub_edge_index\u001B[38;5;241m.\u001B[39mshape)\n\u001B[1;32m     47\u001B[0m x \u001B[38;5;241m=\u001B[39m \u001B[38;5;28mself\u001B[39m\u001B[38;5;241m.\u001B[39mconv4(sub_x, pooled_edge_index)\n",
      "File \u001B[0;32m~/anaconda3/envs/pyg/lib/python3.8/site-packages/torch_geometric/utils/to_dense_adj.py:72\u001B[0m, in \u001B[0;36mto_dense_adj\u001B[0;34m(edge_index, batch, edge_attr, max_num_nodes, batch_size)\u001B[0m\n\u001B[1;32m     69\u001B[0m     batch_size \u001B[38;5;241m=\u001B[39m \u001B[38;5;28mint\u001B[39m(batch\u001B[38;5;241m.\u001B[39mmax()) \u001B[38;5;241m+\u001B[39m \u001B[38;5;241m1\u001B[39m \u001B[38;5;28;01mif\u001B[39;00m batch\u001B[38;5;241m.\u001B[39mnumel() \u001B[38;5;241m>\u001B[39m \u001B[38;5;241m0\u001B[39m \u001B[38;5;28;01melse\u001B[39;00m \u001B[38;5;241m1\u001B[39m\n\u001B[1;32m     71\u001B[0m one \u001B[38;5;241m=\u001B[39m batch\u001B[38;5;241m.\u001B[39mnew_ones(batch\u001B[38;5;241m.\u001B[39msize(\u001B[38;5;241m0\u001B[39m))\n\u001B[0;32m---> 72\u001B[0m num_nodes \u001B[38;5;241m=\u001B[39m \u001B[43mscatter\u001B[49m\u001B[43m(\u001B[49m\u001B[43mone\u001B[49m\u001B[43m,\u001B[49m\u001B[43m \u001B[49m\u001B[43mbatch\u001B[49m\u001B[43m,\u001B[49m\u001B[43m \u001B[49m\u001B[43mdim\u001B[49m\u001B[38;5;241;43m=\u001B[39;49m\u001B[38;5;241;43m0\u001B[39;49m\u001B[43m,\u001B[49m\u001B[43m \u001B[49m\u001B[43mdim_size\u001B[49m\u001B[38;5;241;43m=\u001B[39;49m\u001B[43mbatch_size\u001B[49m\u001B[43m,\u001B[49m\u001B[43m \u001B[49m\u001B[43mreduce\u001B[49m\u001B[38;5;241;43m=\u001B[39;49m\u001B[38;5;124;43m'\u001B[39;49m\u001B[38;5;124;43msum\u001B[39;49m\u001B[38;5;124;43m'\u001B[39;49m\u001B[43m)\u001B[49m\n\u001B[1;32m     73\u001B[0m cum_nodes \u001B[38;5;241m=\u001B[39m cumsum(num_nodes)\n\u001B[1;32m     75\u001B[0m idx0 \u001B[38;5;241m=\u001B[39m batch[edge_index[\u001B[38;5;241m0\u001B[39m]]\n",
      "File \u001B[0;32m~/anaconda3/envs/pyg/lib/python3.8/site-packages/torch_geometric/utils/scatter.py:70\u001B[0m, in \u001B[0;36mscatter\u001B[0;34m(src, index, dim, dim_size, reduce)\u001B[0m\n\u001B[1;32m     68\u001B[0m \u001B[38;5;28;01mif\u001B[39;00m reduce \u001B[38;5;241m==\u001B[39m \u001B[38;5;124m'\u001B[39m\u001B[38;5;124msum\u001B[39m\u001B[38;5;124m'\u001B[39m \u001B[38;5;129;01mor\u001B[39;00m reduce \u001B[38;5;241m==\u001B[39m \u001B[38;5;124m'\u001B[39m\u001B[38;5;124madd\u001B[39m\u001B[38;5;124m'\u001B[39m:\n\u001B[1;32m     69\u001B[0m     index \u001B[38;5;241m=\u001B[39m broadcast(index, src, dim)\n\u001B[0;32m---> 70\u001B[0m     \u001B[38;5;28;01mreturn\u001B[39;00m \u001B[43msrc\u001B[49m\u001B[38;5;241;43m.\u001B[39;49m\u001B[43mnew_zeros\u001B[49m\u001B[43m(\u001B[49m\u001B[43msize\u001B[49m\u001B[43m)\u001B[49m\u001B[38;5;241;43m.\u001B[39;49m\u001B[43mscatter_add_\u001B[49m\u001B[43m(\u001B[49m\u001B[43mdim\u001B[49m\u001B[43m,\u001B[49m\u001B[43m \u001B[49m\u001B[43mindex\u001B[49m\u001B[43m,\u001B[49m\u001B[43m \u001B[49m\u001B[43msrc\u001B[49m\u001B[43m)\u001B[49m\n\u001B[1;32m     72\u001B[0m \u001B[38;5;28;01mif\u001B[39;00m reduce \u001B[38;5;241m==\u001B[39m \u001B[38;5;124m'\u001B[39m\u001B[38;5;124mmean\u001B[39m\u001B[38;5;124m'\u001B[39m:\n\u001B[1;32m     73\u001B[0m     count \u001B[38;5;241m=\u001B[39m src\u001B[38;5;241m.\u001B[39mnew_zeros(dim_size)\n",
      "\u001B[0;31mRuntimeError\u001B[0m: scatter(): Expected dtype int64 for index"
     ]
    }
   ],
   "source": [
    "# Define model parameters\n",
    "in_channels = 1\n",
    "hidden_channels = 4\n",
    "out_channels = 2\n",
    "num_clusters = 3  # Number of clusters for DiffPool\n",
    "\n",
    "model = GNNWithDenseDiffPool(in_channels, hidden_channels, out_channels, num_clusters)\n",
    "loss_fn = nn.CrossEntropyLoss()\n",
    "# Training the model\n",
    "device = torch.device('cuda' if torch.cuda.is_available() else 'cpu')\n",
    "model = model.to(device)\n",
    "data = data.to(device)\n",
    "optimizer = torch.optim.Adam(model.parameters(), lr=0.01, weight_decay=5e-4)\n",
    "\n",
    "model.train()\n",
    "print('training')\n",
    "optimizer.zero_grad()\n",
    "out = model(data)\n",
    "print(out.clone().detach())\n",
    "loss = loss_fn(out, data.y)\n",
    "loss.backward()\n",
    "optimizer.step()\n",
    "print(loss.detach())\n",
    "\n",
    "model.eval()\n",
    "_, pred = model(data).max(dim=1)\n",
    "correct = pred[data.test_mask].eq(data.y[data.test_mask]).sum().item()\n",
    "accuracy = correct / data.test_mask.sum().item()\n",
    "print('Test Accuracy: {:.4f}'.format(accuracy))"
   ],
   "metadata": {
    "collapsed": false,
    "ExecuteTime": {
     "end_time": "2024-05-31T09:06:13.031045927Z",
     "start_time": "2024-05-31T09:06:07.967857025Z"
    }
   },
   "id": "5af4ef8f03adc566",
   "execution_count": 12
  },
  {
   "cell_type": "code",
   "outputs": [],
   "source": [],
   "metadata": {
    "collapsed": false,
    "ExecuteTime": {
     "end_time": "2024-05-30T13:35:38.001146591Z",
     "start_time": "2024-05-30T13:35:37.984787467Z"
    }
   },
   "id": "5de6f66a41d91343",
   "execution_count": 9
  },
  {
   "cell_type": "code",
   "outputs": [],
   "source": [],
   "metadata": {
    "collapsed": false,
    "ExecuteTime": {
     "end_time": "2024-05-30T13:17:32.071574691Z",
     "start_time": "2024-05-30T13:17:32.057812575Z"
    }
   },
   "id": "e402ff068f33e3b1",
   "execution_count": 16
  },
  {
   "cell_type": "code",
   "outputs": [],
   "source": [],
   "metadata": {
    "collapsed": false
   },
   "id": "3dc022abe5194d62"
  }
 ],
 "metadata": {
  "kernelspec": {
   "display_name": "Python 3",
   "language": "python",
   "name": "python3"
  },
  "language_info": {
   "codemirror_mode": {
    "name": "ipython",
    "version": 2
   },
   "file_extension": ".py",
   "mimetype": "text/x-python",
   "name": "python",
   "nbconvert_exporter": "python",
   "pygments_lexer": "ipython2",
   "version": "2.7.6"
  }
 },
 "nbformat": 4,
 "nbformat_minor": 5
}
