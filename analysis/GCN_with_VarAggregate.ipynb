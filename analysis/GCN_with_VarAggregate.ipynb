{
 "cells": [
  {
   "cell_type": "code",
   "execution_count": 21,
   "id": "initial_id",
   "metadata": {
    "ExecuteTime": {
     "end_time": "2024-05-31T09:00:05.945837227Z",
     "start_time": "2024-05-31T09:00:03.629799736Z"
    },
    "collapsed": true
   },
   "outputs": [],
   "source": [
    "import numpy as np\n",
    "import torch\n",
    "import torch.nn as nn\n",
    "import torch.nn.functional as F\n",
    "from torch_geometric.nn import MessagePassing, dense_diff_pool, GCNConv, DenseSAGEConv, global_mean_pool\n",
    "from torch_geometric.utils import to_dense_adj, remove_self_loops, subgraph, k_hop_subgraph\n",
    "import torch_geometric.transforms as T\n",
    "from torch_geometric.datasets import Planetoid\n",
    "from torch_geometric.loader import DataLoader"
   ]
  },
  {
   "cell_type": "code",
   "execution_count": 18,
   "id": "303bbcfc",
   "metadata": {},
   "outputs": [],
   "source": [
    "dataset = torch.load('../../data/MLgSA/train_loader.pt')"
   ]
  },
  {
   "cell_type": "code",
   "execution_count": 49,
   "id": "84f92989",
   "metadata": {},
   "outputs": [
    {
     "data": {
      "text/plain": [
       "DataBatch(x=[140, 1], edge_index=[2, 900], y=[1], pos=[140, 3], batch=[140], ptr=[2])"
      ]
     },
     "execution_count": 49,
     "metadata": {},
     "output_type": "execute_result"
    }
   ],
   "source": [
    "data = next(iter(dataset))\n",
    "data"
   ]
  },
  {
   "cell_type": "code",
   "execution_count": 50,
   "id": "f26aaa1b04022555",
   "metadata": {
    "ExecuteTime": {
     "end_time": "2024-05-31T09:00:05.961929368Z",
     "start_time": "2024-05-31T09:00:05.956072774Z"
    },
    "collapsed": false
   },
   "outputs": [],
   "source": [
    "class BasicMessagePassing(nn.Module):\n",
    "    def __init__(self, in_channels, out_channels):\n",
    "        super(BasicMessagePassing, self).__init__()\n",
    "        self.conv = GCNConv(in_channels, out_channels)\n",
    "\n",
    "    def forward(self, x, edge_index):\n",
    "        return F.relu(self.conv(x, edge_index))\n",
    "\n",
    "class RankNodesByTotalVariation(nn.Module):\n",
    "    def __init__(self, in_channels):\n",
    "        super(RankNodesByTotalVariation, self).__init__()\n",
    "        self.in_channels = in_channels\n",
    "\n",
    "    def forward(self, x, edge_index):\n",
    "        num_nodes = x.size(0)\n",
    "        # Create sparse adjacency matrix\n",
    "        adj = torch.sparse_coo_tensor(edge_index, torch.ones(edge_index.size(1)), (num_nodes, num_nodes))\n",
    "        \n",
    "        # Perform sparse matrix multiplication to get sum of inputs\n",
    "        sum_inputs = torch.sparse.mm(adj, x)\n",
    "        \n",
    "        # Get the count of inputs (degree of each node)\n",
    "        count_inputs = torch.sparse.sum(adj, dim=1).to_dense().view(-1, 1).clamp(min=1)\n",
    "        \n",
    "        # Calculate the mean inputs\n",
    "        mean_inputs = sum_inputs / count_inputs\n",
    "        \n",
    "        # Calculate total variation\n",
    "        total_variation = torch.norm(x - mean_inputs, dim=-1)\n",
    "        return total_variation"
   ]
  },
  {
   "cell_type": "code",
   "execution_count": 51,
   "id": "4e8798c496ca47f7",
   "metadata": {
    "ExecuteTime": {
     "end_time": "2024-05-31T09:05:58.731082025Z",
     "start_time": "2024-05-31T09:05:58.689888138Z"
    },
    "collapsed": false
   },
   "outputs": [],
   "source": [
    "class GNNWithDenseDiffPool(nn.Module):\n",
    "    def __init__(self, in_channels, hidden_channels, out_channels, num_clusters):\n",
    "        super(GNNWithDenseDiffPool, self).__init__()\n",
    "        self.conv1 = BasicMessagePassing(in_channels, hidden_channels)\n",
    "        self.rank_nodes = RankNodesByTotalVariation(hidden_channels)\n",
    "        self.conv2 = GCNConv(hidden_channels, hidden_channels)\n",
    "        self.conv3 = GCNConv(hidden_channels, num_clusters)\n",
    "        self.lin1 = nn.Linear(hidden_channels, hidden_channels)\n",
    "        self.lin2 = nn.Linear(hidden_channels, num_clusters)\n",
    "        self.lin3 = nn.Linear(hidden_channels*num_clusters, 1)\n",
    "        \n",
    "    def forward(self, data):\n",
    "        x, edge_index, batch, pos = data.x.view((-1, 1)), data.edge_index, data.batch, data.pos\n",
    "        x = self.conv1(x, edge_index)\n",
    "\n",
    "        # Rank nodes by total variation\n",
    "        total_variation = self.rank_nodes(x, edge_index)\n",
    "\n",
    "        # Select top 50 to 100 nodes with highest total variation values\n",
    "        num_top_nodes = min(100, x.size(0))\n",
    "        top_k_nodes = torch.argsort(total_variation, descending=True)[:num_top_nodes]\n",
    "        del total_variation\n",
    "\n",
    "        # Find k-hop subgraphs for top nodes\n",
    "        k = 5  # Define k for k-hop neighborhood\n",
    "        sub_nodes, sub_edge_index, mapping, _ = k_hop_subgraph(top_k_nodes, k, edge_index, relabel_nodes=True)\n",
    "        sub_x = x[sub_nodes]\n",
    "        sub_pos = pos[sub_nodes]\n",
    "\n",
    "        # Apply linear transformation if needed\n",
    "        if sub_x.size(0) != x.size(0):\n",
    "            sub_x = F.relu(self.lin1(sub_x))\n",
    "\n",
    "        # Convert edge_index to dense adjacency matrix\n",
    "        adj = to_dense_adj(sub_edge_index, max_num_nodes=sub_x.size(0))\n",
    "\n",
    "        # Apply DiffPool\n",
    "        s = F.relu(self.conv2(sub_x, sub_edge_index))\n",
    "        s = self.conv3(s, sub_edge_index)\n",
    "        sub_x = F.relu(self.conv2(sub_x, sub_edge_index))\n",
    "        x, adj, _, _ = dense_diff_pool(sub_x, adj, s)\n",
    "\n",
    "        x = self.lin3(x.view((1,-1)))\n",
    "        print(x.shape, x)\n",
    "\n",
    "        # Cleanup memory\n",
    "        del sub_nodes, sub_edge_index, sub_x, adj, s\n",
    "        torch.cuda.empty_cache()\n",
    "\n",
    "        return F.log_softmax(x.view(-1), dim=-1)"
   ]
  },
  {
   "cell_type": "code",
   "execution_count": 52,
   "id": "0b8ebcd9",
   "metadata": {},
   "outputs": [],
   "source": [
    "class GNNWithDenseDiffPool(nn.Module):\n",
    "    def __init__(self, in_channels, hidden_channels, out_channels, num_clusters):\n",
    "        super(GNNWithDenseDiffPool, self).__init__()\n",
    "        self.conv1 = BasicMessagePassing(in_channels, hidden_channels)\n",
    "        self.conv2 = GCNConv(hidden_channels, hidden_channels)\n",
    "        self.conv3 = GCNConv(hidden_channels, hidden_channels)\n",
    "        self.lin1 = nn.Linear(hidden_channels, 125)\n",
    "        self.lin2 = nn.Linear(125, hidden_channels)\n",
    "        self.lin3 = nn.Linear(hidden_channels, 2)\n",
    "        \n",
    "    def forward(self, data, batch=None):\n",
    "        x, edge_index, batch, pos = data.x.view((-1, 1)), data.edge_index, data.batch, data.pos\n",
    "        x = self.conv1(x, edge_index)\n",
    "        x = F.relu(self.conv2(x, edge_index))\n",
    "        x = self.conv3(x, edge_index)\n",
    "        x1 = F.relu(self.lin1(x))\n",
    "        x = F.relu(self.lin2(x1) + x)\n",
    "        x = F.relu(self.lin3(x))\n",
    "        out = global_mean_pool(x, batch)\n",
    "        print(\"output \", out)\n",
    "        return out\n"
   ]
  },
  {
   "cell_type": "code",
   "execution_count": 53,
   "id": "5af4ef8f03adc566",
   "metadata": {
    "ExecuteTime": {
     "end_time": "2024-05-31T09:06:13.031045927Z",
     "start_time": "2024-05-31T09:06:07.967857025Z"
    },
    "collapsed": false
   },
   "outputs": [
    {
     "name": "stdout",
     "output_type": "stream",
     "text": [
      "training\n",
      "output  tensor([[0.3849, 0.0000]], grad_fn=<DivBackward0>)\n",
      "tensor([[0.3849, 0.0000]])\n",
      "tensor(0.5191)\n"
     ]
    }
   ],
   "source": [
    "# Define model parameters\n",
    "in_channels = 1\n",
    "hidden_channels = 4\n",
    "out_channels = 2\n",
    "num_clusters = 3  # Number of clusters for DiffPool\n",
    "\n",
    "model = GNNWithDenseDiffPool(in_channels, hidden_channels, out_channels, num_clusters)\n",
    "loss_fn = nn.CrossEntropyLoss()\n",
    "# Training the model\n",
    "device = torch.device('cuda' if torch.cuda.is_available() else 'cpu')\n",
    "model = model.to(device)\n",
    "data = data.to(device)\n",
    "optimizer = torch.optim.Adam(model.parameters(), lr=0.01, weight_decay=5e-4)\n",
    "\n",
    "model.train()\n",
    "print('training')\n",
    "optimizer.zero_grad()\n",
    "out = model(data)\n",
    "print(out.clone().detach())\n",
    "#y = torch.tensor(data.y, dtype=torch.float)\n",
    "loss = loss_fn(out, data.y)\n",
    "loss.backward()\n",
    "optimizer.step()\n",
    "print(loss.detach())\n"
   ]
  },
  {
   "cell_type": "code",
   "execution_count": 25,
   "id": "3dc022abe5194d62",
   "metadata": {
    "collapsed": false
   },
   "outputs": [
    {
     "data": {
      "text/plain": [
       "tensor([1.])"
      ]
     },
     "execution_count": 25,
     "metadata": {},
     "output_type": "execute_result"
    }
   ],
   "source": [
    "data.y.to(torch.float)"
   ]
  },
  {
   "cell_type": "code",
   "execution_count": 20,
   "id": "9c894358",
   "metadata": {},
   "outputs": [
    {
     "data": {
      "text/plain": [
       "torch.int64"
      ]
     },
     "execution_count": 20,
     "metadata": {},
     "output_type": "execute_result"
    }
   ],
   "source": [
    "x.to(torch.long).dtype"
   ]
  },
  {
   "cell_type": "code",
   "execution_count": 2,
   "id": "4726d123",
   "metadata": {},
   "outputs": [
    {
     "data": {
      "text/plain": [
       "False"
      ]
     },
     "execution_count": 2,
     "metadata": {},
     "output_type": "execute_result"
    }
   ],
   "source": [
    "import torch\n",
    "torch.cuda.is_available()"
   ]
  },
  {
   "cell_type": "code",
   "execution_count": null,
   "id": "baf2c6c0",
   "metadata": {},
   "outputs": [],
   "source": []
  },
  {
   "cell_type": "code",
   "execution_count": null,
   "id": "e3aff997",
   "metadata": {},
   "outputs": [],
   "source": []
  }
 ],
 "metadata": {
  "kernelspec": {
   "display_name": "Python 3",
   "language": "python",
   "name": "python3"
  },
  "language_info": {
   "codemirror_mode": {
    "name": "ipython",
    "version": 3
   },
   "file_extension": ".py",
   "mimetype": "text/x-python",
   "name": "python",
   "nbconvert_exporter": "python",
   "pygments_lexer": "ipython3",
   "version": "3.10.14"
  }
 },
 "nbformat": 4,
 "nbformat_minor": 5
}
