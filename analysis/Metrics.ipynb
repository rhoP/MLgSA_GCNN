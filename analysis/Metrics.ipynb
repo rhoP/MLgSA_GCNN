{
 "cells": [
  {
   "cell_type": "code",
   "execution_count": 5,
   "id": "initial_id",
   "metadata": {
    "collapsed": true,
    "ExecuteTime": {
     "end_time": "2024-05-30T08:16:41.731492389Z",
     "start_time": "2024-05-30T08:16:41.640273579Z"
    }
   },
   "outputs": [],
   "source": [
    "import numpy as np\n",
    "import matplotlib.pyplot as plt\n",
    "import pyvista as pv\n",
    "from os import listdir\n",
    "from os.path import isfile, join\n",
    "from scipy.sparse import csr_matrix\n",
    "from scipy.sparse.linalg import eigsh"
   ]
  },
  {
   "cell_type": "code",
   "outputs": [
    {
     "name": "stdout",
     "output_type": "stream",
     "text": [
      "108 30\n"
     ]
    }
   ],
   "source": [
    "mypath = '../../data/MLgSA/wss/'\n",
    "mypath1 = '../../data/MLgSA/New_wss/'\n",
    "\n",
    "onlyfiles = np.asarray([f for f in listdir(mypath) if isfile(join(mypath, f))])\n",
    "onlyfiles1 = np.asarray([f for f in listdir(mypath1) if isfile(join(mypath1, f))])\n",
    "\n",
    "onlyfiles.sort()\n",
    "onlyfiles1.sort()\n",
    "\n",
    "print(len(onlyfiles), len(onlyfiles1))\n",
    "\n",
    "short_list = np.asarray([s[5:23] if s[19] == 'l' else s[5:24] for s in onlyfiles])\n",
    "short_list1 = np.asarray([s[5:23] if s[19] == 'l' else s[5:24] for s in onlyfiles1])"
   ],
   "metadata": {
    "collapsed": false,
    "ExecuteTime": {
     "end_time": "2024-05-30T08:13:57.719026891Z",
     "start_time": "2024-05-30T08:13:57.706391441Z"
    }
   },
   "id": "7e5958e7e7c5e9f8",
   "execution_count": 2
  },
  {
   "cell_type": "code",
   "outputs": [],
   "source": [
    "reader = pv.get_reader(mypath + onlyfiles[0])\n",
    "mesh  = reader.read()"
   ],
   "metadata": {
    "collapsed": false,
    "ExecuteTime": {
     "end_time": "2024-05-30T08:14:25.177333158Z",
     "start_time": "2024-05-30T08:14:24.641190063Z"
    }
   },
   "id": "8a0fbb8d754e7f8d",
   "execution_count": 3
  },
  {
   "cell_type": "code",
   "outputs": [
    {
     "data": {
      "text/plain": "Widget(value='<iframe src=\"http://localhost:41071/index.html?ui=P_0x7f9baa06ac70_0&reconnect=auto\" class=\"pyvi…",
      "application/vnd.jupyter.widget-view+json": {
       "version_major": 2,
       "version_minor": 0,
       "model_id": "b6ba2fbeb3ab452fae426bbb3dc674e3"
      }
     },
     "metadata": {},
     "output_type": "display_data"
    }
   ],
   "source": [
    "plotter = pv.Plotter()\n",
    "plotter.add_mesh(mesh, scalars = 'longitudinal_WSS_@_t=1.1', show_edges=True)\n",
    "plotter.show()"
   ],
   "metadata": {
    "collapsed": false,
    "ExecuteTime": {
     "end_time": "2024-05-30T08:15:07.600773248Z",
     "start_time": "2024-05-30T08:15:06.651980144Z"
    }
   },
   "id": "c841b450ee9c1b7f",
   "execution_count": 4
  },
  {
   "cell_type": "code",
   "outputs": [],
   "source": [
    "mesh.point_data['data'] = mesh['longitudinal_WSS_@_t=1.1']"
   ],
   "metadata": {
    "collapsed": false,
    "ExecuteTime": {
     "end_time": "2024-05-30T08:17:29.552090131Z",
     "start_time": "2024-05-30T08:17:29.505164278Z"
    }
   },
   "id": "8a6cc618e117c8f9",
   "execution_count": 6
  },
  {
   "cell_type": "code",
   "outputs": [],
   "source": [
    "def extract_edges(mesh):\n",
    "    cells = mesh.n_cells\n",
    "    cell_types = mesh.celltypes\n",
    "\n",
    "    edges = set()\n",
    "    for i  in range(cells):\n",
    "        if cell_types[i] == 5:  # Assuming triangles\n",
    "            cell = mesh.get_cell(i)\n",
    "            edges.add(tuple(sorted(cell.get_edge(0).point_ids)))\n",
    "            edges.add(tuple(sorted(cell.get_edge(1).point_ids)))\n",
    "            edges.add(tuple(sorted(cell.get_edge(2).point_ids)))\n",
    "\n",
    "    edges = np.array(list(edges))\n",
    "    return edges"
   ],
   "metadata": {
    "collapsed": false,
    "ExecuteTime": {
     "end_time": "2024-05-30T09:29:38.667862879Z",
     "start_time": "2024-05-30T09:29:38.613791333Z"
    }
   },
   "id": "494eab1b252b02c6",
   "execution_count": 70
  },
  {
   "cell_type": "code",
   "outputs": [],
   "source": [
    "edges = extract_edges(mesh)"
   ],
   "metadata": {
    "collapsed": false,
    "ExecuteTime": {
     "end_time": "2024-05-30T09:29:45.064311256Z",
     "start_time": "2024-05-30T09:29:39.036132986Z"
    }
   },
   "id": "a892f806a0929dd1",
   "execution_count": 71
  },
  {
   "cell_type": "code",
   "outputs": [],
   "source": [
    "# Calculate the Laplacian matrix\n",
    "def compute_laplacian(mesh, edges):\n",
    "    n_points = mesh.number_of_points\n",
    "\n",
    "    row_indices = np.hstack([edges[:, 0], edges[:, 1]])\n",
    "    col_indices = np.hstack([edges[:, 1], edges[:, 0]])\n",
    "    data = np.ones_like(row_indices)\n",
    "    \n",
    "    adjacency_matrix = csr_matrix((data, (row_indices, col_indices)), shape=(n_points, n_points))\n",
    "    degree_matrix = csr_matrix((np.array(adjacency_matrix.sum(axis=1)).flatten(), (range(n_points), range(n_points))))\n",
    "    \n",
    "    laplacian_matrix = degree_matrix - adjacency_matrix\n",
    "    return laplacian_matrix\n",
    "\n",
    "laplacian_matrix = compute_laplacian(mesh, edges)"
   ],
   "metadata": {
    "collapsed": false,
    "ExecuteTime": {
     "end_time": "2024-05-30T09:29:45.111788144Z",
     "start_time": "2024-05-30T09:29:45.068918251Z"
    }
   },
   "id": "5933bc457486fb0f",
   "execution_count": 72
  },
  {
   "cell_type": "code",
   "outputs": [
    {
     "data": {
      "text/plain": "Widget(value='<iframe src=\"http://localhost:41071/index.html?ui=P_0x7f9b3e7ee8e0_5&reconnect=auto\" class=\"pyvi…",
      "application/vnd.jupyter.widget-view+json": {
       "version_major": 2,
       "version_minor": 0,
       "model_id": "58553e436e3d42b8b2cbbff3a3de591a"
      }
     },
     "metadata": {},
     "output_type": "display_data"
    }
   ],
   "source": [
    "laplacian_matrix = compute_laplacian(mesh, edges)\n",
    "\n",
    "# Calculate the Laplacian smoothness field (Laplacian applied to the data)\n",
    "laplacian_field = laplacian_matrix.dot(mesh.point_data['data'])\n",
    "mesh.point_data['laplacian_field'] = laplacian_field\n",
    "\n",
    "# Visualize the Laplacian field\n",
    "plotter = pv.Plotter()\n",
    "plotter.add_mesh(mesh, scalars='laplacian_field', cmap='coolwarm', show_edges=True)\n",
    "plotter.add_scalar_bar('Laplacian Field')\n",
    "plotter.show()"
   ],
   "metadata": {
    "collapsed": false,
    "ExecuteTime": {
     "end_time": "2024-05-30T09:30:22.271548474Z",
     "start_time": "2024-05-30T09:30:21.806258014Z"
    }
   },
   "id": "3eceff85f035f9a",
   "execution_count": 74
  },
  {
   "cell_type": "code",
   "outputs": [],
   "source": [
    "signal = mesh['laplacian_field']"
   ],
   "metadata": {
    "collapsed": false,
    "ExecuteTime": {
     "end_time": "2024-05-30T08:48:45.060410571Z",
     "start_time": "2024-05-30T08:48:45.046320210Z"
    }
   },
   "id": "dfd1de304d9a135",
   "execution_count": 46
  },
  {
   "cell_type": "code",
   "outputs": [
    {
     "data": {
      "text/plain": "array([[ 54.25545165, -18.31217195, -43.54226477],\n       [ 54.29228835, -18.29718805, -43.53876179],\n       [ 54.27785746, -18.33567043, -43.50361591]])"
     },
     "execution_count": 48,
     "metadata": {},
     "output_type": "execute_result"
    }
   ],
   "source": [
    "mesh.get_cell(0).point_ids"
   ],
   "metadata": {
    "collapsed": false,
    "ExecuteTime": {
     "end_time": "2024-05-30T08:49:42.145779501Z",
     "start_time": "2024-05-30T08:49:42.103046118Z"
    }
   },
   "id": "24830ba11a8ff667",
   "execution_count": 48
  },
  {
   "cell_type": "code",
   "outputs": [],
   "source": [
    "# Extract edges from the mesh\n",
    "edges = mesh.extract_all_edges()\n",
    "\n",
    "# Compute the gradient (difference) at each edge\n",
    "edge_gradients = []\n",
    "for edge in edges.lines.reshape((-1, 3))[:, 1:]:\n",
    "    point1, point2 = edge\n",
    "    gradient = np.abs(signal[point1] - signal[point2])\n",
    "    edge_gradients.append(gradient)\n",
    "\n",
    "edge_gradients = np.array(edge_gradients)\n",
    "edges.cell_data['Edge Gradient'] = edge_gradients\n"
   ],
   "metadata": {
    "collapsed": false,
    "ExecuteTime": {
     "end_time": "2024-05-30T09:23:33.588440184Z",
     "start_time": "2024-05-30T09:23:32.943916054Z"
    }
   },
   "id": "76ea273c405119c",
   "execution_count": 58
  },
  {
   "cell_type": "code",
   "outputs": [
    {
     "data": {
      "text/plain": "Widget(value='<iframe src=\"http://localhost:41071/index.html?ui=P_0x7f9b30cdda60_3&reconnect=auto\" class=\"pyvi…",
      "application/vnd.jupyter.widget-view+json": {
       "version_major": 2,
       "version_minor": 0,
       "model_id": "39be529db2da46a884980ddbcae57650"
      }
     },
     "metadata": {},
     "output_type": "display_data"
    }
   ],
   "source": [
    "# Plot the edges colored by the gradient values\n",
    "plotter = pv.Plotter()\n",
    "plotter.add_mesh(edges, scalars='Edge Gradient', cmap='viridis')\n",
    "plotter.add_scalar_bar(title='Edge Gradient')\n",
    "plotter.show()\n"
   ],
   "metadata": {
    "collapsed": false,
    "ExecuteTime": {
     "end_time": "2024-05-30T09:23:52.194389714Z",
     "start_time": "2024-05-30T09:23:51.970426746Z"
    }
   },
   "id": "bdb1872655a3c5a1",
   "execution_count": 59
  },
  {
   "cell_type": "code",
   "outputs": [
    {
     "data": {
      "text/plain": "24755"
     },
     "execution_count": 67,
     "metadata": {},
     "output_type": "execute_result"
    }
   ],
   "source": [
    "np.argmax(edge_gradients)"
   ],
   "metadata": {
    "collapsed": false,
    "ExecuteTime": {
     "end_time": "2024-05-30T09:27:00.334144330Z",
     "start_time": "2024-05-30T09:27:00.278169161Z"
    }
   },
   "id": "88da73d85cf87ec3",
   "execution_count": 67
  },
  {
   "cell_type": "code",
   "outputs": [],
   "source": [],
   "metadata": {
    "collapsed": false
   },
   "id": "6d77485f69dad287"
  },
  {
   "cell_type": "code",
   "outputs": [
    {
     "ename": "ValueError",
     "evalue": "matrix type must be 'f', 'd', 'F', or 'D'",
     "output_type": "error",
     "traceback": [
      "\u001B[0;31m---------------------------------------------------------------------------\u001B[0m",
      "\u001B[0;31mValueError\u001B[0m                                Traceback (most recent call last)",
      "Cell \u001B[0;32mIn[57], line 3\u001B[0m\n\u001B[1;32m      1\u001B[0m \u001B[38;5;66;03m# Calculate and visualize the first few eigenvectors of the Laplacian\u001B[39;00m\n\u001B[1;32m      2\u001B[0m k \u001B[38;5;241m=\u001B[39m \u001B[38;5;241m3\u001B[39m  \u001B[38;5;66;03m# Number of eigenvectors to visualize\u001B[39;00m\n\u001B[0;32m----> 3\u001B[0m eigenvalues, eigenvectors \u001B[38;5;241m=\u001B[39m \u001B[43meigsh\u001B[49m\u001B[43m(\u001B[49m\u001B[43mlaplacian_matrix\u001B[49m\u001B[43m,\u001B[49m\u001B[43m \u001B[49m\u001B[43mk\u001B[49m\u001B[38;5;241;43m=\u001B[39;49m\u001B[43mk\u001B[49m\u001B[43m,\u001B[49m\u001B[43m \u001B[49m\u001B[43mwhich\u001B[49m\u001B[38;5;241;43m=\u001B[39;49m\u001B[38;5;124;43m'\u001B[39;49m\u001B[38;5;124;43mSM\u001B[39;49m\u001B[38;5;124;43m'\u001B[39;49m\u001B[43m)\u001B[49m\n\u001B[1;32m      4\u001B[0m \u001B[38;5;28;01mfor\u001B[39;00m i \u001B[38;5;129;01min\u001B[39;00m \u001B[38;5;28mrange\u001B[39m(k):\n\u001B[1;32m      5\u001B[0m     mesh\u001B[38;5;241m.\u001B[39mpoint_data[\u001B[38;5;124mf\u001B[39m\u001B[38;5;124m'\u001B[39m\u001B[38;5;124meigenvector_\u001B[39m\u001B[38;5;132;01m{\u001B[39;00mi\u001B[38;5;241m+\u001B[39m\u001B[38;5;241m1\u001B[39m\u001B[38;5;132;01m}\u001B[39;00m\u001B[38;5;124m'\u001B[39m] \u001B[38;5;241m=\u001B[39m eigenvectors[:, i]\n",
      "File \u001B[0;32m~/anaconda3/envs/pyg/lib/python3.8/site-packages/scipy/sparse/linalg/_eigen/arpack/arpack.py:1691\u001B[0m, in \u001B[0;36meigsh\u001B[0;34m(A, k, M, sigma, which, v0, ncv, maxiter, tol, return_eigenvectors, Minv, OPinv, mode)\u001B[0m\n\u001B[1;32m   1687\u001B[0m     \u001B[38;5;66;03m# unrecognized mode\u001B[39;00m\n\u001B[1;32m   1688\u001B[0m     \u001B[38;5;28;01melse\u001B[39;00m:\n\u001B[1;32m   1689\u001B[0m         \u001B[38;5;28;01mraise\u001B[39;00m \u001B[38;5;167;01mValueError\u001B[39;00m(\u001B[38;5;124m\"\u001B[39m\u001B[38;5;124munrecognized mode \u001B[39m\u001B[38;5;124m'\u001B[39m\u001B[38;5;132;01m%s\u001B[39;00m\u001B[38;5;124m'\u001B[39m\u001B[38;5;124m\"\u001B[39m \u001B[38;5;241m%\u001B[39m mode)\n\u001B[0;32m-> 1691\u001B[0m params \u001B[38;5;241m=\u001B[39m \u001B[43m_SymmetricArpackParams\u001B[49m\u001B[43m(\u001B[49m\u001B[43mn\u001B[49m\u001B[43m,\u001B[49m\u001B[43m \u001B[49m\u001B[43mk\u001B[49m\u001B[43m,\u001B[49m\u001B[43m \u001B[49m\u001B[43mA\u001B[49m\u001B[38;5;241;43m.\u001B[39;49m\u001B[43mdtype\u001B[49m\u001B[38;5;241;43m.\u001B[39;49m\u001B[43mchar\u001B[49m\u001B[43m,\u001B[49m\u001B[43m \u001B[49m\u001B[43mmatvec\u001B[49m\u001B[43m,\u001B[49m\u001B[43m \u001B[49m\u001B[43mmode\u001B[49m\u001B[43m,\u001B[49m\n\u001B[1;32m   1692\u001B[0m \u001B[43m                                \u001B[49m\u001B[43mM_matvec\u001B[49m\u001B[43m,\u001B[49m\u001B[43m \u001B[49m\u001B[43mMinv_matvec\u001B[49m\u001B[43m,\u001B[49m\u001B[43m \u001B[49m\u001B[43msigma\u001B[49m\u001B[43m,\u001B[49m\n\u001B[1;32m   1693\u001B[0m \u001B[43m                                \u001B[49m\u001B[43mncv\u001B[49m\u001B[43m,\u001B[49m\u001B[43m \u001B[49m\u001B[43mv0\u001B[49m\u001B[43m,\u001B[49m\u001B[43m \u001B[49m\u001B[43mmaxiter\u001B[49m\u001B[43m,\u001B[49m\u001B[43m \u001B[49m\u001B[43mwhich\u001B[49m\u001B[43m,\u001B[49m\u001B[43m \u001B[49m\u001B[43mtol\u001B[49m\u001B[43m)\u001B[49m\n\u001B[1;32m   1695\u001B[0m \u001B[38;5;28;01mwith\u001B[39;00m _ARPACK_LOCK:\n\u001B[1;32m   1696\u001B[0m     \u001B[38;5;28;01mwhile\u001B[39;00m \u001B[38;5;129;01mnot\u001B[39;00m params\u001B[38;5;241m.\u001B[39mconverged:\n",
      "File \u001B[0;32m~/anaconda3/envs/pyg/lib/python3.8/site-packages/scipy/sparse/linalg/_eigen/arpack/arpack.py:513\u001B[0m, in \u001B[0;36m_SymmetricArpackParams.__init__\u001B[0;34m(self, n, k, tp, matvec, mode, M_matvec, Minv_matvec, sigma, ncv, v0, maxiter, which, tol)\u001B[0m\n\u001B[1;32m    510\u001B[0m \u001B[38;5;28;01mif\u001B[39;00m k \u001B[38;5;241m>\u001B[39m\u001B[38;5;241m=\u001B[39m n:\n\u001B[1;32m    511\u001B[0m     \u001B[38;5;28;01mraise\u001B[39;00m \u001B[38;5;167;01mValueError\u001B[39;00m(\u001B[38;5;124m\"\u001B[39m\u001B[38;5;124mk must be less than ndim(A), k=\u001B[39m\u001B[38;5;132;01m%d\u001B[39;00m\u001B[38;5;124m\"\u001B[39m \u001B[38;5;241m%\u001B[39m k)\n\u001B[0;32m--> 513\u001B[0m \u001B[43m_ArpackParams\u001B[49m\u001B[38;5;241;43m.\u001B[39;49m\u001B[38;5;21;43m__init__\u001B[39;49m\u001B[43m(\u001B[49m\u001B[38;5;28;43mself\u001B[39;49m\u001B[43m,\u001B[49m\u001B[43m \u001B[49m\u001B[43mn\u001B[49m\u001B[43m,\u001B[49m\u001B[43m \u001B[49m\u001B[43mk\u001B[49m\u001B[43m,\u001B[49m\u001B[43m \u001B[49m\u001B[43mtp\u001B[49m\u001B[43m,\u001B[49m\u001B[43m \u001B[49m\u001B[43mmode\u001B[49m\u001B[43m,\u001B[49m\u001B[43m \u001B[49m\u001B[43msigma\u001B[49m\u001B[43m,\u001B[49m\n\u001B[1;32m    514\u001B[0m \u001B[43m                       \u001B[49m\u001B[43mncv\u001B[49m\u001B[43m,\u001B[49m\u001B[43m \u001B[49m\u001B[43mv0\u001B[49m\u001B[43m,\u001B[49m\u001B[43m \u001B[49m\u001B[43mmaxiter\u001B[49m\u001B[43m,\u001B[49m\u001B[43m \u001B[49m\u001B[43mwhich\u001B[49m\u001B[43m,\u001B[49m\u001B[43m \u001B[49m\u001B[43mtol\u001B[49m\u001B[43m)\u001B[49m\n\u001B[1;32m    516\u001B[0m \u001B[38;5;28;01mif\u001B[39;00m \u001B[38;5;28mself\u001B[39m\u001B[38;5;241m.\u001B[39mncv \u001B[38;5;241m>\u001B[39m n \u001B[38;5;129;01mor\u001B[39;00m \u001B[38;5;28mself\u001B[39m\u001B[38;5;241m.\u001B[39mncv \u001B[38;5;241m<\u001B[39m\u001B[38;5;241m=\u001B[39m k:\n\u001B[1;32m    517\u001B[0m     \u001B[38;5;28;01mraise\u001B[39;00m \u001B[38;5;167;01mValueError\u001B[39;00m(\u001B[38;5;124m\"\u001B[39m\u001B[38;5;124mncv must be k<ncv<=n, ncv=\u001B[39m\u001B[38;5;132;01m%s\u001B[39;00m\u001B[38;5;124m\"\u001B[39m \u001B[38;5;241m%\u001B[39m \u001B[38;5;28mself\u001B[39m\u001B[38;5;241m.\u001B[39mncv)\n",
      "File \u001B[0;32m~/anaconda3/envs/pyg/lib/python3.8/site-packages/scipy/sparse/linalg/_eigen/arpack/arpack.py:322\u001B[0m, in \u001B[0;36m_ArpackParams.__init__\u001B[0;34m(self, n, k, tp, mode, sigma, ncv, v0, maxiter, which, tol)\u001B[0m\n\u001B[1;32m    319\u001B[0m     \u001B[38;5;28;01mraise\u001B[39;00m \u001B[38;5;167;01mValueError\u001B[39;00m(\u001B[38;5;124m\"\u001B[39m\u001B[38;5;124mmaxiter must be positive, maxiter=\u001B[39m\u001B[38;5;132;01m%d\u001B[39;00m\u001B[38;5;124m\"\u001B[39m \u001B[38;5;241m%\u001B[39m maxiter)\n\u001B[1;32m    321\u001B[0m \u001B[38;5;28;01mif\u001B[39;00m tp \u001B[38;5;129;01mnot\u001B[39;00m \u001B[38;5;129;01min\u001B[39;00m \u001B[38;5;124m'\u001B[39m\u001B[38;5;124mfdFD\u001B[39m\u001B[38;5;124m'\u001B[39m:\n\u001B[0;32m--> 322\u001B[0m     \u001B[38;5;28;01mraise\u001B[39;00m \u001B[38;5;167;01mValueError\u001B[39;00m(\u001B[38;5;124m\"\u001B[39m\u001B[38;5;124mmatrix type must be \u001B[39m\u001B[38;5;124m'\u001B[39m\u001B[38;5;124mf\u001B[39m\u001B[38;5;124m'\u001B[39m\u001B[38;5;124m, \u001B[39m\u001B[38;5;124m'\u001B[39m\u001B[38;5;124md\u001B[39m\u001B[38;5;124m'\u001B[39m\u001B[38;5;124m, \u001B[39m\u001B[38;5;124m'\u001B[39m\u001B[38;5;124mF\u001B[39m\u001B[38;5;124m'\u001B[39m\u001B[38;5;124m, or \u001B[39m\u001B[38;5;124m'\u001B[39m\u001B[38;5;124mD\u001B[39m\u001B[38;5;124m'\u001B[39m\u001B[38;5;124m\"\u001B[39m)\n\u001B[1;32m    324\u001B[0m \u001B[38;5;28;01mif\u001B[39;00m v0 \u001B[38;5;129;01mis\u001B[39;00m \u001B[38;5;129;01mnot\u001B[39;00m \u001B[38;5;28;01mNone\u001B[39;00m:\n\u001B[1;32m    325\u001B[0m     \u001B[38;5;66;03m# ARPACK overwrites its initial resid,  make a copy\u001B[39;00m\n\u001B[1;32m    326\u001B[0m     \u001B[38;5;28mself\u001B[39m\u001B[38;5;241m.\u001B[39mresid \u001B[38;5;241m=\u001B[39m np\u001B[38;5;241m.\u001B[39marray(v0, copy\u001B[38;5;241m=\u001B[39m\u001B[38;5;28;01mTrue\u001B[39;00m)\n",
      "\u001B[0;31mValueError\u001B[0m: matrix type must be 'f', 'd', 'F', or 'D'"
     ]
    }
   ],
   "source": [
    "\n",
    "# Calculate and visualize the first few eigenvectors of the Laplacian\n",
    "k = 3  # Number of eigenvectors to visualize\n",
    "eigenvalues, eigenvectors = eigsh(laplacian_matrix, k=k, which='SM')\n",
    "for i in range(k):\n",
    "    mesh.point_data[f'eigenvector_{i+1}'] = eigenvectors[:, i]\n",
    "\n",
    "    plotter = pv.Pplotter()\n",
    "    plotter.add_mesh(mesh, scalars=f'eigenvector_{i+1}', cmap='viridis', show_edges=True)\n",
    "    plotter.add_scalar_bar(f'Eigenvector {i+1}')\n",
    "    plotter.show()\n",
    "\n",
    "# Visualize Hölder Continuity by highlighting edges with differences scaled by distance\n",
    "distances = np.linalg.norm(mesh.points[edges[:, 0]] - mesh.points[edges[:, 1]], axis=1)\n",
    "holder_values = np.abs(data[edges[:, 0]] - data[edges[:, 1]]) / distances ** 0.5\n",
    "edge_mesh.point_data['holder_values'] = np.repeat(holder_values, 2)\n",
    "\n",
    "plotter = pv.Plotter()\n",
    "plotter.add_mesh(edge_mesh, scalars='holder_values', cmap='cool', line_width=2)\n",
    "plotter.add_scalar_bar('Hölder Continuity Values')\n",
    "plotter.show()"
   ],
   "metadata": {
    "collapsed": false,
    "ExecuteTime": {
     "end_time": "2024-05-30T09:03:28.467707130Z",
     "start_time": "2024-05-30T09:03:28.165949823Z"
    }
   },
   "id": "af4820bf8a402d6e",
   "execution_count": 57
  },
  {
   "cell_type": "code",
   "outputs": [],
   "source": [],
   "metadata": {
    "collapsed": false
   },
   "id": "638fcb64d702ef67"
  }
 ],
 "metadata": {
  "kernelspec": {
   "display_name": "Python 3",
   "language": "python",
   "name": "python3"
  },
  "language_info": {
   "codemirror_mode": {
    "name": "ipython",
    "version": 2
   },
   "file_extension": ".py",
   "mimetype": "text/x-python",
   "name": "python",
   "nbconvert_exporter": "python",
   "pygments_lexer": "ipython2",
   "version": "2.7.6"
  }
 },
 "nbformat": 4,
 "nbformat_minor": 5
}
