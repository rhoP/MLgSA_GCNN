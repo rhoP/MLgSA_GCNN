{
 "cells": [
  {
   "cell_type": "code",
   "execution_count": 1,
   "id": "initial_id",
   "metadata": {
    "collapsed": true,
    "ExecuteTime": {
     "end_time": "2024-05-31T11:23:32.537002692Z",
     "start_time": "2024-05-31T11:23:32.314411037Z"
    }
   },
   "outputs": [],
   "source": [
    "import numpy as np\n",
    "import matplotlib.pyplot as plt\n",
    "import pyvista as pv\n",
    "from os import listdir\n",
    "from os.path import isfile, join\n",
    "from scipy.sparse import csr_matrix\n",
    "from scipy.sparse.linalg import eigsh"
   ]
  },
  {
   "cell_type": "code",
   "execution_count": 2,
   "id": "7e5958e7e7c5e9f8",
   "metadata": {
    "collapsed": false,
    "ExecuteTime": {
     "end_time": "2024-05-31T11:23:32.578896559Z",
     "start_time": "2024-05-31T11:23:32.543564819Z"
    }
   },
   "outputs": [
    {
     "name": "stdout",
     "output_type": "stream",
     "text": [
      "109 50\n"
     ]
    }
   ],
   "source": [
    "mypath = '../../data/MLgSA/wss/'\n",
    "mypath1 = '../../data/MLgSA/New_wss/'\n",
    "\n",
    "onlyfiles = np.asarray([f for f in listdir(mypath) if isfile(join(mypath, f))])\n",
    "onlyfiles1 = np.asarray([f for f in listdir(mypath1) if isfile(join(mypath1, f))])\n",
    "\n",
    "onlyfiles.sort()\n",
    "onlyfiles1.sort()\n",
    "\n",
    "print(len(onlyfiles), len(onlyfiles1))\n",
    "\n",
    "short_list = np.asarray([s[5:23] if s[19] == 'l' else s[5:24] for s in onlyfiles])\n",
    "short_list1 = np.asarray([s[5:23] if s[19] == 'l' else s[5:24] for s in onlyfiles1])"
   ]
  },
  {
   "cell_type": "code",
   "execution_count": 4,
   "id": "8a0fbb8d754e7f8d",
   "metadata": {
    "collapsed": false,
    "ExecuteTime": {
     "end_time": "2024-05-31T11:23:56.540523660Z",
     "start_time": "2024-05-31T11:23:56.283228218Z"
    }
   },
   "outputs": [],
   "source": [
    "reader = pv.get_reader(mypath1 + onlyfiles1[1])\n",
    "mesh  = reader.read()"
   ]
  },
  {
   "cell_type": "code",
   "execution_count": 5,
   "id": "c841b450ee9c1b7f",
   "metadata": {
    "collapsed": false,
    "ExecuteTime": {
     "end_time": "2024-05-31T11:23:58.521951429Z",
     "start_time": "2024-05-31T11:23:57.357410074Z"
    }
   },
   "outputs": [
    {
     "data": {
      "text/plain": "Widget(value='<iframe src=\"http://localhost:36763/index.html?ui=P_0x7f75a8eaec10_0&reconnect=auto\" class=\"pyvi…",
      "application/vnd.jupyter.widget-view+json": {
       "version_major": 2,
       "version_minor": 0,
       "model_id": "f8c73b90b046492c8a9aeafe2b871592"
      }
     },
     "metadata": {},
     "output_type": "display_data"
    }
   ],
   "source": [
    "plotter = pv.Plotter()\n",
    "plotter.add_mesh(mesh, scalars = 'longitudinal_WSS_@_t=1.1', show_edges=True, opacity=0.5)\n",
    "plotter.show()"
   ]
  },
  {
   "cell_type": "code",
   "execution_count": 6,
   "id": "8a6cc618e117c8f9",
   "metadata": {
    "collapsed": false,
    "ExecuteTime": {
     "end_time": "2024-05-31T11:24:19.555806711Z",
     "start_time": "2024-05-31T11:24:19.499705300Z"
    }
   },
   "outputs": [],
   "source": [
    "mesh.point_data['data'] = mesh['longitudinal_WSS_@_t=1.1']"
   ]
  },
  {
   "cell_type": "code",
   "execution_count": 7,
   "id": "494eab1b252b02c6",
   "metadata": {
    "collapsed": false,
    "ExecuteTime": {
     "end_time": "2024-05-31T11:24:19.880778438Z",
     "start_time": "2024-05-31T11:24:19.845882537Z"
    }
   },
   "outputs": [],
   "source": [
    "def extract_edges(mesh):\n",
    "    cells = mesh.n_cells\n",
    "    cell_types = mesh.celltypes\n",
    "\n",
    "    edges = set()\n",
    "    for i  in range(cells):\n",
    "        if cell_types[i] == 5:  # Assuming triangles\n",
    "            cell = mesh.get_cell(i)\n",
    "            edges.add(tuple(sorted(cell.get_edge(0).point_ids)))\n",
    "            edges.add(tuple(sorted(cell.get_edge(1).point_ids)))\n",
    "            edges.add(tuple(sorted(cell.get_edge(2).point_ids)))\n",
    "\n",
    "    edges = np.array(list(edges))\n",
    "    return edges"
   ]
  },
  {
   "cell_type": "code",
   "execution_count": 8,
   "id": "a892f806a0929dd1",
   "metadata": {
    "collapsed": false,
    "ExecuteTime": {
     "end_time": "2024-05-31T11:24:24.764114500Z",
     "start_time": "2024-05-31T11:24:20.393117185Z"
    }
   },
   "outputs": [],
   "source": [
    "edges = extract_edges(mesh)"
   ]
  },
  {
   "cell_type": "code",
   "execution_count": 9,
   "id": "5933bc457486fb0f",
   "metadata": {
    "collapsed": false,
    "ExecuteTime": {
     "end_time": "2024-05-31T11:24:24.817494167Z",
     "start_time": "2024-05-31T11:24:24.770664655Z"
    }
   },
   "outputs": [],
   "source": [
    "# Calculate the Laplacian matrix\n",
    "def compute_laplacian(mesh, edges):\n",
    "    n_points = mesh.number_of_points\n",
    "\n",
    "    row_indices = np.hstack([edges[:, 0], edges[:, 1]])\n",
    "    col_indices = np.hstack([edges[:, 1], edges[:, 0]])\n",
    "    data = np.ones_like(row_indices)\n",
    "    \n",
    "    adjacency_matrix = csr_matrix((data, (row_indices, col_indices)), shape=(n_points, n_points))\n",
    "    degree_matrix = csr_matrix((np.array(adjacency_matrix.sum(axis=1)).flatten(), (range(n_points), range(n_points))))\n",
    "    \n",
    "    laplacian_matrix = degree_matrix - adjacency_matrix\n",
    "    return laplacian_matrix\n",
    "\n",
    "laplacian_matrix = compute_laplacian(mesh, edges)"
   ]
  },
  {
   "cell_type": "code",
   "execution_count": 10,
   "id": "3eceff85f035f9a",
   "metadata": {
    "collapsed": false,
    "ExecuteTime": {
     "end_time": "2024-05-31T11:24:25.136287759Z",
     "start_time": "2024-05-31T11:24:24.811919549Z"
    }
   },
   "outputs": [
    {
     "data": {
      "text/plain": "Widget(value='<iframe src=\"http://localhost:36763/index.html?ui=P_0x7f75a4f41ac0_1&reconnect=auto\" class=\"pyvi…",
      "application/vnd.jupyter.widget-view+json": {
       "version_major": 2,
       "version_minor": 0,
       "model_id": "7791c49aa491471c9525c7a6656e3958"
      }
     },
     "metadata": {},
     "output_type": "display_data"
    }
   ],
   "source": [
    "laplacian_matrix = compute_laplacian(mesh, edges)\n",
    "\n",
    "# Calculate the Laplacian smoothness field (Laplacian applied to the data)\n",
    "laplacian_field = laplacian_matrix.dot(mesh.point_data['data'])\n",
    "mesh.point_data['laplacian_field'] = laplacian_field\n",
    "\n",
    "\n",
    "# Plotting the maximums\n",
    "max_curv_indices = np.argsort(laplacian_field)[-50:]\n",
    "max_curv_nodes = mesh.points[max_curv_indices]\n",
    "\n",
    "\n",
    "\n",
    "# Visualize the Laplacian field\n",
    "plotter = pv.Plotter()\n",
    "plotter.add_mesh(mesh, scalars='laplacian_field', cmap='coolwarm', show_edges=True, opacity=0.5)\n",
    "plotter.add_points(max_curv_nodes, color='red', point_size=10)\n",
    "plotter.show()"
   ]
  },
  {
   "cell_type": "code",
   "execution_count": 11,
   "id": "e16747202014f14e",
   "metadata": {
    "collapsed": false,
    "ExecuteTime": {
     "end_time": "2024-05-31T11:24:42.228406811Z",
     "start_time": "2024-05-31T11:24:25.142198750Z"
    }
   },
   "outputs": [],
   "source": [
    "# Calculate and visualize the first few eigenvectors of the Laplacian\n",
    "k = 3  # Number of eigenvectors to visualize\n",
    "laplacian_matrix = laplacian_matrix.astype(float)\n",
    "eigenvalues, eigenvectors = eigsh(laplacian_matrix, k=k, which='SM')\n",
    "for i in range(k):\n",
    "    mesh.point_data[f'eigenvector_{i+1}'] = eigenvectors[:, i]\n"
   ]
  },
  {
   "cell_type": "code",
   "execution_count": 12,
   "id": "7b77784053dc43ba",
   "metadata": {
    "collapsed": false,
    "ExecuteTime": {
     "end_time": "2024-05-31T11:24:42.551261902Z",
     "start_time": "2024-05-31T11:24:42.268923316Z"
    }
   },
   "outputs": [
    {
     "data": {
      "text/plain": "Widget(value='<iframe src=\"http://localhost:36763/index.html?ui=P_0x7f75a44208e0_2&reconnect=auto\" class=\"pyvi…",
      "application/vnd.jupyter.widget-view+json": {
       "version_major": 2,
       "version_minor": 0,
       "model_id": "7546941b47654c178b12b5f86b59e295"
      }
     },
     "metadata": {},
     "output_type": "display_data"
    }
   ],
   "source": [
    "i=2\n",
    "plotter = pv.Plotter()\n",
    "plotter.add_mesh(mesh, scalars=f'eigenvector_{i+1}', cmap='viridis', show_edges=True, opacity=0.5)\n",
    "plotter.show()"
   ]
  },
  {
   "cell_type": "code",
   "execution_count": 13,
   "id": "dfd1de304d9a135",
   "metadata": {
    "collapsed": false,
    "ExecuteTime": {
     "end_time": "2024-05-31T11:24:42.565631411Z",
     "start_time": "2024-05-31T11:24:42.553409556Z"
    }
   },
   "outputs": [],
   "source": [
    "signal = mesh['laplacian_field']"
   ]
  },
  {
   "cell_type": "code",
   "execution_count": 14,
   "id": "24830ba11a8ff667",
   "metadata": {
    "collapsed": false,
    "ExecuteTime": {
     "end_time": "2024-05-31T11:24:42.604290517Z",
     "start_time": "2024-05-31T11:24:42.560424556Z"
    }
   },
   "outputs": [
    {
     "data": {
      "text/plain": "[0, 1, 2]"
     },
     "execution_count": 14,
     "metadata": {},
     "output_type": "execute_result"
    }
   ],
   "source": [
    "mesh.get_cell(0).point_ids"
   ]
  },
  {
   "cell_type": "code",
   "execution_count": 15,
   "id": "76ea273c405119c",
   "metadata": {
    "collapsed": false,
    "ExecuteTime": {
     "end_time": "2024-05-31T11:24:42.948926913Z",
     "start_time": "2024-05-31T11:24:42.689114004Z"
    }
   },
   "outputs": [],
   "source": [
    "# Extract edges from the mesh\n",
    "edges = mesh.extract_all_edges()\n",
    "\n",
    "# Compute the gradient (difference) at each edge\n",
    "edge_gradients = []\n",
    "for edge in edges.lines.reshape((-1, 3))[:, 1:]:\n",
    "    point1, point2 = edge\n",
    "    gradient = np.abs(signal[point1] - signal[point2])\n",
    "    edge_gradients.append(gradient)\n",
    "\n",
    "edge_gradients = np.array(edge_gradients)\n",
    "edges.cell_data['Edge Gradient'] = edge_gradients\n"
   ]
  },
  {
   "cell_type": "code",
   "execution_count": 16,
   "id": "bdb1872655a3c5a1",
   "metadata": {
    "collapsed": false,
    "ExecuteTime": {
     "end_time": "2024-05-31T11:24:43.185242677Z",
     "start_time": "2024-05-31T11:24:42.963495637Z"
    }
   },
   "outputs": [
    {
     "data": {
      "text/plain": "Widget(value='<iframe src=\"http://localhost:36763/index.html?ui=P_0x7f759a8808b0_3&reconnect=auto\" class=\"pyvi…",
      "application/vnd.jupyter.widget-view+json": {
       "version_major": 2,
       "version_minor": 0,
       "model_id": "0c746a8eeafc4b3eb3e756453d1dc1f8"
      }
     },
     "metadata": {},
     "output_type": "display_data"
    }
   ],
   "source": [
    "# Plot the edges colored by the gradient values\n",
    "plotter = pv.Plotter()\n",
    "plotter.add_mesh(edges, scalars='Edge Gradient', cmap='viridis')\n",
    "plotter.add_scalar_bar(title='Edge Gradient')\n",
    "plotter.show()\n"
   ]
  },
  {
   "cell_type": "code",
   "execution_count": 17,
   "id": "6d77485f69dad287",
   "metadata": {
    "collapsed": false,
    "ExecuteTime": {
     "end_time": "2024-05-31T11:24:44.192338163Z",
     "start_time": "2024-05-31T11:24:43.196233954Z"
    }
   },
   "outputs": [],
   "source": [
    "from collections import defaultdict\n",
    "\n",
    "# Initialize a dictionary to store neighbors for each point\n",
    "neighbors = defaultdict(set)\n",
    "\n",
    "# Loop over each cell and populate the neighbors dictionary\n",
    "for i in range(mesh.n_cells):\n",
    "    cell = mesh.get_cell(i)\n",
    "    cell_points = cell.point_ids\n",
    "    for i in range(len(cell_points)):\n",
    "        for j in range(i + 1, len(cell_points)):\n",
    "            neighbors[cell_points[i]].add(cell_points[j])\n",
    "            neighbors[cell_points[j]].add(cell_points[i])\n"
   ]
  },
  {
   "cell_type": "code",
   "execution_count": 18,
   "id": "204e680e94a96fec",
   "metadata": {
    "collapsed": false,
    "ExecuteTime": {
     "end_time": "2024-05-31T11:24:44.480848301Z",
     "start_time": "2024-05-31T11:24:44.203065323Z"
    }
   },
   "outputs": [],
   "source": [
    "# Visualize Total Variation by highlighting edges with largest differences\n",
    "# Initialize an array to store the total variation values\n",
    "total_variation = np.zeros(mesh.number_of_points)\n",
    "\n",
    "# Compute the total variation for each vertex\n",
    "for point_id in range(mesh.number_of_points):\n",
    "    # Get the signal values at the point and its neighbors\n",
    "    point_signal = signal[point_id]\n",
    "    neighbor_signals = [signal[neighbor] for neighbor in neighbors[point_id]]\n",
    "    # Calculate the total variation\n",
    "    total_variation[point_id] = np.sum(np.abs(point_signal - np.array(neighbor_signals)))\n",
    "\n",
    "# Assign the total variation values to the mesh\n",
    "mesh.point_data['total_variation'] = total_variation\n",
    "\n",
    "\n",
    "\n",
    "\n",
    "max_var_indices = np.argsort(total_variation)[-50:]\n",
    "max_var_nodes = mesh.points[max_var_indices]"
   ]
  },
  {
   "cell_type": "code",
   "execution_count": 19,
   "id": "c5c4ccca395a21c9",
   "metadata": {
    "collapsed": false,
    "ExecuteTime": {
     "end_time": "2024-05-31T11:24:44.794833860Z",
     "start_time": "2024-05-31T11:24:44.491468980Z"
    }
   },
   "outputs": [
    {
     "data": {
      "text/plain": "Widget(value='<iframe src=\"http://localhost:36763/index.html?ui=P_0x7f759b4b4760_4&reconnect=auto\" class=\"pyvi…",
      "application/vnd.jupyter.widget-view+json": {
       "version_major": 2,
       "version_minor": 0,
       "model_id": "ca9c2bea31b64f0b9f06512c8177f9a5"
      }
     },
     "metadata": {},
     "output_type": "display_data"
    }
   ],
   "source": [
    "# Plot the mesh colored by the total variation values\n",
    "plotter = pv.Plotter()\n",
    "plotter.add_mesh(mesh, scalars='total_variation', cmap='viridis', show_edges=True, opacity=0.5)\n",
    "plotter.add_points(max_var_nodes, color='red', point_size=10)\n",
    "plotter.show()\n"
   ]
  },
  {
   "cell_type": "code",
   "execution_count": 20,
   "id": "af4820bf8a402d6e",
   "metadata": {
    "collapsed": false,
    "ExecuteTime": {
     "end_time": "2024-05-31T11:24:52.917043627Z",
     "start_time": "2024-05-31T11:24:44.817667927Z"
    }
   },
   "outputs": [],
   "source": [
    "# Initialize an array to store the Hölder continuity values\n",
    "holder_continuity = np.zeros(mesh.number_of_points)\n",
    "\n",
    "# Compute the Hölder continuity for each vertex\n",
    "for point_id in range(mesh.number_of_points):\n",
    "    # Get the signal values at the point and its neighbors\n",
    "    point_signal = signal[point_id]\n",
    "    point_coord = mesh.points[point_id]\n",
    "    neighbor_coords = [mesh.points[neighbor] for neighbor in neighbors[point_id]]\n",
    "    neighbor_signals = [signal[neighbor] for neighbor in neighbors[point_id]]\n",
    "    \n",
    "    # Calculate the distances and differences in signal values\n",
    "    distances = np.linalg.norm(np.array(neighbor_coords) - point_coord, axis=1)\n",
    "    differences = np.abs(np.array(neighbor_signals) - point_signal)\n",
    "    \n",
    "    # Calculate the Hölder continuity exponent alpha\n",
    "    if len(distances) > 0:\n",
    "        log_distances = np.log(distances)\n",
    "        log_differences = np.log(differences)\n",
    "        alpha = -np.polyfit(log_distances, log_differences, 1)[0]\n",
    "        holder_continuity[point_id] = alpha\n",
    "    else:\n",
    "        holder_continuity[point_id] = 0\n",
    "\n",
    "# Assign the Hölder continuity values to the mesh\n",
    "mesh.point_data['holder_continuity'] = holder_continuity\n",
    "\n"
   ]
  },
  {
   "cell_type": "code",
   "execution_count": 21,
   "id": "491dcebb3019727f",
   "metadata": {
    "collapsed": false,
    "ExecuteTime": {
     "end_time": "2024-05-31T11:24:52.930802005Z",
     "start_time": "2024-05-31T11:24:52.914999578Z"
    }
   },
   "outputs": [],
   "source": [
    "max_hold_indices = np.argsort(holder_continuity)[:50]\n",
    "max_hold_nodes = mesh.points[max_hold_indices]"
   ]
  },
  {
   "cell_type": "code",
   "execution_count": 22,
   "id": "cdc47e1ed8a6ae95",
   "metadata": {
    "collapsed": false,
    "ExecuteTime": {
     "end_time": "2024-05-31T11:24:53.244055656Z",
     "start_time": "2024-05-31T11:24:52.926363948Z"
    }
   },
   "outputs": [
    {
     "data": {
      "text/plain": "Widget(value='<iframe src=\"http://localhost:36763/index.html?ui=P_0x7f7574dddf70_5&reconnect=auto\" class=\"pyvi…",
      "application/vnd.jupyter.widget-view+json": {
       "version_major": 2,
       "version_minor": 0,
       "model_id": "f8cd8fd7273c453fb87e29a94ca64ad8"
      }
     },
     "metadata": {},
     "output_type": "display_data"
    }
   ],
   "source": [
    "plotter = pv.Plotter()\n",
    "plotter.add_mesh(mesh, scalars='holder_continuity', cmap='viridis', show_edges=True, opacity=0.5)\n",
    "plotter.add_points(max_hold_nodes, color='red', point_size=10)\n",
    "plotter.show()\n"
   ]
  },
  {
   "cell_type": "code",
   "execution_count": 23,
   "id": "638fcb64d702ef67",
   "metadata": {
    "collapsed": false,
    "ExecuteTime": {
     "end_time": "2024-05-31T11:24:53.257429690Z",
     "start_time": "2024-05-31T11:24:53.247448685Z"
    }
   },
   "outputs": [],
   "source": [
    "signal=mesh['longitudinal_WSS_@_t=1.1']"
   ]
  },
  {
   "cell_type": "code",
   "execution_count": 24,
   "id": "452c2186b581c99e",
   "metadata": {
    "collapsed": false,
    "ExecuteTime": {
     "end_time": "2024-05-31T11:24:54.091914262Z",
     "start_time": "2024-05-31T11:24:53.253037669Z"
    }
   },
   "outputs": [],
   "source": [
    "# Initialize an array to store the standard deviation values\n",
    "std_devs = np.zeros(mesh.number_of_points)\n",
    "\n",
    "# Compute the standard deviation for each vertex\n",
    "for point_id in range(mesh.number_of_points):\n",
    "    # Get the signal values at the point and its neighbors\n",
    "    values = [signal[point_id]] + [signal[neighbor] for neighbor in neighbors[point_id]]\n",
    "    # Calculate the standard deviation\n",
    "    std_devs[point_id] = np.var(values)\n",
    "\n",
    "# Assign the standard deviation values to the mesh\n",
    "mesh.point_data['std_dev'] = std_devs\n",
    "\n",
    "\n",
    "max_std_indices = np.argsort(std_devs)[-50:]\n",
    "max_std_nodes = mesh.points[max_std_indices]"
   ]
  },
  {
   "cell_type": "code",
   "execution_count": 25,
   "id": "e44fbd329d738822",
   "metadata": {
    "collapsed": false,
    "ExecuteTime": {
     "end_time": "2024-05-31T11:24:54.418596660Z",
     "start_time": "2024-05-31T11:24:54.092748022Z"
    }
   },
   "outputs": [
    {
     "data": {
      "text/plain": "Widget(value='<iframe src=\"http://localhost:36763/index.html?ui=P_0x7f756bfca070_6&reconnect=auto\" class=\"pyvi…",
      "application/vnd.jupyter.widget-view+json": {
       "version_major": 2,
       "version_minor": 0,
       "model_id": "ef1faf1eee8648feb042952355ac8a5e"
      }
     },
     "metadata": {},
     "output_type": "display_data"
    }
   ],
   "source": [
    "# Plot the mesh colored by the standard deviation values\n",
    "plotter = pv.Plotter()\n",
    "plotter.add_mesh(mesh, scalars='std_dev', cmap='viridis', opacity=0.5)\n",
    "plotter.add_points(max_std_nodes, color='red', point_size=10)\n",
    "plotter.show()\n"
   ]
  },
  {
   "cell_type": "code",
   "execution_count": null,
   "id": "51c8e3dfe587456d",
   "metadata": {
    "ExecuteTime": {
     "end_time": "2024-05-30T13:25:30.603935617Z",
     "start_time": "2024-05-30T13:25:30.587450162Z"
    },
    "collapsed": false
   },
   "outputs": [],
   "source": []
  },
  {
   "cell_type": "code",
   "execution_count": 44,
   "id": "378405fa444b4ef7",
   "metadata": {
    "ExecuteTime": {
     "end_time": "2024-05-30T13:25:27.448623772Z",
     "start_time": "2024-05-30T13:25:27.402419453Z"
    },
    "collapsed": false
   },
   "outputs": [],
   "source": []
  },
  {
   "cell_type": "code",
   "execution_count": null,
   "id": "a450b90579fbd815",
   "metadata": {
    "collapsed": false
   },
   "outputs": [],
   "source": []
  }
 ],
 "metadata": {
  "kernelspec": {
   "display_name": "Python 3",
   "language": "python",
   "name": "python3"
  },
  "language_info": {
   "codemirror_mode": {
    "name": "ipython",
    "version": 3
   },
   "file_extension": ".py",
   "mimetype": "text/x-python",
   "name": "python",
   "nbconvert_exporter": "python",
   "pygments_lexer": "ipython3",
   "version": "3.10.14"
  }
 },
 "nbformat": 4,
 "nbformat_minor": 5
}
