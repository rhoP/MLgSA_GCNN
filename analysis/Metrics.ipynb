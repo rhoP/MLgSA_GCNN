{
 "cells": [
  {
   "cell_type": "code",
   "execution_count": 1,
   "id": "initial_id",
   "metadata": {
    "collapsed": true,
    "ExecuteTime": {
     "end_time": "2024-05-30T11:03:29.838586226Z",
     "start_time": "2024-05-30T11:03:28.787947528Z"
    }
   },
   "outputs": [],
   "source": [
    "import numpy as np\n",
    "import matplotlib.pyplot as plt\n",
    "import pyvista as pv\n",
    "from os import listdir\n",
    "from os.path import isfile, join\n",
    "from scipy.sparse import csr_matrix\n",
    "from scipy.sparse.linalg import eigsh"
   ]
  },
  {
   "cell_type": "code",
   "outputs": [
    {
     "name": "stdout",
     "output_type": "stream",
     "text": [
      "108 30\n"
     ]
    }
   ],
   "source": [
    "mypath = '../../data/MLgSA/wss/'\n",
    "mypath1 = '../../data/MLgSA/New_wss/'\n",
    "\n",
    "onlyfiles = np.asarray([f for f in listdir(mypath) if isfile(join(mypath, f))])\n",
    "onlyfiles1 = np.asarray([f for f in listdir(mypath1) if isfile(join(mypath1, f))])\n",
    "\n",
    "onlyfiles.sort()\n",
    "onlyfiles1.sort()\n",
    "\n",
    "print(len(onlyfiles), len(onlyfiles1))\n",
    "\n",
    "short_list = np.asarray([s[5:23] if s[19] == 'l' else s[5:24] for s in onlyfiles])\n",
    "short_list1 = np.asarray([s[5:23] if s[19] == 'l' else s[5:24] for s in onlyfiles1])"
   ],
   "metadata": {
    "collapsed": false,
    "ExecuteTime": {
     "end_time": "2024-05-30T11:03:29.855836633Z",
     "start_time": "2024-05-30T11:03:29.839832593Z"
    }
   },
   "id": "7e5958e7e7c5e9f8",
   "execution_count": 2
  },
  {
   "cell_type": "code",
   "outputs": [],
   "source": [
    "reader = pv.get_reader(mypath + onlyfiles[0])\n",
    "mesh  = reader.read()"
   ],
   "metadata": {
    "collapsed": false,
    "ExecuteTime": {
     "end_time": "2024-05-30T11:03:30.486225287Z",
     "start_time": "2024-05-30T11:03:30.014820858Z"
    }
   },
   "id": "8a0fbb8d754e7f8d",
   "execution_count": 3
  },
  {
   "cell_type": "code",
   "outputs": [
    {
     "data": {
      "text/plain": "Widget(value='<iframe src=\"http://localhost:44039/index.html?ui=P_0x7f5c255ae640_0&reconnect=auto\" class=\"pyvi…",
      "application/vnd.jupyter.widget-view+json": {
       "version_major": 2,
       "version_minor": 0,
       "model_id": "5efed379b4684cddaaa72c7735424a96"
      }
     },
     "metadata": {},
     "output_type": "display_data"
    }
   ],
   "source": [
    "plotter = pv.Plotter()\n",
    "plotter.add_mesh(mesh, scalars = 'longitudinal_WSS_@_t=1.1', show_edges=True)\n",
    "plotter.show()"
   ],
   "metadata": {
    "collapsed": false,
    "ExecuteTime": {
     "end_time": "2024-05-30T11:03:31.550928522Z",
     "start_time": "2024-05-30T11:03:30.602685173Z"
    }
   },
   "id": "c841b450ee9c1b7f",
   "execution_count": 4
  },
  {
   "cell_type": "code",
   "outputs": [],
   "source": [
    "mesh.point_data['data'] = mesh['longitudinal_WSS_@_t=1.1']"
   ],
   "metadata": {
    "collapsed": false,
    "ExecuteTime": {
     "end_time": "2024-05-30T11:03:33.571364467Z",
     "start_time": "2024-05-30T11:03:33.549399625Z"
    }
   },
   "id": "8a6cc618e117c8f9",
   "execution_count": 5
  },
  {
   "cell_type": "code",
   "outputs": [],
   "source": [
    "def extract_edges(mesh):\n",
    "    cells = mesh.n_cells\n",
    "    cell_types = mesh.celltypes\n",
    "\n",
    "    edges = set()\n",
    "    for i  in range(cells):\n",
    "        if cell_types[i] == 5:  # Assuming triangles\n",
    "            cell = mesh.get_cell(i)\n",
    "            edges.add(tuple(sorted(cell.get_edge(0).point_ids)))\n",
    "            edges.add(tuple(sorted(cell.get_edge(1).point_ids)))\n",
    "            edges.add(tuple(sorted(cell.get_edge(2).point_ids)))\n",
    "\n",
    "    edges = np.array(list(edges))\n",
    "    return edges"
   ],
   "metadata": {
    "collapsed": false,
    "ExecuteTime": {
     "end_time": "2024-05-30T11:03:33.886961823Z",
     "start_time": "2024-05-30T11:03:33.855138621Z"
    }
   },
   "id": "494eab1b252b02c6",
   "execution_count": 6
  },
  {
   "cell_type": "code",
   "outputs": [],
   "source": [
    "edges = extract_edges(mesh)"
   ],
   "metadata": {
    "collapsed": false,
    "ExecuteTime": {
     "end_time": "2024-05-30T11:03:42.854746956Z",
     "start_time": "2024-05-30T11:03:36.740430213Z"
    }
   },
   "id": "a892f806a0929dd1",
   "execution_count": 7
  },
  {
   "cell_type": "code",
   "outputs": [],
   "source": [
    "# Calculate the Laplacian matrix\n",
    "def compute_laplacian(mesh, edges):\n",
    "    n_points = mesh.number_of_points\n",
    "\n",
    "    row_indices = np.hstack([edges[:, 0], edges[:, 1]])\n",
    "    col_indices = np.hstack([edges[:, 1], edges[:, 0]])\n",
    "    data = np.ones_like(row_indices)\n",
    "    \n",
    "    adjacency_matrix = csr_matrix((data, (row_indices, col_indices)), shape=(n_points, n_points))\n",
    "    degree_matrix = csr_matrix((np.array(adjacency_matrix.sum(axis=1)).flatten(), (range(n_points), range(n_points))))\n",
    "    \n",
    "    laplacian_matrix = degree_matrix - adjacency_matrix\n",
    "    return laplacian_matrix\n",
    "\n",
    "laplacian_matrix = compute_laplacian(mesh, edges)"
   ],
   "metadata": {
    "collapsed": false,
    "ExecuteTime": {
     "end_time": "2024-05-30T11:03:42.921474382Z",
     "start_time": "2024-05-30T11:03:42.860231181Z"
    }
   },
   "id": "5933bc457486fb0f",
   "execution_count": 8
  },
  {
   "cell_type": "code",
   "outputs": [
    {
     "data": {
      "text/plain": "Widget(value='<iframe src=\"http://localhost:44039/index.html?ui=P_0x7f5bde4ecb80_1&reconnect=auto\" class=\"pyvi…",
      "application/vnd.jupyter.widget-view+json": {
       "version_major": 2,
       "version_minor": 0,
       "model_id": "d33734fa25c94c7baf4000ec3aba0957"
      }
     },
     "metadata": {},
     "output_type": "display_data"
    }
   ],
   "source": [
    "laplacian_matrix = compute_laplacian(mesh, edges)\n",
    "\n",
    "# Calculate the Laplacian smoothness field (Laplacian applied to the data)\n",
    "laplacian_field = laplacian_matrix.dot(mesh.point_data['data'])\n",
    "mesh.point_data['laplacian_field'] = laplacian_field\n",
    "\n",
    "\n",
    "# Plotting the maximums\n",
    "max_curv_indices = np.argsort(laplacian_field)[-50:]\n",
    "max_curv_nodes = mesh.points[max_curv_indices]\n",
    "\n",
    "\n",
    "\n",
    "# Visualize the Laplacian field\n",
    "plotter = pv.Plotter()\n",
    "plotter.add_mesh(mesh, scalars='laplacian_field', cmap='coolwarm', show_edges=True, opacity=0.5)\n",
    "plotter.add_points(max_curv_nodes, color='red', point_size=10)\n",
    "plotter.show()"
   ],
   "metadata": {
    "collapsed": false,
    "ExecuteTime": {
     "end_time": "2024-05-30T11:03:43.229285780Z",
     "start_time": "2024-05-30T11:03:42.900922740Z"
    }
   },
   "id": "3eceff85f035f9a",
   "execution_count": 9
  },
  {
   "cell_type": "code",
   "outputs": [],
   "source": [
    "# Calculate and visualize the first few eigenvectors of the Laplacian\n",
    "k = 3  # Number of eigenvectors to visualize\n",
    "laplacian_matrix = laplacian_matrix.astype(float)\n",
    "eigenvalues, eigenvectors = eigsh(laplacian_matrix, k=k, which='SM')\n",
    "for i in range(k):\n",
    "    mesh.point_data[f'eigenvector_{i+1}'] = eigenvectors[:, i]\n"
   ],
   "metadata": {
    "collapsed": false,
    "ExecuteTime": {
     "end_time": "2024-05-30T11:06:04.180069849Z",
     "start_time": "2024-05-30T11:03:43.284117009Z"
    }
   },
   "id": "e16747202014f14e",
   "execution_count": 10
  },
  {
   "cell_type": "code",
   "outputs": [
    {
     "data": {
      "text/plain": "Widget(value='<iframe src=\"http://localhost:44039/index.html?ui=P_0x7f5b83fe53d0_7&reconnect=auto\" class=\"pyvi…",
      "application/vnd.jupyter.widget-view+json": {
       "version_major": 2,
       "version_minor": 0,
       "model_id": "6b7e47fa53074ef6914dfd77a7608a42"
      }
     },
     "metadata": {},
     "output_type": "display_data"
    }
   ],
   "source": [
    "i=2\n",
    "plotter = pv.Plotter()\n",
    "plotter.add_mesh(mesh, scalars=f'eigenvector_{i+1}', cmap='viridis', show_edges=True, opacity=0.5)\n",
    "plotter.show()"
   ],
   "metadata": {
    "collapsed": false,
    "ExecuteTime": {
     "end_time": "2024-05-30T12:01:28.471228318Z",
     "start_time": "2024-05-30T12:01:28.029399011Z"
    }
   },
   "id": "7b77784053dc43ba",
   "execution_count": 23
  },
  {
   "cell_type": "code",
   "outputs": [],
   "source": [
    "signal = mesh['laplacian_field']"
   ],
   "metadata": {
    "collapsed": false,
    "ExecuteTime": {
     "end_time": "2024-05-30T11:08:22.831452806Z",
     "start_time": "2024-05-30T11:08:22.769910893Z"
    }
   },
   "id": "dfd1de304d9a135",
   "execution_count": 16
  },
  {
   "cell_type": "code",
   "outputs": [
    {
     "data": {
      "text/plain": "array([[ 54.25545165, -18.31217195, -43.54226477],\n       [ 54.29228835, -18.29718805, -43.53876179],\n       [ 54.27785746, -18.33567043, -43.50361591]])"
     },
     "execution_count": 48,
     "metadata": {},
     "output_type": "execute_result"
    }
   ],
   "source": [
    "mesh.get_cell(0).point_ids"
   ],
   "metadata": {
    "collapsed": false,
    "ExecuteTime": {
     "end_time": "2024-05-30T08:49:42.145779501Z",
     "start_time": "2024-05-30T08:49:42.103046118Z"
    }
   },
   "id": "24830ba11a8ff667",
   "execution_count": 48
  },
  {
   "cell_type": "code",
   "outputs": [],
   "source": [
    "# Extract edges from the mesh\n",
    "edges = mesh.extract_all_edges()\n",
    "\n",
    "# Compute the gradient (difference) at each edge\n",
    "edge_gradients = []\n",
    "for edge in edges.lines.reshape((-1, 3))[:, 1:]:\n",
    "    point1, point2 = edge\n",
    "    gradient = np.abs(signal[point1] - signal[point2])\n",
    "    edge_gradients.append(gradient)\n",
    "\n",
    "edge_gradients = np.array(edge_gradients)\n",
    "edges.cell_data['Edge Gradient'] = edge_gradients\n"
   ],
   "metadata": {
    "collapsed": false,
    "ExecuteTime": {
     "end_time": "2024-05-30T09:23:33.588440184Z",
     "start_time": "2024-05-30T09:23:32.943916054Z"
    }
   },
   "id": "76ea273c405119c",
   "execution_count": 58
  },
  {
   "cell_type": "code",
   "outputs": [
    {
     "data": {
      "text/plain": "Widget(value='<iframe src=\"http://localhost:41071/index.html?ui=P_0x7f9b30cdda60_3&reconnect=auto\" class=\"pyvi…",
      "application/vnd.jupyter.widget-view+json": {
       "version_major": 2,
       "version_minor": 0,
       "model_id": "39be529db2da46a884980ddbcae57650"
      }
     },
     "metadata": {},
     "output_type": "display_data"
    }
   ],
   "source": [
    "# Plot the edges colored by the gradient values\n",
    "plotter = pv.Plotter()\n",
    "plotter.add_mesh(edges, scalars='Edge Gradient', cmap='viridis')\n",
    "plotter.add_scalar_bar(title='Edge Gradient')\n",
    "plotter.show()\n"
   ],
   "metadata": {
    "collapsed": false,
    "ExecuteTime": {
     "end_time": "2024-05-30T09:23:52.194389714Z",
     "start_time": "2024-05-30T09:23:51.970426746Z"
    }
   },
   "id": "bdb1872655a3c5a1",
   "execution_count": 59
  },
  {
   "cell_type": "code",
   "outputs": [],
   "source": [
    "from collections import defaultdict\n",
    "\n",
    "# Initialize a dictionary to store neighbors for each point\n",
    "neighbors = defaultdict(set)\n",
    "\n",
    "# Loop over each cell and populate the neighbors dictionary\n",
    "for i in range(mesh.n_cells):\n",
    "    cell = mesh.get_cell(i)\n",
    "    cell_points = cell.point_ids\n",
    "    for i in range(len(cell_points)):\n",
    "        for j in range(i + 1, len(cell_points)):\n",
    "            neighbors[cell_points[i]].add(cell_points[j])\n",
    "            neighbors[cell_points[j]].add(cell_points[i])\n"
   ],
   "metadata": {
    "collapsed": false,
    "ExecuteTime": {
     "end_time": "2024-05-30T12:39:17.731509324Z",
     "start_time": "2024-05-30T12:39:15.974478960Z"
    }
   },
   "id": "6d77485f69dad287",
   "execution_count": 26
  },
  {
   "cell_type": "code",
   "outputs": [],
   "source": [
    "# Visualize Total Variation by highlighting edges with largest differences\n",
    "# Initialize an array to store the total variation values\n",
    "total_variation = np.zeros(mesh.number_of_points)\n",
    "\n",
    "# Compute the total variation for each vertex\n",
    "for point_id in range(mesh.number_of_points):\n",
    "    # Get the signal values at the point and its neighbors\n",
    "    point_signal = signal[point_id]\n",
    "    neighbor_signals = [signal[neighbor] for neighbor in neighbors[point_id]]\n",
    "    # Calculate the total variation\n",
    "    total_variation[point_id] = np.sum(np.abs(point_signal - np.array(neighbor_signals)))\n",
    "\n",
    "# Assign the total variation values to the mesh\n",
    "mesh.point_data['total_variation'] = total_variation\n",
    "\n",
    "\n",
    "\n",
    "\n",
    "max_var_indices = np.argsort(total_variation)[-50:]\n",
    "max_var_nodes = mesh.points[max_var_indices]"
   ],
   "metadata": {
    "collapsed": false,
    "ExecuteTime": {
     "end_time": "2024-05-30T12:41:19.930219968Z",
     "start_time": "2024-05-30T12:41:19.455699537Z"
    }
   },
   "id": "204e680e94a96fec",
   "execution_count": 31
  },
  {
   "cell_type": "code",
   "outputs": [
    {
     "data": {
      "text/plain": "Widget(value='<iframe src=\"http://localhost:44039/index.html?ui=P_0x7f5b8ebbdf10_13&reconnect=auto\" class=\"pyv…",
      "application/vnd.jupyter.widget-view+json": {
       "version_major": 2,
       "version_minor": 0,
       "model_id": "d6d70b3358da4148920eee2e738dd173"
      }
     },
     "metadata": {},
     "output_type": "display_data"
    }
   ],
   "source": [
    "# Plot the mesh colored by the total variation values\n",
    "plotter = pv.Plotter()\n",
    "plotter.add_mesh(mesh, scalars='total_variation', cmap='viridis', show_edges=True, opacity=0.5)\n",
    "plotter.add_points(max_var_nodes, color='red', point_size=10)\n",
    "plotter.show()\n"
   ],
   "metadata": {
    "collapsed": false,
    "ExecuteTime": {
     "end_time": "2024-05-30T12:42:43.281304001Z",
     "start_time": "2024-05-30T12:42:42.846752366Z"
    }
   },
   "id": "c5c4ccca395a21c9",
   "execution_count": 34
  },
  {
   "cell_type": "code",
   "outputs": [],
   "source": [
    "# Initialize an array to store the Hölder continuity values\n",
    "holder_continuity = np.zeros(mesh.number_of_points)\n",
    "\n",
    "# Compute the Hölder continuity for each vertex\n",
    "for point_id in range(mesh.number_of_points):\n",
    "    # Get the signal values at the point and its neighbors\n",
    "    point_signal = signal[point_id]\n",
    "    point_coord = mesh.points[point_id]\n",
    "    neighbor_coords = [mesh.points[neighbor] for neighbor in neighbors[point_id]]\n",
    "    neighbor_signals = [signal[neighbor] for neighbor in neighbors[point_id]]\n",
    "    \n",
    "    # Calculate the distances and differences in signal values\n",
    "    distances = np.linalg.norm(np.array(neighbor_coords) - point_coord, axis=1)\n",
    "    differences = np.abs(np.array(neighbor_signals) - point_signal)\n",
    "    \n",
    "    # Calculate the Hölder continuity exponent alpha\n",
    "    if len(distances) > 0:\n",
    "        log_distances = np.log(distances)\n",
    "        log_differences = np.log(differences)\n",
    "        alpha = -np.polyfit(log_distances, log_differences, 1)[0]\n",
    "        holder_continuity[point_id] = alpha\n",
    "    else:\n",
    "        holder_continuity[point_id] = 0\n",
    "\n",
    "# Assign the Hölder continuity values to the mesh\n",
    "mesh.point_data['holder_continuity'] = holder_continuity\n",
    "\n"
   ],
   "metadata": {
    "collapsed": false,
    "ExecuteTime": {
     "end_time": "2024-05-30T12:53:34.644257125Z",
     "start_time": "2024-05-30T12:53:21.821511330Z"
    }
   },
   "id": "af4820bf8a402d6e",
   "execution_count": 37
  },
  {
   "cell_type": "code",
   "outputs": [],
   "source": [
    "max_hold_indices = np.argsort(holder_continuity)[:50]\n",
    "max_hold_nodes = mesh.points[max_hold_indices]"
   ],
   "metadata": {
    "collapsed": false,
    "ExecuteTime": {
     "end_time": "2024-05-30T12:55:12.626548729Z",
     "start_time": "2024-05-30T12:55:12.572845153Z"
    }
   },
   "id": "491dcebb3019727f",
   "execution_count": 40
  },
  {
   "cell_type": "code",
   "outputs": [
    {
     "data": {
      "text/plain": "Widget(value='<iframe src=\"http://localhost:44039/index.html?ui=P_0x7f5b820b1a90_16&reconnect=auto\" class=\"pyv…",
      "application/vnd.jupyter.widget-view+json": {
       "version_major": 2,
       "version_minor": 0,
       "model_id": "3c4f2e1e64bb4f2493061617c5d6e205"
      }
     },
     "metadata": {},
     "output_type": "display_data"
    }
   ],
   "source": [
    "plotter = pv.Plotter()\n",
    "plotter.add_mesh(mesh, scalars='holder_continuity', cmap='viridis', show_edges=True, opacity=0.5)\n",
    "plotter.add_points(max_hold_nodes, color='red', point_size=10)\n",
    "plotter.show()\n"
   ],
   "metadata": {
    "collapsed": false,
    "ExecuteTime": {
     "end_time": "2024-05-30T12:55:13.346959476Z",
     "start_time": "2024-05-30T12:55:12.977167234Z"
    }
   },
   "id": "cdc47e1ed8a6ae95",
   "execution_count": 41
  },
  {
   "cell_type": "code",
   "outputs": [],
   "source": [
    "signal=mesh['longitudinal_WSS_@_t=1.1']"
   ],
   "metadata": {
    "collapsed": false,
    "ExecuteTime": {
     "end_time": "2024-05-30T11:09:13.015407650Z",
     "start_time": "2024-05-30T11:09:12.973054470Z"
    }
   },
   "id": "638fcb64d702ef67",
   "execution_count": 17
  },
  {
   "cell_type": "code",
   "outputs": [],
   "source": [
    "# Initialize an array to store the standard deviation values\n",
    "std_devs = np.zeros(mesh.number_of_points)\n",
    "\n",
    "# Compute the standard deviation for each vertex\n",
    "for point_id in range(mesh.number_of_points):\n",
    "    # Get the signal values at the point and its neighbors\n",
    "    values = [signal[point_id]] + [signal[neighbor] for neighbor in neighbors[point_id]]\n",
    "    # Calculate the standard deviation\n",
    "    std_devs[point_id] = np.var(values)\n",
    "\n",
    "# Assign the standard deviation values to the mesh\n",
    "mesh.point_data['std_dev'] = std_devs\n",
    "\n",
    "\n",
    "max_std_indices = np.argsort(std_devs)[-50:]\n",
    "max_std_nodes = mesh.points[max_std_indices]"
   ],
   "metadata": {
    "collapsed": false,
    "ExecuteTime": {
     "end_time": "2024-05-30T12:27:18.816458667Z",
     "start_time": "2024-05-30T12:27:17.541623949Z"
    }
   },
   "id": "452c2186b581c99e",
   "execution_count": 24
  },
  {
   "cell_type": "code",
   "outputs": [
    {
     "data": {
      "text/plain": "Widget(value='<iframe src=\"http://localhost:44039/index.html?ui=P_0x7f5b8f4711c0_12&reconnect=auto\" class=\"pyv…",
      "application/vnd.jupyter.widget-view+json": {
       "version_major": 2,
       "version_minor": 0,
       "model_id": "df3d1890a5564990af24a95c2f31e3ee"
      }
     },
     "metadata": {},
     "output_type": "display_data"
    }
   ],
   "source": [
    "# Plot the mesh colored by the standard deviation values\n",
    "plotter = pv.Plotter()\n",
    "plotter.add_mesh(mesh, scalars='std_dev', cmap='viridis', opacity=0.5)\n",
    "plotter.add_points(max_std_nodes, color='red', point_size=10)\n",
    "plotter.show()\n"
   ],
   "metadata": {
    "collapsed": false,
    "ExecuteTime": {
     "end_time": "2024-05-30T12:41:27.880518300Z",
     "start_time": "2024-05-30T12:41:27.526327820Z"
    }
   },
   "id": "e44fbd329d738822",
   "execution_count": 33
  },
  {
   "cell_type": "code",
   "outputs": [],
   "source": [],
   "metadata": {
    "collapsed": false,
    "ExecuteTime": {
     "end_time": "2024-05-30T13:25:30.603935617Z",
     "start_time": "2024-05-30T13:25:30.587450162Z"
    }
   },
   "id": "51c8e3dfe587456d",
   "execution_count": 44
  },
  {
   "cell_type": "code",
   "outputs": [],
   "source": [],
   "metadata": {
    "collapsed": false,
    "ExecuteTime": {
     "end_time": "2024-05-30T13:25:27.448623772Z",
     "start_time": "2024-05-30T13:25:27.402419453Z"
    }
   },
   "id": "378405fa444b4ef7",
   "execution_count": 44
  },
  {
   "cell_type": "code",
   "outputs": [],
   "source": [],
   "metadata": {
    "collapsed": false
   },
   "id": "a450b90579fbd815"
  }
 ],
 "metadata": {
  "kernelspec": {
   "display_name": "Python 3",
   "language": "python",
   "name": "python3"
  },
  "language_info": {
   "codemirror_mode": {
    "name": "ipython",
    "version": 2
   },
   "file_extension": ".py",
   "mimetype": "text/x-python",
   "name": "python",
   "nbconvert_exporter": "python",
   "pygments_lexer": "ipython2",
   "version": "2.7.6"
  }
 },
 "nbformat": 4,
 "nbformat_minor": 5
}
