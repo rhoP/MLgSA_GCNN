{
 "cells": [
  {
   "cell_type": "code",
   "metadata": {
    "ExecuteTime": {
     "end_time": "2024-07-16T10:54:49.640405Z",
     "start_time": "2024-07-16T10:54:48.927070Z"
    }
   },
   "source": [
    "import numpy as np\n",
    "import matplotlib.pyplot as plt\n",
    "import pyvista as pv\n",
    "from os import listdir\n",
    "from os.path import isfile, join\n",
    "from collections import defaultdict\n",
    "import networkx as nx\n",
    "from pyvista import themes\n",
    "pv.set_plot_theme(themes.DocumentTheme())"
   ],
   "outputs": [],
   "execution_count": 1
  },
  {
   "cell_type": "code",
   "metadata": {
    "ExecuteTime": {
     "end_time": "2024-07-16T10:54:49.649094Z",
     "start_time": "2024-07-16T10:54:49.644401Z"
    }
   },
   "source": [
    "# pv.global_theme.colorbar_horizontal.width = 10\n",
    "# pv.global_theme.colorbar_horizontal.position_x = 5\n",
    "\n",
    "pv.global_theme.font.size = 14\n",
    "pv.global_theme.font.label_size = 14\n",
    "pv.global_theme.font.title_size = 18"
   ],
   "outputs": [],
   "execution_count": 2
  },
  {
   "cell_type": "code",
   "metadata": {
    "ExecuteTime": {
     "end_time": "2024-07-16T10:54:49.672680Z",
     "start_time": "2024-07-16T10:54:49.652463Z"
    }
   },
   "source": [
    "def calculate_centroid(points):\n",
    "    return np.mean(points, axis=0)\n",
    "\n",
    "\n",
    "def vari(mesh, topk= 50, mean=False):\n",
    "    # Initialize a dictionary to store neighbors for each point\n",
    "    neighbors = defaultdict(set)\n",
    "    signal = mesh['non-directional_WSS_@_t=1.1']\n",
    "\n",
    "    # Loop over each cell and populate the neighbors dictionary\n",
    "    for i in range(mesh.n_cells):\n",
    "        cell = mesh.get_cell(i)\n",
    "        cell_points = cell.point_ids\n",
    "        for i in range(len(cell_points)):\n",
    "            for j in range(i + 1, len(cell_points)):\n",
    "                neighbors[cell_points[i]].add(cell_points[j])\n",
    "                neighbors[cell_points[j]].add(cell_points[i])\n",
    "\n",
    "\n",
    "    # Visualize Total Variation by highlighting edges with largest differences\n",
    "    # Initialize an array to store the total variation values\n",
    "    total_variation = np.zeros(mesh.number_of_points)\n",
    "\n",
    "    # Compute the total variation for each vertex\n",
    "    for point_id in range(mesh.number_of_points):\n",
    "        # Get the signal values at the point and its neighbors\n",
    "        point_signal = signal[point_id]\n",
    "        neighbor_signals = [signal[neighbor] for neighbor in neighbors[point_id]]\n",
    "        # neighbor_weights = \n",
    "        # Calculate the total variation\n",
    "        if mean:\n",
    "            total_variation[point_id] = np.mean(np.abs(point_signal - np.array(neighbor_signals)))\n",
    "        else:\n",
    "            total_variation[point_id] = np.sum(np.abs(point_signal - np.array(neighbor_signals)))\n",
    "\n",
    "    # Assign the total variation values to the mesh\n",
    "    mesh.point_data['total_variation'] = total_variation\n",
    "\n",
    "    max_var_indices = np.argsort(total_variation)[-topk:]\n",
    "    return mesh.extract_points(max_var_indices, include_cells=True), max_var_indices\n",
    "\n",
    "def find_smallest_set_to_connect(mesh, sub_mesh_points):\n",
    "    # Step 1: Create a graph representation of the mesh\n",
    "    edges = mesh.extract_all_edges()\n",
    "    graph = nx.Graph()\n",
    "    \n",
    "    for i in range(mesh.number_of_cells):\n",
    "        cell = mesh.get_cell(i)\n",
    "        cell_points = cell.point_ids\n",
    "        n_points = len(cell_points)\n",
    "        for j in range(n_points):\n",
    "            for k in range(j + 1, n_points):\n",
    "                graph.add_edge(cell_points[j], cell_points[k])\n",
    "\n",
    "    \n",
    "    # Step 2: Identify sub-mesh nodes\n",
    "    sub_mesh_nodes = set(sub_mesh_points)\n",
    "    \n",
    "    # Step 3: Find connected components in the sub-mesh\n",
    "    sub_graph = graph.subgraph(sub_mesh_nodes)\n",
    "    components = list(nx.connected_components(sub_graph))\n",
    "    \n",
    "    if len(components) <= 1:\n",
    "        return sub_mesh_points  # The sub-mesh is already connected\n",
    "\n",
    "    max_variation_point = sub_mesh_points[np.argmax(mesh['total_variation'][sub_mesh_points])]\n",
    "\n",
    "    selected_component = None\n",
    "    for component in components:\n",
    "        if max_variation_point in component:\n",
    "            selected_component = component\n",
    "            break\n",
    "    \n",
    "    if not selected_component:\n",
    "        return []  # No valid component found, this should not happen\n",
    "    \n",
    "    # Step 6: Compute the smallest set of points to connect the selected component\n",
    "    selected_component = list(selected_component)\n",
    "    points_to_connect = set(selected_component)\n",
    "    \n",
    "    for i in range(len(selected_component)):\n",
    "        for j in range(i + 1, len(selected_component)):\n",
    "            node1 = selected_component[i]\n",
    "            node2 = selected_component[j]\n",
    "            \n",
    "            try:\n",
    "                path = nx.shortest_path(graph, source=node1, target=node2)\n",
    "                points_to_connect.update(path)\n",
    "            except nx.NetworkXNoPath:\n",
    "                continue\n",
    "\n",
    "    return list(points_to_connect)\n"
   ],
   "outputs": [],
   "execution_count": 3
  },
  {
   "cell_type": "code",
   "metadata": {
    "ExecuteTime": {
     "end_time": "2024-07-16T10:54:49.685863Z",
     "start_time": "2024-07-16T10:54:49.674908Z"
    }
   },
   "source": [
    "mypath = '../../data/MLgSA/wss/'\n",
    "mypath1 = '../../data/MLgSA/New_wss/'\n",
    "\n",
    "onlyfiles = np.asarray([f for f in listdir(mypath) if isfile(join(mypath, f))])\n",
    "onlyfiles1 = np.asarray([f for f in listdir(mypath1) if isfile(join(mypath1, f))])\n",
    "\n",
    "onlyfiles.sort()\n",
    "onlyfiles1.sort()\n",
    "\n",
    "print(len(onlyfiles), len(onlyfiles1))\n",
    "\n",
    "short_list = np.asarray([s[5:23] if s[19] == 'l' else s[5:24] for s in onlyfiles])\n",
    "short_list1 = np.asarray([s[5:23] if s[19] == 'l' else s[5:24] for s in onlyfiles1])"
   ],
   "outputs": [
    {
     "name": "stdout",
     "output_type": "stream",
     "text": [
      "109 50\n"
     ]
    }
   ],
   "execution_count": 4
  },
  {
   "cell_type": "code",
   "metadata": {
    "ExecuteTime": {
     "end_time": "2024-07-16T10:54:51.148161Z",
     "start_time": "2024-07-16T10:54:51.025412Z"
    }
   },
   "source": [
    "j = 2\n",
    "if j <110:\n",
    "    reader = pv.get_reader(mypath + onlyfiles[j])\n",
    "else:\n",
    "    reader = pv.get_reader(mypath1 + onlyfiles1[j-109])\n",
    "mesh  = reader.read()"
   ],
   "outputs": [],
   "execution_count": 5
  },
  {
   "metadata": {
    "ExecuteTime": {
     "end_time": "2024-07-16T10:55:03.545848Z",
     "start_time": "2024-07-16T10:55:03.541716Z"
    }
   },
   "cell_type": "code",
   "source": "cols = mesh.array_names",
   "outputs": [],
   "execution_count": 6
  },
  {
   "cell_type": "code",
   "metadata": {
    "ExecuteTime": {
     "end_time": "2024-07-16T10:55:11.029925Z",
     "start_time": "2024-07-16T10:55:09.095791Z"
    }
   },
   "source": [
    "plotter = pv.Plotter()\n",
    "plotter.add_mesh(mesh, scalars = cols[0], show_edges=False, opacity=0.3, cmap='seismic')\n",
    "#max_var_nodes = mesh.points[m1]\n",
    "#plotter.add_points(max_var_nodes, color='red', point_size=5)\n",
    "plt.style.use(\"seaborn-v0_8-bright\") \n",
    "plotter.show()"
   ],
   "outputs": [
    {
     "ename": "AttributeError",
     "evalue": "module 'numpy' has no attribute 'bool'.\n`np.bool` was a deprecated alias for the builtin `bool`. To avoid this error in existing code, use `bool` by itself. Doing this will not modify any behavior and is safe. If you specifically wanted the numpy scalar type, use `np.bool_` here.\nThe aliases was originally deprecated in NumPy 1.20; for more details and guidance see the original release note at:\n    https://numpy.org/devdocs/release/1.20.0-notes.html#deprecations",
     "output_type": "error",
     "traceback": [
      "\u001B[0;31m---------------------------------------------------------------------------\u001B[0m",
      "\u001B[0;31mAttributeError\u001B[0m                            Traceback (most recent call last)",
      "Cell \u001B[0;32mIn[7], line 2\u001B[0m\n\u001B[1;32m      1\u001B[0m plotter \u001B[38;5;241m=\u001B[39m pv\u001B[38;5;241m.\u001B[39mPlotter()\n\u001B[0;32m----> 2\u001B[0m \u001B[43mplotter\u001B[49m\u001B[38;5;241;43m.\u001B[39;49m\u001B[43madd_mesh\u001B[49m\u001B[43m(\u001B[49m\u001B[43mmesh\u001B[49m\u001B[43m,\u001B[49m\u001B[43m \u001B[49m\u001B[43mscalars\u001B[49m\u001B[43m \u001B[49m\u001B[38;5;241;43m=\u001B[39;49m\u001B[43m \u001B[49m\u001B[43mcols\u001B[49m\u001B[43m[\u001B[49m\u001B[38;5;241;43m0\u001B[39;49m\u001B[43m]\u001B[49m\u001B[43m,\u001B[49m\u001B[43m \u001B[49m\u001B[43mshow_edges\u001B[49m\u001B[38;5;241;43m=\u001B[39;49m\u001B[38;5;28;43;01mFalse\u001B[39;49;00m\u001B[43m,\u001B[49m\u001B[43m \u001B[49m\u001B[43mopacity\u001B[49m\u001B[38;5;241;43m=\u001B[39;49m\u001B[38;5;241;43m0.3\u001B[39;49m\u001B[43m,\u001B[49m\u001B[43m \u001B[49m\u001B[43mcmap\u001B[49m\u001B[38;5;241;43m=\u001B[39;49m\u001B[38;5;124;43m'\u001B[39;49m\u001B[38;5;124;43mseismic\u001B[39;49m\u001B[38;5;124;43m'\u001B[39;49m\u001B[43m)\u001B[49m\n\u001B[1;32m      3\u001B[0m \u001B[38;5;66;03m#max_var_nodes = mesh.points[m1]\u001B[39;00m\n\u001B[1;32m      4\u001B[0m \u001B[38;5;66;03m#plotter.add_points(max_var_nodes, color='red', point_size=5)\u001B[39;00m\n\u001B[1;32m      5\u001B[0m plt\u001B[38;5;241m.\u001B[39mstyle\u001B[38;5;241m.\u001B[39muse(\u001B[38;5;124m\"\u001B[39m\u001B[38;5;124mseaborn-v0_8-bright\u001B[39m\u001B[38;5;124m\"\u001B[39m) \n",
      "File \u001B[0;32m~/anaconda3/envs/pyg/lib/python3.8/site-packages/pyvista/plotting/plotter.py:3466\u001B[0m, in \u001B[0;36mBasePlotter.add_mesh\u001B[0;34m(self, mesh, color, style, scalars, clim, show_edges, edge_color, point_size, line_width, opacity, flip_scalars, lighting, n_colors, interpolate_before_map, cmap, label, reset_camera, scalar_bar_args, show_scalar_bar, multi_colors, name, texture, render_points_as_spheres, render_lines_as_tubes, smooth_shading, split_sharp_edges, ambient, diffuse, specular, specular_power, nan_color, nan_opacity, culling, rgb, categories, silhouette, use_transparency, below_color, above_color, annotations, pickable, preference, log_scale, pbr, metallic, roughness, render, user_matrix, component, emissive, copy_mesh, backface_params, show_vertices, edge_opacity, **kwargs)\u001B[0m\n\u001B[1;32m   3463\u001B[0m         rgb \u001B[38;5;241m=\u001B[39m \u001B[38;5;28;01mTrue\u001B[39;00m\n\u001B[1;32m   3465\u001B[0m original_scalar_name \u001B[38;5;241m=\u001B[39m scalars\n\u001B[0;32m-> 3466\u001B[0m scalars \u001B[38;5;241m=\u001B[39m \u001B[43mget_array\u001B[49m\u001B[43m(\u001B[49m\u001B[43mmesh\u001B[49m\u001B[43m,\u001B[49m\u001B[43m \u001B[49m\u001B[43mscalars\u001B[49m\u001B[43m,\u001B[49m\u001B[43m \u001B[49m\u001B[43mpreference\u001B[49m\u001B[38;5;241;43m=\u001B[39;49m\u001B[43mpreference\u001B[49m\u001B[43m,\u001B[49m\u001B[43m \u001B[49m\u001B[43merr\u001B[49m\u001B[38;5;241;43m=\u001B[39;49m\u001B[38;5;28;43;01mTrue\u001B[39;49;00m\u001B[43m)\u001B[49m\n\u001B[1;32m   3467\u001B[0m scalar_bar_args\u001B[38;5;241m.\u001B[39msetdefault(\u001B[38;5;124m'\u001B[39m\u001B[38;5;124mtitle\u001B[39m\u001B[38;5;124m'\u001B[39m, original_scalar_name)\n\u001B[1;32m   3468\u001B[0m scalars_name \u001B[38;5;241m=\u001B[39m original_scalar_name\n",
      "File \u001B[0;32m~/anaconda3/envs/pyg/lib/python3.8/site-packages/pyvista/core/utilities/arrays.py:275\u001B[0m, in \u001B[0;36mget_array\u001B[0;34m(mesh, name, preference, err)\u001B[0m\n\u001B[1;32m    269\u001B[0m \u001B[38;5;28;01mif\u001B[39;00m preference \u001B[38;5;129;01mnot\u001B[39;00m \u001B[38;5;129;01min\u001B[39;00m [\u001B[38;5;124m'\u001B[39m\u001B[38;5;124mcell\u001B[39m\u001B[38;5;124m'\u001B[39m, \u001B[38;5;124m'\u001B[39m\u001B[38;5;124mpoint\u001B[39m\u001B[38;5;124m'\u001B[39m, \u001B[38;5;124m'\u001B[39m\u001B[38;5;124mfield\u001B[39m\u001B[38;5;124m'\u001B[39m]:\n\u001B[1;32m    270\u001B[0m     \u001B[38;5;28;01mraise\u001B[39;00m \u001B[38;5;167;01mValueError\u001B[39;00m(\n\u001B[1;32m    271\u001B[0m         \u001B[38;5;124mf\u001B[39m\u001B[38;5;124m'\u001B[39m\u001B[38;5;124m`preference` must be either \u001B[39m\u001B[38;5;124m\"\u001B[39m\u001B[38;5;124mcell\u001B[39m\u001B[38;5;124m\"\u001B[39m\u001B[38;5;124m, \u001B[39m\u001B[38;5;124m\"\u001B[39m\u001B[38;5;124mpoint\u001B[39m\u001B[38;5;124m\"\u001B[39m\u001B[38;5;124m, \u001B[39m\u001B[38;5;124m\"\u001B[39m\u001B[38;5;124mfield\u001B[39m\u001B[38;5;124m\"\u001B[39m\u001B[38;5;124m for a \u001B[39m\u001B[38;5;124m'\u001B[39m\n\u001B[1;32m    272\u001B[0m         \u001B[38;5;124mf\u001B[39m\u001B[38;5;124m'\u001B[39m\u001B[38;5;132;01m{\u001B[39;00m\u001B[38;5;28mtype\u001B[39m(mesh)\u001B[38;5;132;01m}\u001B[39;00m\u001B[38;5;124m, not \u001B[39m\u001B[38;5;124m\"\u001B[39m\u001B[38;5;132;01m{\u001B[39;00mpreference\u001B[38;5;132;01m}\u001B[39;00m\u001B[38;5;124m\"\u001B[39m\u001B[38;5;124m.\u001B[39m\u001B[38;5;124m'\u001B[39m\n\u001B[1;32m    273\u001B[0m     )\n\u001B[0;32m--> 275\u001B[0m parr \u001B[38;5;241m=\u001B[39m \u001B[43mpoint_array\u001B[49m\u001B[43m(\u001B[49m\u001B[43mmesh\u001B[49m\u001B[43m,\u001B[49m\u001B[43m \u001B[49m\u001B[43mname\u001B[49m\u001B[43m)\u001B[49m\n\u001B[1;32m    276\u001B[0m carr \u001B[38;5;241m=\u001B[39m cell_array(mesh, name)\n\u001B[1;32m    277\u001B[0m farr \u001B[38;5;241m=\u001B[39m field_array(mesh, name)\n",
      "File \u001B[0;32m~/anaconda3/envs/pyg/lib/python3.8/site-packages/pyvista/core/utilities/arrays.py:419\u001B[0m, in \u001B[0;36mpoint_array\u001B[0;34m(obj, name)\u001B[0m\n\u001B[1;32m    402\u001B[0m \u001B[38;5;28;01mdef\u001B[39;00m \u001B[38;5;21mpoint_array\u001B[39m(obj, name):\n\u001B[1;32m    403\u001B[0m \u001B[38;5;250m    \u001B[39m\u001B[38;5;124;03m\"\"\"Return point array of a pyvista or vtk object.\u001B[39;00m\n\u001B[1;32m    404\u001B[0m \n\u001B[1;32m    405\u001B[0m \u001B[38;5;124;03m    Parameters\u001B[39;00m\n\u001B[0;32m   (...)\u001B[0m\n\u001B[1;32m    417\u001B[0m \n\u001B[1;32m    418\u001B[0m \u001B[38;5;124;03m    \"\"\"\u001B[39;00m\n\u001B[0;32m--> 419\u001B[0m     \u001B[38;5;28;01mreturn\u001B[39;00m \u001B[43m_assoc_array\u001B[49m\u001B[43m(\u001B[49m\u001B[43mobj\u001B[49m\u001B[43m,\u001B[49m\u001B[43m \u001B[49m\u001B[43mname\u001B[49m\u001B[43m,\u001B[49m\u001B[43m \u001B[49m\u001B[38;5;124;43m'\u001B[39;49m\u001B[38;5;124;43mpoint\u001B[39;49m\u001B[38;5;124;43m'\u001B[39;49m\u001B[43m)\u001B[49m\n",
      "File \u001B[0;32m~/anaconda3/envs/pyg/lib/python3.8/site-packages/pyvista/core/utilities/arrays.py:393\u001B[0m, in \u001B[0;36m_assoc_array\u001B[0;34m(obj, name, association)\u001B[0m\n\u001B[1;32m    391\u001B[0m \u001B[38;5;28;01mif\u001B[39;00m \u001B[38;5;28misinstance\u001B[39m(obj, pyvista\u001B[38;5;241m.\u001B[39mDataSet):\n\u001B[1;32m    392\u001B[0m     \u001B[38;5;28;01mtry\u001B[39;00m:\n\u001B[0;32m--> 393\u001B[0m         \u001B[38;5;28;01mreturn\u001B[39;00m \u001B[38;5;28;43mgetattr\u001B[39;49m\u001B[43m(\u001B[49m\u001B[43mobj\u001B[49m\u001B[43m,\u001B[49m\u001B[43m \u001B[49m\u001B[43mpython_attr\u001B[49m\u001B[43m)\u001B[49m\u001B[38;5;241;43m.\u001B[39;49m\u001B[43mget_array\u001B[49m\u001B[43m(\u001B[49m\u001B[43mname\u001B[49m\u001B[43m)\u001B[49m\n\u001B[1;32m    394\u001B[0m     \u001B[38;5;28;01mexcept\u001B[39;00m \u001B[38;5;167;01mKeyError\u001B[39;00m:  \u001B[38;5;66;03m# pragma: no cover\u001B[39;00m\n\u001B[1;32m    395\u001B[0m         \u001B[38;5;28;01mreturn\u001B[39;00m \u001B[38;5;28;01mNone\u001B[39;00m\n",
      "File \u001B[0;32m~/anaconda3/envs/pyg/lib/python3.8/site-packages/pyvista/core/datasetattributes.py:502\u001B[0m, in \u001B[0;36mDataSetAttributes.get_array\u001B[0;34m(self, key)\u001B[0m\n\u001B[1;32m    500\u001B[0m     \u001B[38;5;28;01mif\u001B[39;00m vtk_arr \u001B[38;5;129;01mis\u001B[39;00m \u001B[38;5;28;01mNone\u001B[39;00m:\n\u001B[1;32m    501\u001B[0m         \u001B[38;5;28;01mraise\u001B[39;00m \u001B[38;5;167;01mKeyError\u001B[39;00m(\u001B[38;5;124mf\u001B[39m\u001B[38;5;124m'\u001B[39m\u001B[38;5;132;01m{\u001B[39;00mkey\u001B[38;5;132;01m}\u001B[39;00m\u001B[38;5;124m'\u001B[39m)\n\u001B[0;32m--> 502\u001B[0m narray \u001B[38;5;241m=\u001B[39m \u001B[43mpyvista_ndarray\u001B[49m\u001B[43m(\u001B[49m\u001B[43mvtk_arr\u001B[49m\u001B[43m,\u001B[49m\u001B[43m \u001B[49m\u001B[43mdataset\u001B[49m\u001B[38;5;241;43m=\u001B[39;49m\u001B[38;5;28;43mself\u001B[39;49m\u001B[38;5;241;43m.\u001B[39;49m\u001B[43mdataset\u001B[49m\u001B[43m,\u001B[49m\u001B[43m \u001B[49m\u001B[43massociation\u001B[49m\u001B[38;5;241;43m=\u001B[39;49m\u001B[38;5;28;43mself\u001B[39;49m\u001B[38;5;241;43m.\u001B[39;49m\u001B[43massociation\u001B[49m\u001B[43m)\u001B[49m\n\u001B[1;32m    503\u001B[0m \u001B[38;5;28;01mreturn\u001B[39;00m \u001B[38;5;28mself\u001B[39m\u001B[38;5;241m.\u001B[39m_patch_type(narray)\n",
      "File \u001B[0;32m~/anaconda3/envs/pyg/lib/python3.8/site-packages/pyvista/core/pyvista_ndarray.py:56\u001B[0m, in \u001B[0;36mpyvista_ndarray.__new__\u001B[0;34m(cls, array, dataset, association)\u001B[0m\n\u001B[1;32m     54\u001B[0m     obj \u001B[38;5;241m=\u001B[39m np\u001B[38;5;241m.\u001B[39masarray(array)\u001B[38;5;241m.\u001B[39mview(\u001B[38;5;28mcls\u001B[39m)\n\u001B[1;32m     55\u001B[0m \u001B[38;5;28;01melif\u001B[39;00m \u001B[38;5;28misinstance\u001B[39m(array, _vtk\u001B[38;5;241m.\u001B[39mvtkAbstractArray):\n\u001B[0;32m---> 56\u001B[0m     obj \u001B[38;5;241m=\u001B[39m \u001B[43mconvert_array\u001B[49m\u001B[43m(\u001B[49m\u001B[43marray\u001B[49m\u001B[43m)\u001B[49m\u001B[38;5;241m.\u001B[39mview(\u001B[38;5;28mcls\u001B[39m)\n\u001B[1;32m     57\u001B[0m     obj\u001B[38;5;241m.\u001B[39mVTKObject \u001B[38;5;241m=\u001B[39m array\n\u001B[1;32m     58\u001B[0m \u001B[38;5;28;01melse\u001B[39;00m:\n",
      "File \u001B[0;32m~/anaconda3/envs/pyg/lib/python3.8/site-packages/pyvista/core/utilities/arrays.py:232\u001B[0m, in \u001B[0;36mconvert_array\u001B[0;34m(arr, name, deep, array_type)\u001B[0m\n\u001B[1;32m    230\u001B[0m     \u001B[38;5;28;01mreturn\u001B[39;00m convert_string_array(arr)\n\u001B[1;32m    231\u001B[0m \u001B[38;5;66;03m# Convert from vtkDataArry to NumPy\u001B[39;00m\n\u001B[0;32m--> 232\u001B[0m \u001B[38;5;28;01mreturn\u001B[39;00m \u001B[43m_vtk\u001B[49m\u001B[38;5;241;43m.\u001B[39;49m\u001B[43mvtk_to_numpy\u001B[49m\u001B[43m(\u001B[49m\u001B[43marr\u001B[49m\u001B[43m)\u001B[49m\n",
      "File \u001B[0;32m~/anaconda3/envs/pyg/lib/python3.8/site-packages/vtkmodules/util/numpy_support.py:216\u001B[0m, in \u001B[0;36mvtk_to_numpy\u001B[0;34m(vtk_array)\u001B[0m\n\u001B[1;32m    201\u001B[0m \u001B[38;5;250m\u001B[39m\u001B[38;5;124;03m\"\"\"Converts a VTK data array to a numpy array.\u001B[39;00m\n\u001B[1;32m    202\u001B[0m \n\u001B[1;32m    203\u001B[0m \u001B[38;5;124;03mGiven a subclass of vtkDataArray, this function returns an\u001B[39;00m\n\u001B[0;32m   (...)\u001B[0m\n\u001B[1;32m    213\u001B[0m \n\u001B[1;32m    214\u001B[0m \u001B[38;5;124;03m\"\"\"\u001B[39;00m\n\u001B[1;32m    215\u001B[0m typ \u001B[38;5;241m=\u001B[39m vtk_array\u001B[38;5;241m.\u001B[39mGetDataType()\n\u001B[0;32m--> 216\u001B[0m \u001B[38;5;28;01massert\u001B[39;00m typ \u001B[38;5;129;01min\u001B[39;00m \u001B[43mget_vtk_to_numpy_typemap\u001B[49m\u001B[43m(\u001B[49m\u001B[43m)\u001B[49m\u001B[38;5;241m.\u001B[39mkeys(), \\\n\u001B[1;32m    217\u001B[0m        \u001B[38;5;124m\"\u001B[39m\u001B[38;5;124mUnsupported array type \u001B[39m\u001B[38;5;132;01m%s\u001B[39;00m\u001B[38;5;124m\"\u001B[39m\u001B[38;5;241m%\u001B[39mtyp\n\u001B[1;32m    218\u001B[0m \u001B[38;5;28;01massert\u001B[39;00m typ \u001B[38;5;241m!=\u001B[39m vtkConstants\u001B[38;5;241m.\u001B[39mVTK_BIT, \u001B[38;5;124m'\u001B[39m\u001B[38;5;124mBit arrays are not supported.\u001B[39m\u001B[38;5;124m'\u001B[39m\n\u001B[1;32m    220\u001B[0m shape \u001B[38;5;241m=\u001B[39m vtk_array\u001B[38;5;241m.\u001B[39mGetNumberOfTuples(), \\\n\u001B[1;32m    221\u001B[0m         vtk_array\u001B[38;5;241m.\u001B[39mGetNumberOfComponents()\n",
      "File \u001B[0;32m~/anaconda3/envs/pyg/lib/python3.8/site-packages/vtkmodules/util/numpy_support.py:74\u001B[0m, in \u001B[0;36mget_vtk_to_numpy_typemap\u001B[0;34m()\u001B[0m\n\u001B[1;32m     72\u001B[0m \u001B[38;5;28;01mdef\u001B[39;00m \u001B[38;5;21mget_vtk_to_numpy_typemap\u001B[39m():\n\u001B[1;32m     73\u001B[0m \u001B[38;5;250m    \u001B[39m\u001B[38;5;124;03m\"\"\"Returns the VTK array type to numpy array type mapping.\"\"\"\u001B[39;00m\n\u001B[0;32m---> 74\u001B[0m     _vtk_np \u001B[38;5;241m=\u001B[39m {vtkConstants\u001B[38;5;241m.\u001B[39mVTK_BIT:\u001B[43mnumpy\u001B[49m\u001B[38;5;241;43m.\u001B[39;49m\u001B[43mbool\u001B[49m,\n\u001B[1;32m     75\u001B[0m                 vtkConstants\u001B[38;5;241m.\u001B[39mVTK_CHAR:numpy\u001B[38;5;241m.\u001B[39mint8,\n\u001B[1;32m     76\u001B[0m                 vtkConstants\u001B[38;5;241m.\u001B[39mVTK_SIGNED_CHAR:numpy\u001B[38;5;241m.\u001B[39mint8,\n\u001B[1;32m     77\u001B[0m                 vtkConstants\u001B[38;5;241m.\u001B[39mVTK_UNSIGNED_CHAR:numpy\u001B[38;5;241m.\u001B[39muint8,\n\u001B[1;32m     78\u001B[0m                 vtkConstants\u001B[38;5;241m.\u001B[39mVTK_SHORT:numpy\u001B[38;5;241m.\u001B[39mint16,\n\u001B[1;32m     79\u001B[0m                 vtkConstants\u001B[38;5;241m.\u001B[39mVTK_UNSIGNED_SHORT:numpy\u001B[38;5;241m.\u001B[39muint16,\n\u001B[1;32m     80\u001B[0m                 vtkConstants\u001B[38;5;241m.\u001B[39mVTK_INT:numpy\u001B[38;5;241m.\u001B[39mint32,\n\u001B[1;32m     81\u001B[0m                 vtkConstants\u001B[38;5;241m.\u001B[39mVTK_UNSIGNED_INT:numpy\u001B[38;5;241m.\u001B[39muint32,\n\u001B[1;32m     82\u001B[0m                 vtkConstants\u001B[38;5;241m.\u001B[39mVTK_LONG:LONG_TYPE_CODE,\n\u001B[1;32m     83\u001B[0m                 vtkConstants\u001B[38;5;241m.\u001B[39mVTK_LONG_LONG:numpy\u001B[38;5;241m.\u001B[39mint64,\n\u001B[1;32m     84\u001B[0m                 vtkConstants\u001B[38;5;241m.\u001B[39mVTK_UNSIGNED_LONG:ULONG_TYPE_CODE,\n\u001B[1;32m     85\u001B[0m                 vtkConstants\u001B[38;5;241m.\u001B[39mVTK_UNSIGNED_LONG_LONG:numpy\u001B[38;5;241m.\u001B[39muint64,\n\u001B[1;32m     86\u001B[0m                 vtkConstants\u001B[38;5;241m.\u001B[39mVTK_ID_TYPE:ID_TYPE_CODE,\n\u001B[1;32m     87\u001B[0m                 vtkConstants\u001B[38;5;241m.\u001B[39mVTK_FLOAT:numpy\u001B[38;5;241m.\u001B[39mfloat32,\n\u001B[1;32m     88\u001B[0m                 vtkConstants\u001B[38;5;241m.\u001B[39mVTK_DOUBLE:numpy\u001B[38;5;241m.\u001B[39mfloat64}\n\u001B[1;32m     89\u001B[0m     \u001B[38;5;28;01mreturn\u001B[39;00m _vtk_np\n",
      "File \u001B[0;32m~/anaconda3/envs/pyg/lib/python3.8/site-packages/numpy/__init__.py:305\u001B[0m, in \u001B[0;36m__getattr__\u001B[0;34m(attr)\u001B[0m\n\u001B[1;32m    300\u001B[0m     warnings\u001B[38;5;241m.\u001B[39mwarn(\n\u001B[1;32m    301\u001B[0m         \u001B[38;5;124mf\u001B[39m\u001B[38;5;124m\"\u001B[39m\u001B[38;5;124mIn the future `np.\u001B[39m\u001B[38;5;132;01m{\u001B[39;00mattr\u001B[38;5;132;01m}\u001B[39;00m\u001B[38;5;124m` will be defined as the \u001B[39m\u001B[38;5;124m\"\u001B[39m\n\u001B[1;32m    302\u001B[0m         \u001B[38;5;124m\"\u001B[39m\u001B[38;5;124mcorresponding NumPy scalar.\u001B[39m\u001B[38;5;124m\"\u001B[39m, \u001B[38;5;167;01mFutureWarning\u001B[39;00m, stacklevel\u001B[38;5;241m=\u001B[39m\u001B[38;5;241m2\u001B[39m)\n\u001B[1;32m    304\u001B[0m \u001B[38;5;28;01mif\u001B[39;00m attr \u001B[38;5;129;01min\u001B[39;00m __former_attrs__:\n\u001B[0;32m--> 305\u001B[0m     \u001B[38;5;28;01mraise\u001B[39;00m \u001B[38;5;167;01mAttributeError\u001B[39;00m(__former_attrs__[attr])\n\u001B[1;32m    307\u001B[0m \u001B[38;5;66;03m# Importing Tester requires importing all of UnitTest which is not a\u001B[39;00m\n\u001B[1;32m    308\u001B[0m \u001B[38;5;66;03m# cheap import Since it is mainly used in test suits, we lazy import it\u001B[39;00m\n\u001B[1;32m    309\u001B[0m \u001B[38;5;66;03m# here to save on the order of 10 ms of import time for most users\u001B[39;00m\n\u001B[1;32m    310\u001B[0m \u001B[38;5;66;03m#\u001B[39;00m\n\u001B[1;32m    311\u001B[0m \u001B[38;5;66;03m# The previous way Tester was imported also had a side effect of adding\u001B[39;00m\n\u001B[1;32m    312\u001B[0m \u001B[38;5;66;03m# the full `numpy.testing` namespace\u001B[39;00m\n\u001B[1;32m    313\u001B[0m \u001B[38;5;28;01mif\u001B[39;00m attr \u001B[38;5;241m==\u001B[39m \u001B[38;5;124m'\u001B[39m\u001B[38;5;124mtesting\u001B[39m\u001B[38;5;124m'\u001B[39m:\n",
      "\u001B[0;31mAttributeError\u001B[0m: module 'numpy' has no attribute 'bool'.\n`np.bool` was a deprecated alias for the builtin `bool`. To avoid this error in existing code, use `bool` by itself. Doing this will not modify any behavior and is safe. If you specifically wanted the numpy scalar type, use `np.bool_` here.\nThe aliases was originally deprecated in NumPy 1.20; for more details and guidance see the original release note at:\n    https://numpy.org/devdocs/release/1.20.0-notes.html#deprecations"
     ]
    }
   ],
   "execution_count": 7
  },
  {
   "cell_type": "code",
   "execution_count": 25,
   "metadata": {},
   "outputs": [
    {
     "data": {
      "application/vnd.jupyter.widget-view+json": {
       "model_id": "38f47ae1bac24880826e26f6540933ed",
       "version_major": 2,
       "version_minor": 0
      },
      "text/plain": [
       "Widget(value='<iframe src=\"http://localhost:61881/index.html?ui=P_0x24fb5919030_7&reconnect=auto\" class=\"pyvis…"
      ]
     },
     "metadata": {},
     "output_type": "display_data"
    }
   ],
   "source": [
    "mesh1, m1 = vari(mesh, topk=50)\n",
    "\n",
    "plotter = pv.Plotter()\n",
    "plotter.add_mesh(mesh, scalars = 'total_variation', show_edges=False, opacity=0.3, cmap='plasma')\n",
    "max_var_nodes = mesh.points[m1]\n",
    "plotter.add_points(max_var_nodes, color='red', point_size=5)\n",
    "plotter.show()"
   ]
  },
  {
   "cell_type": "code",
   "execution_count": 10,
   "metadata": {},
   "outputs": [],
   "source": [
    "points_to_connect = find_smallest_set_to_connect(mesh, mesh1['vtkOriginalPointIds'])\n",
    "connected_sub_mesh_points = set(mesh1['vtkOriginalPointIds']).union(points_to_connect)\n",
    "connected_sub_mesh = mesh.extract_points(list(connected_sub_mesh_points))"
   ]
  },
  {
   "cell_type": "code",
   "execution_count": 11,
   "metadata": {},
   "outputs": [
    {
     "data": {
      "application/vnd.jupyter.widget-view+json": {
       "model_id": "4a3c431944dd4831a912d40285e80fe7",
       "version_major": 2,
       "version_minor": 0
      },
      "text/plain": [
       "Widget(value='<iframe src=\"http://localhost:63455/index.html?ui=P_0x232a84da830_2&reconnect=auto\" class=\"pyvis…"
      ]
     },
     "metadata": {},
     "output_type": "display_data"
    }
   ],
   "source": [
    "plotter = pv.Plotter()\n",
    "plotter.add_mesh(connected_sub_mesh, scalars = 'total_variation', show_edges=True, opacity=0.5, cmap='seismic')\n",
    "plotter.show()"
   ]
  },
  {
   "cell_type": "code",
   "execution_count": 12,
   "metadata": {},
   "outputs": [
    {
     "data": {
      "text/html": [
       "<table style='width: 100%;'><tr><th>Header</th><th>Data Arrays</th></tr><tr><td>\n",
       "<table style='width: 100%;'>\n",
       "<tr><th>UnstructuredGrid</th><th>Information</th></tr>\n",
       "<tr><td>N Cells</td><td>33610</td></tr>\n",
       "<tr><td>N Points</td><td>16947</td></tr>\n",
       "<tr><td>X Bounds</td><td>-3.899e+01, -8.223e+00</td></tr>\n",
       "<tr><td>Y Bounds</td><td>-3.777e+01, -5.576e+00</td></tr>\n",
       "<tr><td>Z Bounds</td><td>-8.791e+01, -2.561e+01</td></tr>\n",
       "<tr><td>N Arrays</td><td>7</td></tr>\n",
       "</table>\n",
       "\n",
       "</td><td>\n",
       "<table style='width: 100%;'>\n",
       "<tr><th>Name</th><th>Field</th><th>Type</th><th>N Comp</th><th>Min</th><th>Max</th></tr>\n",
       "<tr><td>longitudinal_WSS_@_t=1.1</td><td>Points</td><td>float64</td><td>1</td><td>-5.381e+01</td><td>2.434e+02</td></tr>\n",
       "<tr><td>non-directional_WSS_@_t=1.1</td><td>Points</td><td>float64</td><td>1</td><td>5.807e-03</td><td>2.505e+02</td></tr>\n",
       "<tr><td>longitudinal_WSS_@_t=1.55</td><td>Points</td><td>float64</td><td>1</td><td>-1.224e+01</td><td>9.283e+01</td></tr>\n",
       "<tr><td>non-directional_WSS_@_t=1.55</td><td>Points</td><td>float64</td><td>1</td><td>4.751e-03</td><td>9.371e+01</td></tr>\n",
       "<tr><td><b>total_variation</b></td><td>Points</td><td>float64</td><td>1</td><td>6.413e-02</td><td>5.078e+02</td></tr>\n",
       "<tr><td>vtkOriginalPointIds</td><td>Points</td><td>int64</td><td>1</td><td>0.000e+00</td><td>1.695e+04</td></tr>\n",
       "<tr><td>vtkOriginalCellIds</td><td>Cells</td><td>int64</td><td>1</td><td>0.000e+00</td><td>3.361e+04</td></tr>\n",
       "</table>\n",
       "\n",
       "</td></tr> </table>"
      ],
      "text/plain": [
       "UnstructuredGrid (0x232a6f93a00)\n",
       "  N Cells:    33610\n",
       "  N Points:   16947\n",
       "  X Bounds:   -3.899e+01, -8.223e+00\n",
       "  Y Bounds:   -3.777e+01, -5.576e+00\n",
       "  Z Bounds:   -8.791e+01, -2.561e+01\n",
       "  N Arrays:   7"
      ]
     },
     "execution_count": 12,
     "metadata": {},
     "output_type": "execute_result"
    }
   ],
   "source": [
    "mesh"
   ]
  },
  {
   "cell_type": "code",
   "execution_count": null,
   "metadata": {},
   "outputs": [],
   "source": []
  },
  {
   "cell_type": "code",
   "execution_count": null,
   "metadata": {},
   "outputs": [],
   "source": []
  }
 ],
 "metadata": {
  "kernelspec": {
   "display_name": "ml",
   "language": "python",
   "name": "python3"
  },
  "language_info": {
   "codemirror_mode": {
    "name": "ipython",
    "version": 3
   },
   "file_extension": ".py",
   "mimetype": "text/x-python",
   "name": "python",
   "nbconvert_exporter": "python",
   "pygments_lexer": "ipython3",
   "version": "3.10.14"
  }
 },
 "nbformat": 4,
 "nbformat_minor": 2
}
