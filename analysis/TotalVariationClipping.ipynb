{
 "cells": [
  {
   "cell_type": "code",
   "execution_count": 1,
   "metadata": {},
   "outputs": [],
   "source": [
    "import numpy as np\n",
    "import matplotlib.pyplot as plt\n",
    "import pyvista as pv\n",
    "from os import listdir\n",
    "from os.path import isfile, join\n",
    "from scipy.sparse import csr_matrix\n",
    "from scipy.sparse.linalg import eigsh\n",
    "from collections import defaultdict\n",
    "import networkx as nx\n",
    "from pyvista import themes\n",
    "pv.set_plot_theme(themes.DocumentTheme())"
   ]
  },
  {
   "cell_type": "code",
   "execution_count": 2,
   "metadata": {},
   "outputs": [],
   "source": [
    "# pv.global_theme.colorbar_horizontal.width = 10\n",
    "# pv.global_theme.colorbar_horizontal.position_x = 5\n",
    "\n",
    "pv.global_theme.font.size = 14\n",
    "pv.global_theme.font.label_size = 14\n",
    "pv.global_theme.font.title_size = 18"
   ]
  },
  {
   "cell_type": "code",
   "execution_count": 3,
   "metadata": {},
   "outputs": [],
   "source": [
    "def calculate_centroid(points):\n",
    "    return np.mean(points, axis=0)\n",
    "\n",
    "\n",
    "def vari(mesh):\n",
    "    # Initialize a dictionary to store neighbors for each point\n",
    "    neighbors = defaultdict(set)\n",
    "    signal = mesh['non-directional_WSS_@_t=1.1']\n",
    "\n",
    "    # Loop over each cell and populate the neighbors dictionary\n",
    "    for i in range(mesh.n_cells):\n",
    "        cell = mesh.get_cell(i)\n",
    "        cell_points = cell.point_ids\n",
    "        for i in range(len(cell_points)):\n",
    "            for j in range(i + 1, len(cell_points)):\n",
    "                neighbors[cell_points[i]].add(cell_points[j])\n",
    "                neighbors[cell_points[j]].add(cell_points[i])\n",
    "\n",
    "\n",
    "    # Visualize Total Variation by highlighting edges with largest differences\n",
    "    # Initialize an array to store the total variation values\n",
    "    total_variation = np.zeros(mesh.number_of_points)\n",
    "\n",
    "    # Compute the total variation for each vertex\n",
    "    for point_id in range(mesh.number_of_points):\n",
    "        # Get the signal values at the point and its neighbors\n",
    "        point_signal = signal[point_id]\n",
    "        neighbor_signals = [signal[neighbor] for neighbor in neighbors[point_id]]\n",
    "        # Calculate the total variation\n",
    "        total_variation[point_id] = np.sum(np.abs(point_signal - np.array(neighbor_signals)))\n",
    "\n",
    "    # Assign the total variation values to the mesh\n",
    "    mesh.point_data['total_variation'] = total_variation\n",
    "\n",
    "    max_var_indices = np.argsort(total_variation)[-50:]\n",
    "    return mesh.extract_points(max_var_indices, include_cells=True), max_var_indices\n",
    "\n",
    "def find_smallest_set_to_connect(mesh, sub_mesh_points):\n",
    "    # Step 1: Create a graph representation of the mesh\n",
    "    edges = mesh.extract_all_edges()\n",
    "    graph = nx.Graph()\n",
    "    \n",
    "    for i in range(mesh.number_of_cells):\n",
    "        cell = mesh.get_cell(i)\n",
    "        cell_points = cell.point_ids\n",
    "        n_points = len(cell_points)\n",
    "        for j in range(n_points):\n",
    "            for k in range(j + 1, n_points):\n",
    "                graph.add_edge(cell_points[j], cell_points[k])\n",
    "\n",
    "    \n",
    "    # Step 2: Identify sub-mesh nodes\n",
    "    sub_mesh_nodes = set(sub_mesh_points)\n",
    "    \n",
    "    # Step 3: Find connected components in the sub-mesh\n",
    "    sub_graph = graph.subgraph(sub_mesh_nodes)\n",
    "    components = list(nx.connected_components(sub_graph))\n",
    "    \n",
    "    if len(components) <= 1:\n",
    "        return sub_mesh_points  # The sub-mesh is already connected\n",
    "\n",
    "    max_variation_point = sub_mesh_points[np.argmax(mesh['total_variation'][sub_mesh_points])]\n",
    "\n",
    "    selected_component = None\n",
    "    for component in components:\n",
    "        if max_variation_point in component:\n",
    "            selected_component = component\n",
    "            break\n",
    "    \n",
    "    if not selected_component:\n",
    "        return []  # No valid component found, this should not happen\n",
    "    \n",
    "    # Step 6: Compute the smallest set of points to connect the selected component\n",
    "    selected_component = list(selected_component)\n",
    "    points_to_connect = set(selected_component)\n",
    "    \n",
    "    for i in range(len(selected_component)):\n",
    "        for j in range(i + 1, len(selected_component)):\n",
    "            node1 = selected_component[i]\n",
    "            node2 = selected_component[j]\n",
    "            \n",
    "            try:\n",
    "                path = nx.shortest_path(graph, source=node1, target=node2)\n",
    "                points_to_connect.update(path)\n",
    "            except nx.NetworkXNoPath:\n",
    "                continue\n",
    "\n",
    "    return list(points_to_connect)\n"
   ]
  },
  {
   "cell_type": "code",
   "execution_count": 4,
   "metadata": {},
   "outputs": [
    {
     "name": "stdout",
     "output_type": "stream",
     "text": [
      "109 50\n"
     ]
    }
   ],
   "source": [
    "mypath = '../../data/MLgSA/wss/'\n",
    "mypath1 = '../../data/MLgSA/New_wss/'\n",
    "\n",
    "onlyfiles = np.asarray([f for f in listdir(mypath) if isfile(join(mypath, f))])\n",
    "onlyfiles1 = np.asarray([f for f in listdir(mypath1) if isfile(join(mypath1, f))])\n",
    "\n",
    "onlyfiles.sort()\n",
    "onlyfiles1.sort()\n",
    "\n",
    "print(len(onlyfiles), len(onlyfiles1))\n",
    "\n",
    "short_list = np.asarray([s[5:23] if s[19] == 'l' else s[5:24] for s in onlyfiles])\n",
    "short_list1 = np.asarray([s[5:23] if s[19] == 'l' else s[5:24] for s in onlyfiles1])"
   ]
  },
  {
   "cell_type": "code",
   "execution_count": 5,
   "metadata": {},
   "outputs": [],
   "source": [
    "j = 1\n",
    "if j <110:\n",
    "    reader = pv.get_reader(mypath + onlyfiles[j])\n",
    "else:\n",
    "    reader = pv.get_reader(mypath1 + onlyfiles1[j-109])\n",
    "mesh  = reader.read()"
   ]
  },
  {
   "cell_type": "code",
   "execution_count": 6,
   "metadata": {},
   "outputs": [
    {
     "data": {
      "text/plain": [
       "['longitudinal_WSS_@_t=1.1',\n",
       " 'non-directional_WSS_@_t=1.1',\n",
       " 'longitudinal_WSS_@_t=1.55',\n",
       " 'non-directional_WSS_@_t=1.55']"
      ]
     },
     "execution_count": 6,
     "metadata": {},
     "output_type": "execute_result"
    }
   ],
   "source": [
    "cols = mesh.array_names\n",
    "cols"
   ]
  },
  {
   "cell_type": "code",
   "execution_count": 7,
   "metadata": {},
   "outputs": [
    {
     "data": {
      "application/vnd.jupyter.widget-view+json": {
       "model_id": "dadeb5f72b3d4f5eaa52ccdeb67f80ac",
       "version_major": 2,
       "version_minor": 0
      },
      "text/plain": [
       "Widget(value='<iframe src=\"http://localhost:63455/index.html?ui=P_0x232a6f9ae90_0&reconnect=auto\" class=\"pyvis…"
      ]
     },
     "metadata": {},
     "output_type": "display_data"
    }
   ],
   "source": [
    "plotter = pv.Plotter()\n",
    "plotter.add_mesh(mesh, scalars = cols[0], show_edges=False, opacity=0.3, cmap='seismic')\n",
    "#max_var_nodes = mesh.points[m1]\n",
    "#plotter.add_points(max_var_nodes, color='red', point_size=5)\n",
    "plt.style.use(\"seaborn-v0_8-bright\") \n",
    "plotter.show()"
   ]
  },
  {
   "cell_type": "code",
   "execution_count": null,
   "metadata": {},
   "outputs": [],
   "source": []
  },
  {
   "cell_type": "code",
   "execution_count": 8,
   "metadata": {},
   "outputs": [],
   "source": [
    "mesh1, m1 = vari(mesh)"
   ]
  },
  {
   "cell_type": "code",
   "execution_count": 9,
   "metadata": {},
   "outputs": [
    {
     "data": {
      "application/vnd.jupyter.widget-view+json": {
       "model_id": "d507a65a615945f8b2c18e23d4f6ac36",
       "version_major": 2,
       "version_minor": 0
      },
      "text/plain": [
       "Widget(value='<iframe src=\"http://localhost:63455/index.html?ui=P_0x232a84d96c0_1&reconnect=auto\" class=\"pyvis…"
      ]
     },
     "metadata": {},
     "output_type": "display_data"
    }
   ],
   "source": [
    "plotter = pv.Plotter()\n",
    "plotter.add_mesh(mesh, scalars = 'total_variation', show_edges=False, opacity=0.3, cmap='plasma')\n",
    "max_var_nodes = mesh.points[m1]\n",
    "# plotter.add_points(max_var_nodes, color='red', point_size=5)\n",
    "plotter.show()"
   ]
  },
  {
   "cell_type": "code",
   "execution_count": 10,
   "metadata": {},
   "outputs": [],
   "source": [
    "points_to_connect = find_smallest_set_to_connect(mesh, mesh1['vtkOriginalPointIds'])\n",
    "connected_sub_mesh_points = set(mesh1['vtkOriginalPointIds']).union(points_to_connect)\n",
    "connected_sub_mesh = mesh.extract_points(list(connected_sub_mesh_points))"
   ]
  },
  {
   "cell_type": "code",
   "execution_count": 11,
   "metadata": {},
   "outputs": [
    {
     "data": {
      "application/vnd.jupyter.widget-view+json": {
       "model_id": "4a3c431944dd4831a912d40285e80fe7",
       "version_major": 2,
       "version_minor": 0
      },
      "text/plain": [
       "Widget(value='<iframe src=\"http://localhost:63455/index.html?ui=P_0x232a84da830_2&reconnect=auto\" class=\"pyvis…"
      ]
     },
     "metadata": {},
     "output_type": "display_data"
    }
   ],
   "source": [
    "plotter = pv.Plotter()\n",
    "plotter.add_mesh(connected_sub_mesh, scalars = 'total_variation', show_edges=True, opacity=0.5, cmap='seismic')\n",
    "plotter.show()"
   ]
  },
  {
   "cell_type": "code",
   "execution_count": 12,
   "metadata": {},
   "outputs": [
    {
     "data": {
      "text/html": [
       "<table style='width: 100%;'><tr><th>Header</th><th>Data Arrays</th></tr><tr><td>\n",
       "<table style='width: 100%;'>\n",
       "<tr><th>UnstructuredGrid</th><th>Information</th></tr>\n",
       "<tr><td>N Cells</td><td>33610</td></tr>\n",
       "<tr><td>N Points</td><td>16947</td></tr>\n",
       "<tr><td>X Bounds</td><td>-3.899e+01, -8.223e+00</td></tr>\n",
       "<tr><td>Y Bounds</td><td>-3.777e+01, -5.576e+00</td></tr>\n",
       "<tr><td>Z Bounds</td><td>-8.791e+01, -2.561e+01</td></tr>\n",
       "<tr><td>N Arrays</td><td>7</td></tr>\n",
       "</table>\n",
       "\n",
       "</td><td>\n",
       "<table style='width: 100%;'>\n",
       "<tr><th>Name</th><th>Field</th><th>Type</th><th>N Comp</th><th>Min</th><th>Max</th></tr>\n",
       "<tr><td>longitudinal_WSS_@_t=1.1</td><td>Points</td><td>float64</td><td>1</td><td>-5.381e+01</td><td>2.434e+02</td></tr>\n",
       "<tr><td>non-directional_WSS_@_t=1.1</td><td>Points</td><td>float64</td><td>1</td><td>5.807e-03</td><td>2.505e+02</td></tr>\n",
       "<tr><td>longitudinal_WSS_@_t=1.55</td><td>Points</td><td>float64</td><td>1</td><td>-1.224e+01</td><td>9.283e+01</td></tr>\n",
       "<tr><td>non-directional_WSS_@_t=1.55</td><td>Points</td><td>float64</td><td>1</td><td>4.751e-03</td><td>9.371e+01</td></tr>\n",
       "<tr><td><b>total_variation</b></td><td>Points</td><td>float64</td><td>1</td><td>6.413e-02</td><td>5.078e+02</td></tr>\n",
       "<tr><td>vtkOriginalPointIds</td><td>Points</td><td>int64</td><td>1</td><td>0.000e+00</td><td>1.695e+04</td></tr>\n",
       "<tr><td>vtkOriginalCellIds</td><td>Cells</td><td>int64</td><td>1</td><td>0.000e+00</td><td>3.361e+04</td></tr>\n",
       "</table>\n",
       "\n",
       "</td></tr> </table>"
      ],
      "text/plain": [
       "UnstructuredGrid (0x232a6f93a00)\n",
       "  N Cells:    33610\n",
       "  N Points:   16947\n",
       "  X Bounds:   -3.899e+01, -8.223e+00\n",
       "  Y Bounds:   -3.777e+01, -5.576e+00\n",
       "  Z Bounds:   -8.791e+01, -2.561e+01\n",
       "  N Arrays:   7"
      ]
     },
     "execution_count": 12,
     "metadata": {},
     "output_type": "execute_result"
    }
   ],
   "source": [
    "mesh"
   ]
  },
  {
   "cell_type": "code",
   "execution_count": null,
   "metadata": {},
   "outputs": [],
   "source": []
  },
  {
   "cell_type": "code",
   "execution_count": null,
   "metadata": {},
   "outputs": [],
   "source": []
  }
 ],
 "metadata": {
  "kernelspec": {
   "display_name": "ml",
   "language": "python",
   "name": "python3"
  },
  "language_info": {
   "codemirror_mode": {
    "name": "ipython",
    "version": 3
   },
   "file_extension": ".py",
   "mimetype": "text/x-python",
   "name": "python",
   "nbconvert_exporter": "python",
   "pygments_lexer": "ipython3",
   "version": "3.10.14"
  }
 },
 "nbformat": 4,
 "nbformat_minor": 2
}
