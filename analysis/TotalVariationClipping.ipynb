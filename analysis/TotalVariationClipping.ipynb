{
 "cells": [
  {
   "cell_type": "code",
   "execution_count": 1,
   "metadata": {},
   "outputs": [],
   "source": [
    "import numpy as np\n",
    "import matplotlib.pyplot as plt\n",
    "import pyvista as pv\n",
    "from os import listdir\n",
    "from os.path import isfile, join\n",
    "from scipy.sparse import csr_matrix\n",
    "from scipy.sparse.linalg import eigsh\n",
    "from collections import defaultdict\n",
    "import networkx as nx"
   ]
  },
  {
   "cell_type": "code",
   "execution_count": 2,
   "metadata": {},
   "outputs": [
    {
     "name": "stdout",
     "output_type": "stream",
     "text": [
      "109 50\n"
     ]
    }
   ],
   "source": [
    "mypath = '../../data/MLgSA/wss/'\n",
    "mypath1 = '../../data/MLgSA/New_wss/'\n",
    "\n",
    "onlyfiles = np.asarray([f for f in listdir(mypath) if isfile(join(mypath, f))])\n",
    "onlyfiles1 = np.asarray([f for f in listdir(mypath1) if isfile(join(mypath1, f))])\n",
    "\n",
    "onlyfiles.sort()\n",
    "onlyfiles1.sort()\n",
    "\n",
    "print(len(onlyfiles), len(onlyfiles1))\n",
    "\n",
    "short_list = np.asarray([s[5:23] if s[19] == 'l' else s[5:24] for s in onlyfiles])\n",
    "short_list1 = np.asarray([s[5:23] if s[19] == 'l' else s[5:24] for s in onlyfiles1])"
   ]
  },
  {
   "cell_type": "code",
   "execution_count": 3,
   "metadata": {},
   "outputs": [],
   "source": [
    "j = 70\n",
    "if j <110:\n",
    "    reader = pv.get_reader(mypath + onlyfiles[j])\n",
    "else:\n",
    "    reader = pv.get_reader(mypath1 + onlyfiles1[j])\n",
    "mesh  = reader.read()"
   ]
  },
  {
   "cell_type": "code",
   "execution_count": 10,
   "metadata": {},
   "outputs": [],
   "source": [
    "def vari(mesh):\n",
    "    # Initialize a dictionary to store neighbors for each point\n",
    "    neighbors = defaultdict(set)\n",
    "    signal = mesh['non-directional_WSS_@_t=1.1']\n",
    "\n",
    "    # Loop over each cell and populate the neighbors dictionary\n",
    "    for i in range(mesh.n_cells):\n",
    "        cell = mesh.get_cell(i)\n",
    "        cell_points = cell.point_ids\n",
    "        for i in range(len(cell_points)):\n",
    "            for j in range(i + 1, len(cell_points)):\n",
    "                neighbors[cell_points[i]].add(cell_points[j])\n",
    "                neighbors[cell_points[j]].add(cell_points[i])\n",
    "\n",
    "\n",
    "    # Visualize Total Variation by highlighting edges with largest differences\n",
    "    # Initialize an array to store the total variation values\n",
    "    total_variation = np.zeros(mesh.number_of_points)\n",
    "\n",
    "    # Compute the total variation for each vertex\n",
    "    for point_id in range(mesh.number_of_points):\n",
    "        # Get the signal values at the point and its neighbors\n",
    "        point_signal = signal[point_id]\n",
    "        neighbor_signals = [signal[neighbor] for neighbor in neighbors[point_id]]\n",
    "        # Calculate the total variation\n",
    "        total_variation[point_id] = np.sum(np.abs(point_signal - np.array(neighbor_signals)))\n",
    "\n",
    "    # Assign the total variation values to the mesh\n",
    "    mesh.point_data['total_variation'] = total_variation\n",
    "\n",
    "    max_var_indices = np.argsort(total_variation)[-30:]\n",
    "    return mesh.extract_points(max_var_indices, include_cells=True), max_var_indices"
   ]
  },
  {
   "cell_type": "code",
   "execution_count": 11,
   "metadata": {},
   "outputs": [],
   "source": [
    "mesh1, m1 = vari(mesh)"
   ]
  },
  {
   "cell_type": "code",
   "execution_count": 12,
   "metadata": {},
   "outputs": [
    {
     "data": {
      "application/vnd.jupyter.widget-view+json": {
       "model_id": "6aba04a1ad4145eba8bf5c1d1b2d8fac",
       "version_major": 2,
       "version_minor": 0
      },
      "text/plain": [
       "Widget(value='<iframe src=\"http://localhost:60195/index.html?ui=P_0x1d990c4be50_0&reconnect=auto\" class=\"pyvis…"
      ]
     },
     "metadata": {},
     "output_type": "display_data"
    }
   ],
   "source": [
    "plotter = pv.Plotter()\n",
    "plotter.add_mesh(mesh, scalars = 'longitudinal_WSS_@_t=1.1', show_edges=True, opacity=0.5)\n",
    "max_var_nodes = mesh.points[m1]\n",
    "plotter.add_points(max_var_nodes, color='red', point_size=5)\n",
    "plotter.show()"
   ]
  },
  {
   "cell_type": "code",
   "execution_count": 13,
   "metadata": {},
   "outputs": [
    {
     "data": {
      "application/vnd.jupyter.widget-view+json": {
       "model_id": "823520e7a1314b0c9291829c312ce3e3",
       "version_major": 2,
       "version_minor": 0
      },
      "text/plain": [
       "Widget(value='<iframe src=\"http://localhost:60195/index.html?ui=P_0x1d991a74d60_1&reconnect=auto\" class=\"pyvis…"
      ]
     },
     "metadata": {},
     "output_type": "display_data"
    }
   ],
   "source": [
    "plotter = pv.Plotter()\n",
    "plotter.add_mesh(mesh1, scalars = 'non-directional_WSS_@_t=1.1', show_edges=True, opacity=0.5)\n",
    "plotter.show()"
   ]
  },
  {
   "cell_type": "code",
   "execution_count": null,
   "metadata": {},
   "outputs": [],
   "source": [
    "def calculate_centroid(points):\n",
    "    return np.mean(points, axis=0)\n"
   ]
  },
  {
   "cell_type": "code",
   "execution_count": null,
   "metadata": {},
   "outputs": [],
   "source": [
    "def find_smallest_set_to_connect(mesh, sub_mesh_points):\n",
    "    # Step 1: Create a graph representation of the mesh\n",
    "    edges = mesh.extract_all_edges()\n",
    "    graph = nx.Graph()\n",
    "    \n",
    "    for i in range(mesh.number_of_cells):\n",
    "        cell = mesh.get_cell(i)\n",
    "        cell_points = cell.point_ids\n",
    "        n_points = len(cell_points)\n",
    "        for j in range(n_points):\n",
    "            for k in range(j + 1, n_points):\n",
    "                graph.add_edge(cell_points[j], cell_points[k])\n",
    "\n",
    "    \n",
    "    # Step 2: Identify sub-mesh nodes\n",
    "    sub_mesh_nodes = set(sub_mesh_points)\n",
    "    \n",
    "    # Step 3: Find connected components in the sub-mesh\n",
    "    sub_graph = graph.subgraph(sub_mesh_nodes)\n",
    "    components = list(nx.connected_components(sub_graph))\n",
    "    \n",
    "    if len(components) <= 1:\n",
    "        return sub_mesh_points  # The sub-mesh is already connected\n",
    "\n",
    "    max_variation_point = sub_mesh_points[np.argmax(mesh['total_variation'][sub_mesh_points])]\n",
    "\n",
    "    selected_component = None\n",
    "    for component in components:\n",
    "        if max_variation_point in component:\n",
    "            selected_component = component\n",
    "            break\n",
    "    \n",
    "    if not selected_component:\n",
    "        return []  # No valid component found, this should not happen\n",
    "    \n",
    "    # Step 6: Compute the smallest set of points to connect the selected component\n",
    "    selected_component = list(selected_component)\n",
    "    points_to_connect = set(selected_component)\n",
    "    \n",
    "    for i in range(len(selected_component)):\n",
    "        for j in range(i + 1, len(selected_component)):\n",
    "            node1 = selected_component[i]\n",
    "            node2 = selected_component[j]\n",
    "            \n",
    "            try:\n",
    "                path = nx.shortest_path(graph, source=node1, target=node2)\n",
    "                points_to_connect.update(path)\n",
    "            except nx.NetworkXNoPath:\n",
    "                continue\n",
    "\n",
    "    return list(points_to_connect)\n"
   ]
  },
  {
   "cell_type": "code",
   "execution_count": 6,
   "metadata": {},
   "outputs": [
    {
     "ename": "NameError",
     "evalue": "name 'find_smallest_set_to_connect' is not defined",
     "output_type": "error",
     "traceback": [
      "\u001b[1;31m---------------------------------------------------------------------------\u001b[0m",
      "\u001b[1;31mNameError\u001b[0m                                 Traceback (most recent call last)",
      "Cell \u001b[1;32mIn[6], line 1\u001b[0m\n\u001b[1;32m----> 1\u001b[0m points_to_connect \u001b[38;5;241m=\u001b[39m \u001b[43mfind_smallest_set_to_connect\u001b[49m(mesh, mesh1[\u001b[38;5;124m'\u001b[39m\u001b[38;5;124mvtkOriginalPointIds\u001b[39m\u001b[38;5;124m'\u001b[39m])\n",
      "\u001b[1;31mNameError\u001b[0m: name 'find_smallest_set_to_connect' is not defined"
     ]
    }
   ],
   "source": [
    "points_to_connect = find_smallest_set_to_connect(mesh, mesh1['vtkOriginalPointIds'])\n"
   ]
  },
  {
   "cell_type": "code",
   "execution_count": 7,
   "metadata": {},
   "outputs": [
    {
     "ename": "NameError",
     "evalue": "name 'connected_sub_mesh_points' is not defined",
     "output_type": "error",
     "traceback": [
      "\u001b[1;31m---------------------------------------------------------------------------\u001b[0m",
      "\u001b[1;31mNameError\u001b[0m                                 Traceback (most recent call last)",
      "Cell \u001b[1;32mIn[7], line 2\u001b[0m\n\u001b[0;32m      1\u001b[0m \u001b[38;5;66;03m# connected_sub_mesh_points = set(mesh1['vtkOriginalPointIds']).union(points_to_connect)\u001b[39;00m\n\u001b[1;32m----> 2\u001b[0m connected_sub_mesh \u001b[38;5;241m=\u001b[39m mesh\u001b[38;5;241m.\u001b[39mextract_points(\u001b[38;5;28mlist\u001b[39m(\u001b[43mconnected_sub_mesh_points\u001b[49m))\n",
      "\u001b[1;31mNameError\u001b[0m: name 'connected_sub_mesh_points' is not defined"
     ]
    }
   ],
   "source": [
    "# connected_sub_mesh_points = set(mesh1['vtkOriginalPointIds']).union(points_to_connect)\n",
    "connected_sub_mesh = mesh.extract_points(list(connected_sub_mesh_points))"
   ]
  },
  {
   "cell_type": "code",
   "execution_count": 158,
   "metadata": {},
   "outputs": [
    {
     "data": {
      "application/vnd.jupyter.widget-view+json": {
       "model_id": "6fcc4971bc2b43a79b44a6cf5d9fb44f",
       "version_major": 2,
       "version_minor": 0
      },
      "text/plain": [
       "Widget(value='<iframe src=\"http://localhost:62896/index.html?ui=P_0x2605b28ece0_41&reconnect=auto\" class=\"pyvi…"
      ]
     },
     "metadata": {},
     "output_type": "display_data"
    }
   ],
   "source": [
    "plotter = pv.Plotter()\n",
    "plotter.add_mesh(connected_sub_mesh, scalars = 'non-directional_WSS_@_t=1.1', show_edges=True, opacity=0.5)\n",
    "plotter.show()"
   ]
  },
  {
   "cell_type": "code",
   "execution_count": 159,
   "metadata": {},
   "outputs": [
    {
     "data": {
      "text/html": [
       "<table style='width: 100%;'><tr><th>Header</th><th>Data Arrays</th></tr><tr><td>\n",
       "<table style='width: 100%;'>\n",
       "<tr><th>UnstructuredGrid</th><th>Information</th></tr>\n",
       "<tr><td>N Cells</td><td>713</td></tr>\n",
       "<tr><td>N Points</td><td>552</td></tr>\n",
       "<tr><td>X Bounds</td><td>-3.467e+01, -2.831e+01</td></tr>\n",
       "<tr><td>Y Bounds</td><td>-1.383e+00, 4.421e+00</td></tr>\n",
       "<tr><td>Z Bounds</td><td>-5.361e+01, -4.440e+01</td></tr>\n",
       "<tr><td>N Arrays</td><td>7</td></tr>\n",
       "</table>\n",
       "\n",
       "</td><td>\n",
       "<table style='width: 100%;'>\n",
       "<tr><th>Name</th><th>Field</th><th>Type</th><th>N Comp</th><th>Min</th><th>Max</th></tr>\n",
       "<tr><td>longitudinal_WSS_@_t=1.1</td><td>Points</td><td>float64</td><td>1</td><td>-8.838e-02</td><td>2.216e+01</td></tr>\n",
       "<tr><td><b>non-directional_WSS_@_t=1.1</b></td><td>Points</td><td>float64</td><td>1</td><td>4.737e-01</td><td>2.248e+01</td></tr>\n",
       "<tr><td>longitudinal_WSS_@_t=1.55</td><td>Points</td><td>float64</td><td>1</td><td>9.689e-02</td><td>6.178e+00</td></tr>\n",
       "<tr><td>non-directional_WSS_@_t=1.55</td><td>Points</td><td>float64</td><td>1</td><td>1.777e-01</td><td>6.275e+00</td></tr>\n",
       "<tr><td>total_variation</td><td>Points</td><td>float64</td><td>1</td><td>2.930e-01</td><td>2.934e+01</td></tr>\n",
       "<tr><td>vtkOriginalPointIds</td><td>Points</td><td>int64</td><td>1</td><td>1.391e+03</td><td>2.376e+03</td></tr>\n",
       "<tr><td>vtkOriginalCellIds</td><td>Cells</td><td>int64</td><td>1</td><td>2.847e+03</td><td>4.581e+03</td></tr>\n",
       "</table>\n",
       "\n",
       "</td></tr> </table>"
      ],
      "text/plain": [
       "UnstructuredGrid (0x2605b420e80)\n",
       "  N Cells:    713\n",
       "  N Points:   552\n",
       "  X Bounds:   -3.467e+01, -2.831e+01\n",
       "  Y Bounds:   -1.383e+00, 4.421e+00\n",
       "  Z Bounds:   -5.361e+01, -4.440e+01\n",
       "  N Arrays:   7"
      ]
     },
     "execution_count": 159,
     "metadata": {},
     "output_type": "execute_result"
    }
   ],
   "source": [
    "connected_sub_mesh"
   ]
  },
  {
   "cell_type": "code",
   "execution_count": null,
   "metadata": {},
   "outputs": [],
   "source": []
  }
 ],
 "metadata": {
  "kernelspec": {
   "display_name": "ml",
   "language": "python",
   "name": "python3"
  },
  "language_info": {
   "codemirror_mode": {
    "name": "ipython",
    "version": 3
   },
   "file_extension": ".py",
   "mimetype": "text/x-python",
   "name": "python",
   "nbconvert_exporter": "python",
   "pygments_lexer": "ipython3",
   "version": "3.10.14"
  }
 },
 "nbformat": 4,
 "nbformat_minor": 2
}
